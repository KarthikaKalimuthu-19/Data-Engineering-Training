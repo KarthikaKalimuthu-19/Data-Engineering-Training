{
 "cells": [
  {
   "cell_type": "code",
   "execution_count": 0,
   "metadata": {
    "application/vnd.databricks.v1+cell": {
     "cellMetadata": {
      "byteLimit": 2048000,
      "rowLimit": 10000
     },
     "inputWidgets": {},
     "nuid": "6358f3b9-f2fe-4a68-9e62-109b5e7d3d09",
     "showTitle": false,
     "tableResultSettingsMap": {},
     "title": ""
    }
   },
   "outputs": [],
   "source": [
    "from pyspark.sql.types import StructType, StringType, IntegerType\n",
    "\n",
    "schema = StructType() \\\n",
    "    .add(\"order_id\", StringType()) \\\n",
    "    .add(\"customer_id\", StringType()) \\\n",
    "    .add(\"product\", StringType()) \\\n",
    "    .add(\"quantity\", IntegerType()) \\\n",
    "    .add(\"region\", StringType())\n",
    "\n",
    "initial_data = [\n",
    "    (\"1\", \"C101\", \"Laptop\", 2, \"South\"),\n",
    "    (\"2\", \"C102\", \"Chair\", 6, \"North\"),\n",
    "    (\"3\", \"C103\", \"Mobile\", 1, \"East\")\n",
    "]\n",
    "\n",
    "df = spark.createDataFrame(initial_data, schema)\n",
    "\n",
    "df.write \\\n",
    "  .mode(\"overwrite\") \\\n",
    "  .option(\"header\", True) \\\n",
    "  .csv(\"dbfs:/tmp/stream/orders\")"
   ]
  },
  {
   "cell_type": "code",
   "execution_count": 0,
   "metadata": {
    "application/vnd.databricks.v1+cell": {
     "cellMetadata": {
      "byteLimit": 2048000,
      "rowLimit": 10000
     },
     "inputWidgets": {},
     "nuid": "6f8b219a-ec94-4ea3-9c56-eddbbfc193cb",
     "showTitle": false,
     "tableResultSettingsMap": {},
     "title": ""
    }
   },
   "outputs": [],
   "source": [
    "orders_stream = (\n",
    "    spark.readStream\n",
    "    .schema(schema)\n",
    "    .option(\"header\", True)\n",
    "    .csv(\"dbfs:/tmp/stream/orders\")\n",
    ")"
   ]
  },
  {
   "cell_type": "code",
   "execution_count": 0,
   "metadata": {
    "application/vnd.databricks.v1+cell": {
     "cellMetadata": {
      "byteLimit": 2048000,
      "rowLimit": 10000
     },
     "inputWidgets": {},
     "nuid": "e7f9e97f-d9e0-4db9-a3dd-a159e72f0be5",
     "showTitle": false,
     "tableResultSettingsMap": {},
     "title": ""
    }
   },
   "outputs": [],
   "source": [
    "from pyspark.sql.functions import when\n",
    "\n",
    "transformed_orders = orders_stream.withColumn(\n",
    "    \"bulk_order\", when(orders_stream[\"quantity\"] > 5, True).otherwise(False)\n",
    ")"
   ]
  },
  {
   "cell_type": "code",
   "execution_count": 0,
   "metadata": {
    "application/vnd.databricks.v1+cell": {
     "cellMetadata": {
      "byteLimit": 2048000,
      "rowLimit": 10000
     },
     "inputWidgets": {},
     "nuid": "25dfe5d9-2754-47b8-9caa-e744e1d15137",
     "showTitle": false,
     "tableResultSettingsMap": {},
     "title": ""
    }
   },
   "outputs": [],
   "source": [
    "from pyspark.sql.functions import col# Same rate stream and transformation\n",
    "\n",
    "rate_df = (\n",
    "    spark.readStream\n",
    "    .format(\"rate\")\n",
    "    .option(\"rowsPerSecond\", 1)\n",
    "    .load()\n",
    ")\n",
    "\n",
    "transformed_df = rate_df.withColumn(\"is_even\", (col(\"value\") % 2 == 0))\n",
    "\n",
    "# Write to memory (temp table)\n",
    "query = (\n",
    "    transformed_df.writeStream\n",
    "    .format(\"memory\")  # \uD83D\uDC48 this is key\n",
    "    .queryName(\"rate_table\")  # \uD83D\uDC48 table name to query later\n",
    "    .outputMode(\"append\")\n",
    "    .start()\n",
    ")"
   ]
  },
  {
   "cell_type": "code",
   "execution_count": 0,
   "metadata": {
    "application/vnd.databricks.v1+cell": {
     "cellMetadata": {
      "byteLimit": 2048000,
      "rowLimit": 10000
     },
     "inputWidgets": {},
     "nuid": "b51e72f6-4c37-421d-861e-d0bfe3d54866",
     "showTitle": false,
     "tableResultSettingsMap": {},
     "title": ""
    }
   },
   "outputs": [
    {
     "output_type": "stream",
     "name": "stdout",
     "output_type": "stream",
     "text": [
      "+--------------------+-----+-------+\n|           timestamp|value|is_even|\n+--------------------+-----+-------+\n|2025-08-08 11:07:...|    0|   true|\n|2025-08-08 11:07:...|    1|  false|\n|2025-08-08 11:07:...|    2|   true|\n|2025-08-08 11:07:...|    3|  false|\n|2025-08-08 11:07:...|    4|   true|\n|2025-08-08 11:07:...|    5|  false|\n|2025-08-08 11:07:...|    6|   true|\n|2025-08-08 11:07:...|    7|  false|\n|2025-08-08 11:07:...|    8|   true|\n|2025-08-08 11:07:...|    9|  false|\n|2025-08-08 11:07:...|   10|   true|\n|2025-08-08 11:07:...|   11|  false|\n|2025-08-08 11:07:...|   12|   true|\n|2025-08-08 11:07:...|   13|  false|\n|2025-08-08 11:07:...|   14|   true|\n|2025-08-08 11:07:...|   15|  false|\n|2025-08-08 11:07:...|   16|   true|\n|2025-08-08 11:07:...|   17|  false|\n|2025-08-08 11:07:...|   18|   true|\n|2025-08-08 11:07:...|   19|  false|\n+--------------------+-----+-------+\nonly showing top 20 rows\n"
     ]
    }
   ],
   "source": [
    "spark.sql(\"SELECT * FROM rate_table\").show()"
   ]
  },
  {
   "cell_type": "code",
   "execution_count": 0,
   "metadata": {
    "application/vnd.databricks.v1+cell": {
     "cellMetadata": {
      "byteLimit": 2048000,
      "rowLimit": 10000
     },
     "inputWidgets": {},
     "nuid": "10b8cefd-139b-4baa-a784-35d5fe65b1f0",
     "showTitle": false,
     "tableResultSettingsMap": {},
     "title": ""
    }
   },
   "outputs": [],
   "source": [
    "from pyspark.sql.functions import col# Same rate stream and transformation\n",
    "\n",
    "rate_df = (\n",
    "    spark.readStream\n",
    "    .format(\"rate\")\n",
    "    .option(\"rowsPerSecond\", 1)\n",
    "    .load()\n",
    ")\n",
    "\n",
    "transformed_df = rate_df.withColumn(\"is_odd\", (col(\"value\") % 2 != 0))\n",
    "\n",
    "# Write to memory (temp table)\n",
    "query = (\n",
    "    transformed_df.writeStream\n",
    "    .format(\"memory\")  # \uD83D\uDC48 this is key\n",
    "    .queryName(\"rate_table\")  # \uD83D\uDC48 table name to query later\n",
    "    .outputMode(\"append\")\n",
    "    .start()\n",
    ")"
   ]
  },
  {
   "cell_type": "code",
   "execution_count": 0,
   "metadata": {
    "application/vnd.databricks.v1+cell": {
     "cellMetadata": {
      "byteLimit": 2048000,
      "rowLimit": 10000
     },
     "inputWidgets": {},
     "nuid": "09aab8e4-243c-4ef4-ab8d-0da16576d289",
     "showTitle": false,
     "tableResultSettingsMap": {},
     "title": ""
    }
   },
   "outputs": [
    {
     "output_type": "stream",
     "name": "stdout",
     "output_type": "stream",
     "text": [
      "+--------------------+-----+------+\n|           timestamp|value|is_odd|\n+--------------------+-----+------+\n|2025-08-08 11:16:...|    0| false|\n|2025-08-08 11:16:...|    1|  true|\n|2025-08-08 11:16:...|    2| false|\n|2025-08-08 11:16:...|    3|  true|\n|2025-08-08 11:16:...|    4| false|\n|2025-08-08 11:16:...|    5|  true|\n|2025-08-08 11:16:...|    6| false|\n|2025-08-08 11:16:...|    7|  true|\n|2025-08-08 11:16:...|    8| false|\n|2025-08-08 11:16:...|    9|  true|\n|2025-08-08 11:16:...|   10| false|\n|2025-08-08 11:16:...|   11|  true|\n|2025-08-08 11:16:...|   12| false|\n|2025-08-08 11:16:...|   13|  true|\n|2025-08-08 11:16:...|   14| false|\n|2025-08-08 11:16:...|   15|  true|\n|2025-08-08 11:16:...|   16| false|\n|2025-08-08 11:16:...|   17|  true|\n|2025-08-08 11:16:...|   18| false|\n|2025-08-08 11:17:...|   19|  true|\n+--------------------+-----+------+\nonly showing top 20 rows\n"
     ]
    }
   ],
   "source": [
    "spark.sql(\"SELECT * FROM rate_table\").show()"
   ]
  },
  {
   "cell_type": "code",
   "execution_count": 0,
   "metadata": {
    "application/vnd.databricks.v1+cell": {
     "cellMetadata": {
      "byteLimit": 2048000,
      "rowLimit": 10000
     },
     "inputWidgets": {},
     "nuid": "38bfe2c5-c22d-44e3-ac96-444325ee143b",
     "showTitle": false,
     "tableResultSettingsMap": {},
     "title": ""
    }
   },
   "outputs": [],
   "source": [
    "from pyspark.sql.functions import col# Same rate stream and transformation\n",
    "\n",
    "rate_df = (\n",
    "    spark.readStream\n",
    "    .format(\"rate\")\n",
    "    .option(\"rowsPerSecond\", 1)\n",
    "    .load()\n",
    ")\n",
    "\n",
    "transformed_df = rate_df.withColumn(\"is_multiple_of_5\", (col(\"value\") % 5 == 0))\n",
    "\n",
    "# Write to memory (temp table)\n",
    "query = (\n",
    "    transformed_df.writeStream\n",
    "    .format(\"memory\")  # \uD83D\uDC48 this is key\n",
    "    .queryName(\"rate_table\")  # \uD83D\uDC48 table name to query later\n",
    "    .outputMode(\"append\")\n",
    "    .start()\n",
    ")"
   ]
  },
  {
   "cell_type": "code",
   "execution_count": 0,
   "metadata": {
    "application/vnd.databricks.v1+cell": {
     "cellMetadata": {
      "byteLimit": 2048000,
      "rowLimit": 10000
     },
     "inputWidgets": {},
     "nuid": "ed4cfd54-5735-4cac-9235-de5f2676ea50",
     "showTitle": false,
     "tableResultSettingsMap": {},
     "title": ""
    }
   },
   "outputs": [
    {
     "output_type": "stream",
     "name": "stdout",
     "output_type": "stream",
     "text": [
      "+--------------------+-----+----------------+\n|           timestamp|value|is_multiple_of_5|\n+--------------------+-----+----------------+\n|2025-08-08 11:22:...|    0|            true|\n|2025-08-08 11:22:...|    1|           false|\n|2025-08-08 11:22:...|    2|           false|\n|2025-08-08 11:22:...|    3|           false|\n|2025-08-08 11:22:...|    4|           false|\n|2025-08-08 11:22:...|    5|            true|\n|2025-08-08 11:22:...|    6|           false|\n|2025-08-08 11:22:...|    7|           false|\n|2025-08-08 11:22:...|    8|           false|\n|2025-08-08 11:22:...|    9|           false|\n|2025-08-08 11:22:...|   10|            true|\n|2025-08-08 11:22:...|   11|           false|\n|2025-08-08 11:22:...|   12|           false|\n|2025-08-08 11:22:...|   13|           false|\n+--------------------+-----+----------------+\n\n"
     ]
    }
   ],
   "source": [
    "spark.sql(\"SELECT * FROM rate_table\").show()"
   ]
  }
 ],
 "metadata": {
  "application/vnd.databricks.v1+notebook": {
   "computePreferences": null,
   "dashboards": [],
   "environmentMetadata": {
    "base_environment": "",
    "environment_version": "2"
   },
   "inputWidgetPreferences": null,
   "language": "python",
   "notebookMetadata": {
    "pythonIndentUnit": 4
   },
   "notebookName": "Stream datas",
   "widgets": {}
  },
  "language_info": {
   "name": "python"
  }
 },
 "nbformat": 4,
 "nbformat_minor": 0
}