{
  "nbformat": 4,
  "nbformat_minor": 0,
  "metadata": {
    "colab": {
      "provenance": []
    },
    "kernelspec": {
      "name": "python3",
      "display_name": "Python 3"
    },
    "language_info": {
      "name": "python"
    }
  },
  "cells": [
    {
      "cell_type": "markdown",
      "source": [
        "**Importing Liabraries**"
      ],
      "metadata": {
        "id": "w2NEcOmhJg4S"
      }
    },
    {
      "cell_type": "code",
      "execution_count": 1,
      "metadata": {
        "id": "1DmyNdHHG_8M"
      },
      "outputs": [],
      "source": [
        "from pyspark.sql import SparkSession\n",
        "from pyspark.sql import functions as F"
      ]
    },
    {
      "cell_type": "markdown",
      "source": [
        "**Creating Spark Session**"
      ],
      "metadata": {
        "id": "iIfiE0u3JxgC"
      }
    },
    {
      "cell_type": "code",
      "source": [
        "spark = SparkSession.builder.appName(\"PySpark\").getOrCreate()\n",
        "spark"
      ],
      "metadata": {
        "colab": {
          "base_uri": "https://localhost:8080/",
          "height": 221
        },
        "id": "10wyRFb5HN1A",
        "outputId": "9fe8af3f-6a28-4886-8358-1e9568bc2d35"
      },
      "execution_count": 2,
      "outputs": [
        {
          "output_type": "execute_result",
          "data": {
            "text/plain": [
              "<pyspark.sql.session.SparkSession at 0x7ca140404d90>"
            ],
            "text/html": [
              "\n",
              "            <div>\n",
              "                <p><b>SparkSession - in-memory</b></p>\n",
              "                \n",
              "        <div>\n",
              "            <p><b>SparkContext</b></p>\n",
              "\n",
              "            <p><a href=\"http://b98e6e7cb813:4040\">Spark UI</a></p>\n",
              "\n",
              "            <dl>\n",
              "              <dt>Version</dt>\n",
              "                <dd><code>v3.5.1</code></dd>\n",
              "              <dt>Master</dt>\n",
              "                <dd><code>local[*]</code></dd>\n",
              "              <dt>AppName</dt>\n",
              "                <dd><code>PySpark</code></dd>\n",
              "            </dl>\n",
              "        </div>\n",
              "        \n",
              "            </div>\n",
              "        "
            ]
          },
          "metadata": {},
          "execution_count": 2
        }
      ]
    },
    {
      "cell_type": "markdown",
      "source": [
        "**Uploading required files**"
      ],
      "metadata": {
        "id": "I3LUXpPZJ5um"
      }
    },
    {
      "cell_type": "code",
      "source": [
        "from google.colab import files\n",
        "uploaded = files.upload()"
      ],
      "metadata": {
        "colab": {
          "base_uri": "https://localhost:8080/",
          "height": 145
        },
        "id": "h3XRMu7rHbUd",
        "outputId": "9bef0b7c-4dfa-48c6-d5d7-52db5e2a3a25"
      },
      "execution_count": 3,
      "outputs": [
        {
          "output_type": "display_data",
          "data": {
            "text/plain": [
              "<IPython.core.display.HTML object>"
            ],
            "text/html": [
              "\n",
              "     <input type=\"file\" id=\"files-353d9b72-0cdb-4973-b4da-f8c0c88fbbbd\" name=\"files[]\" multiple disabled\n",
              "        style=\"border:none\" />\n",
              "     <output id=\"result-353d9b72-0cdb-4973-b4da-f8c0c88fbbbd\">\n",
              "      Upload widget is only available when the cell has been executed in the\n",
              "      current browser session. Please rerun this cell to enable.\n",
              "      </output>\n",
              "      <script>// Copyright 2017 Google LLC\n",
              "//\n",
              "// Licensed under the Apache License, Version 2.0 (the \"License\");\n",
              "// you may not use this file except in compliance with the License.\n",
              "// You may obtain a copy of the License at\n",
              "//\n",
              "//      http://www.apache.org/licenses/LICENSE-2.0\n",
              "//\n",
              "// Unless required by applicable law or agreed to in writing, software\n",
              "// distributed under the License is distributed on an \"AS IS\" BASIS,\n",
              "// WITHOUT WARRANTIES OR CONDITIONS OF ANY KIND, either express or implied.\n",
              "// See the License for the specific language governing permissions and\n",
              "// limitations under the License.\n",
              "\n",
              "/**\n",
              " * @fileoverview Helpers for google.colab Python module.\n",
              " */\n",
              "(function(scope) {\n",
              "function span(text, styleAttributes = {}) {\n",
              "  const element = document.createElement('span');\n",
              "  element.textContent = text;\n",
              "  for (const key of Object.keys(styleAttributes)) {\n",
              "    element.style[key] = styleAttributes[key];\n",
              "  }\n",
              "  return element;\n",
              "}\n",
              "\n",
              "// Max number of bytes which will be uploaded at a time.\n",
              "const MAX_PAYLOAD_SIZE = 100 * 1024;\n",
              "\n",
              "function _uploadFiles(inputId, outputId) {\n",
              "  const steps = uploadFilesStep(inputId, outputId);\n",
              "  const outputElement = document.getElementById(outputId);\n",
              "  // Cache steps on the outputElement to make it available for the next call\n",
              "  // to uploadFilesContinue from Python.\n",
              "  outputElement.steps = steps;\n",
              "\n",
              "  return _uploadFilesContinue(outputId);\n",
              "}\n",
              "\n",
              "// This is roughly an async generator (not supported in the browser yet),\n",
              "// where there are multiple asynchronous steps and the Python side is going\n",
              "// to poll for completion of each step.\n",
              "// This uses a Promise to block the python side on completion of each step,\n",
              "// then passes the result of the previous step as the input to the next step.\n",
              "function _uploadFilesContinue(outputId) {\n",
              "  const outputElement = document.getElementById(outputId);\n",
              "  const steps = outputElement.steps;\n",
              "\n",
              "  const next = steps.next(outputElement.lastPromiseValue);\n",
              "  return Promise.resolve(next.value.promise).then((value) => {\n",
              "    // Cache the last promise value to make it available to the next\n",
              "    // step of the generator.\n",
              "    outputElement.lastPromiseValue = value;\n",
              "    return next.value.response;\n",
              "  });\n",
              "}\n",
              "\n",
              "/**\n",
              " * Generator function which is called between each async step of the upload\n",
              " * process.\n",
              " * @param {string} inputId Element ID of the input file picker element.\n",
              " * @param {string} outputId Element ID of the output display.\n",
              " * @return {!Iterable<!Object>} Iterable of next steps.\n",
              " */\n",
              "function* uploadFilesStep(inputId, outputId) {\n",
              "  const inputElement = document.getElementById(inputId);\n",
              "  inputElement.disabled = false;\n",
              "\n",
              "  const outputElement = document.getElementById(outputId);\n",
              "  outputElement.innerHTML = '';\n",
              "\n",
              "  const pickedPromise = new Promise((resolve) => {\n",
              "    inputElement.addEventListener('change', (e) => {\n",
              "      resolve(e.target.files);\n",
              "    });\n",
              "  });\n",
              "\n",
              "  const cancel = document.createElement('button');\n",
              "  inputElement.parentElement.appendChild(cancel);\n",
              "  cancel.textContent = 'Cancel upload';\n",
              "  const cancelPromise = new Promise((resolve) => {\n",
              "    cancel.onclick = () => {\n",
              "      resolve(null);\n",
              "    };\n",
              "  });\n",
              "\n",
              "  // Wait for the user to pick the files.\n",
              "  const files = yield {\n",
              "    promise: Promise.race([pickedPromise, cancelPromise]),\n",
              "    response: {\n",
              "      action: 'starting',\n",
              "    }\n",
              "  };\n",
              "\n",
              "  cancel.remove();\n",
              "\n",
              "  // Disable the input element since further picks are not allowed.\n",
              "  inputElement.disabled = true;\n",
              "\n",
              "  if (!files) {\n",
              "    return {\n",
              "      response: {\n",
              "        action: 'complete',\n",
              "      }\n",
              "    };\n",
              "  }\n",
              "\n",
              "  for (const file of files) {\n",
              "    const li = document.createElement('li');\n",
              "    li.append(span(file.name, {fontWeight: 'bold'}));\n",
              "    li.append(span(\n",
              "        `(${file.type || 'n/a'}) - ${file.size} bytes, ` +\n",
              "        `last modified: ${\n",
              "            file.lastModifiedDate ? file.lastModifiedDate.toLocaleDateString() :\n",
              "                                    'n/a'} - `));\n",
              "    const percent = span('0% done');\n",
              "    li.appendChild(percent);\n",
              "\n",
              "    outputElement.appendChild(li);\n",
              "\n",
              "    const fileDataPromise = new Promise((resolve) => {\n",
              "      const reader = new FileReader();\n",
              "      reader.onload = (e) => {\n",
              "        resolve(e.target.result);\n",
              "      };\n",
              "      reader.readAsArrayBuffer(file);\n",
              "    });\n",
              "    // Wait for the data to be ready.\n",
              "    let fileData = yield {\n",
              "      promise: fileDataPromise,\n",
              "      response: {\n",
              "        action: 'continue',\n",
              "      }\n",
              "    };\n",
              "\n",
              "    // Use a chunked sending to avoid message size limits. See b/62115660.\n",
              "    let position = 0;\n",
              "    do {\n",
              "      const length = Math.min(fileData.byteLength - position, MAX_PAYLOAD_SIZE);\n",
              "      const chunk = new Uint8Array(fileData, position, length);\n",
              "      position += length;\n",
              "\n",
              "      const base64 = btoa(String.fromCharCode.apply(null, chunk));\n",
              "      yield {\n",
              "        response: {\n",
              "          action: 'append',\n",
              "          file: file.name,\n",
              "          data: base64,\n",
              "        },\n",
              "      };\n",
              "\n",
              "      let percentDone = fileData.byteLength === 0 ?\n",
              "          100 :\n",
              "          Math.round((position / fileData.byteLength) * 100);\n",
              "      percent.textContent = `${percentDone}% done`;\n",
              "\n",
              "    } while (position < fileData.byteLength);\n",
              "  }\n",
              "\n",
              "  // All done.\n",
              "  yield {\n",
              "    response: {\n",
              "      action: 'complete',\n",
              "    }\n",
              "  };\n",
              "}\n",
              "\n",
              "scope.google = scope.google || {};\n",
              "scope.google.colab = scope.google.colab || {};\n",
              "scope.google.colab._files = {\n",
              "  _uploadFiles,\n",
              "  _uploadFilesContinue,\n",
              "};\n",
              "})(self);\n",
              "</script> "
            ]
          },
          "metadata": {}
        },
        {
          "output_type": "stream",
          "name": "stdout",
          "text": [
            "Saving attendance.csv to attendance.csv\n",
            "Saving employees.csv to employees.csv\n",
            "Saving tasks.csv to tasks.csv\n"
          ]
        }
      ]
    },
    {
      "cell_type": "markdown",
      "source": [
        "**Loading Files**"
      ],
      "metadata": {
        "id": "yz57ectiKFlN"
      }
    },
    {
      "cell_type": "code",
      "source": [
        "dfAtt = spark.read.csv(r\"/content/attendance.csv\", header=True, inferSchema=True)\n",
        "dfEmp = spark.read.csv(r\"/content/employees.csv\", header=True, inferSchema=True)\n",
        "dfTas = spark.read.csv(r\"/content/tasks.csv\", header=True, inferSchema=True)"
      ],
      "metadata": {
        "id": "LI18b4RfHoXv"
      },
      "execution_count": 4,
      "outputs": []
    },
    {
      "cell_type": "markdown",
      "source": [
        "**Printing Files**"
      ],
      "metadata": {
        "id": "i78ZC9XeKMOF"
      }
    },
    {
      "cell_type": "code",
      "source": [
        "dfAtt.show()"
      ],
      "metadata": {
        "colab": {
          "base_uri": "https://localhost:8080/"
        },
        "id": "Eo1uuiweHxZo",
        "outputId": "d61ec257-ed9e-4a18-aa22-6de7b0b0bfea"
      },
      "execution_count": 5,
      "outputs": [
        {
          "output_type": "stream",
          "name": "stdout",
          "text": [
            "+------------+----------+----------+----------------+----------------+------+---------+\n",
            "|attendanceID|employeeID|      date|         clockIN|        clockOUT|isLate|isAbscent|\n",
            "+------------+----------+----------+----------------+----------------+------+---------+\n",
            "|           1|         1|01-06-2024|01-06-2024 09:02|01-06-2024 17:00|     1|        0|\n",
            "|           2|         2|01-06-2024|01-06-2024 08:55|01-06-2024 17:10|     0|        0|\n",
            "|           3|         3|01-06-2024|01-06-2024 09:10|01-06-2024 17:05|     1|        0|\n",
            "|           4|         4|01-06-2024|01-06-2024 08:48|01-06-2024 17:15|     0|        0|\n",
            "|           5|         5|01-06-2024|            NULL|            NULL|     0|        1|\n",
            "|           6|         1|02-06-2024|02-06-2024 08:50|02-06-2024 17:00|     0|        0|\n",
            "|           7|         2|02-06-2024|02-06-2024 09:20|02-06-2024 17:10|     1|        0|\n",
            "|           8|         3|02-06-2024|            NULL|            NULL|     0|        1|\n",
            "|           9|         4|02-06-2024|02-06-2024 08:40|02-06-2024 17:00|     0|        0|\n",
            "|          10|         5|02-06-2024|02-06-2024 09:05|02-06-2024 16:50|     1|        0|\n",
            "|          11|         1|03-06-2024|03-06-2024 09:00|03-06-2024 17:00|     0|        0|\n",
            "|          12|         2|03-06-2024|            NULL|            NULL|     0|        1|\n",
            "|          13|         3|03-06-2024|03-06-2024 08:59|03-06-2024 17:20|     0|        0|\n",
            "|          14|         4|03-06-2024|03-06-2024 09:15|03-06-2024 17:00|     1|        0|\n",
            "|          15|         5|03-06-2024|03-06-2024 08:50|03-06-2024 17:00|     0|        0|\n",
            "|          16|         1|04-06-2024|04-06-2024 09:12|04-06-2024 17:00|     1|        0|\n",
            "|          17|         2|04-06-2024|04-06-2024 08:55|04-06-2024 17:10|     0|        0|\n",
            "|          18|         3|04-06-2024|04-06-2024 09:08|04-06-2024 16:55|     1|        0|\n",
            "|          19|         4|04-06-2024|            NULL|            NULL|     0|        1|\n",
            "|          20|         5|04-06-2024|04-06-2024 08:58|04-06-2024 17:02|     0|        0|\n",
            "+------------+----------+----------+----------------+----------------+------+---------+\n",
            "only showing top 20 rows\n",
            "\n"
          ]
        }
      ]
    },
    {
      "cell_type": "code",
      "source": [
        "dfEmp.show()"
      ],
      "metadata": {
        "colab": {
          "base_uri": "https://localhost:8080/"
        },
        "id": "AiZXLcPjIFgp",
        "outputId": "4c7da493-35e4-40c3-a3e1-2d1e153e2878"
      },
      "execution_count": 6,
      "outputs": [
        {
          "output_type": "stream",
          "name": "stdout",
          "text": [
            "+----------+-------------+-----------+------------------+--------------------+----------+--------+\n",
            "|employeeID|         name| department|              role|               email|  hireDate|  status|\n",
            "+----------+-------------+-----------+------------------+--------------------+----------+--------+\n",
            "|         1|     John Doe|Engineering|Software Developer|john.doe@example.com|2023-01-15|  Active|\n",
            "|         2|   Jane Smith|  Marketing|Content Strategist|jane.smith@exampl...|2022-11-20|  Active|\n",
            "|         3|Alice Johnson|         HR|        HR Manager|alice.johnson@exa...|2021-09-10|  Active|\n",
            "|         4|    Bob Brown|Engineering|   DevOps Engineer|bob.brown@example...|2023-05-01|  Active|\n",
            "|         5|    Eva Green|    Finance|        Accountant|eva.green@example...|2022-06-30|Resigned|\n",
            "+----------+-------------+-----------+------------------+--------------------+----------+--------+\n",
            "\n"
          ]
        }
      ]
    },
    {
      "cell_type": "code",
      "source": [
        "dfTas.show()"
      ],
      "metadata": {
        "colab": {
          "base_uri": "https://localhost:8080/"
        },
        "id": "WJ_ObyHYIQX6",
        "outputId": "b4da38ea-62fb-40d5-ff12-dfc06a6b652a"
      },
      "execution_count": 7,
      "outputs": [
        {
          "output_type": "stream",
          "name": "stdout",
          "text": [
            "+------+----------+--------------------+----------+---------------+\n",
            "|taskID|employeeID|            taskName|  taskDate|tasksCompeleted|\n",
            "+------+----------+--------------------+----------+---------------+\n",
            "|     1|         1|     API Integration|2024-06-01|              5|\n",
            "|     2|         2|Content Calendar ...|2024-06-01|              3|\n",
            "|     3|         3|       Policy Review|2024-06-01|              0|\n",
            "|     4|         4|         CI/CD Setup|2024-06-01|              4|\n",
            "|     5|         5|    Invoice Auditing|2024-06-01|              6|\n",
            "|     6|         1|    Backend Refactor|2024-06-02|              4|\n",
            "|     7|         2|Email Campaign De...|2024-06-02|              2|\n",
            "|     8|         3|Employee Feedback...|2024-06-02|              0|\n",
            "|     9|         4|        Docker Setup|2024-06-02|              5|\n",
            "|    10|         5|Expense Sheet Val...|2024-06-02|              3|\n",
            "|    11|         1|    API Docs Writing|2024-06-03|              5|\n",
            "|    12|         2|Marketing Funnel ...|2024-06-03|              3|\n",
            "|    13|         3|            HR Audit|2024-06-03|              1|\n",
            "|    14|         4|Kubernetes Monito...|2024-06-03|              3|\n",
            "|    15|         5|Payroll Reconcili...|2024-06-03|              2|\n",
            "|    16|         1|New Feature Planning|2024-06-04|              5|\n",
            "|    17|         2|     Ad Copy Testing|2024-06-04|              2|\n",
            "|    18|         3|Training Session ...|2024-06-04|              0|\n",
            "|    19|         4|CI Pipeline Refactor|2024-06-04|              4|\n",
            "|    20|         5|    Budgeting Review|2024-06-04|              3|\n",
            "+------+----------+--------------------+----------+---------------+\n",
            "only showing top 20 rows\n",
            "\n"
          ]
        }
      ]
    },
    {
      "cell_type": "markdown",
      "source": [
        "**Printing Schemas**"
      ],
      "metadata": {
        "id": "nQt8vlGwKTxj"
      }
    },
    {
      "cell_type": "code",
      "source": [
        "dfAtt.printSchema()"
      ],
      "metadata": {
        "colab": {
          "base_uri": "https://localhost:8080/"
        },
        "id": "gJWqO0jsIZT6",
        "outputId": "bbd02e6a-7ada-4abd-e6b4-659e0ffa9c7a"
      },
      "execution_count": 8,
      "outputs": [
        {
          "output_type": "stream",
          "name": "stdout",
          "text": [
            "root\n",
            " |-- attendanceID: integer (nullable = true)\n",
            " |-- employeeID: integer (nullable = true)\n",
            " |-- date: string (nullable = true)\n",
            " |-- clockIN: string (nullable = true)\n",
            " |-- clockOUT: string (nullable = true)\n",
            " |-- isLate: integer (nullable = true)\n",
            " |-- isAbscent: integer (nullable = true)\n",
            "\n"
          ]
        }
      ]
    },
    {
      "cell_type": "code",
      "source": [
        "dfEmp.printSchema()"
      ],
      "metadata": {
        "colab": {
          "base_uri": "https://localhost:8080/"
        },
        "id": "J0Ldmw_8Ifk0",
        "outputId": "c10f535a-7efc-40b2-d035-793553607cf4"
      },
      "execution_count": 9,
      "outputs": [
        {
          "output_type": "stream",
          "name": "stdout",
          "text": [
            "root\n",
            " |-- employeeID: integer (nullable = true)\n",
            " |-- name: string (nullable = true)\n",
            " |-- department: string (nullable = true)\n",
            " |-- role: string (nullable = true)\n",
            " |-- email: string (nullable = true)\n",
            " |-- hireDate: date (nullable = true)\n",
            " |-- status: string (nullable = true)\n",
            "\n"
          ]
        }
      ]
    },
    {
      "cell_type": "code",
      "source": [
        "dfTas.printSchema()"
      ],
      "metadata": {
        "colab": {
          "base_uri": "https://localhost:8080/"
        },
        "id": "NpvHT3igIlGn",
        "outputId": "91810392-78f3-4f74-8c9f-d86d19578b8a"
      },
      "execution_count": 10,
      "outputs": [
        {
          "output_type": "stream",
          "name": "stdout",
          "text": [
            "root\n",
            " |-- taskID: integer (nullable = true)\n",
            " |-- employeeID: integer (nullable = true)\n",
            " |-- taskName: string (nullable = true)\n",
            " |-- taskDate: date (nullable = true)\n",
            " |-- tasksCompeleted: integer (nullable = true)\n",
            "\n"
          ]
        }
      ]
    },
    {
      "cell_type": "markdown",
      "source": [
        "**Filtering late login and abscences**"
      ],
      "metadata": {
        "id": "zn5ziuxLKa8X"
      }
    },
    {
      "cell_type": "code",
      "source": [
        "dfAtt.filter((dfAtt.isLate == 1) | (dfAtt.isAbscent == 1)) \\\n",
        "  .join(dfEmp.select([\"name\", \"employeeID\"]), on=\"employeeID\", how=\"inner\") \\\n",
        "  .withColumn(\"Attendance\", F.when(F.col(\"islate\") == 1, \"Late Login\").otherwise(\"Abscent\")) \\\n",
        "  .select([\"name\", \"Attendance\", \"date\"]) \\\n",
        "  .show()"
      ],
      "metadata": {
        "colab": {
          "base_uri": "https://localhost:8080/"
        },
        "id": "Fd5iY0K_Ir-1",
        "outputId": "78c4dd49-fd4d-48da-d1a2-666cb21a64dc"
      },
      "execution_count": 11,
      "outputs": [
        {
          "output_type": "stream",
          "name": "stdout",
          "text": [
            "+-------------+----------+----------+\n",
            "|         name|Attendance|      date|\n",
            "+-------------+----------+----------+\n",
            "|     John Doe|Late Login|01-06-2024|\n",
            "|Alice Johnson|Late Login|01-06-2024|\n",
            "|    Eva Green|   Abscent|01-06-2024|\n",
            "|   Jane Smith|Late Login|02-06-2024|\n",
            "|Alice Johnson|   Abscent|02-06-2024|\n",
            "|    Eva Green|Late Login|02-06-2024|\n",
            "|   Jane Smith|   Abscent|03-06-2024|\n",
            "|    Bob Brown|Late Login|03-06-2024|\n",
            "|     John Doe|Late Login|04-06-2024|\n",
            "|Alice Johnson|Late Login|04-06-2024|\n",
            "|    Bob Brown|   Abscent|04-06-2024|\n",
            "|   Jane Smith|Late Login|05-06-2024|\n",
            "|Alice Johnson|   Abscent|05-06-2024|\n",
            "|    Eva Green|Late Login|05-06-2024|\n",
            "|   Jane Smith|Late Login|06-06-2024|\n",
            "|    Bob Brown|Late Login|06-06-2024|\n",
            "|    Eva Green|   Abscent|06-06-2024|\n",
            "+-------------+----------+----------+\n",
            "\n"
          ]
        }
      ]
    },
    {
      "cell_type": "markdown",
      "source": [
        "**Average work hours and productivity**"
      ],
      "metadata": {
        "id": "1toEEdpLKhuo"
      }
    },
    {
      "cell_type": "code",
      "source": [
        "dfAtt_cleaned = dfAtt.filter(F.col(\"clockIN\") != \"NULL\")"
      ],
      "metadata": {
        "id": "ABhZz3rnIxBH"
      },
      "execution_count": 12,
      "outputs": []
    },
    {
      "cell_type": "code",
      "source": [
        "dfJoined = dfAtt_cleaned.join(dfEmp, on=\"employeeID\", how=\"inner\").join(dfTas, on=\"employeeID\", how=\"inner\")\n",
        "dfJoined = dfJoined \\\n",
        "    .withColumn(\n",
        "     \"workHours\",\n",
        "    F.round(\n",
        "        (F.unix_timestamp(F.col(\"clockOUT\"), \"dd-MM-yyyy HH:mm\") - F.unix_timestamp(F.col(\"clockIN\"), \"dd-MM-yyyy HH:mm\")) / 3600,\n",
        "        2\n",
        "    )) \\\n",
        "    .withColumn(\"productivityScore\", F.round(F.col(\"tasksCompeleted\") / F.col(\"workHours\"), 4))"
      ],
      "metadata": {
        "id": "w9UcxwZVI2oR"
      },
      "execution_count": 15,
      "outputs": []
    },
    {
      "cell_type": "code",
      "source": [
        "dfJoined.groupBy(\"department\").agg(\n",
        "    F.round(F.mean(\"workHours\"), 2).alias(\"averageWorkHours\"),\n",
        "    F.round(F.mean(\"productivityScore\"), 2).alias(\"averageProductivityScore\")\n",
        ").show()"
      ],
      "metadata": {
        "colab": {
          "base_uri": "https://localhost:8080/"
        },
        "id": "zdc2-TxxJLU3",
        "outputId": "079f988c-ef79-4b33-b6fc-8b6a6fc7cf4b"
      },
      "execution_count": 16,
      "outputs": [
        {
          "output_type": "stream",
          "name": "stdout",
          "text": [
            "+-----------+----------------+------------------------+\n",
            "| department|averageWorkHours|averageProductivityScore|\n",
            "+-----------+----------------+------------------------+\n",
            "|Engineering|            8.02|                    0.52|\n",
            "|         HR|            8.08|                    0.06|\n",
            "|    Finance|            7.87|                    0.38|\n",
            "|  Marketing|            8.07|                    0.31|\n",
            "+-----------+----------------+------------------------+\n",
            "\n"
          ]
        }
      ]
    },
    {
      "cell_type": "markdown",
      "source": [
        "**Delieverables**\n",
        "- PySpark script with filtering and group aggregations\n",
        "- Output showing attendance issues by department\n"
      ],
      "metadata": {
        "id": "DEHE7LWcK1c7"
      }
    },
    {
      "cell_type": "code",
      "source": [
        "#1. pyspark script has attached in .ipynb format in git repository"
      ],
      "metadata": {
        "id": "BPwsNqB1LFFd"
      },
      "execution_count": 18,
      "outputs": []
    },
    {
      "cell_type": "code",
      "source": [
        "# 2. attendance issues by department\n",
        "dfJoined_2 = dfAtt.join(dfEmp, on=\"employeeID\", how=\"inner\")\n",
        "\n",
        "dfJoined_2.select([\"department\", \"isLate\", \"isAbscent\"]) \\\n",
        "  .filter((F.col(\"isLate\") == 1) | (F.col(\"isAbscent\") == 1)) \\\n",
        "  .groupby(\"department\") \\\n",
        "  .agg(\n",
        "      F.sum(\"isLate\").alias(\"lateCount\"),\n",
        "      F.sum(\"isAbscent\").alias(\"abscentCount\")\n",
        "  ) \\\n",
        "  .withColumn(\"issuesCount\", F.col(\"lateCount\") + F.col(\"abscentCount\")) \\\n",
        "  .show()"
      ],
      "metadata": {
        "colab": {
          "base_uri": "https://localhost:8080/"
        },
        "id": "C08_KE4QJYZS",
        "outputId": "04eb4637-581e-4d03-c3ef-9ab608c8a738"
      },
      "execution_count": 17,
      "outputs": [
        {
          "output_type": "stream",
          "name": "stdout",
          "text": [
            "+-----------+---------+------------+-----------+\n",
            "| department|lateCount|abscentCount|issuesCount|\n",
            "+-----------+---------+------------+-----------+\n",
            "|Engineering|        4|           1|          5|\n",
            "|         HR|        2|           2|          4|\n",
            "|    Finance|        2|           2|          4|\n",
            "|  Marketing|        3|           1|          4|\n",
            "+-----------+---------+------------+-----------+\n",
            "\n"
          ]
        }
      ]
    }
  ]
}