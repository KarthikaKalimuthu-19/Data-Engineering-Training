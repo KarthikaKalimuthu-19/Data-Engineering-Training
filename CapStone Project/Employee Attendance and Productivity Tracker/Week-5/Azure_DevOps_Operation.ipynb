{
  "nbformat": 4,
  "nbformat_minor": 0,
  "metadata": {
    "colab": {
      "provenance": []
    },
    "kernelspec": {
      "name": "python3",
      "display_name": "Python 3"
    },
    "language_info": {
      "name": "python"
    }
  },
  "cells": [
    {
      "cell_type": "markdown",
      "source": [
        "**Importing Libraries**"
      ],
      "metadata": {
        "id": "HbHciujbCV4X"
      }
    },
    {
      "cell_type": "code",
      "execution_count": 1,
      "metadata": {
        "id": "H2VEgI7NB3m3"
      },
      "outputs": [],
      "source": [
        "from pyspark.sql import SparkSession\n",
        "from pyspark.sql import functions as F"
      ]
    },
    {
      "cell_type": "markdown",
      "source": [
        "**Creating Spark Session**"
      ],
      "metadata": {
        "id": "Ptv-dc60Cyea"
      }
    },
    {
      "cell_type": "code",
      "source": [
        "spark = SparkSession.builder.appName(\"DevOps\").getOrCreate()\n",
        "spark"
      ],
      "metadata": {
        "colab": {
          "base_uri": "https://localhost:8080/",
          "height": 221
        },
        "id": "Y0502qqxC2q4",
        "outputId": "2b6274a8-be6a-40a4-e26f-5173dda68304"
      },
      "execution_count": 2,
      "outputs": [
        {
          "output_type": "execute_result",
          "data": {
            "text/plain": [
              "<pyspark.sql.session.SparkSession at 0x7ee91050cc20>"
            ],
            "text/html": [
              "\n",
              "            <div>\n",
              "                <p><b>SparkSession - in-memory</b></p>\n",
              "                \n",
              "        <div>\n",
              "            <p><b>SparkContext</b></p>\n",
              "\n",
              "            <p><a href=\"http://2e969360bda8:4040\">Spark UI</a></p>\n",
              "\n",
              "            <dl>\n",
              "              <dt>Version</dt>\n",
              "                <dd><code>v3.5.1</code></dd>\n",
              "              <dt>Master</dt>\n",
              "                <dd><code>local[*]</code></dd>\n",
              "              <dt>AppName</dt>\n",
              "                <dd><code>DevOps</code></dd>\n",
              "            </dl>\n",
              "        </div>\n",
              "        \n",
              "            </div>\n",
              "        "
            ]
          },
          "metadata": {},
          "execution_count": 2
        }
      ]
    },
    {
      "cell_type": "markdown",
      "source": [
        "**Uploading required files**"
      ],
      "metadata": {
        "id": "C4u4gFF0C_ek"
      }
    },
    {
      "cell_type": "code",
      "source": [
        "from google.colab import files\n",
        "uploaded = files.upload()"
      ],
      "metadata": {
        "colab": {
          "base_uri": "https://localhost:8080/",
          "height": 145
        },
        "id": "gEyC7k-vDEuj",
        "outputId": "b8733125-af5b-46cc-a330-281abfc5db25"
      },
      "execution_count": 3,
      "outputs": [
        {
          "output_type": "display_data",
          "data": {
            "text/plain": [
              "<IPython.core.display.HTML object>"
            ],
            "text/html": [
              "\n",
              "     <input type=\"file\" id=\"files-7e2c45b5-a0d4-4d88-bfa4-f2a52170224d\" name=\"files[]\" multiple disabled\n",
              "        style=\"border:none\" />\n",
              "     <output id=\"result-7e2c45b5-a0d4-4d88-bfa4-f2a52170224d\">\n",
              "      Upload widget is only available when the cell has been executed in the\n",
              "      current browser session. Please rerun this cell to enable.\n",
              "      </output>\n",
              "      <script>// Copyright 2017 Google LLC\n",
              "//\n",
              "// Licensed under the Apache License, Version 2.0 (the \"License\");\n",
              "// you may not use this file except in compliance with the License.\n",
              "// You may obtain a copy of the License at\n",
              "//\n",
              "//      http://www.apache.org/licenses/LICENSE-2.0\n",
              "//\n",
              "// Unless required by applicable law or agreed to in writing, software\n",
              "// distributed under the License is distributed on an \"AS IS\" BASIS,\n",
              "// WITHOUT WARRANTIES OR CONDITIONS OF ANY KIND, either express or implied.\n",
              "// See the License for the specific language governing permissions and\n",
              "// limitations under the License.\n",
              "\n",
              "/**\n",
              " * @fileoverview Helpers for google.colab Python module.\n",
              " */\n",
              "(function(scope) {\n",
              "function span(text, styleAttributes = {}) {\n",
              "  const element = document.createElement('span');\n",
              "  element.textContent = text;\n",
              "  for (const key of Object.keys(styleAttributes)) {\n",
              "    element.style[key] = styleAttributes[key];\n",
              "  }\n",
              "  return element;\n",
              "}\n",
              "\n",
              "// Max number of bytes which will be uploaded at a time.\n",
              "const MAX_PAYLOAD_SIZE = 100 * 1024;\n",
              "\n",
              "function _uploadFiles(inputId, outputId) {\n",
              "  const steps = uploadFilesStep(inputId, outputId);\n",
              "  const outputElement = document.getElementById(outputId);\n",
              "  // Cache steps on the outputElement to make it available for the next call\n",
              "  // to uploadFilesContinue from Python.\n",
              "  outputElement.steps = steps;\n",
              "\n",
              "  return _uploadFilesContinue(outputId);\n",
              "}\n",
              "\n",
              "// This is roughly an async generator (not supported in the browser yet),\n",
              "// where there are multiple asynchronous steps and the Python side is going\n",
              "// to poll for completion of each step.\n",
              "// This uses a Promise to block the python side on completion of each step,\n",
              "// then passes the result of the previous step as the input to the next step.\n",
              "function _uploadFilesContinue(outputId) {\n",
              "  const outputElement = document.getElementById(outputId);\n",
              "  const steps = outputElement.steps;\n",
              "\n",
              "  const next = steps.next(outputElement.lastPromiseValue);\n",
              "  return Promise.resolve(next.value.promise).then((value) => {\n",
              "    // Cache the last promise value to make it available to the next\n",
              "    // step of the generator.\n",
              "    outputElement.lastPromiseValue = value;\n",
              "    return next.value.response;\n",
              "  });\n",
              "}\n",
              "\n",
              "/**\n",
              " * Generator function which is called between each async step of the upload\n",
              " * process.\n",
              " * @param {string} inputId Element ID of the input file picker element.\n",
              " * @param {string} outputId Element ID of the output display.\n",
              " * @return {!Iterable<!Object>} Iterable of next steps.\n",
              " */\n",
              "function* uploadFilesStep(inputId, outputId) {\n",
              "  const inputElement = document.getElementById(inputId);\n",
              "  inputElement.disabled = false;\n",
              "\n",
              "  const outputElement = document.getElementById(outputId);\n",
              "  outputElement.innerHTML = '';\n",
              "\n",
              "  const pickedPromise = new Promise((resolve) => {\n",
              "    inputElement.addEventListener('change', (e) => {\n",
              "      resolve(e.target.files);\n",
              "    });\n",
              "  });\n",
              "\n",
              "  const cancel = document.createElement('button');\n",
              "  inputElement.parentElement.appendChild(cancel);\n",
              "  cancel.textContent = 'Cancel upload';\n",
              "  const cancelPromise = new Promise((resolve) => {\n",
              "    cancel.onclick = () => {\n",
              "      resolve(null);\n",
              "    };\n",
              "  });\n",
              "\n",
              "  // Wait for the user to pick the files.\n",
              "  const files = yield {\n",
              "    promise: Promise.race([pickedPromise, cancelPromise]),\n",
              "    response: {\n",
              "      action: 'starting',\n",
              "    }\n",
              "  };\n",
              "\n",
              "  cancel.remove();\n",
              "\n",
              "  // Disable the input element since further picks are not allowed.\n",
              "  inputElement.disabled = true;\n",
              "\n",
              "  if (!files) {\n",
              "    return {\n",
              "      response: {\n",
              "        action: 'complete',\n",
              "      }\n",
              "    };\n",
              "  }\n",
              "\n",
              "  for (const file of files) {\n",
              "    const li = document.createElement('li');\n",
              "    li.append(span(file.name, {fontWeight: 'bold'}));\n",
              "    li.append(span(\n",
              "        `(${file.type || 'n/a'}) - ${file.size} bytes, ` +\n",
              "        `last modified: ${\n",
              "            file.lastModifiedDate ? file.lastModifiedDate.toLocaleDateString() :\n",
              "                                    'n/a'} - `));\n",
              "    const percent = span('0% done');\n",
              "    li.appendChild(percent);\n",
              "\n",
              "    outputElement.appendChild(li);\n",
              "\n",
              "    const fileDataPromise = new Promise((resolve) => {\n",
              "      const reader = new FileReader();\n",
              "      reader.onload = (e) => {\n",
              "        resolve(e.target.result);\n",
              "      };\n",
              "      reader.readAsArrayBuffer(file);\n",
              "    });\n",
              "    // Wait for the data to be ready.\n",
              "    let fileData = yield {\n",
              "      promise: fileDataPromise,\n",
              "      response: {\n",
              "        action: 'continue',\n",
              "      }\n",
              "    };\n",
              "\n",
              "    // Use a chunked sending to avoid message size limits. See b/62115660.\n",
              "    let position = 0;\n",
              "    do {\n",
              "      const length = Math.min(fileData.byteLength - position, MAX_PAYLOAD_SIZE);\n",
              "      const chunk = new Uint8Array(fileData, position, length);\n",
              "      position += length;\n",
              "\n",
              "      const base64 = btoa(String.fromCharCode.apply(null, chunk));\n",
              "      yield {\n",
              "        response: {\n",
              "          action: 'append',\n",
              "          file: file.name,\n",
              "          data: base64,\n",
              "        },\n",
              "      };\n",
              "\n",
              "      let percentDone = fileData.byteLength === 0 ?\n",
              "          100 :\n",
              "          Math.round((position / fileData.byteLength) * 100);\n",
              "      percent.textContent = `${percentDone}% done`;\n",
              "\n",
              "    } while (position < fileData.byteLength);\n",
              "  }\n",
              "\n",
              "  // All done.\n",
              "  yield {\n",
              "    response: {\n",
              "      action: 'complete',\n",
              "    }\n",
              "  };\n",
              "}\n",
              "\n",
              "scope.google = scope.google || {};\n",
              "scope.google.colab = scope.google.colab || {};\n",
              "scope.google.colab._files = {\n",
              "  _uploadFiles,\n",
              "  _uploadFilesContinue,\n",
              "};\n",
              "})(self);\n",
              "</script> "
            ]
          },
          "metadata": {}
        },
        {
          "output_type": "stream",
          "name": "stdout",
          "text": [
            "Saving attendance.csv to attendance.csv\n",
            "Saving employees.csv to employees.csv\n",
            "Saving tasks.csv to tasks.csv\n"
          ]
        }
      ]
    },
    {
      "cell_type": "markdown",
      "source": [
        "**Loading Files**"
      ],
      "metadata": {
        "id": "ebdxx8S6D54x"
      }
    },
    {
      "cell_type": "code",
      "source": [
        "dfAtt = spark.read.csv(r\"/content/attendance.csv\", header=True, inferSchema=True)\n",
        "dfEmp = spark.read.csv(r\"/content/employees.csv\", header=True, inferSchema=True)\n",
        "dfTas = spark.read.csv(r\"/content/tasks.csv\", header=True, inferSchema=True)"
      ],
      "metadata": {
        "id": "VFkoS8KfD_bT"
      },
      "execution_count": 4,
      "outputs": []
    },
    {
      "cell_type": "markdown",
      "source": [
        "**Printing Files**"
      ],
      "metadata": {
        "id": "hVHWEIlwEG9Y"
      }
    },
    {
      "cell_type": "code",
      "source": [
        "dfAtt.show()"
      ],
      "metadata": {
        "colab": {
          "base_uri": "https://localhost:8080/"
        },
        "id": "EEZbMt07EK3y",
        "outputId": "2c812c83-6a3c-414a-dbd5-a6dada63c4fa"
      },
      "execution_count": 5,
      "outputs": [
        {
          "output_type": "stream",
          "name": "stdout",
          "text": [
            "+------------+----------+----------+----------------+----------------+------+---------+\n",
            "|attendanceID|employeeID|      date|         clockIN|        clockOUT|isLate|isAbscent|\n",
            "+------------+----------+----------+----------------+----------------+------+---------+\n",
            "|           1|         1|01-06-2024|01-06-2024 09:02|01-06-2024 17:00|     1|        0|\n",
            "|           2|         2|01-06-2024|01-06-2024 08:55|01-06-2024 17:10|     0|        0|\n",
            "|           3|         3|01-06-2024|01-06-2024 09:10|01-06-2024 17:05|     1|        0|\n",
            "|           4|         4|01-06-2024|01-06-2024 08:48|01-06-2024 17:15|     0|        0|\n",
            "|           5|         5|01-06-2024|            NULL|            NULL|     0|        1|\n",
            "|           6|         1|02-06-2024|02-06-2024 08:50|02-06-2024 17:00|     0|        0|\n",
            "|           7|         2|02-06-2024|02-06-2024 09:20|02-06-2024 17:10|     1|        0|\n",
            "|           8|         3|02-06-2024|            NULL|            NULL|     0|        1|\n",
            "|           9|         4|02-06-2024|02-06-2024 08:40|02-06-2024 17:00|     0|        0|\n",
            "|          10|         5|02-06-2024|02-06-2024 09:05|02-06-2024 16:50|     1|        0|\n",
            "|          11|         1|03-06-2024|03-06-2024 09:00|03-06-2024 17:00|     0|        0|\n",
            "|          12|         2|03-06-2024|            NULL|            NULL|     0|        1|\n",
            "|          13|         3|03-06-2024|03-06-2024 08:59|03-06-2024 17:20|     0|        0|\n",
            "|          14|         4|03-06-2024|03-06-2024 09:15|03-06-2024 17:00|     1|        0|\n",
            "|          15|         5|03-06-2024|03-06-2024 08:50|03-06-2024 17:00|     0|        0|\n",
            "|          16|         1|04-06-2024|04-06-2024 09:12|04-06-2024 17:00|     1|        0|\n",
            "|          17|         2|04-06-2024|04-06-2024 08:55|04-06-2024 17:10|     0|        0|\n",
            "|          18|         3|04-06-2024|04-06-2024 09:08|04-06-2024 16:55|     1|        0|\n",
            "|          19|         4|04-06-2024|            NULL|            NULL|     0|        1|\n",
            "|          20|         5|04-06-2024|04-06-2024 08:58|04-06-2024 17:02|     0|        0|\n",
            "+------------+----------+----------+----------------+----------------+------+---------+\n",
            "only showing top 20 rows\n",
            "\n"
          ]
        }
      ]
    },
    {
      "cell_type": "code",
      "source": [
        "dfEmp.show()"
      ],
      "metadata": {
        "colab": {
          "base_uri": "https://localhost:8080/"
        },
        "id": "rEPMAYyIEPJB",
        "outputId": "8f38e7df-5783-45d6-d507-ffb5c96bc2e5"
      },
      "execution_count": 6,
      "outputs": [
        {
          "output_type": "stream",
          "name": "stdout",
          "text": [
            "+----------+-------------+-----------+------------------+--------------------+----------+--------+\n",
            "|employeeID|         name| department|              role|               email|  hireDate|  status|\n",
            "+----------+-------------+-----------+------------------+--------------------+----------+--------+\n",
            "|         1|     John Doe|Engineering|Software Developer|john.doe@example.com|2023-01-15|  Active|\n",
            "|         2|   Jane Smith|  Marketing|Content Strategist|jane.smith@exampl...|2022-11-20|  Active|\n",
            "|         3|Alice Johnson|         HR|        HR Manager|alice.johnson@exa...|2021-09-10|  Active|\n",
            "|         4|    Bob Brown|Engineering|   DevOps Engineer|bob.brown@example...|2023-05-01|  Active|\n",
            "|         5|    Eva Green|    Finance|        Accountant|eva.green@example...|2022-06-30|Resigned|\n",
            "+----------+-------------+-----------+------------------+--------------------+----------+--------+\n",
            "\n"
          ]
        }
      ]
    },
    {
      "cell_type": "code",
      "source": [
        "dfTas.show()"
      ],
      "metadata": {
        "colab": {
          "base_uri": "https://localhost:8080/"
        },
        "id": "PI4s6AuEES84",
        "outputId": "cc8f0db9-5d3e-4cac-9379-f922268220b7"
      },
      "execution_count": 7,
      "outputs": [
        {
          "output_type": "stream",
          "name": "stdout",
          "text": [
            "+------+----------+--------------------+----------+---------------+\n",
            "|taskID|employeeID|            taskName|  taskDate|tasksCompeleted|\n",
            "+------+----------+--------------------+----------+---------------+\n",
            "|     1|         1|     API Integration|2024-06-01|              5|\n",
            "|     2|         2|Content Calendar ...|2024-06-01|              3|\n",
            "|     3|         3|       Policy Review|2024-06-01|              0|\n",
            "|     4|         4|         CI/CD Setup|2024-06-01|              4|\n",
            "|     5|         5|    Invoice Auditing|2024-06-01|              6|\n",
            "|     6|         1|    Backend Refactor|2024-06-02|              4|\n",
            "|     7|         2|Email Campaign De...|2024-06-02|              2|\n",
            "|     8|         3|Employee Feedback...|2024-06-02|              0|\n",
            "|     9|         4|        Docker Setup|2024-06-02|              5|\n",
            "|    10|         5|Expense Sheet Val...|2024-06-02|              3|\n",
            "|    11|         1|    API Docs Writing|2024-06-03|              5|\n",
            "|    12|         2|Marketing Funnel ...|2024-06-03|              3|\n",
            "|    13|         3|            HR Audit|2024-06-03|              1|\n",
            "|    14|         4|Kubernetes Monito...|2024-06-03|              3|\n",
            "|    15|         5|Payroll Reconcili...|2024-06-03|              2|\n",
            "|    16|         1|New Feature Planning|2024-06-04|              5|\n",
            "|    17|         2|     Ad Copy Testing|2024-06-04|              2|\n",
            "|    18|         3|Training Session ...|2024-06-04|              0|\n",
            "|    19|         4|CI Pipeline Refactor|2024-06-04|              4|\n",
            "|    20|         5|    Budgeting Review|2024-06-04|              3|\n",
            "+------+----------+--------------------+----------+---------------+\n",
            "only showing top 20 rows\n",
            "\n"
          ]
        }
      ]
    },
    {
      "cell_type": "markdown",
      "source": [
        "**Printing Schemas**"
      ],
      "metadata": {
        "id": "DVZEqFDHEWlV"
      }
    },
    {
      "cell_type": "code",
      "source": [
        "dfAtt.printSchema()"
      ],
      "metadata": {
        "colab": {
          "base_uri": "https://localhost:8080/"
        },
        "id": "mQQP2lPSEauX",
        "outputId": "3ad19858-cd0d-470a-8124-2f51ff2be1a9"
      },
      "execution_count": 8,
      "outputs": [
        {
          "output_type": "stream",
          "name": "stdout",
          "text": [
            "root\n",
            " |-- attendanceID: integer (nullable = true)\n",
            " |-- employeeID: integer (nullable = true)\n",
            " |-- date: string (nullable = true)\n",
            " |-- clockIN: string (nullable = true)\n",
            " |-- clockOUT: string (nullable = true)\n",
            " |-- isLate: integer (nullable = true)\n",
            " |-- isAbscent: integer (nullable = true)\n",
            "\n"
          ]
        }
      ]
    },
    {
      "cell_type": "code",
      "source": [
        "dfEmp.printSchema()"
      ],
      "metadata": {
        "colab": {
          "base_uri": "https://localhost:8080/"
        },
        "id": "Q2hpF7IEElas",
        "outputId": "bae4e508-6830-460a-fa56-b3ec6f24f8a1"
      },
      "execution_count": 9,
      "outputs": [
        {
          "output_type": "stream",
          "name": "stdout",
          "text": [
            "root\n",
            " |-- employeeID: integer (nullable = true)\n",
            " |-- name: string (nullable = true)\n",
            " |-- department: string (nullable = true)\n",
            " |-- role: string (nullable = true)\n",
            " |-- email: string (nullable = true)\n",
            " |-- hireDate: date (nullable = true)\n",
            " |-- status: string (nullable = true)\n",
            "\n"
          ]
        }
      ]
    },
    {
      "cell_type": "code",
      "source": [
        "dfTas.printSchema()"
      ],
      "metadata": {
        "colab": {
          "base_uri": "https://localhost:8080/"
        },
        "id": "BlPHi_tgEo2O",
        "outputId": "a68a1653-6151-4c93-a326-6f200953ad7f"
      },
      "execution_count": 10,
      "outputs": [
        {
          "output_type": "stream",
          "name": "stdout",
          "text": [
            "root\n",
            " |-- taskID: integer (nullable = true)\n",
            " |-- employeeID: integer (nullable = true)\n",
            " |-- taskName: string (nullable = true)\n",
            " |-- taskDate: date (nullable = true)\n",
            " |-- tasksCompeleted: integer (nullable = true)\n",
            "\n"
          ]
        }
      ]
    },
    {
      "cell_type": "markdown",
      "source": [
        "**Cleaning Null values**"
      ],
      "metadata": {
        "id": "Zwe9mzIbE2WA"
      }
    },
    {
      "cell_type": "code",
      "source": [
        "dfEmp = dfEmp.dropna()\n",
        "dfTas = dfTas.dropna()"
      ],
      "metadata": {
        "id": "WQBVlYwsE7vF"
      },
      "execution_count": 11,
      "outputs": []
    },
    {
      "cell_type": "markdown",
      "source": [
        "**Top 5 abscentees**"
      ],
      "metadata": {
        "id": "6aZzevQKE-g3"
      }
    },
    {
      "cell_type": "code",
      "source": [
        "Top5Absentees = dfEmp.join(dfAtt, on=\"employeeID\", how=\"inner\").groupBy(\"employeeID\").agg(\n",
        "                 F.sum(\"isAbscent\").alias(\"AbscentCount\")\n",
        "             ).join(dfEmp.select([\"employeeID\", \"name\"]), how=\"inner\", on=\"employeeID\").sort(\"AbscentCount\", ascending=False).limit(5).select([\"employeeID\", \"name\", \"AbscentCount\"])\n",
        "\n",
        "Top5Absentees.write.mode(\"overwrite\").csv(\"abscentees_top_5\")\n",
        "\n",
        "Top5Absentees.show()"
      ],
      "metadata": {
        "colab": {
          "base_uri": "https://localhost:8080/"
        },
        "id": "iniEden1FDx8",
        "outputId": "1e1b79e0-4d45-4a58-fca6-3c756331573b"
      },
      "execution_count": 18,
      "outputs": [
        {
          "output_type": "stream",
          "name": "stdout",
          "text": [
            "+----------+-------------+------------+\n",
            "|employeeID|         name|AbscentCount|\n",
            "+----------+-------------+------------+\n",
            "|         3|Alice Johnson|           2|\n",
            "|         5|    Eva Green|           2|\n",
            "|         4|    Bob Brown|           1|\n",
            "|         2|   Jane Smith|           1|\n",
            "|         1|     John Doe|           0|\n",
            "+----------+-------------+------------+\n",
            "\n"
          ]
        }
      ]
    },
    {
      "cell_type": "markdown",
      "source": [
        "**Lowest performing departments**"
      ],
      "metadata": {
        "id": "e2jUmREiFgSf"
      }
    },
    {
      "cell_type": "code",
      "source": [
        "LowestPerformingDept = dfEmp.join(dfAtt, on=\"employeeID\", how=\"inner\").join(dfTas, on=\"employeeID\", how=\"inner\").groupBy(\"department\").agg(\n",
        "                    F.sum(\"tasksCompeleted\").alias(\"TasksProductivityScore\")\n",
        "                ).sort(\"TasksProductivityScore\", ascending=True).limit(2)\n",
        "\n",
        "LowestPerformingDept.write.mode(\"overwrite\").csv(\"lowest_performing_departments\")\n",
        "\n",
        "LowestPerformingDept.show()"
      ],
      "metadata": {
        "colab": {
          "base_uri": "https://localhost:8080/"
        },
        "id": "f6J586cUFked",
        "outputId": "869db3c3-c8e5-4c91-9b21-06fea38f6537"
      },
      "execution_count": 19,
      "outputs": [
        {
          "output_type": "stream",
          "name": "stdout",
          "text": [
            "+----------+----------------------+\n",
            "|department|TasksProductivityScore|\n",
            "+----------+----------------------+\n",
            "|        HR|                    18|\n",
            "| Marketing|                    90|\n",
            "+----------+----------------------+\n",
            "\n"
          ]
        }
      ]
    },
    {
      "cell_type": "markdown",
      "source": [
        "**Deliverables**"
      ],
      "metadata": {
        "id": "7X10-IFpF9UO"
      }
    },
    {
      "cell_type": "code",
      "source": [
        "# Report with top 5 absentees/lowest performing departments\n",
        "\n",
        "Top5Absentees.coalesce(1) \\\n",
        "    .write.mode(\"overwrite\").option(\"header\", True) \\\n",
        "    .csv(\"/content/Top5Absentees\")\n",
        "\n",
        "LowestPerformingDept.coalesce(1) \\\n",
        "    .write.mode(\"overwrite\").option(\"header\", True) \\\n",
        "    .csv(\"/content/LowestPerformingDept\")"
      ],
      "metadata": {
        "id": "L7Ck2Af0GHJl"
      },
      "execution_count": 20,
      "outputs": []
    },
    {
      "cell_type": "code",
      "source": [
        "import shutil, glob\n",
        "\n",
        "Abs_file = glob.glob(\"/content/Top5Absentees/part-*.csv\")[0]\n",
        "shutil.move(Abs_file, \"/content/Top5Absentees.csv\")\n",
        "\n",
        "low_file = glob.glob(\"/content/LowestPerformingDept/part-*.csv\")[0]\n",
        "shutil.move(low_file, \"/content/LowestPerformingDept.csv\")"
      ],
      "metadata": {
        "colab": {
          "base_uri": "https://localhost:8080/",
          "height": 35
        },
        "id": "xCYTpCVWGnFB",
        "outputId": "936953ab-87d1-4128-ba00-aac383cfb99b"
      },
      "execution_count": 21,
      "outputs": [
        {
          "output_type": "execute_result",
          "data": {
            "text/plain": [
              "'/content/LowestPerforming.csv'"
            ],
            "application/vnd.google.colaboratory.intrinsic+json": {
              "type": "string"
            }
          },
          "metadata": {},
          "execution_count": 21
        }
      ]
    },
    {
      "cell_type": "code",
      "source": [
        "from google.colab import files\n",
        "\n",
        "files.download(\"/content/Top5Absentees.csv\")\n",
        "files.download(\"/content/LowestPerformingDept.csv\")"
      ],
      "metadata": {
        "colab": {
          "base_uri": "https://localhost:8080/",
          "height": 17
        },
        "id": "-386qUvyG9-Q",
        "outputId": "ba8c05af-2d9f-4f74-b160-dd901fdfc45a"
      },
      "execution_count": 22,
      "outputs": [
        {
          "output_type": "display_data",
          "data": {
            "text/plain": [
              "<IPython.core.display.Javascript object>"
            ],
            "application/javascript": [
              "\n",
              "    async function download(id, filename, size) {\n",
              "      if (!google.colab.kernel.accessAllowed) {\n",
              "        return;\n",
              "      }\n",
              "      const div = document.createElement('div');\n",
              "      const label = document.createElement('label');\n",
              "      label.textContent = `Downloading \"${filename}\": `;\n",
              "      div.appendChild(label);\n",
              "      const progress = document.createElement('progress');\n",
              "      progress.max = size;\n",
              "      div.appendChild(progress);\n",
              "      document.body.appendChild(div);\n",
              "\n",
              "      const buffers = [];\n",
              "      let downloaded = 0;\n",
              "\n",
              "      const channel = await google.colab.kernel.comms.open(id);\n",
              "      // Send a message to notify the kernel that we're ready.\n",
              "      channel.send({})\n",
              "\n",
              "      for await (const message of channel.messages) {\n",
              "        // Send a message to notify the kernel that we're ready.\n",
              "        channel.send({})\n",
              "        if (message.buffers) {\n",
              "          for (const buffer of message.buffers) {\n",
              "            buffers.push(buffer);\n",
              "            downloaded += buffer.byteLength;\n",
              "            progress.value = downloaded;\n",
              "          }\n",
              "        }\n",
              "      }\n",
              "      const blob = new Blob(buffers, {type: 'application/binary'});\n",
              "      const a = document.createElement('a');\n",
              "      a.href = window.URL.createObjectURL(blob);\n",
              "      a.download = filename;\n",
              "      div.appendChild(a);\n",
              "      a.click();\n",
              "      div.remove();\n",
              "    }\n",
              "  "
            ]
          },
          "metadata": {}
        },
        {
          "output_type": "display_data",
          "data": {
            "text/plain": [
              "<IPython.core.display.Javascript object>"
            ],
            "application/javascript": [
              "download(\"download_ac0fc0cf-552e-4277-ba8f-3b5943db9012\", \"TopAbsentees.csv\", 103)"
            ]
          },
          "metadata": {}
        },
        {
          "output_type": "display_data",
          "data": {
            "text/plain": [
              "<IPython.core.display.Javascript object>"
            ],
            "application/javascript": [
              "\n",
              "    async function download(id, filename, size) {\n",
              "      if (!google.colab.kernel.accessAllowed) {\n",
              "        return;\n",
              "      }\n",
              "      const div = document.createElement('div');\n",
              "      const label = document.createElement('label');\n",
              "      label.textContent = `Downloading \"${filename}\": `;\n",
              "      div.appendChild(label);\n",
              "      const progress = document.createElement('progress');\n",
              "      progress.max = size;\n",
              "      div.appendChild(progress);\n",
              "      document.body.appendChild(div);\n",
              "\n",
              "      const buffers = [];\n",
              "      let downloaded = 0;\n",
              "\n",
              "      const channel = await google.colab.kernel.comms.open(id);\n",
              "      // Send a message to notify the kernel that we're ready.\n",
              "      channel.send({})\n",
              "\n",
              "      for await (const message of channel.messages) {\n",
              "        // Send a message to notify the kernel that we're ready.\n",
              "        channel.send({})\n",
              "        if (message.buffers) {\n",
              "          for (const buffer of message.buffers) {\n",
              "            buffers.push(buffer);\n",
              "            downloaded += buffer.byteLength;\n",
              "            progress.value = downloaded;\n",
              "          }\n",
              "        }\n",
              "      }\n",
              "      const blob = new Blob(buffers, {type: 'application/binary'});\n",
              "      const a = document.createElement('a');\n",
              "      a.href = window.URL.createObjectURL(blob);\n",
              "      a.download = filename;\n",
              "      div.appendChild(a);\n",
              "      a.click();\n",
              "      div.remove();\n",
              "    }\n",
              "  "
            ]
          },
          "metadata": {}
        },
        {
          "output_type": "display_data",
          "data": {
            "text/plain": [
              "<IPython.core.display.Javascript object>"
            ],
            "application/javascript": [
              "download(\"download_787b2324-042d-456c-8dab-fada0a8e13f1\", \"LowestPerforming.csv\", 53)"
            ]
          },
          "metadata": {}
        }
      ]
    }
  ]
}