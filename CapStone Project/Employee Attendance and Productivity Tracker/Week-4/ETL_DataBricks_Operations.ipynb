{
  "nbformat": 4,
  "nbformat_minor": 0,
  "metadata": {
    "colab": {
      "provenance": []
    },
    "kernelspec": {
      "name": "python3",
      "display_name": "Python 3"
    },
    "language_info": {
      "name": "python"
    }
  },
  "cells": [
    {
      "cell_type": "markdown",
      "source": [
        "**Importing Libraries**"
      ],
      "metadata": {
        "id": "aaN95oDkp9j8"
      }
    },
    {
      "cell_type": "code",
      "execution_count": 1,
      "metadata": {
        "id": "k3a6LSZHprvq"
      },
      "outputs": [],
      "source": [
        "from pyspark.sql import SparkSession\n",
        "from pyspark.sql import functions as F"
      ]
    },
    {
      "cell_type": "markdown",
      "source": [
        "**Creating Spark Session**"
      ],
      "metadata": {
        "id": "tNMT9ZOjqL_A"
      }
    },
    {
      "cell_type": "code",
      "source": [
        "spark = SparkSession.builder.appName(\"DataBricks\").getOrCreate()\n",
        "spark"
      ],
      "metadata": {
        "colab": {
          "base_uri": "https://localhost:8080/",
          "height": 221
        },
        "id": "By0-7nA-qPW7",
        "outputId": "a4ebf7e3-662d-4f94-ead1-2eae4098613e"
      },
      "execution_count": 2,
      "outputs": [
        {
          "output_type": "execute_result",
          "data": {
            "text/plain": [
              "<pyspark.sql.session.SparkSession at 0x7c907de93ed0>"
            ],
            "text/html": [
              "\n",
              "            <div>\n",
              "                <p><b>SparkSession - in-memory</b></p>\n",
              "                \n",
              "        <div>\n",
              "            <p><b>SparkContext</b></p>\n",
              "\n",
              "            <p><a href=\"http://d198df7281b5:4040\">Spark UI</a></p>\n",
              "\n",
              "            <dl>\n",
              "              <dt>Version</dt>\n",
              "                <dd><code>v3.5.1</code></dd>\n",
              "              <dt>Master</dt>\n",
              "                <dd><code>local[*]</code></dd>\n",
              "              <dt>AppName</dt>\n",
              "                <dd><code>DataBricks</code></dd>\n",
              "            </dl>\n",
              "        </div>\n",
              "        \n",
              "            </div>\n",
              "        "
            ]
          },
          "metadata": {},
          "execution_count": 2
        }
      ]
    },
    {
      "cell_type": "markdown",
      "source": [
        "**Uploading required files**"
      ],
      "metadata": {
        "id": "J6zOKFxOqZQV"
      }
    },
    {
      "cell_type": "code",
      "source": [
        "from google.colab import files\n",
        "uploaded = files.upload()"
      ],
      "metadata": {
        "colab": {
          "base_uri": "https://localhost:8080/",
          "height": 145
        },
        "id": "6tdxC2gzqgbY",
        "outputId": "95145e6c-7d4a-4959-b757-683b970c9a3e"
      },
      "execution_count": 3,
      "outputs": [
        {
          "output_type": "display_data",
          "data": {
            "text/plain": [
              "<IPython.core.display.HTML object>"
            ],
            "text/html": [
              "\n",
              "     <input type=\"file\" id=\"files-baaa8219-677a-4c72-8153-0abe023185d7\" name=\"files[]\" multiple disabled\n",
              "        style=\"border:none\" />\n",
              "     <output id=\"result-baaa8219-677a-4c72-8153-0abe023185d7\">\n",
              "      Upload widget is only available when the cell has been executed in the\n",
              "      current browser session. Please rerun this cell to enable.\n",
              "      </output>\n",
              "      <script>// Copyright 2017 Google LLC\n",
              "//\n",
              "// Licensed under the Apache License, Version 2.0 (the \"License\");\n",
              "// you may not use this file except in compliance with the License.\n",
              "// You may obtain a copy of the License at\n",
              "//\n",
              "//      http://www.apache.org/licenses/LICENSE-2.0\n",
              "//\n",
              "// Unless required by applicable law or agreed to in writing, software\n",
              "// distributed under the License is distributed on an \"AS IS\" BASIS,\n",
              "// WITHOUT WARRANTIES OR CONDITIONS OF ANY KIND, either express or implied.\n",
              "// See the License for the specific language governing permissions and\n",
              "// limitations under the License.\n",
              "\n",
              "/**\n",
              " * @fileoverview Helpers for google.colab Python module.\n",
              " */\n",
              "(function(scope) {\n",
              "function span(text, styleAttributes = {}) {\n",
              "  const element = document.createElement('span');\n",
              "  element.textContent = text;\n",
              "  for (const key of Object.keys(styleAttributes)) {\n",
              "    element.style[key] = styleAttributes[key];\n",
              "  }\n",
              "  return element;\n",
              "}\n",
              "\n",
              "// Max number of bytes which will be uploaded at a time.\n",
              "const MAX_PAYLOAD_SIZE = 100 * 1024;\n",
              "\n",
              "function _uploadFiles(inputId, outputId) {\n",
              "  const steps = uploadFilesStep(inputId, outputId);\n",
              "  const outputElement = document.getElementById(outputId);\n",
              "  // Cache steps on the outputElement to make it available for the next call\n",
              "  // to uploadFilesContinue from Python.\n",
              "  outputElement.steps = steps;\n",
              "\n",
              "  return _uploadFilesContinue(outputId);\n",
              "}\n",
              "\n",
              "// This is roughly an async generator (not supported in the browser yet),\n",
              "// where there are multiple asynchronous steps and the Python side is going\n",
              "// to poll for completion of each step.\n",
              "// This uses a Promise to block the python side on completion of each step,\n",
              "// then passes the result of the previous step as the input to the next step.\n",
              "function _uploadFilesContinue(outputId) {\n",
              "  const outputElement = document.getElementById(outputId);\n",
              "  const steps = outputElement.steps;\n",
              "\n",
              "  const next = steps.next(outputElement.lastPromiseValue);\n",
              "  return Promise.resolve(next.value.promise).then((value) => {\n",
              "    // Cache the last promise value to make it available to the next\n",
              "    // step of the generator.\n",
              "    outputElement.lastPromiseValue = value;\n",
              "    return next.value.response;\n",
              "  });\n",
              "}\n",
              "\n",
              "/**\n",
              " * Generator function which is called between each async step of the upload\n",
              " * process.\n",
              " * @param {string} inputId Element ID of the input file picker element.\n",
              " * @param {string} outputId Element ID of the output display.\n",
              " * @return {!Iterable<!Object>} Iterable of next steps.\n",
              " */\n",
              "function* uploadFilesStep(inputId, outputId) {\n",
              "  const inputElement = document.getElementById(inputId);\n",
              "  inputElement.disabled = false;\n",
              "\n",
              "  const outputElement = document.getElementById(outputId);\n",
              "  outputElement.innerHTML = '';\n",
              "\n",
              "  const pickedPromise = new Promise((resolve) => {\n",
              "    inputElement.addEventListener('change', (e) => {\n",
              "      resolve(e.target.files);\n",
              "    });\n",
              "  });\n",
              "\n",
              "  const cancel = document.createElement('button');\n",
              "  inputElement.parentElement.appendChild(cancel);\n",
              "  cancel.textContent = 'Cancel upload';\n",
              "  const cancelPromise = new Promise((resolve) => {\n",
              "    cancel.onclick = () => {\n",
              "      resolve(null);\n",
              "    };\n",
              "  });\n",
              "\n",
              "  // Wait for the user to pick the files.\n",
              "  const files = yield {\n",
              "    promise: Promise.race([pickedPromise, cancelPromise]),\n",
              "    response: {\n",
              "      action: 'starting',\n",
              "    }\n",
              "  };\n",
              "\n",
              "  cancel.remove();\n",
              "\n",
              "  // Disable the input element since further picks are not allowed.\n",
              "  inputElement.disabled = true;\n",
              "\n",
              "  if (!files) {\n",
              "    return {\n",
              "      response: {\n",
              "        action: 'complete',\n",
              "      }\n",
              "    };\n",
              "  }\n",
              "\n",
              "  for (const file of files) {\n",
              "    const li = document.createElement('li');\n",
              "    li.append(span(file.name, {fontWeight: 'bold'}));\n",
              "    li.append(span(\n",
              "        `(${file.type || 'n/a'}) - ${file.size} bytes, ` +\n",
              "        `last modified: ${\n",
              "            file.lastModifiedDate ? file.lastModifiedDate.toLocaleDateString() :\n",
              "                                    'n/a'} - `));\n",
              "    const percent = span('0% done');\n",
              "    li.appendChild(percent);\n",
              "\n",
              "    outputElement.appendChild(li);\n",
              "\n",
              "    const fileDataPromise = new Promise((resolve) => {\n",
              "      const reader = new FileReader();\n",
              "      reader.onload = (e) => {\n",
              "        resolve(e.target.result);\n",
              "      };\n",
              "      reader.readAsArrayBuffer(file);\n",
              "    });\n",
              "    // Wait for the data to be ready.\n",
              "    let fileData = yield {\n",
              "      promise: fileDataPromise,\n",
              "      response: {\n",
              "        action: 'continue',\n",
              "      }\n",
              "    };\n",
              "\n",
              "    // Use a chunked sending to avoid message size limits. See b/62115660.\n",
              "    let position = 0;\n",
              "    do {\n",
              "      const length = Math.min(fileData.byteLength - position, MAX_PAYLOAD_SIZE);\n",
              "      const chunk = new Uint8Array(fileData, position, length);\n",
              "      position += length;\n",
              "\n",
              "      const base64 = btoa(String.fromCharCode.apply(null, chunk));\n",
              "      yield {\n",
              "        response: {\n",
              "          action: 'append',\n",
              "          file: file.name,\n",
              "          data: base64,\n",
              "        },\n",
              "      };\n",
              "\n",
              "      let percentDone = fileData.byteLength === 0 ?\n",
              "          100 :\n",
              "          Math.round((position / fileData.byteLength) * 100);\n",
              "      percent.textContent = `${percentDone}% done`;\n",
              "\n",
              "    } while (position < fileData.byteLength);\n",
              "  }\n",
              "\n",
              "  // All done.\n",
              "  yield {\n",
              "    response: {\n",
              "      action: 'complete',\n",
              "    }\n",
              "  };\n",
              "}\n",
              "\n",
              "scope.google = scope.google || {};\n",
              "scope.google.colab = scope.google.colab || {};\n",
              "scope.google.colab._files = {\n",
              "  _uploadFiles,\n",
              "  _uploadFilesContinue,\n",
              "};\n",
              "})(self);\n",
              "</script> "
            ]
          },
          "metadata": {}
        },
        {
          "output_type": "stream",
          "name": "stdout",
          "text": [
            "Saving attendance.csv to attendance.csv\n",
            "Saving employees.csv to employees.csv\n",
            "Saving tasks.csv to tasks.csv\n"
          ]
        }
      ]
    },
    {
      "cell_type": "markdown",
      "source": [
        "**Loading Files**"
      ],
      "metadata": {
        "id": "oKNT_QWsqyKE"
      }
    },
    {
      "cell_type": "code",
      "source": [
        "dfAtt = spark.read.csv(r\"/content/attendance.csv\", header=True, inferSchema=True)\n",
        "dfEmp = spark.read.csv(r\"/content/employees.csv\", header=True, inferSchema=True)\n",
        "dfTas = spark.read.csv(r\"/content/tasks.csv\", header=True, inferSchema=True)"
      ],
      "metadata": {
        "id": "tiP53gSGq3Hp"
      },
      "execution_count": 4,
      "outputs": []
    },
    {
      "cell_type": "markdown",
      "source": [
        "**Printing Files**"
      ],
      "metadata": {
        "id": "gy5bjf7Eq6rJ"
      }
    },
    {
      "cell_type": "code",
      "source": [
        "dfAtt.show()"
      ],
      "metadata": {
        "colab": {
          "base_uri": "https://localhost:8080/"
        },
        "id": "LbpoLyc4q_cp",
        "outputId": "f07b6015-d64a-4ba8-ebcb-45782fa27698"
      },
      "execution_count": 5,
      "outputs": [
        {
          "output_type": "stream",
          "name": "stdout",
          "text": [
            "+------------+----------+----------+----------------+----------------+------+---------+\n",
            "|attendanceID|employeeID|      date|         clockIN|        clockOUT|isLate|isAbscent|\n",
            "+------------+----------+----------+----------------+----------------+------+---------+\n",
            "|           1|         1|01-06-2024|01-06-2024 09:02|01-06-2024 17:00|     1|        0|\n",
            "|           2|         2|01-06-2024|01-06-2024 08:55|01-06-2024 17:10|     0|        0|\n",
            "|           3|         3|01-06-2024|01-06-2024 09:10|01-06-2024 17:05|     1|        0|\n",
            "|           4|         4|01-06-2024|01-06-2024 08:48|01-06-2024 17:15|     0|        0|\n",
            "|           5|         5|01-06-2024|            NULL|            NULL|     0|        1|\n",
            "|           6|         1|02-06-2024|02-06-2024 08:50|02-06-2024 17:00|     0|        0|\n",
            "|           7|         2|02-06-2024|02-06-2024 09:20|02-06-2024 17:10|     1|        0|\n",
            "|           8|         3|02-06-2024|            NULL|            NULL|     0|        1|\n",
            "|           9|         4|02-06-2024|02-06-2024 08:40|02-06-2024 17:00|     0|        0|\n",
            "|          10|         5|02-06-2024|02-06-2024 09:05|02-06-2024 16:50|     1|        0|\n",
            "|          11|         1|03-06-2024|03-06-2024 09:00|03-06-2024 17:00|     0|        0|\n",
            "|          12|         2|03-06-2024|            NULL|            NULL|     0|        1|\n",
            "|          13|         3|03-06-2024|03-06-2024 08:59|03-06-2024 17:20|     0|        0|\n",
            "|          14|         4|03-06-2024|03-06-2024 09:15|03-06-2024 17:00|     1|        0|\n",
            "|          15|         5|03-06-2024|03-06-2024 08:50|03-06-2024 17:00|     0|        0|\n",
            "|          16|         1|04-06-2024|04-06-2024 09:12|04-06-2024 17:00|     1|        0|\n",
            "|          17|         2|04-06-2024|04-06-2024 08:55|04-06-2024 17:10|     0|        0|\n",
            "|          18|         3|04-06-2024|04-06-2024 09:08|04-06-2024 16:55|     1|        0|\n",
            "|          19|         4|04-06-2024|            NULL|            NULL|     0|        1|\n",
            "|          20|         5|04-06-2024|04-06-2024 08:58|04-06-2024 17:02|     0|        0|\n",
            "+------------+----------+----------+----------------+----------------+------+---------+\n",
            "only showing top 20 rows\n",
            "\n"
          ]
        }
      ]
    },
    {
      "cell_type": "code",
      "source": [
        "dfEmp.show()"
      ],
      "metadata": {
        "colab": {
          "base_uri": "https://localhost:8080/"
        },
        "id": "4HZFGH99rEXp",
        "outputId": "a4b96e74-9748-4e60-8360-99de6366b65b"
      },
      "execution_count": 6,
      "outputs": [
        {
          "output_type": "stream",
          "name": "stdout",
          "text": [
            "+----------+-------------+-----------+------------------+--------------------+----------+--------+\n",
            "|employeeID|         name| department|              role|               email|  hireDate|  status|\n",
            "+----------+-------------+-----------+------------------+--------------------+----------+--------+\n",
            "|         1|     John Doe|Engineering|Software Developer|john.doe@example.com|2023-01-15|  Active|\n",
            "|         2|   Jane Smith|  Marketing|Content Strategist|jane.smith@exampl...|2022-11-20|  Active|\n",
            "|         3|Alice Johnson|         HR|        HR Manager|alice.johnson@exa...|2021-09-10|  Active|\n",
            "|         4|    Bob Brown|Engineering|   DevOps Engineer|bob.brown@example...|2023-05-01|  Active|\n",
            "|         5|    Eva Green|    Finance|        Accountant|eva.green@example...|2022-06-30|Resigned|\n",
            "+----------+-------------+-----------+------------------+--------------------+----------+--------+\n",
            "\n"
          ]
        }
      ]
    },
    {
      "cell_type": "code",
      "source": [
        "dfTas.show()"
      ],
      "metadata": {
        "colab": {
          "base_uri": "https://localhost:8080/"
        },
        "id": "Hj8SbYIZrHT_",
        "outputId": "0b7f029b-2ebf-4ed1-8a96-573689ad3e35"
      },
      "execution_count": 7,
      "outputs": [
        {
          "output_type": "stream",
          "name": "stdout",
          "text": [
            "+------+----------+--------------------+----------+---------------+\n",
            "|taskID|employeeID|            taskName|  taskDate|tasksCompeleted|\n",
            "+------+----------+--------------------+----------+---------------+\n",
            "|     1|         1|     API Integration|2024-06-01|              5|\n",
            "|     2|         2|Content Calendar ...|2024-06-01|              3|\n",
            "|     3|         3|       Policy Review|2024-06-01|              0|\n",
            "|     4|         4|         CI/CD Setup|2024-06-01|              4|\n",
            "|     5|         5|    Invoice Auditing|2024-06-01|              6|\n",
            "|     6|         1|    Backend Refactor|2024-06-02|              4|\n",
            "|     7|         2|Email Campaign De...|2024-06-02|              2|\n",
            "|     8|         3|Employee Feedback...|2024-06-02|              0|\n",
            "|     9|         4|        Docker Setup|2024-06-02|              5|\n",
            "|    10|         5|Expense Sheet Val...|2024-06-02|              3|\n",
            "|    11|         1|    API Docs Writing|2024-06-03|              5|\n",
            "|    12|         2|Marketing Funnel ...|2024-06-03|              3|\n",
            "|    13|         3|            HR Audit|2024-06-03|              1|\n",
            "|    14|         4|Kubernetes Monito...|2024-06-03|              3|\n",
            "|    15|         5|Payroll Reconcili...|2024-06-03|              2|\n",
            "|    16|         1|New Feature Planning|2024-06-04|              5|\n",
            "|    17|         2|     Ad Copy Testing|2024-06-04|              2|\n",
            "|    18|         3|Training Session ...|2024-06-04|              0|\n",
            "|    19|         4|CI Pipeline Refactor|2024-06-04|              4|\n",
            "|    20|         5|    Budgeting Review|2024-06-04|              3|\n",
            "+------+----------+--------------------+----------+---------------+\n",
            "only showing top 20 rows\n",
            "\n"
          ]
        }
      ]
    },
    {
      "cell_type": "markdown",
      "source": [
        "**Printing Schemas**"
      ],
      "metadata": {
        "id": "yKZdjLw1rNfc"
      }
    },
    {
      "cell_type": "code",
      "source": [
        "dfAtt.printSchema()"
      ],
      "metadata": {
        "colab": {
          "base_uri": "https://localhost:8080/"
        },
        "id": "N1dWT4UYrR_m",
        "outputId": "c5f5e61d-70c1-4424-d3b5-3c0387d20f61"
      },
      "execution_count": 8,
      "outputs": [
        {
          "output_type": "stream",
          "name": "stdout",
          "text": [
            "root\n",
            " |-- attendanceID: integer (nullable = true)\n",
            " |-- employeeID: integer (nullable = true)\n",
            " |-- date: string (nullable = true)\n",
            " |-- clockIN: string (nullable = true)\n",
            " |-- clockOUT: string (nullable = true)\n",
            " |-- isLate: integer (nullable = true)\n",
            " |-- isAbscent: integer (nullable = true)\n",
            "\n"
          ]
        }
      ]
    },
    {
      "cell_type": "code",
      "source": [
        "dfEmp.printSchema()"
      ],
      "metadata": {
        "colab": {
          "base_uri": "https://localhost:8080/"
        },
        "id": "2eVYv0CzrVhz",
        "outputId": "fd2ae9d3-e93f-4fcc-a849-70fe3384b921"
      },
      "execution_count": 9,
      "outputs": [
        {
          "output_type": "stream",
          "name": "stdout",
          "text": [
            "root\n",
            " |-- employeeID: integer (nullable = true)\n",
            " |-- name: string (nullable = true)\n",
            " |-- department: string (nullable = true)\n",
            " |-- role: string (nullable = true)\n",
            " |-- email: string (nullable = true)\n",
            " |-- hireDate: date (nullable = true)\n",
            " |-- status: string (nullable = true)\n",
            "\n"
          ]
        }
      ]
    },
    {
      "cell_type": "code",
      "source": [
        "dfTas.printSchema()"
      ],
      "metadata": {
        "colab": {
          "base_uri": "https://localhost:8080/"
        },
        "id": "l9HFu4RrrbtC",
        "outputId": "38f631e5-50da-4765-e6a6-3a5b0a9407eb"
      },
      "execution_count": 10,
      "outputs": [
        {
          "output_type": "stream",
          "name": "stdout",
          "text": [
            "root\n",
            " |-- taskID: integer (nullable = true)\n",
            " |-- employeeID: integer (nullable = true)\n",
            " |-- taskName: string (nullable = true)\n",
            " |-- taskDate: date (nullable = true)\n",
            " |-- tasksCompeleted: integer (nullable = true)\n",
            "\n"
          ]
        }
      ]
    },
    {
      "cell_type": "markdown",
      "source": [
        "**Cleaning Datas**"
      ],
      "metadata": {
        "id": "qDJJFm7LrfAE"
      }
    },
    {
      "cell_type": "code",
      "source": [
        "dfEmp = dfEmp.dropna()\n",
        "dfTas = dfTas.dropna()"
      ],
      "metadata": {
        "id": "8tGA5Ddarqpv"
      },
      "execution_count": 11,
      "outputs": []
    },
    {
      "cell_type": "markdown",
      "source": [
        "**Joining Data**"
      ],
      "metadata": {
        "id": "13CgfB0yrwI2"
      }
    },
    {
      "cell_type": "code",
      "source": [
        "dfJoined = dfAtt.join(dfEmp, on=\"employeeID\", how=\"inner\").join(dfTas, on=\"employeeID\", how=\"inner\")"
      ],
      "metadata": {
        "id": "rf4HMQ3drx0O"
      },
      "execution_count": 12,
      "outputs": []
    },
    {
      "cell_type": "markdown",
      "source": [
        "**Department level metrics**"
      ],
      "metadata": {
        "id": "wSQHqpQjr2za"
      }
    },
    {
      "cell_type": "code",
      "source": [
        "deptAttendance = dfAtt.join(dfEmp, \"employeeID\", \"inner\").groupBy(\"department\").agg(\n",
        "        F.sum(\"isLate\").alias(\"LateCount\"),\n",
        "        F.sum(\"isAbscent\").alias(\"AbscentCount\")\n",
        "    )\n",
        "\n",
        "dfJoined = dfAtt.join(dfEmp, \"employeeID\", \"inner\").join(dfTas, \"employeeID\", \"inner\")\n",
        "\n",
        "dfJoined = dfJoined.withColumn(\n",
        "    \"hoursWorked\",\n",
        "    F.round(\n",
        "        (F.unix_timestamp(\"clockOUT\", \"dd-MM-yyyy HH:mm\") -\n",
        "         F.unix_timestamp(\"clockIN\", \"dd-MM-yyyy HH:mm\")) / 3600, 2\n",
        "    )\n",
        ").withColumn(\n",
        "    \"productivityScore\",\n",
        "    F.when(F.col(\"hoursWorked\") > 0, F.round(F.col(\"tasksCompeleted\")/F.col(\"hoursWorked\"), 2)).otherwise(0)\n",
        ")\n",
        "\n",
        "deptProductivity = dfJoined.groupBy(\"department\").agg(\n",
        "        F.round(F.mean(\"hoursWorked\"), 2).alias(\"AverageWorkHours\"),\n",
        "        F.round(F.mean(\"productivityScore\"), 2).alias(\"AverageProductivityScore\"),\n",
        "        F.sum(\"tasksCompeleted\").alias(\"TotalTasksCompleted\")\n",
        "    )\n",
        "\n",
        "deptMetrics = deptAttendance.join(deptProductivity, \"department\", \"inner\")\n",
        "\n",
        "deptMetrics.show()\n"
      ],
      "metadata": {
        "colab": {
          "base_uri": "https://localhost:8080/"
        },
        "id": "AiyndMHfr8l1",
        "outputId": "c01aa465-59a4-4301-a8fc-eb3494e74ad0"
      },
      "execution_count": 13,
      "outputs": [
        {
          "output_type": "stream",
          "name": "stdout",
          "text": [
            "+-----------+---------+------------+----------------+------------------------+-------------------+\n",
            "| department|LateCount|AbscentCount|AverageWorkHours|AverageProductivityScore|TotalTasksCompleted|\n",
            "+-----------+---------+------------+----------------+------------------------+-------------------+\n",
            "|Engineering|        4|           1|            8.02|                    0.48|                300|\n",
            "|         HR|        2|           2|            8.08|                    0.04|                 18|\n",
            "|    Finance|        2|           2|            7.87|                    0.25|                108|\n",
            "|  Marketing|        3|           1|            8.07|                    0.26|                 90|\n",
            "+-----------+---------+------------+----------------+------------------------+-------------------+\n",
            "\n"
          ]
        }
      ]
    },
    {
      "cell_type": "markdown",
      "source": [
        "**Saving file**"
      ],
      "metadata": {
        "id": "IuSJ9m9Ttp3m"
      }
    },
    {
      "cell_type": "code",
      "source": [
        "deptMetrics.write.mode(\"overwrite\").csv(\"/content/deptMetrics.csv\")"
      ],
      "metadata": {
        "id": "-UpsmWj5thEo"
      },
      "execution_count": 18,
      "outputs": []
    },
    {
      "cell_type": "markdown",
      "source": [
        "**Basic visualization**"
      ],
      "metadata": {
        "id": "Es2jWeFZtvRo"
      }
    },
    {
      "cell_type": "code",
      "source": [
        "visual = deptMetrics.toPandas()\n",
        "visual.plot.bar(x=\"department\", y=[\"LateCount\", \"AbscentCount\"], figsize=(10,6))"
      ],
      "metadata": {
        "colab": {
          "base_uri": "https://localhost:8080/",
          "height": 629
        },
        "id": "4N9MJpV4s6Yc",
        "outputId": "27176244-d4f0-4b44-a849-a6fad357b8b4"
      },
      "execution_count": 15,
      "outputs": [
        {
          "output_type": "execute_result",
          "data": {
            "text/plain": [
              "<Axes: xlabel='department'>"
            ]
          },
          "metadata": {},
          "execution_count": 15
        },
        {
          "output_type": "display_data",
          "data": {
            "text/plain": [
              "<Figure size 1000x600 with 1 Axes>"
            ],
            "image/png": "[encoded data removed]"
          },
          "metadata": {}
        }
      ]
    },
    {
      "cell_type": "code",
      "source": [
        "visual.plot.bar(x=\"department\", y=[\"AverageWorkHours\", \"AverageProductivityScore\"], figsize=(10,6))"
      ],
      "metadata": {
        "colab": {
          "base_uri": "https://localhost:8080/",
          "height": 629
        },
        "id": "rFGo2F0TtKcF",
        "outputId": "0cb03f37-a6ed-4d1d-f5f1-42503bc7afef"
      },
      "execution_count": 16,
      "outputs": [
        {
          "output_type": "execute_result",
          "data": {
            "text/plain": [
              "<Axes: xlabel='department'>"
            ]
          },
          "metadata": {},
          "execution_count": 16
        },
        {
          "output_type": "display_data",
          "data": {
            "text/plain": [
              "<Figure size 1000x600 with 1 Axes>"
            ],
            "image/png": "[encoded data removed]"
          },
          "metadata": {}
        }
      ]
    },
    {
      "cell_type": "code",
      "source": [
        "visual.set_index(\"department\")[\"TotalTasksCompleted\"].plot.pie(\n",
        "    autopct=\"%1.1f%%\", figsize=(10, 6)\n",
        ")"
      ],
      "metadata": {
        "colab": {
          "base_uri": "https://localhost:8080/",
          "height": 517
        },
        "id": "MqsBeOYItQTw",
        "outputId": "2bda8294-1a09-4dd9-c7c9-d79720d75e8b"
      },
      "execution_count": 17,
      "outputs": [
        {
          "output_type": "execute_result",
          "data": {
            "text/plain": [
              "<Axes: ylabel='TotalTasksCompleted'>"
            ]
          },
          "metadata": {},
          "execution_count": 17
        },
        {
          "output_type": "display_data",
          "data": {
            "text/plain": [
              "<Figure size 1000x600 with 1 Axes>"
            ],
            "image/png": "[encoded data removed]"
          },
          "metadata": {}
        }
      ]
    },
    {
      "cell_type": "markdown",
      "source": [
        "**Delieverables**"
      ],
      "metadata": {
        "id": "DCwFCCtit0nM"
      }
    },
    {
      "cell_type": "code",
      "source": [
        "#Databricks notebook with full ETL process"
      ],
      "metadata": {
        "id": "pMLiWDSrt3Up"
      },
      "execution_count": 19,
      "outputs": []
    },
    {
      "cell_type": "code",
      "source": [
        "# Exported file showing attendance and task KPIs\n",
        "\n",
        "# Department metrices\n",
        "deptMetrics.coalesce(1) \\\n",
        "    .write.mode(\"overwrite\").option(\"header\", True) \\\n",
        "    .csv(\"/content/deptMetrics\")\n",
        "\n",
        "# Attendance KPI\n",
        "deptMetrics.select([\"department\", \"LateCount\", \"AbscentCount\", \"AverageWorkHours\"]) \\\n",
        "    .coalesce(1) \\\n",
        "    .write.mode(\"overwrite\").option(\"header\", True) \\\n",
        "    .csv(\"/content/attendanceKPI\")\n",
        "\n",
        "# Task KPI\n",
        "deptMetrics.select([\"department\", \"AverageProductivityScore\", \"TotalTasksCompleted\"]) \\\n",
        "    .coalesce(1) \\\n",
        "    .write.mode(\"overwrite\").option(\"header\", True) \\\n",
        "    .csv(\"/content/taskKPI\")"
      ],
      "metadata": {
        "id": "-rFStoIGt7OP"
      },
      "execution_count": 23,
      "outputs": []
    },
    {
      "cell_type": "code",
      "source": [
        "import shutil, glob\n",
        "\n",
        "# Department metrices\n",
        "dept_file = glob.glob(\"/content/deptMetrics/part-*.csv\")[0]\n",
        "shutil.move(dept_file, \"/content/deptMetrics.csv\")\n",
        "\n",
        "# Attendance KPI\n",
        "attendance_file = glob.glob(\"/content/attendanceKPI/part-*.csv\")[0]\n",
        "shutil.move(attendance_file, \"/content/attendanceKPI.csv\")\n",
        "\n",
        "# Task KPI\n",
        "task_file = glob.glob(\"/content/taskKPI/part-*.csv\")[0]\n",
        "shutil.move(task_file, \"/content/taskKPI.csv\")"
      ],
      "metadata": {
        "colab": {
          "base_uri": "https://localhost:8080/",
          "height": 35
        },
        "id": "1DqfiQPVxEoy",
        "outputId": "cc61dc05-b9f0-443d-b96e-7245c4034a07"
      },
      "execution_count": 24,
      "outputs": [
        {
          "output_type": "execute_result",
          "data": {
            "text/plain": [
              "'/content/taskKPI.csv'"
            ],
            "application/vnd.google.colaboratory.intrinsic+json": {
              "type": "string"
            }
          },
          "metadata": {},
          "execution_count": 24
        }
      ]
    },
    {
      "cell_type": "code",
      "source": [
        "from google.colab import files\n",
        "\n",
        "files.download(\"/content/deptMetrics.csv\")\n",
        "files.download(\"/content/attendanceKPI.csv\")\n",
        "files.download(\"/content/taskKPI.csv\")"
      ],
      "metadata": {
        "colab": {
          "base_uri": "https://localhost:8080/",
          "height": 17
        },
        "id": "YnDxeQrxxmi8",
        "outputId": "605c9d9f-07e5-4950-9b48-7fec430e615d"
      },
      "execution_count": 25,
      "outputs": [
        {
          "output_type": "display_data",
          "data": {
            "text/plain": [
              "<IPython.core.display.Javascript object>"
            ],
            "application/javascript": [
              "\n",
              "    async function download(id, filename, size) {\n",
              "      if (!google.colab.kernel.accessAllowed) {\n",
              "        return;\n",
              "      }\n",
              "      const div = document.createElement('div');\n",
              "      const label = document.createElement('label');\n",
              "      label.textContent = `Downloading \"${filename}\": `;\n",
              "      div.appendChild(label);\n",
              "      const progress = document.createElement('progress');\n",
              "      progress.max = size;\n",
              "      div.appendChild(progress);\n",
              "      document.body.appendChild(div);\n",
              "\n",
              "      const buffers = [];\n",
              "      let downloaded = 0;\n",
              "\n",
              "      const channel = await google.colab.kernel.comms.open(id);\n",
              "      // Send a message to notify the kernel that we're ready.\n",
              "      channel.send({})\n",
              "\n",
              "      for await (const message of channel.messages) {\n",
              "        // Send a message to notify the kernel that we're ready.\n",
              "        channel.send({})\n",
              "        if (message.buffers) {\n",
              "          for (const buffer of message.buffers) {\n",
              "            buffers.push(buffer);\n",
              "            downloaded += buffer.byteLength;\n",
              "            progress.value = downloaded;\n",
              "          }\n",
              "        }\n",
              "      }\n",
              "      const blob = new Blob(buffers, {type: 'application/binary'});\n",
              "      const a = document.createElement('a');\n",
              "      a.href = window.URL.createObjectURL(blob);\n",
              "      a.download = filename;\n",
              "      div.appendChild(a);\n",
              "      a.click();\n",
              "      div.remove();\n",
              "    }\n",
              "  "
            ]
          },
          "metadata": {}
        },
        {
          "output_type": "display_data",
          "data": {
            "text/plain": [
              "<IPython.core.display.Javascript object>"
            ],
            "application/javascript": [
              "download(\"download_d9632bfe-9421-418d-ab1d-6b78921ce634\", \"attendanceKPI.csv\", 120)"
            ]
          },
          "metadata": {}
        },
        {
          "output_type": "display_data",
          "data": {
            "text/plain": [
              "<IPython.core.display.Javascript object>"
            ],
            "application/javascript": [
              "\n",
              "    async function download(id, filename, size) {\n",
              "      if (!google.colab.kernel.accessAllowed) {\n",
              "        return;\n",
              "      }\n",
              "      const div = document.createElement('div');\n",
              "      const label = document.createElement('label');\n",
              "      label.textContent = `Downloading \"${filename}\": `;\n",
              "      div.appendChild(label);\n",
              "      const progress = document.createElement('progress');\n",
              "      progress.max = size;\n",
              "      div.appendChild(progress);\n",
              "      document.body.appendChild(div);\n",
              "\n",
              "      const buffers = [];\n",
              "      let downloaded = 0;\n",
              "\n",
              "      const channel = await google.colab.kernel.comms.open(id);\n",
              "      // Send a message to notify the kernel that we're ready.\n",
              "      channel.send({})\n",
              "\n",
              "      for await (const message of channel.messages) {\n",
              "        // Send a message to notify the kernel that we're ready.\n",
              "        channel.send({})\n",
              "        if (message.buffers) {\n",
              "          for (const buffer of message.buffers) {\n",
              "            buffers.push(buffer);\n",
              "            downloaded += buffer.byteLength;\n",
              "            progress.value = downloaded;\n",
              "          }\n",
              "        }\n",
              "      }\n",
              "      const blob = new Blob(buffers, {type: 'application/binary'});\n",
              "      const a = document.createElement('a');\n",
              "      a.href = window.URL.createObjectURL(blob);\n",
              "      a.download = filename;\n",
              "      div.appendChild(a);\n",
              "      a.click();\n",
              "      div.remove();\n",
              "    }\n",
              "  "
            ]
          },
          "metadata": {}
        },
        {
          "output_type": "display_data",
          "data": {
            "text/plain": [
              "<IPython.core.display.Javascript object>"
            ],
            "application/javascript": [
              "download(\"download_6c671107-843c-4aff-a439-a30f48d81e55\", \"taskKPI.csv\", 123)"
            ]
          },
          "metadata": {}
        }
      ]
    }
  ]
}