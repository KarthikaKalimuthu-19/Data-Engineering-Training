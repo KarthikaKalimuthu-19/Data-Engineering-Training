{
  "nbformat": 4,
  "nbformat_minor": 0,
  "metadata": {
    "colab": {
      "provenance": []
    },
    "kernelspec": {
      "name": "python3",
      "display_name": "Python 3"
    },
    "language_info": {
      "name": "python"
    }
  },
  "cells": [
    {
      "cell_type": "markdown",
      "source": [
        "**Importing Libraries**"
      ],
      "metadata": {
        "id": "ncblV7j-TFYK"
      }
    },
    {
      "cell_type": "code",
      "execution_count": 1,
      "metadata": {
        "id": "fL-nK0UxK5j6"
      },
      "outputs": [],
      "source": [
        "from pyspark.sql import SparkSession\n",
        "from pyspark.sql import functions as F"
      ]
    },
    {
      "cell_type": "markdown",
      "source": [
        "**Creating Spark Session**"
      ],
      "metadata": {
        "id": "mPV8Hk41TLKX"
      }
    },
    {
      "cell_type": "code",
      "source": [
        "spark = SparkSession.builder.appName(\"pyspark\").getOrCreate()\n",
        "spark"
      ],
      "metadata": {
        "colab": {
          "base_uri": "https://localhost:8080/",
          "height": 221
        },
        "id": "qLY_RpiSK-dn",
        "outputId": "0c5c5f36-f77b-4e83-e30b-5587a4ffb6c6"
      },
      "execution_count": 2,
      "outputs": [
        {
          "output_type": "execute_result",
          "data": {
            "text/plain": [
              "<pyspark.sql.session.SparkSession at 0x7fe7d9c47090>"
            ],
            "text/html": [
              "\n",
              "            <div>\n",
              "                <p><b>SparkSession - in-memory</b></p>\n",
              "                \n",
              "        <div>\n",
              "            <p><b>SparkContext</b></p>\n",
              "\n",
              "            <p><a href=\"http://a6c7ad47eaf7:4040\">Spark UI</a></p>\n",
              "\n",
              "            <dl>\n",
              "              <dt>Version</dt>\n",
              "                <dd><code>v3.5.1</code></dd>\n",
              "              <dt>Master</dt>\n",
              "                <dd><code>local[*]</code></dd>\n",
              "              <dt>AppName</dt>\n",
              "                <dd><code>pyspark</code></dd>\n",
              "            </dl>\n",
              "        </div>\n",
              "        \n",
              "            </div>\n",
              "        "
            ]
          },
          "metadata": {},
          "execution_count": 2
        }
      ]
    },
    {
      "cell_type": "markdown",
      "source": [
        "**Uploading Files**"
      ],
      "metadata": {
        "id": "grx9FdlsTT8L"
      }
    },
    {
      "cell_type": "code",
      "source": [
        "from google.colab import files\n",
        "uploaded = files.upload()"
      ],
      "metadata": {
        "colab": {
          "base_uri": "https://localhost:8080/",
          "height": 180
        },
        "id": "FgriEMClLBp2",
        "outputId": "cc7575ee-daaf-4e5e-ae6c-14dd382c9089"
      },
      "execution_count": 34,
      "outputs": [
        {
          "output_type": "display_data",
          "data": {
            "text/plain": [
              "<IPython.core.display.HTML object>"
            ],
            "text/html": [
              "\n",
              "     <input type=\"file\" id=\"files-f15ffa25-725c-45a9-9962-762c721fe2ec\" name=\"files[]\" multiple disabled\n",
              "        style=\"border:none\" />\n",
              "     <output id=\"result-f15ffa25-725c-45a9-9962-762c721fe2ec\">\n",
              "      Upload widget is only available when the cell has been executed in the\n",
              "      current browser session. Please rerun this cell to enable.\n",
              "      </output>\n",
              "      <script>// Copyright 2017 Google LLC\n",
              "//\n",
              "// Licensed under the Apache License, Version 2.0 (the \"License\");\n",
              "// you may not use this file except in compliance with the License.\n",
              "// You may obtain a copy of the License at\n",
              "//\n",
              "//      http://www.apache.org/licenses/LICENSE-2.0\n",
              "//\n",
              "// Unless required by applicable law or agreed to in writing, software\n",
              "// distributed under the License is distributed on an \"AS IS\" BASIS,\n",
              "// WITHOUT WARRANTIES OR CONDITIONS OF ANY KIND, either express or implied.\n",
              "// See the License for the specific language governing permissions and\n",
              "// limitations under the License.\n",
              "\n",
              "/**\n",
              " * @fileoverview Helpers for google.colab Python module.\n",
              " */\n",
              "(function(scope) {\n",
              "function span(text, styleAttributes = {}) {\n",
              "  const element = document.createElement('span');\n",
              "  element.textContent = text;\n",
              "  for (const key of Object.keys(styleAttributes)) {\n",
              "    element.style[key] = styleAttributes[key];\n",
              "  }\n",
              "  return element;\n",
              "}\n",
              "\n",
              "// Max number of bytes which will be uploaded at a time.\n",
              "const MAX_PAYLOAD_SIZE = 100 * 1024;\n",
              "\n",
              "function _uploadFiles(inputId, outputId) {\n",
              "  const steps = uploadFilesStep(inputId, outputId);\n",
              "  const outputElement = document.getElementById(outputId);\n",
              "  // Cache steps on the outputElement to make it available for the next call\n",
              "  // to uploadFilesContinue from Python.\n",
              "  outputElement.steps = steps;\n",
              "\n",
              "  return _uploadFilesContinue(outputId);\n",
              "}\n",
              "\n",
              "// This is roughly an async generator (not supported in the browser yet),\n",
              "// where there are multiple asynchronous steps and the Python side is going\n",
              "// to poll for completion of each step.\n",
              "// This uses a Promise to block the python side on completion of each step,\n",
              "// then passes the result of the previous step as the input to the next step.\n",
              "function _uploadFilesContinue(outputId) {\n",
              "  const outputElement = document.getElementById(outputId);\n",
              "  const steps = outputElement.steps;\n",
              "\n",
              "  const next = steps.next(outputElement.lastPromiseValue);\n",
              "  return Promise.resolve(next.value.promise).then((value) => {\n",
              "    // Cache the last promise value to make it available to the next\n",
              "    // step of the generator.\n",
              "    outputElement.lastPromiseValue = value;\n",
              "    return next.value.response;\n",
              "  });\n",
              "}\n",
              "\n",
              "/**\n",
              " * Generator function which is called between each async step of the upload\n",
              " * process.\n",
              " * @param {string} inputId Element ID of the input file picker element.\n",
              " * @param {string} outputId Element ID of the output display.\n",
              " * @return {!Iterable<!Object>} Iterable of next steps.\n",
              " */\n",
              "function* uploadFilesStep(inputId, outputId) {\n",
              "  const inputElement = document.getElementById(inputId);\n",
              "  inputElement.disabled = false;\n",
              "\n",
              "  const outputElement = document.getElementById(outputId);\n",
              "  outputElement.innerHTML = '';\n",
              "\n",
              "  const pickedPromise = new Promise((resolve) => {\n",
              "    inputElement.addEventListener('change', (e) => {\n",
              "      resolve(e.target.files);\n",
              "    });\n",
              "  });\n",
              "\n",
              "  const cancel = document.createElement('button');\n",
              "  inputElement.parentElement.appendChild(cancel);\n",
              "  cancel.textContent = 'Cancel upload';\n",
              "  const cancelPromise = new Promise((resolve) => {\n",
              "    cancel.onclick = () => {\n",
              "      resolve(null);\n",
              "    };\n",
              "  });\n",
              "\n",
              "  // Wait for the user to pick the files.\n",
              "  const files = yield {\n",
              "    promise: Promise.race([pickedPromise, cancelPromise]),\n",
              "    response: {\n",
              "      action: 'starting',\n",
              "    }\n",
              "  };\n",
              "\n",
              "  cancel.remove();\n",
              "\n",
              "  // Disable the input element since further picks are not allowed.\n",
              "  inputElement.disabled = true;\n",
              "\n",
              "  if (!files) {\n",
              "    return {\n",
              "      response: {\n",
              "        action: 'complete',\n",
              "      }\n",
              "    };\n",
              "  }\n",
              "\n",
              "  for (const file of files) {\n",
              "    const li = document.createElement('li');\n",
              "    li.append(span(file.name, {fontWeight: 'bold'}));\n",
              "    li.append(span(\n",
              "        `(${file.type || 'n/a'}) - ${file.size} bytes, ` +\n",
              "        `last modified: ${\n",
              "            file.lastModifiedDate ? file.lastModifiedDate.toLocaleDateString() :\n",
              "                                    'n/a'} - `));\n",
              "    const percent = span('0% done');\n",
              "    li.appendChild(percent);\n",
              "\n",
              "    outputElement.appendChild(li);\n",
              "\n",
              "    const fileDataPromise = new Promise((resolve) => {\n",
              "      const reader = new FileReader();\n",
              "      reader.onload = (e) => {\n",
              "        resolve(e.target.result);\n",
              "      };\n",
              "      reader.readAsArrayBuffer(file);\n",
              "    });\n",
              "    // Wait for the data to be ready.\n",
              "    let fileData = yield {\n",
              "      promise: fileDataPromise,\n",
              "      response: {\n",
              "        action: 'continue',\n",
              "      }\n",
              "    };\n",
              "\n",
              "    // Use a chunked sending to avoid message size limits. See b/62115660.\n",
              "    let position = 0;\n",
              "    do {\n",
              "      const length = Math.min(fileData.byteLength - position, MAX_PAYLOAD_SIZE);\n",
              "      const chunk = new Uint8Array(fileData, position, length);\n",
              "      position += length;\n",
              "\n",
              "      const base64 = btoa(String.fromCharCode.apply(null, chunk));\n",
              "      yield {\n",
              "        response: {\n",
              "          action: 'append',\n",
              "          file: file.name,\n",
              "          data: base64,\n",
              "        },\n",
              "      };\n",
              "\n",
              "      let percentDone = fileData.byteLength === 0 ?\n",
              "          100 :\n",
              "          Math.round((position / fileData.byteLength) * 100);\n",
              "      percent.textContent = `${percentDone}% done`;\n",
              "\n",
              "    } while (position < fileData.byteLength);\n",
              "  }\n",
              "\n",
              "  // All done.\n",
              "  yield {\n",
              "    response: {\n",
              "      action: 'complete',\n",
              "    }\n",
              "  };\n",
              "}\n",
              "\n",
              "scope.google = scope.google || {};\n",
              "scope.google.colab = scope.google.colab || {};\n",
              "scope.google.colab._files = {\n",
              "  _uploadFiles,\n",
              "  _uploadFilesContinue,\n",
              "};\n",
              "})(self);\n",
              "</script> "
            ]
          },
          "metadata": {}
        },
        {
          "output_type": "stream",
          "name": "stdout",
          "text": [
            "Saving employees.csv to employees.csv\n",
            "Saving products.csv to products.csv\n",
            "Saving sales.csv to sales.csv\n",
            "Saving stores.csv to stores.csv\n"
          ]
        }
      ]
    },
    {
      "cell_type": "markdown",
      "source": [
        "**Loading Files**"
      ],
      "metadata": {
        "id": "bXwGyUiPTXcw"
      }
    },
    {
      "cell_type": "code",
      "source": [
        "dfEmp = spark.read.csv(r\"/content/employees.csv\", header=True, inferSchema=True)\n",
        "dfProd = spark.read.csv(r\"/content/products.csv\", header=True, inferSchema=True)\n",
        "dfSales = spark.read.csv(r\"/content/sales.csv\", header=True, inferSchema=True)\n",
        "dfStores = spark.read.csv(r\"/content/stores.csv\", header=True, inferSchema=True)"
      ],
      "metadata": {
        "id": "TPNo2vO1LPa9"
      },
      "execution_count": 35,
      "outputs": []
    },
    {
      "cell_type": "markdown",
      "source": [
        "**Printing Files**"
      ],
      "metadata": {
        "id": "KyTyMv_uTbBK"
      }
    },
    {
      "cell_type": "code",
      "source": [
        "dfEmp.show()"
      ],
      "metadata": {
        "colab": {
          "base_uri": "https://localhost:8080/"
        },
        "id": "rWgMc5_tLVui",
        "outputId": "c13f0a9f-d3a3-4970-ab85-896dca02956a"
      },
      "execution_count": 36,
      "outputs": [
        {
          "output_type": "stream",
          "name": "stdout",
          "text": [
            "+----------+-------------------+-------+---------------+----------+\n",
            "|employeeID|               name|storeID|           role|  hireDate|\n",
            "+----------+-------------------+-------+---------------+----------+\n",
            "|         1|         John Smith|      1|        Cashier|2022-01-12|\n",
            "|         2|      Alice Johnson|      2|        Manager|2021-03-15|\n",
            "|         3|            Bob Lee|      3|Sales Associate|2023-06-18|\n",
            "|         4|       Eva Martinez|      4|     Supervisor|2020-11-30|\n",
            "|         5|         David Chen|      5|    Stock Clerk|2019-09-10|\n",
            "|         6|         Liam Brown|      1|        Cashier|2022-02-05|\n",
            "|         7|       Olivia White|      2|        Manager|2021-05-22|\n",
            "|         8|        Noah Wilson|      3|Sales Associate|2023-01-11|\n",
            "|         9|         Emma Davis|      4|     Supervisor|2020-10-09|\n",
            "|        10|     James Anderson|      5|    Stock Clerk|2018-07-21|\n",
            "|        11|         Ava Thomas|      1|        Cashier|2022-03-08|\n",
            "|        12|        Lucas Moore|      2|        Manager|2021-09-27|\n",
            "|        13|      Sophia Taylor|      3|Sales Associate|2023-04-14|\n",
            "|        14|    Benjamin Martin|      4|     Supervisor|2020-06-02|\n",
            "|        15|    Isabella Garcia|      5|    Stock Clerk|2019-12-19|\n",
            "|        16|    Elijah Martinez|      1|        Cashier|2022-08-10|\n",
            "|        17|       Mia Robinson|      2|        Manager|2021-01-30|\n",
            "|        18|      William Clark|      3|Sales Associate|2023-07-05|\n",
            "|        19|Charlotte Rodriguez|      4|     Supervisor|2020-02-17|\n",
            "|        20|        Henry Lewis|      5|    Stock Clerk|2019-05-29|\n",
            "+----------+-------------------+-------+---------------+----------+\n",
            "\n"
          ]
        }
      ]
    },
    {
      "cell_type": "code",
      "source": [
        "dfProd.show()"
      ],
      "metadata": {
        "colab": {
          "base_uri": "https://localhost:8080/"
        },
        "id": "F3WlJde_LaqA",
        "outputId": "249777f3-9260-4c33-cfb6-36278e90bd85"
      },
      "execution_count": 37,
      "outputs": [
        {
          "output_type": "stream",
          "name": "stdout",
          "text": [
            "+---------+-----------------+-----------+------+-----+------------------+----------+\n",
            "|productID|             name|   category| price| cost|discountPercentage| dateAdded|\n",
            "+---------+-----------------+-----------+------+-----+------------------+----------+\n",
            "|        1|    Laptop Pro 14|Electronics|1200.0|900.0|              10.0|2025-07-23|\n",
            "|        2|   Organic Apples|    Grocery|   3.5|  2.0|               5.0|2025-07-23|\n",
            "|        3|   Cotton T-Shirt|    Apparel|  25.0| 10.0|              15.0|2025-07-23|\n",
            "|        4|Bluetooth Speaker|Electronics|  60.0| 40.0|              20.0|2025-07-23|\n",
            "|        5|    LED Bulb Pack| Home Goods|  15.0|  8.0|               0.0|2025-07-23|\n",
            "|        6|    Running Shoes|   Footwear|  70.0| 45.0|               7.0|2025-07-24|\n",
            "|        7|       Desk Chair|  Furniture| 150.0|100.0|              30.0|2025-07-24|\n",
            "|        8|    Smartphone XR|Electronics| 800.0|600.0|              25.0|2025-07-24|\n",
            "|        9|Whole Wheat Bread|    Grocery|   2.5|  1.5|               3.0|2025-07-24|\n",
            "|       10|     Sports Watch|Accessories|  90.0| 60.0|              11.0|2025-07-24|\n",
            "|       11|         Backpack|Accessories|  50.0| 30.0|              13.0|2025-07-25|\n",
            "|       12|   Microwave Oven| Home Goods| 200.0|150.0|               6.0|2025-07-25|\n",
            "|       13|      Denim Jeans|    Apparel|  40.0| 20.0|               9.0|2025-07-25|\n",
            "|       14|      Smart TV 42|Electronics| 500.0|400.0|               4.0|2025-07-25|\n",
            "|       15|  Electric Kettle| Home Goods|  30.0| 20.0|               2.0|2025-07-25|\n",
            "|       16|   Wireless Mouse|Electronics|  25.0| 15.0|              10.0|2025-07-26|\n",
            "|       17|   Shampoo Bottle|    Grocery|   5.0|  3.0|              40.0|2025-07-26|\n",
            "|       18|   Leather Wallet|Accessories|  35.0| 18.0|               8.0|2025-07-26|\n",
            "|       19|      Office Desk|  Furniture| 300.0|200.0|               6.0|2025-07-26|\n",
            "|       20|       Headphones|Electronics|  80.0| 55.0|              13.0|2025-07-26|\n",
            "+---------+-----------------+-----------+------+-----+------------------+----------+\n",
            "\n"
          ]
        }
      ]
    },
    {
      "cell_type": "code",
      "source": [
        "dfSales.show()"
      ],
      "metadata": {
        "colab": {
          "base_uri": "https://localhost:8080/"
        },
        "id": "TzDWCX0eLf-g",
        "outputId": "3bad95f6-5256-4c98-d995-671615872277"
      },
      "execution_count": 38,
      "outputs": [
        {
          "output_type": "stream",
          "name": "stdout",
          "text": [
            "+------+---------+-------+----------+--------+----------+\n",
            "|saleID|productID|storeID|employeeID|quantity|  saleDate|\n",
            "+------+---------+-------+----------+--------+----------+\n",
            "|     1|        1|      1|         1|       2|2025-06-01|\n",
            "|     2|        2|      2|         2|     100|2025-06-01|\n",
            "|     3|        3|      3|         3|      30|2025-06-01|\n",
            "|     4|        4|      4|         4|       5|2025-06-01|\n",
            "|     5|        5|      5|         5|      20|2025-06-02|\n",
            "|     6|        6|      1|         6|       3|2025-06-02|\n",
            "|     7|        7|      2|         7|       4|2025-06-02|\n",
            "|     8|        8|      3|         8|       1|2025-06-02|\n",
            "|     9|        9|      4|         9|      50|2025-06-03|\n",
            "|    10|       10|      5|        10|       6|2025-06-03|\n",
            "|    11|       11|      1|        11|       7|2025-06-03|\n",
            "|    12|       12|      2|        12|       2|2025-06-03|\n",
            "|    13|       13|      3|        13|       8|2025-07-04|\n",
            "|    14|       14|      4|        14|       1|2025-07-04|\n",
            "|    15|       15|      5|        15|      10|2025-08-04|\n",
            "|    16|       16|      1|        16|      12|2025-08-04|\n",
            "|    17|       17|      2|        17|       9|2025-08-04|\n",
            "|    18|       18|      3|        18|       3|2025-08-05|\n",
            "|    19|       19|      4|        19|       2|2025-08-05|\n",
            "|    20|       20|      5|        20|       5|2025-08-05|\n",
            "+------+---------+-------+----------+--------+----------+\n",
            "\n"
          ]
        }
      ]
    },
    {
      "cell_type": "code",
      "source": [
        "dfStores.show()"
      ],
      "metadata": {
        "colab": {
          "base_uri": "https://localhost:8080/"
        },
        "id": "qDl-EIcVLnP7",
        "outputId": "ae8bb43f-de97-49ac-f26d-9a93a13cbbf7"
      },
      "execution_count": 39,
      "outputs": [
        {
          "output_type": "stream",
          "name": "stdout",
          "text": [
            "+-------+--------------------+----------+--------------------+-------------------+\n",
            "|storeID|                name|    region|             address|          createdAt|\n",
            "+-------+--------------------+----------+--------------------+-------------------+\n",
            "|      1|     Urban Mart - NY|East Coast|101 Main St, New ...|2022-01-01 00:00:00|\n",
            "|      2|      SuperSave - LA|West Coast|202 Ocean Ave, Lo...|2022-01-01 00:00:00|\n",
            "|      3|     FreshStore - TX|     South|303 Sunset Blvd, ...|2022-01-01 00:00:00|\n",
            "|      4|       MegaMart - IL|   Midwest|404 Windy Rd, Chi...|2022-01-01 00:00:00|\n",
            "|      5|   BudgetBazaar - FL| Southeast|505 Palm Dr, Miam...|2022-01-01 00:00:00|\n",
            "|      6|    GreenMarket - WA|West Coast|606 Pine St, Seat...|2022-01-02 00:00:00|\n",
            "|      7|     ValueDepot - CO|  Mountain|707 Aspen Rd, Den...|2022-01-02 00:00:00|\n",
            "|      8|       QuickBuy - MA| Northeast|808 Beacon St, Bo...|2022-01-02 00:00:00|\n",
            "|      9|      DailyMart - GA| Southeast|909 Peachtree St,...|2022-01-02 00:00:00|\n",
            "|     10|      EconoMart - AZ| Southwest|1010 Desert Dr, P...|2022-01-02 00:00:00|\n",
            "|     11|     HappyStore - NJ|East Coast|1111 Garden St, N...|2022-01-03 00:00:00|\n",
            "|     12| Saver’s Corner - OH|   Midwest|1212 Lake St, Col...|2022-01-03 00:00:00|\n",
            "|     13|NeighborhoodMart ...|      West|1313 Strip Ave, L...|2022-01-03 00:00:00|\n",
            "|     14|     FamilyMart - NC|     South|1414 Oak Dr, Rale...|2022-01-03 00:00:00|\n",
            "|     15|       SmartBuy - MI|   Midwest|1515 Woodward Ave...|2022-01-03 00:00:00|\n",
            "|     16|      QuickMart - OR|      West|1616 River Rd, Po...|2022-01-04 00:00:00|\n",
            "|     17|    EconomyMart - NM| Southwest|1717 Sand St, Alb...|2022-01-04 00:00:00|\n",
            "|     18|     LocalGoods - PA| Northeast|1818 Liberty St, ...|2022-01-04 00:00:00|\n",
            "|     19|       FastMart - MO|   Midwest|1919 Arch St, St....|2022-01-04 00:00:00|\n",
            "|     20|      CityStore - TN|     South|2020 Music Ave, N...|2022-01-04 00:00:00|\n",
            "+-------+--------------------+----------+--------------------+-------------------+\n",
            "\n"
          ]
        }
      ]
    },
    {
      "cell_type": "markdown",
      "source": [
        "**Printing Schemas**"
      ],
      "metadata": {
        "id": "TALZ-vKOTgKh"
      }
    },
    {
      "cell_type": "code",
      "source": [
        "dfEmp.printSchema()"
      ],
      "metadata": {
        "colab": {
          "base_uri": "https://localhost:8080/"
        },
        "id": "HAKFJvMtLsBe",
        "outputId": "b2d78267-416d-4f50-9168-6fa9875b44ae"
      },
      "execution_count": 40,
      "outputs": [
        {
          "output_type": "stream",
          "name": "stdout",
          "text": [
            "root\n",
            " |-- employeeID: integer (nullable = true)\n",
            " |-- name: string (nullable = true)\n",
            " |-- storeID: integer (nullable = true)\n",
            " |-- role: string (nullable = true)\n",
            " |-- hireDate: date (nullable = true)\n",
            "\n"
          ]
        }
      ]
    },
    {
      "cell_type": "code",
      "source": [
        "dfProd.printSchema()"
      ],
      "metadata": {
        "colab": {
          "base_uri": "https://localhost:8080/"
        },
        "id": "5DtSq-2jLvxr",
        "outputId": "9962be22-f788-4bef-963c-4f5eca82be41"
      },
      "execution_count": 41,
      "outputs": [
        {
          "output_type": "stream",
          "name": "stdout",
          "text": [
            "root\n",
            " |-- productID: integer (nullable = true)\n",
            " |-- name: string (nullable = true)\n",
            " |-- category: string (nullable = true)\n",
            " |-- price: double (nullable = true)\n",
            " |-- cost: double (nullable = true)\n",
            " |-- discountPercentage: double (nullable = true)\n",
            " |-- dateAdded: date (nullable = true)\n",
            "\n"
          ]
        }
      ]
    },
    {
      "cell_type": "code",
      "source": [
        "dfSales.printSchema()"
      ],
      "metadata": {
        "colab": {
          "base_uri": "https://localhost:8080/"
        },
        "id": "kIRwntEWLzfM",
        "outputId": "57d6bb19-8e66-4916-afa7-347e8c2c056c"
      },
      "execution_count": 42,
      "outputs": [
        {
          "output_type": "stream",
          "name": "stdout",
          "text": [
            "root\n",
            " |-- saleID: integer (nullable = true)\n",
            " |-- productID: integer (nullable = true)\n",
            " |-- storeID: integer (nullable = true)\n",
            " |-- employeeID: integer (nullable = true)\n",
            " |-- quantity: integer (nullable = true)\n",
            " |-- saleDate: date (nullable = true)\n",
            "\n"
          ]
        }
      ]
    },
    {
      "cell_type": "code",
      "source": [
        "dfStores.printSchema()"
      ],
      "metadata": {
        "colab": {
          "base_uri": "https://localhost:8080/"
        },
        "id": "qy7sGmR6L2r7",
        "outputId": "98ff5076-780a-4522-b38d-955b49e126a5"
      },
      "execution_count": 43,
      "outputs": [
        {
          "output_type": "stream",
          "name": "stdout",
          "text": [
            "root\n",
            " |-- storeID: integer (nullable = true)\n",
            " |-- name: string (nullable = true)\n",
            " |-- region: string (nullable = true)\n",
            " |-- address: string (nullable = true)\n",
            " |-- createdAt: timestamp (nullable = true)\n",
            "\n"
          ]
        }
      ]
    },
    {
      "cell_type": "markdown",
      "source": [
        "**Filtering data for underperforming products**"
      ],
      "metadata": {
        "id": "62tMJ7DjTktX"
      }
    },
    {
      "cell_type": "code",
      "source": [
        "dfJoined = dfProd.join(dfSales, on=\"productID\", how=\"inner\")"
      ],
      "metadata": {
        "id": "TLLGuUvUL52M"
      },
      "execution_count": 44,
      "outputs": []
    },
    {
      "cell_type": "code",
      "source": [
        "dfJoined = dfJoined.withColumn(\"Margin %\", ((F.col(\"price\") - F.col(\"cost\")) / F.col(\"price\")) * 100)"
      ],
      "metadata": {
        "id": "pO15MwreMjEL"
      },
      "execution_count": 45,
      "outputs": []
    },
    {
      "cell_type": "code",
      "source": [
        "marginMean = dfJoined.select(F.mean(\"Margin %\")).collect()[0][0]"
      ],
      "metadata": {
        "id": "z6MnTuabMlHM"
      },
      "execution_count": 46,
      "outputs": []
    },
    {
      "cell_type": "code",
      "source": [
        "underPerforming = dfJoined.withColumn(\n",
        "    \"tillDate\", F.abs(F.date_diff(F.col(\"dateAdded\").cast(\"date\"), F.current_date()))).filter((F.col(\"Margin %\") < marginMean) & (F.col(\"tillDate\") < 408)\n",
        ").withColumn(\"marginRevenue\", F.col(\"quantity\") * F.col(\"price\") * (F.col(\"Margin %\") / 100)\n",
        ").groupby(\"productid\").agg(F.sum(\"quantity\").alias(\"totalSold\"),F.sum(\"marginRevenue\").alias(\"marginRevenue\"))\n",
        "\n",
        "underPerforming = underPerforming.join(\n",
        "dfProd.select([\"productid\", \"name\"]), on=\"productid\", how=\"inner\").sort(\"marginRevenue\")\n",
        "underPerforming.select(\"name\", \"totalSold\", \"marginRevenue\").show()"
      ],
      "metadata": {
        "colab": {
          "base_uri": "https://localhost:8080/"
        },
        "id": "mxQ3bMCkZg-u",
        "outputId": "628e4277-6e7d-4906-f6b5-76b568aad2ee"
      },
      "execution_count": 57,
      "outputs": [
        {
          "output_type": "stream",
          "name": "stdout",
          "text": [
            "+-----------------+---------+------------------+\n",
            "|             name|totalSold|     marginRevenue|\n",
            "+-----------------+---------+------------------+\n",
            "|    Running Shoes|        3|              75.0|\n",
            "|  Electric Kettle|       10| 99.99999999999997|\n",
            "|Bluetooth Speaker|        5| 99.99999999999997|\n",
            "|   Microwave Oven|        2|             100.0|\n",
            "|      Smart TV 42|        1|             100.0|\n",
            "|       Headphones|        5|             125.0|\n",
            "|     Sports Watch|        6|179.99999999999997|\n",
            "|      Office Desk|        2|199.99999999999994|\n",
            "|       Desk Chair|        4|199.99999999999994|\n",
            "|    Smartphone XR|        1|             200.0|\n",
            "|    Laptop Pro 14|        2|             600.0|\n",
            "+-----------------+---------+------------------+\n",
            "\n"
          ]
        }
      ]
    },
    {
      "cell_type": "markdown",
      "source": [
        "**Calculating monthly average**"
      ],
      "metadata": {
        "id": "rOFXBmQoTzjw"
      }
    },
    {
      "cell_type": "code",
      "source": [
        "df_sales = dfSales.join(dfStores, on=\"storeID\", how=\"inner\") \\\n",
        "                  .join(dfProd, on=\"productID\", how=\"inner\")\n",
        "\n",
        "df_sales = df_sales.withColumn(\"saleMonth\", F.month(\"saleDate\")) \\\n",
        "                   .withColumn(\"amount\", F.col(\"quantity\") * F.col(\"price\"))"
      ],
      "metadata": {
        "id": "t6RepEhBM9N0"
      },
      "execution_count": 50,
      "outputs": []
    },
    {
      "cell_type": "code",
      "source": [
        "storeSummary = df_sales.groupBy([\"storeID\", \"saleMonth\"]) \\\n",
        "  .agg(\n",
        "    F.mean(\"amount\").alias(\"monthlyRevenue\")\n",
        "  ) \\\n",
        "  .join(dfStores.select(\"storeID\", \"name\"), on=\"storeID\") \\\n",
        "  .sort([\"saleMonth\"]) \\\n",
        "  .select([\"name\", \"saleMonth\", \"monthlyRevenue\"])\n",
        "\n",
        "storeSummary.show()"
      ],
      "metadata": {
        "colab": {
          "base_uri": "https://localhost:8080/"
        },
        "id": "63M36cZoNDpI",
        "outputId": "99baec07-76dc-414b-8e15-a52ff408598c"
      },
      "execution_count": 58,
      "outputs": [
        {
          "output_type": "stream",
          "name": "stdout",
          "text": [
            "+-----------------+---------+-----------------+\n",
            "|             name|saleMonth|   monthlyRevenue|\n",
            "+-----------------+---------+-----------------+\n",
            "|BudgetBazaar - FL|        6|            420.0|\n",
            "|    MegaMart - IL|        6|            212.5|\n",
            "|  FreshStore - TX|        6|            775.0|\n",
            "|  Urban Mart - NY|        6|986.6666666666666|\n",
            "|   SuperSave - LA|        6|            450.0|\n",
            "|    MegaMart - IL|        7|            500.0|\n",
            "|  FreshStore - TX|        7|            320.0|\n",
            "|  Urban Mart - NY|        8|            300.0|\n",
            "|BudgetBazaar - FL|        8|            350.0|\n",
            "|  FreshStore - TX|        8|            105.0|\n",
            "|   SuperSave - LA|        8|             45.0|\n",
            "|    MegaMart - IL|        8|            600.0|\n",
            "+-----------------+---------+-----------------+\n",
            "\n"
          ]
        }
      ]
    },
    {
      "cell_type": "markdown",
      "source": [
        "**Delieverables**\n",
        "\n",
        "*   Pyspark script\n",
        "*   Output file for underperforming & store summary"
      ],
      "metadata": {
        "id": "rKzyAtOmT80X"
      }
    },
    {
      "cell_type": "code",
      "source": [
        "# 1. Pyspark script will be attached in .ipynb format in git repository"
      ],
      "metadata": {
        "id": "e27vmSbDUQZm"
      },
      "execution_count": 59,
      "outputs": []
    },
    {
      "cell_type": "code",
      "source": [
        "# 2. Output file for underperforming and store summary\n",
        "\n",
        "finalUnderperformingDF = underPerforming.select(\"name\", \"totalSold\", \"marginRevenue\")\n",
        "\n",
        "finalUnderperformingDF.coalesce(1).write.option(\"header\", True).mode(\"overwrite\").csv(\"/content/underperforming_products\")"
      ],
      "metadata": {
        "id": "ow0Uor2CNMpu"
      },
      "execution_count": 60,
      "outputs": []
    },
    {
      "cell_type": "code",
      "source": [
        "import os\n",
        "import shutil\n",
        "\n",
        "for file in os.listdir(\"/content/underperforming_products\"):\n",
        "    if file.endswith(\".csv\"):\n",
        "        shutil.move(f\"/content/underperforming_products/{file}\", \"/content/underperforming_products.csv\")\n",
        "        break"
      ],
      "metadata": {
        "id": "Q22AqhpwQHgm"
      },
      "execution_count": 61,
      "outputs": []
    },
    {
      "cell_type": "code",
      "source": [
        "from google.colab import files\n",
        "files.download(\"/content/underperforming_products.csv\")"
      ],
      "metadata": {
        "colab": {
          "base_uri": "https://localhost:8080/",
          "height": 17
        },
        "id": "i5jxoK39QMgX",
        "outputId": "10d9ffb0-0ccf-4b37-9310-3bf754846448"
      },
      "execution_count": 62,
      "outputs": [
        {
          "output_type": "display_data",
          "data": {
            "text/plain": [
              "<IPython.core.display.Javascript object>"
            ],
            "application/javascript": [
              "\n",
              "    async function download(id, filename, size) {\n",
              "      if (!google.colab.kernel.accessAllowed) {\n",
              "        return;\n",
              "      }\n",
              "      const div = document.createElement('div');\n",
              "      const label = document.createElement('label');\n",
              "      label.textContent = `Downloading \"${filename}\": `;\n",
              "      div.appendChild(label);\n",
              "      const progress = document.createElement('progress');\n",
              "      progress.max = size;\n",
              "      div.appendChild(progress);\n",
              "      document.body.appendChild(div);\n",
              "\n",
              "      const buffers = [];\n",
              "      let downloaded = 0;\n",
              "\n",
              "      const channel = await google.colab.kernel.comms.open(id);\n",
              "      // Send a message to notify the kernel that we're ready.\n",
              "      channel.send({})\n",
              "\n",
              "      for await (const message of channel.messages) {\n",
              "        // Send a message to notify the kernel that we're ready.\n",
              "        channel.send({})\n",
              "        if (message.buffers) {\n",
              "          for (const buffer of message.buffers) {\n",
              "            buffers.push(buffer);\n",
              "            downloaded += buffer.byteLength;\n",
              "            progress.value = downloaded;\n",
              "          }\n",
              "        }\n",
              "      }\n",
              "      const blob = new Blob(buffers, {type: 'application/binary'});\n",
              "      const a = document.createElement('a');\n",
              "      a.href = window.URL.createObjectURL(blob);\n",
              "      a.download = filename;\n",
              "      div.appendChild(a);\n",
              "      a.click();\n",
              "      div.remove();\n",
              "    }\n",
              "  "
            ]
          },
          "metadata": {}
        },
        {
          "output_type": "display_data",
          "data": {
            "text/plain": [
              "<IPython.core.display.Javascript object>"
            ],
            "application/javascript": [
              "download(\"download_a2591ae7-da9e-48d4-a742-1b3a5ac87ca5\", \"underperforming_products.csv\", 330)"
            ]
          },
          "metadata": {}
        }
      ]
    },
    {
      "cell_type": "code",
      "source": [
        "finalStoreSummaryDF = storeSummary.select(\"name\", \"saleMonth\", \"monthlyRevenue\")\n",
        "\n",
        "finalStoreSummaryDF.coalesce(1).write.option(\"header\", True).mode(\"overwrite\").csv(\"/content/store_summary\")"
      ],
      "metadata": {
        "id": "r0bI1lAxNVji"
      },
      "execution_count": 63,
      "outputs": []
    },
    {
      "cell_type": "code",
      "source": [
        "import os\n",
        "import shutil\n",
        "\n",
        "for file in os.listdir(\"/content/store_summary\"):\n",
        "    if file.endswith(\".csv\"):\n",
        "        shutil.move(f\"/content/store_summary/{file}\", \"/content/store_summary.csv\")\n",
        "        break"
      ],
      "metadata": {
        "id": "Dm7e7OTVQRcK"
      },
      "execution_count": 64,
      "outputs": []
    },
    {
      "cell_type": "code",
      "source": [
        "from google.colab import files\n",
        "files.download(\"/content/store_summary.csv\")"
      ],
      "metadata": {
        "colab": {
          "base_uri": "https://localhost:8080/",
          "height": 17
        },
        "id": "_FsSdEDfQXx_",
        "outputId": "4e0ea487-c3a8-4571-a2d0-b40d98282007"
      },
      "execution_count": 65,
      "outputs": [
        {
          "output_type": "display_data",
          "data": {
            "text/plain": [
              "<IPython.core.display.Javascript object>"
            ],
            "application/javascript": [
              "\n",
              "    async function download(id, filename, size) {\n",
              "      if (!google.colab.kernel.accessAllowed) {\n",
              "        return;\n",
              "      }\n",
              "      const div = document.createElement('div');\n",
              "      const label = document.createElement('label');\n",
              "      label.textContent = `Downloading \"${filename}\": `;\n",
              "      div.appendChild(label);\n",
              "      const progress = document.createElement('progress');\n",
              "      progress.max = size;\n",
              "      div.appendChild(progress);\n",
              "      document.body.appendChild(div);\n",
              "\n",
              "      const buffers = [];\n",
              "      let downloaded = 0;\n",
              "\n",
              "      const channel = await google.colab.kernel.comms.open(id);\n",
              "      // Send a message to notify the kernel that we're ready.\n",
              "      channel.send({})\n",
              "\n",
              "      for await (const message of channel.messages) {\n",
              "        // Send a message to notify the kernel that we're ready.\n",
              "        channel.send({})\n",
              "        if (message.buffers) {\n",
              "          for (const buffer of message.buffers) {\n",
              "            buffers.push(buffer);\n",
              "            downloaded += buffer.byteLength;\n",
              "            progress.value = downloaded;\n",
              "          }\n",
              "        }\n",
              "      }\n",
              "      const blob = new Blob(buffers, {type: 'application/binary'});\n",
              "      const a = document.createElement('a');\n",
              "      a.href = window.URL.createObjectURL(blob);\n",
              "      a.download = filename;\n",
              "      div.appendChild(a);\n",
              "      a.click();\n",
              "      div.remove();\n",
              "    }\n",
              "  "
            ]
          },
          "metadata": {}
        },
        {
          "output_type": "display_data",
          "data": {
            "text/plain": [
              "<IPython.core.display.Javascript object>"
            ],
            "application/javascript": [
              "download(\"download_2a020a83-aefe-4613-a593-d773d9f34597\", \"store_monthly_revenue.csv\", 325)"
            ]
          },
          "metadata": {}
        }
      ]
    }
  ]
}