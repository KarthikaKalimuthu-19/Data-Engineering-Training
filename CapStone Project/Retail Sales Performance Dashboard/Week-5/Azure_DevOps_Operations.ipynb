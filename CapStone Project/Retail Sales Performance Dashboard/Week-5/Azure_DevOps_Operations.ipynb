{
  "nbformat": 4,
  "nbformat_minor": 0,
  "metadata": {
    "colab": {
      "provenance": []
    },
    "kernelspec": {
      "name": "python3",
      "display_name": "Python 3"
    },
    "language_info": {
      "name": "python"
    }
  },
  "cells": [
    {
      "cell_type": "markdown",
      "source": [
        "**Importing Libraries**"
      ],
      "metadata": {
        "id": "3nkRL2d2PfDM"
      }
    },
    {
      "cell_type": "code",
      "execution_count": 2,
      "metadata": {
        "id": "tcnChW1wNCIj"
      },
      "outputs": [],
      "source": [
        "from pyspark.sql import SparkSession\n",
        "from pyspark.sql import functions as F"
      ]
    },
    {
      "cell_type": "markdown",
      "source": [
        "**Creating Spark Session**"
      ],
      "metadata": {
        "id": "cCUusHNzP0yH"
      }
    },
    {
      "cell_type": "code",
      "source": [
        "spark = SparkSession.builder.appName(\"DevOps\").getOrCreate()\n",
        "spark"
      ],
      "metadata": {
        "colab": {
          "base_uri": "https://localhost:8080/",
          "height": 221
        },
        "id": "A23te4pQQqRx",
        "outputId": "f9872560-bf34-41e4-8b3f-a03594da9645"
      },
      "execution_count": 3,
      "outputs": [
        {
          "output_type": "execute_result",
          "data": {
            "text/plain": [
              "<pyspark.sql.session.SparkSession at 0x78aed8a6ca10>"
            ],
            "text/html": [
              "\n",
              "            <div>\n",
              "                <p><b>SparkSession - in-memory</b></p>\n",
              "                \n",
              "        <div>\n",
              "            <p><b>SparkContext</b></p>\n",
              "\n",
              "            <p><a href=\"http://507c8701f3f3:4040\">Spark UI</a></p>\n",
              "\n",
              "            <dl>\n",
              "              <dt>Version</dt>\n",
              "                <dd><code>v3.5.1</code></dd>\n",
              "              <dt>Master</dt>\n",
              "                <dd><code>local[*]</code></dd>\n",
              "              <dt>AppName</dt>\n",
              "                <dd><code>DevOps</code></dd>\n",
              "            </dl>\n",
              "        </div>\n",
              "        \n",
              "            </div>\n",
              "        "
            ]
          },
          "metadata": {},
          "execution_count": 3
        }
      ]
    },
    {
      "cell_type": "markdown",
      "source": [
        "**Uploading required files**"
      ],
      "metadata": {
        "id": "UzzebbWJSIVw"
      }
    },
    {
      "cell_type": "code",
      "source": [
        "from google.colab import files\n",
        "uploaded = files.upload()"
      ],
      "metadata": {
        "colab": {
          "base_uri": "https://localhost:8080/",
          "height": 180
        },
        "id": "6CcxXZQqSMWU",
        "outputId": "d3d67a92-f9ed-463a-a691-9a569d9ddf8d"
      },
      "execution_count": 4,
      "outputs": [
        {
          "output_type": "display_data",
          "data": {
            "text/plain": [
              "<IPython.core.display.HTML object>"
            ],
            "text/html": [
              "\n",
              "     <input type=\"file\" id=\"files-8c7f64f6-5004-46b5-8fc6-c6cbc7dac9d5\" name=\"files[]\" multiple disabled\n",
              "        style=\"border:none\" />\n",
              "     <output id=\"result-8c7f64f6-5004-46b5-8fc6-c6cbc7dac9d5\">\n",
              "      Upload widget is only available when the cell has been executed in the\n",
              "      current browser session. Please rerun this cell to enable.\n",
              "      </output>\n",
              "      <script>// Copyright 2017 Google LLC\n",
              "//\n",
              "// Licensed under the Apache License, Version 2.0 (the \"License\");\n",
              "// you may not use this file except in compliance with the License.\n",
              "// You may obtain a copy of the License at\n",
              "//\n",
              "//      http://www.apache.org/licenses/LICENSE-2.0\n",
              "//\n",
              "// Unless required by applicable law or agreed to in writing, software\n",
              "// distributed under the License is distributed on an \"AS IS\" BASIS,\n",
              "// WITHOUT WARRANTIES OR CONDITIONS OF ANY KIND, either express or implied.\n",
              "// See the License for the specific language governing permissions and\n",
              "// limitations under the License.\n",
              "\n",
              "/**\n",
              " * @fileoverview Helpers for google.colab Python module.\n",
              " */\n",
              "(function(scope) {\n",
              "function span(text, styleAttributes = {}) {\n",
              "  const element = document.createElement('span');\n",
              "  element.textContent = text;\n",
              "  for (const key of Object.keys(styleAttributes)) {\n",
              "    element.style[key] = styleAttributes[key];\n",
              "  }\n",
              "  return element;\n",
              "}\n",
              "\n",
              "// Max number of bytes which will be uploaded at a time.\n",
              "const MAX_PAYLOAD_SIZE = 100 * 1024;\n",
              "\n",
              "function _uploadFiles(inputId, outputId) {\n",
              "  const steps = uploadFilesStep(inputId, outputId);\n",
              "  const outputElement = document.getElementById(outputId);\n",
              "  // Cache steps on the outputElement to make it available for the next call\n",
              "  // to uploadFilesContinue from Python.\n",
              "  outputElement.steps = steps;\n",
              "\n",
              "  return _uploadFilesContinue(outputId);\n",
              "}\n",
              "\n",
              "// This is roughly an async generator (not supported in the browser yet),\n",
              "// where there are multiple asynchronous steps and the Python side is going\n",
              "// to poll for completion of each step.\n",
              "// This uses a Promise to block the python side on completion of each step,\n",
              "// then passes the result of the previous step as the input to the next step.\n",
              "function _uploadFilesContinue(outputId) {\n",
              "  const outputElement = document.getElementById(outputId);\n",
              "  const steps = outputElement.steps;\n",
              "\n",
              "  const next = steps.next(outputElement.lastPromiseValue);\n",
              "  return Promise.resolve(next.value.promise).then((value) => {\n",
              "    // Cache the last promise value to make it available to the next\n",
              "    // step of the generator.\n",
              "    outputElement.lastPromiseValue = value;\n",
              "    return next.value.response;\n",
              "  });\n",
              "}\n",
              "\n",
              "/**\n",
              " * Generator function which is called between each async step of the upload\n",
              " * process.\n",
              " * @param {string} inputId Element ID of the input file picker element.\n",
              " * @param {string} outputId Element ID of the output display.\n",
              " * @return {!Iterable<!Object>} Iterable of next steps.\n",
              " */\n",
              "function* uploadFilesStep(inputId, outputId) {\n",
              "  const inputElement = document.getElementById(inputId);\n",
              "  inputElement.disabled = false;\n",
              "\n",
              "  const outputElement = document.getElementById(outputId);\n",
              "  outputElement.innerHTML = '';\n",
              "\n",
              "  const pickedPromise = new Promise((resolve) => {\n",
              "    inputElement.addEventListener('change', (e) => {\n",
              "      resolve(e.target.files);\n",
              "    });\n",
              "  });\n",
              "\n",
              "  const cancel = document.createElement('button');\n",
              "  inputElement.parentElement.appendChild(cancel);\n",
              "  cancel.textContent = 'Cancel upload';\n",
              "  const cancelPromise = new Promise((resolve) => {\n",
              "    cancel.onclick = () => {\n",
              "      resolve(null);\n",
              "    };\n",
              "  });\n",
              "\n",
              "  // Wait for the user to pick the files.\n",
              "  const files = yield {\n",
              "    promise: Promise.race([pickedPromise, cancelPromise]),\n",
              "    response: {\n",
              "      action: 'starting',\n",
              "    }\n",
              "  };\n",
              "\n",
              "  cancel.remove();\n",
              "\n",
              "  // Disable the input element since further picks are not allowed.\n",
              "  inputElement.disabled = true;\n",
              "\n",
              "  if (!files) {\n",
              "    return {\n",
              "      response: {\n",
              "        action: 'complete',\n",
              "      }\n",
              "    };\n",
              "  }\n",
              "\n",
              "  for (const file of files) {\n",
              "    const li = document.createElement('li');\n",
              "    li.append(span(file.name, {fontWeight: 'bold'}));\n",
              "    li.append(span(\n",
              "        `(${file.type || 'n/a'}) - ${file.size} bytes, ` +\n",
              "        `last modified: ${\n",
              "            file.lastModifiedDate ? file.lastModifiedDate.toLocaleDateString() :\n",
              "                                    'n/a'} - `));\n",
              "    const percent = span('0% done');\n",
              "    li.appendChild(percent);\n",
              "\n",
              "    outputElement.appendChild(li);\n",
              "\n",
              "    const fileDataPromise = new Promise((resolve) => {\n",
              "      const reader = new FileReader();\n",
              "      reader.onload = (e) => {\n",
              "        resolve(e.target.result);\n",
              "      };\n",
              "      reader.readAsArrayBuffer(file);\n",
              "    });\n",
              "    // Wait for the data to be ready.\n",
              "    let fileData = yield {\n",
              "      promise: fileDataPromise,\n",
              "      response: {\n",
              "        action: 'continue',\n",
              "      }\n",
              "    };\n",
              "\n",
              "    // Use a chunked sending to avoid message size limits. See b/62115660.\n",
              "    let position = 0;\n",
              "    do {\n",
              "      const length = Math.min(fileData.byteLength - position, MAX_PAYLOAD_SIZE);\n",
              "      const chunk = new Uint8Array(fileData, position, length);\n",
              "      position += length;\n",
              "\n",
              "      const base64 = btoa(String.fromCharCode.apply(null, chunk));\n",
              "      yield {\n",
              "        response: {\n",
              "          action: 'append',\n",
              "          file: file.name,\n",
              "          data: base64,\n",
              "        },\n",
              "      };\n",
              "\n",
              "      let percentDone = fileData.byteLength === 0 ?\n",
              "          100 :\n",
              "          Math.round((position / fileData.byteLength) * 100);\n",
              "      percent.textContent = `${percentDone}% done`;\n",
              "\n",
              "    } while (position < fileData.byteLength);\n",
              "  }\n",
              "\n",
              "  // All done.\n",
              "  yield {\n",
              "    response: {\n",
              "      action: 'complete',\n",
              "    }\n",
              "  };\n",
              "}\n",
              "\n",
              "scope.google = scope.google || {};\n",
              "scope.google.colab = scope.google.colab || {};\n",
              "scope.google.colab._files = {\n",
              "  _uploadFiles,\n",
              "  _uploadFilesContinue,\n",
              "};\n",
              "})(self);\n",
              "</script> "
            ]
          },
          "metadata": {}
        },
        {
          "output_type": "stream",
          "name": "stdout",
          "text": [
            "Saving employees.csv to employees.csv\n",
            "Saving products.csv to products.csv\n",
            "Saving sales.csv to sales.csv\n",
            "Saving stores.csv to stores.csv\n"
          ]
        }
      ]
    },
    {
      "cell_type": "markdown",
      "source": [
        "**Loading Files**"
      ],
      "metadata": {
        "id": "51d0BLTXSjrS"
      }
    },
    {
      "cell_type": "code",
      "source": [
        "dfEmp = spark.read.csv(r\"/content/employees.csv\", header=True, inferSchema=True)\n",
        "dfPro = spark.read.csv(r\"/content/products.csv\", header=True, inferSchema=True)\n",
        "dfSal = spark.read.csv(r\"/content/sales.csv\", header=True, inferSchema=True)\n",
        "dfSto = spark.read.csv(r\"/content/stores.csv\", header=True, inferSchema=True)"
      ],
      "metadata": {
        "id": "O12fa3NTSzB6"
      },
      "execution_count": 5,
      "outputs": []
    },
    {
      "cell_type": "markdown",
      "source": [
        "**Printing Files**"
      ],
      "metadata": {
        "id": "LxeCTMxfTEb7"
      }
    },
    {
      "cell_type": "code",
      "source": [
        "dfEmp.show()"
      ],
      "metadata": {
        "colab": {
          "base_uri": "https://localhost:8080/"
        },
        "id": "5QshKMETTD_X",
        "outputId": "f19865ac-b5c2-4f42-b019-094892684a45"
      },
      "execution_count": 6,
      "outputs": [
        {
          "output_type": "stream",
          "name": "stdout",
          "text": [
            "+----------+-------------------+-------+---------------+----------+\n",
            "|employeeID|               name|storeID|           role|  hireDate|\n",
            "+----------+-------------------+-------+---------------+----------+\n",
            "|         1|         John Smith|      1|        Cashier|2022-01-12|\n",
            "|         2|      Alice Johnson|      2|        Manager|2021-03-15|\n",
            "|         3|            Bob Lee|      3|Sales Associate|2023-06-18|\n",
            "|         4|       Eva Martinez|      4|     Supervisor|2020-11-30|\n",
            "|         5|         David Chen|      5|    Stock Clerk|2019-09-10|\n",
            "|         6|         Liam Brown|      1|        Cashier|2022-02-05|\n",
            "|         7|       Olivia White|      2|        Manager|2021-05-22|\n",
            "|         8|        Noah Wilson|      3|Sales Associate|2023-01-11|\n",
            "|         9|         Emma Davis|      4|     Supervisor|2020-10-09|\n",
            "|        10|     James Anderson|      5|    Stock Clerk|2018-07-21|\n",
            "|        11|         Ava Thomas|      1|        Cashier|2022-03-08|\n",
            "|        12|        Lucas Moore|      2|        Manager|2021-09-27|\n",
            "|        13|      Sophia Taylor|      3|Sales Associate|2023-04-14|\n",
            "|        14|    Benjamin Martin|      4|     Supervisor|2020-06-02|\n",
            "|        15|    Isabella Garcia|      5|    Stock Clerk|2019-12-19|\n",
            "|        16|    Elijah Martinez|      1|        Cashier|2022-08-10|\n",
            "|        17|       Mia Robinson|      2|        Manager|2021-01-30|\n",
            "|        18|      William Clark|      3|Sales Associate|2023-07-05|\n",
            "|        19|Charlotte Rodriguez|      4|     Supervisor|2020-02-17|\n",
            "|        20|        Henry Lewis|      5|    Stock Clerk|2019-05-29|\n",
            "+----------+-------------------+-------+---------------+----------+\n",
            "\n"
          ]
        }
      ]
    },
    {
      "cell_type": "code",
      "source": [
        "dfPro.show()"
      ],
      "metadata": {
        "colab": {
          "base_uri": "https://localhost:8080/"
        },
        "id": "meoyWXZbTTT5",
        "outputId": "5956f0f4-94b7-4f25-881c-e61ebe6d4d4f"
      },
      "execution_count": 7,
      "outputs": [
        {
          "output_type": "stream",
          "name": "stdout",
          "text": [
            "+---------+-----------------+-----------+------+-----+------------------+----------+\n",
            "|productID|             name|   category| price| cost|discountPercentage| dateAdded|\n",
            "+---------+-----------------+-----------+------+-----+------------------+----------+\n",
            "|        1|    Laptop Pro 14|Electronics|1200.0|900.0|              10.0|2025-07-23|\n",
            "|        2|   Organic Apples|    Grocery|   3.5|  2.0|               5.0|2025-07-23|\n",
            "|        3|   Cotton T-Shirt|    Apparel|  25.0| 10.0|              15.0|2025-07-23|\n",
            "|        4|Bluetooth Speaker|Electronics|  60.0| 40.0|              20.0|2025-07-23|\n",
            "|        5|    LED Bulb Pack| Home Goods|  15.0|  8.0|               0.0|2025-07-23|\n",
            "|        6|    Running Shoes|   Footwear|  70.0| 45.0|               7.0|2025-07-24|\n",
            "|        7|       Desk Chair|  Furniture| 150.0|100.0|              30.0|2025-07-24|\n",
            "|        8|    Smartphone XR|Electronics| 800.0|600.0|              25.0|2025-07-24|\n",
            "|        9|Whole Wheat Bread|    Grocery|   2.5|  1.5|               3.0|2025-07-24|\n",
            "|       10|     Sports Watch|Accessories|  90.0| 60.0|              11.0|2025-07-24|\n",
            "|       11|         Backpack|Accessories|  50.0| 30.0|              13.0|2025-07-25|\n",
            "|       12|   Microwave Oven| Home Goods| 200.0|150.0|               6.0|2025-07-25|\n",
            "|       13|      Denim Jeans|    Apparel|  40.0| 20.0|               9.0|2025-07-25|\n",
            "|       14|      Smart TV 42|Electronics| 500.0|400.0|               4.0|2025-07-25|\n",
            "|       15|  Electric Kettle| Home Goods|  30.0| 20.0|               2.0|2025-07-25|\n",
            "|       16|   Wireless Mouse|Electronics|  25.0| 15.0|              10.0|2025-07-26|\n",
            "|       17|   Shampoo Bottle|    Grocery|   5.0|  3.0|              40.0|2025-07-26|\n",
            "|       18|   Leather Wallet|Accessories|  35.0| 18.0|               8.0|2025-07-26|\n",
            "|       19|      Office Desk|  Furniture| 300.0|200.0|               6.0|2025-07-26|\n",
            "|       20|       Headphones|Electronics|  80.0| 55.0|              13.0|2025-07-26|\n",
            "+---------+-----------------+-----------+------+-----+------------------+----------+\n",
            "\n"
          ]
        }
      ]
    },
    {
      "cell_type": "code",
      "source": [
        "dfSal.show()"
      ],
      "metadata": {
        "colab": {
          "base_uri": "https://localhost:8080/"
        },
        "id": "4hnD5teqTdGt",
        "outputId": "3c21c195-a218-4902-ca54-b5e71fd45a1c"
      },
      "execution_count": 8,
      "outputs": [
        {
          "output_type": "stream",
          "name": "stdout",
          "text": [
            "+------+---------+-------+----------+--------+----------+\n",
            "|saleID|productID|storeID|employeeID|quantity|  saleDate|\n",
            "+------+---------+-------+----------+--------+----------+\n",
            "|     1|        1|      1|         1|       2|2025-06-01|\n",
            "|     2|        2|      2|         2|     100|2025-06-01|\n",
            "|     3|        3|      3|         3|      30|2025-06-01|\n",
            "|     4|        4|      4|         4|       5|2025-06-01|\n",
            "|     5|        5|      5|         5|      20|2025-06-02|\n",
            "|     6|        6|      1|         6|       3|2025-06-02|\n",
            "|     7|        7|      2|         7|       4|2025-06-02|\n",
            "|     8|        8|      3|         8|       1|2025-06-02|\n",
            "|     9|        9|      4|         9|      50|2025-06-03|\n",
            "|    10|       10|      5|        10|       6|2025-06-03|\n",
            "|    11|       11|      1|        11|       7|2025-06-03|\n",
            "|    12|       12|      2|        12|       2|2025-06-03|\n",
            "|    13|       13|      3|        13|       8|2025-07-04|\n",
            "|    14|       14|      4|        14|       1|2025-07-04|\n",
            "|    15|       15|      5|        15|      10|2025-08-04|\n",
            "|    16|       16|      1|        16|      12|2025-08-04|\n",
            "|    17|       17|      2|        17|       9|2025-08-04|\n",
            "|    18|       18|      3|        18|       3|2025-08-05|\n",
            "|    19|       19|      4|        19|       2|2025-08-05|\n",
            "|    20|       20|      5|        20|       5|2025-08-05|\n",
            "+------+---------+-------+----------+--------+----------+\n",
            "\n"
          ]
        }
      ]
    },
    {
      "cell_type": "code",
      "source": [
        "dfSto.show()"
      ],
      "metadata": {
        "colab": {
          "base_uri": "https://localhost:8080/"
        },
        "id": "85He-ICiTlPI",
        "outputId": "20ad448b-c17e-468e-8a0a-d037927c9af0"
      },
      "execution_count": 9,
      "outputs": [
        {
          "output_type": "stream",
          "name": "stdout",
          "text": [
            "+-------+--------------------+----------+--------------------+-------------------+\n",
            "|storeID|                name|    region|             address|          createdAt|\n",
            "+-------+--------------------+----------+--------------------+-------------------+\n",
            "|      1|     Urban Mart - NY|East Coast|101 Main St, New ...|2022-01-01 00:00:00|\n",
            "|      2|      SuperSave - LA|West Coast|202 Ocean Ave, Lo...|2022-01-01 00:00:00|\n",
            "|      3|     FreshStore - TX|     South|303 Sunset Blvd, ...|2022-01-01 00:00:00|\n",
            "|      4|       MegaMart - IL|   Midwest|404 Windy Rd, Chi...|2022-01-01 00:00:00|\n",
            "|      5|   BudgetBazaar - FL| Southeast|505 Palm Dr, Miam...|2022-01-01 00:00:00|\n",
            "|      6|    GreenMarket - WA|West Coast|606 Pine St, Seat...|2022-01-02 00:00:00|\n",
            "|      7|     ValueDepot - CO|  Mountain|707 Aspen Rd, Den...|2022-01-02 00:00:00|\n",
            "|      8|       QuickBuy - MA| Northeast|808 Beacon St, Bo...|2022-01-02 00:00:00|\n",
            "|      9|      DailyMart - GA| Southeast|909 Peachtree St,...|2022-01-02 00:00:00|\n",
            "|     10|      EconoMart - AZ| Southwest|1010 Desert Dr, P...|2022-01-02 00:00:00|\n",
            "|     11|     HappyStore - NJ|East Coast|1111 Garden St, N...|2022-01-03 00:00:00|\n",
            "|     12| Saver’s Corner - OH|   Midwest|1212 Lake St, Col...|2022-01-03 00:00:00|\n",
            "|     13|NeighborhoodMart ...|      West|1313 Strip Ave, L...|2022-01-03 00:00:00|\n",
            "|     14|     FamilyMart - NC|     South|1414 Oak Dr, Rale...|2022-01-03 00:00:00|\n",
            "|     15|       SmartBuy - MI|   Midwest|1515 Woodward Ave...|2022-01-03 00:00:00|\n",
            "|     16|      QuickMart - OR|      West|1616 River Rd, Po...|2022-01-04 00:00:00|\n",
            "|     17|    EconomyMart - NM| Southwest|1717 Sand St, Alb...|2022-01-04 00:00:00|\n",
            "|     18|     LocalGoods - PA| Northeast|1818 Liberty St, ...|2022-01-04 00:00:00|\n",
            "|     19|       FastMart - MO|   Midwest|1919 Arch St, St....|2022-01-04 00:00:00|\n",
            "|     20|      CityStore - TN|     South|2020 Music Ave, N...|2022-01-04 00:00:00|\n",
            "+-------+--------------------+----------+--------------------+-------------------+\n",
            "\n"
          ]
        }
      ]
    },
    {
      "cell_type": "markdown",
      "source": [
        "**Printing Schemas**"
      ],
      "metadata": {
        "id": "dAlwLpbRTuuQ"
      }
    },
    {
      "cell_type": "code",
      "source": [
        "dfEmp.printSchema()"
      ],
      "metadata": {
        "colab": {
          "base_uri": "https://localhost:8080/"
        },
        "id": "eAg_PGmDUFVC",
        "outputId": "6bb94675-1398-4e88-e31b-d6139c4f12e9"
      },
      "execution_count": 10,
      "outputs": [
        {
          "output_type": "stream",
          "name": "stdout",
          "text": [
            "root\n",
            " |-- employeeID: integer (nullable = true)\n",
            " |-- name: string (nullable = true)\n",
            " |-- storeID: integer (nullable = true)\n",
            " |-- role: string (nullable = true)\n",
            " |-- hireDate: date (nullable = true)\n",
            "\n"
          ]
        }
      ]
    },
    {
      "cell_type": "code",
      "source": [
        "dfPro.printSchema()"
      ],
      "metadata": {
        "colab": {
          "base_uri": "https://localhost:8080/"
        },
        "id": "3uYlDKInUJIb",
        "outputId": "f45e8f9a-c5d0-4447-b945-9adda24fd5cc"
      },
      "execution_count": 11,
      "outputs": [
        {
          "output_type": "stream",
          "name": "stdout",
          "text": [
            "root\n",
            " |-- productID: integer (nullable = true)\n",
            " |-- name: string (nullable = true)\n",
            " |-- category: string (nullable = true)\n",
            " |-- price: double (nullable = true)\n",
            " |-- cost: double (nullable = true)\n",
            " |-- discountPercentage: double (nullable = true)\n",
            " |-- dateAdded: date (nullable = true)\n",
            "\n"
          ]
        }
      ]
    },
    {
      "cell_type": "code",
      "source": [
        "dfSal.printSchema()"
      ],
      "metadata": {
        "colab": {
          "base_uri": "https://localhost:8080/"
        },
        "id": "yyZIdGQAUNwj",
        "outputId": "cb89dfaf-22a4-4404-ec1d-5f8016bf7433"
      },
      "execution_count": 12,
      "outputs": [
        {
          "output_type": "stream",
          "name": "stdout",
          "text": [
            "root\n",
            " |-- saleID: integer (nullable = true)\n",
            " |-- productID: integer (nullable = true)\n",
            " |-- storeID: integer (nullable = true)\n",
            " |-- employeeID: integer (nullable = true)\n",
            " |-- quantity: integer (nullable = true)\n",
            " |-- saleDate: date (nullable = true)\n",
            "\n"
          ]
        }
      ]
    },
    {
      "cell_type": "code",
      "source": [
        "dfSto.printSchema()"
      ],
      "metadata": {
        "colab": {
          "base_uri": "https://localhost:8080/"
        },
        "id": "3tBi9aqaUR3o",
        "outputId": "0a3c0d23-e133-41c1-cd33-f0a4960cb035"
      },
      "execution_count": 13,
      "outputs": [
        {
          "output_type": "stream",
          "name": "stdout",
          "text": [
            "root\n",
            " |-- storeID: integer (nullable = true)\n",
            " |-- name: string (nullable = true)\n",
            " |-- region: string (nullable = true)\n",
            " |-- address: string (nullable = true)\n",
            " |-- createdAt: timestamp (nullable = true)\n",
            "\n"
          ]
        }
      ]
    },
    {
      "cell_type": "markdown",
      "source": [
        "**Lowest performing stores**"
      ],
      "metadata": {
        "id": "dPDwSyA_UXgI"
      }
    },
    {
      "cell_type": "code",
      "source": [
        "dfPro = dfPro.withColumn(\"price\", F.col(\"price\").cast(\"double\")).withColumn(\"cost\", F.col(\"cost\").cast(\"double\")).withColumn(\"margin\", (F.col(\"price\") - F.col(\"cost\")))\n",
        "\n",
        "dfSal = dfSal.withColumn(\"quantity\", F.col(\"quantity\").cast(\"int\"))\n",
        "\n",
        "dfSto = dfSto.withColumnRenamed(\"name\", \"storeName\")\n",
        "\n",
        "dfStorePerf = dfSal.join(dfPro, on=\"productID\", how=\"inner\").join(dfSto, on=\"storeID\", how=\"inner\").groupBy(\"storeID\", \"storeName\").agg(\n",
        "                       F.sum(F.col(\"quantity\") * F.col(\"margin\")).alias(\"RevenuePerShop\")\n",
        "                   ).orderBy(\"RevenuePerShop\", ascending=True).limit(5)\n",
        "\n",
        "dfStorePerf.write.mode(\"overwrite\").option(\"header\", True).csv(\"/content/top5_lowest_performing_stores\")\n",
        "\n",
        "dfStorePerf.show()"
      ],
      "metadata": {
        "colab": {
          "base_uri": "https://localhost:8080/"
        },
        "id": "geTpV6BZoF3t",
        "outputId": "5425af0a-812e-40a6-c6ec-1d40257c32c4"
      },
      "execution_count": 22,
      "outputs": [
        {
          "output_type": "stream",
          "name": "stdout",
          "text": [
            "+-------+-----------------+--------------+\n",
            "|storeID|        storeName|RevenuePerShop|\n",
            "+-------+-----------------+--------------+\n",
            "|      4|    MegaMart - IL|         450.0|\n",
            "|      2|   SuperSave - LA|         468.0|\n",
            "|      5|BudgetBazaar - FL|         545.0|\n",
            "|      3|  FreshStore - TX|         861.0|\n",
            "|      1|  Urban Mart - NY|         935.0|\n",
            "+-------+-----------------+--------------+\n",
            "\n"
          ]
        }
      ]
    }
  ]
}