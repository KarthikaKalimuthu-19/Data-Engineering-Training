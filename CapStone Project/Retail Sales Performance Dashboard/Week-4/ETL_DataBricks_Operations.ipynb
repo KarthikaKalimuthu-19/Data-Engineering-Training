{
  "nbformat": 4,
  "nbformat_minor": 0,
  "metadata": {
    "colab": {
      "provenance": []
    },
    "kernelspec": {
      "name": "python3",
      "display_name": "Python 3"
    },
    "language_info": {
      "name": "python"
    }
  },
  "cells": [
    {
      "cell_type": "markdown",
      "source": [
        "**Importing Libraries**"
      ],
      "metadata": {
        "id": "agvIzihA18yK"
      }
    },
    {
      "cell_type": "code",
      "execution_count": 1,
      "metadata": {
        "id": "vltYbBMs16i7"
      },
      "outputs": [],
      "source": [
        "from pyspark.sql import SparkSession\n",
        "from pyspark.sql import functions as F"
      ]
    },
    {
      "cell_type": "markdown",
      "source": [
        "**Creating Spark Session**"
      ],
      "metadata": {
        "id": "S1T8375s3iI3"
      }
    },
    {
      "cell_type": "code",
      "source": [
        "spark = SparkSession.builder.appName(\"DataBricks\").getOrCreate()\n",
        "spark"
      ],
      "metadata": {
        "colab": {
          "base_uri": "https://localhost:8080/",
          "height": 221
        },
        "id": "ivzWO8rQ3l77",
        "outputId": "89dd0ab0-d95e-42c1-e4d2-30181b229d06"
      },
      "execution_count": 2,
      "outputs": [
        {
          "output_type": "execute_result",
          "data": {
            "text/plain": [
              "<pyspark.sql.session.SparkSession at 0x7ac03a8b36d0>"
            ],
            "text/html": [
              "\n",
              "            <div>\n",
              "                <p><b>SparkSession - in-memory</b></p>\n",
              "                \n",
              "        <div>\n",
              "            <p><b>SparkContext</b></p>\n",
              "\n",
              "            <p><a href=\"http://bd810ab4760c:4040\">Spark UI</a></p>\n",
              "\n",
              "            <dl>\n",
              "              <dt>Version</dt>\n",
              "                <dd><code>v3.5.1</code></dd>\n",
              "              <dt>Master</dt>\n",
              "                <dd><code>local[*]</code></dd>\n",
              "              <dt>AppName</dt>\n",
              "                <dd><code>DataBricks</code></dd>\n",
              "            </dl>\n",
              "        </div>\n",
              "        \n",
              "            </div>\n",
              "        "
            ]
          },
          "metadata": {},
          "execution_count": 2
        }
      ]
    },
    {
      "cell_type": "markdown",
      "source": [
        "**Uploading required files**"
      ],
      "metadata": {
        "id": "MskWKZGL383i"
      }
    },
    {
      "cell_type": "code",
      "source": [
        "from google.colab import files\n",
        "uploaded = files.upload()"
      ],
      "metadata": {
        "colab": {
          "base_uri": "https://localhost:8080/",
          "height": 180
        },
        "id": "BBJlKkmi3-ZP",
        "outputId": "aad4e1c5-62e3-4c6c-c982-0a88aab666dc"
      },
      "execution_count": 3,
      "outputs": [
        {
          "output_type": "display_data",
          "data": {
            "text/plain": [
              "<IPython.core.display.HTML object>"
            ],
            "text/html": [
              "\n",
              "     <input type=\"file\" id=\"files-f42eac38-a23e-4c58-aeb0-807ce55067f5\" name=\"files[]\" multiple disabled\n",
              "        style=\"border:none\" />\n",
              "     <output id=\"result-f42eac38-a23e-4c58-aeb0-807ce55067f5\">\n",
              "      Upload widget is only available when the cell has been executed in the\n",
              "      current browser session. Please rerun this cell to enable.\n",
              "      </output>\n",
              "      <script>// Copyright 2017 Google LLC\n",
              "//\n",
              "// Licensed under the Apache License, Version 2.0 (the \"License\");\n",
              "// you may not use this file except in compliance with the License.\n",
              "// You may obtain a copy of the License at\n",
              "//\n",
              "//      http://www.apache.org/licenses/LICENSE-2.0\n",
              "//\n",
              "// Unless required by applicable law or agreed to in writing, software\n",
              "// distributed under the License is distributed on an \"AS IS\" BASIS,\n",
              "// WITHOUT WARRANTIES OR CONDITIONS OF ANY KIND, either express or implied.\n",
              "// See the License for the specific language governing permissions and\n",
              "// limitations under the License.\n",
              "\n",
              "/**\n",
              " * @fileoverview Helpers for google.colab Python module.\n",
              " */\n",
              "(function(scope) {\n",
              "function span(text, styleAttributes = {}) {\n",
              "  const element = document.createElement('span');\n",
              "  element.textContent = text;\n",
              "  for (const key of Object.keys(styleAttributes)) {\n",
              "    element.style[key] = styleAttributes[key];\n",
              "  }\n",
              "  return element;\n",
              "}\n",
              "\n",
              "// Max number of bytes which will be uploaded at a time.\n",
              "const MAX_PAYLOAD_SIZE = 100 * 1024;\n",
              "\n",
              "function _uploadFiles(inputId, outputId) {\n",
              "  const steps = uploadFilesStep(inputId, outputId);\n",
              "  const outputElement = document.getElementById(outputId);\n",
              "  // Cache steps on the outputElement to make it available for the next call\n",
              "  // to uploadFilesContinue from Python.\n",
              "  outputElement.steps = steps;\n",
              "\n",
              "  return _uploadFilesContinue(outputId);\n",
              "}\n",
              "\n",
              "// This is roughly an async generator (not supported in the browser yet),\n",
              "// where there are multiple asynchronous steps and the Python side is going\n",
              "// to poll for completion of each step.\n",
              "// This uses a Promise to block the python side on completion of each step,\n",
              "// then passes the result of the previous step as the input to the next step.\n",
              "function _uploadFilesContinue(outputId) {\n",
              "  const outputElement = document.getElementById(outputId);\n",
              "  const steps = outputElement.steps;\n",
              "\n",
              "  const next = steps.next(outputElement.lastPromiseValue);\n",
              "  return Promise.resolve(next.value.promise).then((value) => {\n",
              "    // Cache the last promise value to make it available to the next\n",
              "    // step of the generator.\n",
              "    outputElement.lastPromiseValue = value;\n",
              "    return next.value.response;\n",
              "  });\n",
              "}\n",
              "\n",
              "/**\n",
              " * Generator function which is called between each async step of the upload\n",
              " * process.\n",
              " * @param {string} inputId Element ID of the input file picker element.\n",
              " * @param {string} outputId Element ID of the output display.\n",
              " * @return {!Iterable<!Object>} Iterable of next steps.\n",
              " */\n",
              "function* uploadFilesStep(inputId, outputId) {\n",
              "  const inputElement = document.getElementById(inputId);\n",
              "  inputElement.disabled = false;\n",
              "\n",
              "  const outputElement = document.getElementById(outputId);\n",
              "  outputElement.innerHTML = '';\n",
              "\n",
              "  const pickedPromise = new Promise((resolve) => {\n",
              "    inputElement.addEventListener('change', (e) => {\n",
              "      resolve(e.target.files);\n",
              "    });\n",
              "  });\n",
              "\n",
              "  const cancel = document.createElement('button');\n",
              "  inputElement.parentElement.appendChild(cancel);\n",
              "  cancel.textContent = 'Cancel upload';\n",
              "  const cancelPromise = new Promise((resolve) => {\n",
              "    cancel.onclick = () => {\n",
              "      resolve(null);\n",
              "    };\n",
              "  });\n",
              "\n",
              "  // Wait for the user to pick the files.\n",
              "  const files = yield {\n",
              "    promise: Promise.race([pickedPromise, cancelPromise]),\n",
              "    response: {\n",
              "      action: 'starting',\n",
              "    }\n",
              "  };\n",
              "\n",
              "  cancel.remove();\n",
              "\n",
              "  // Disable the input element since further picks are not allowed.\n",
              "  inputElement.disabled = true;\n",
              "\n",
              "  if (!files) {\n",
              "    return {\n",
              "      response: {\n",
              "        action: 'complete',\n",
              "      }\n",
              "    };\n",
              "  }\n",
              "\n",
              "  for (const file of files) {\n",
              "    const li = document.createElement('li');\n",
              "    li.append(span(file.name, {fontWeight: 'bold'}));\n",
              "    li.append(span(\n",
              "        `(${file.type || 'n/a'}) - ${file.size} bytes, ` +\n",
              "        `last modified: ${\n",
              "            file.lastModifiedDate ? file.lastModifiedDate.toLocaleDateString() :\n",
              "                                    'n/a'} - `));\n",
              "    const percent = span('0% done');\n",
              "    li.appendChild(percent);\n",
              "\n",
              "    outputElement.appendChild(li);\n",
              "\n",
              "    const fileDataPromise = new Promise((resolve) => {\n",
              "      const reader = new FileReader();\n",
              "      reader.onload = (e) => {\n",
              "        resolve(e.target.result);\n",
              "      };\n",
              "      reader.readAsArrayBuffer(file);\n",
              "    });\n",
              "    // Wait for the data to be ready.\n",
              "    let fileData = yield {\n",
              "      promise: fileDataPromise,\n",
              "      response: {\n",
              "        action: 'continue',\n",
              "      }\n",
              "    };\n",
              "\n",
              "    // Use a chunked sending to avoid message size limits. See b/62115660.\n",
              "    let position = 0;\n",
              "    do {\n",
              "      const length = Math.min(fileData.byteLength - position, MAX_PAYLOAD_SIZE);\n",
              "      const chunk = new Uint8Array(fileData, position, length);\n",
              "      position += length;\n",
              "\n",
              "      const base64 = btoa(String.fromCharCode.apply(null, chunk));\n",
              "      yield {\n",
              "        response: {\n",
              "          action: 'append',\n",
              "          file: file.name,\n",
              "          data: base64,\n",
              "        },\n",
              "      };\n",
              "\n",
              "      let percentDone = fileData.byteLength === 0 ?\n",
              "          100 :\n",
              "          Math.round((position / fileData.byteLength) * 100);\n",
              "      percent.textContent = `${percentDone}% done`;\n",
              "\n",
              "    } while (position < fileData.byteLength);\n",
              "  }\n",
              "\n",
              "  // All done.\n",
              "  yield {\n",
              "    response: {\n",
              "      action: 'complete',\n",
              "    }\n",
              "  };\n",
              "}\n",
              "\n",
              "scope.google = scope.google || {};\n",
              "scope.google.colab = scope.google.colab || {};\n",
              "scope.google.colab._files = {\n",
              "  _uploadFiles,\n",
              "  _uploadFilesContinue,\n",
              "};\n",
              "})(self);\n",
              "</script> "
            ]
          },
          "metadata": {}
        },
        {
          "output_type": "stream",
          "name": "stdout",
          "text": [
            "Saving employees.csv to employees.csv\n",
            "Saving products.csv to products.csv\n",
            "Saving sales.csv to sales.csv\n",
            "Saving stores.csv to stores.csv\n"
          ]
        }
      ]
    },
    {
      "cell_type": "markdown",
      "source": [
        "**Loading Files**"
      ],
      "metadata": {
        "id": "JljsQ81a4LbJ"
      }
    },
    {
      "cell_type": "code",
      "source": [
        "dfEmp = spark.read.csv(r\"/content/employees.csv\", header=True, inferSchema=True)\n",
        "dfPro = spark.read.csv(r\"/content/products.csv\", header=True, inferSchema=True)\n",
        "dfSal = spark.read.csv(r\"/content/sales.csv\", header=True, inferSchema=True)\n",
        "dfSto = spark.read.csv(r\"/content/stores.csv\", header=True, inferSchema=True)"
      ],
      "metadata": {
        "id": "t6i0tEaM4JAV"
      },
      "execution_count": 4,
      "outputs": []
    },
    {
      "cell_type": "markdown",
      "source": [
        "**Printing Files**"
      ],
      "metadata": {
        "id": "Q3Owf58m4jEV"
      }
    },
    {
      "cell_type": "code",
      "source": [
        "dfEmp.show()"
      ],
      "metadata": {
        "colab": {
          "base_uri": "https://localhost:8080/"
        },
        "id": "IDJ9Qr2I4mB6",
        "outputId": "6548690d-4aac-42df-8357-ed805ffaa5fe"
      },
      "execution_count": 5,
      "outputs": [
        {
          "output_type": "stream",
          "name": "stdout",
          "text": [
            "+----------+-------------------+-------+---------------+----------+\n",
            "|employeeID|               name|storeID|           role|  hireDate|\n",
            "+----------+-------------------+-------+---------------+----------+\n",
            "|         1|         John Smith|      1|        Cashier|2022-01-12|\n",
            "|         2|      Alice Johnson|      2|        Manager|2021-03-15|\n",
            "|         3|            Bob Lee|      3|Sales Associate|2023-06-18|\n",
            "|         4|       Eva Martinez|      4|     Supervisor|2020-11-30|\n",
            "|         5|         David Chen|      5|    Stock Clerk|2019-09-10|\n",
            "|         6|         Liam Brown|      1|        Cashier|2022-02-05|\n",
            "|         7|       Olivia White|      2|        Manager|2021-05-22|\n",
            "|         8|        Noah Wilson|      3|Sales Associate|2023-01-11|\n",
            "|         9|         Emma Davis|      4|     Supervisor|2020-10-09|\n",
            "|        10|     James Anderson|      5|    Stock Clerk|2018-07-21|\n",
            "|        11|         Ava Thomas|      1|        Cashier|2022-03-08|\n",
            "|        12|        Lucas Moore|      2|        Manager|2021-09-27|\n",
            "|        13|      Sophia Taylor|      3|Sales Associate|2023-04-14|\n",
            "|        14|    Benjamin Martin|      4|     Supervisor|2020-06-02|\n",
            "|        15|    Isabella Garcia|      5|    Stock Clerk|2019-12-19|\n",
            "|        16|    Elijah Martinez|      1|        Cashier|2022-08-10|\n",
            "|        17|       Mia Robinson|      2|        Manager|2021-01-30|\n",
            "|        18|      William Clark|      3|Sales Associate|2023-07-05|\n",
            "|        19|Charlotte Rodriguez|      4|     Supervisor|2020-02-17|\n",
            "|        20|        Henry Lewis|      5|    Stock Clerk|2019-05-29|\n",
            "+----------+-------------------+-------+---------------+----------+\n",
            "\n"
          ]
        }
      ]
    },
    {
      "cell_type": "code",
      "source": [
        "dfPro.show()"
      ],
      "metadata": {
        "colab": {
          "base_uri": "https://localhost:8080/"
        },
        "id": "pAJPsQes4rf5",
        "outputId": "983e525c-e87e-4e13-b4e5-c27072b3033f"
      },
      "execution_count": 6,
      "outputs": [
        {
          "output_type": "stream",
          "name": "stdout",
          "text": [
            "+---------+-----------------+-----------+------+-----+------------------+----------+\n",
            "|productID|             name|   category| price| cost|discountPercentage| dateAdded|\n",
            "+---------+-----------------+-----------+------+-----+------------------+----------+\n",
            "|        1|    Laptop Pro 14|Electronics|1200.0|900.0|              10.0|2025-07-23|\n",
            "|        2|   Organic Apples|    Grocery|   3.5|  2.0|               5.0|2025-07-23|\n",
            "|        3|   Cotton T-Shirt|    Apparel|  25.0| 10.0|              15.0|2025-07-23|\n",
            "|        4|Bluetooth Speaker|Electronics|  60.0| 40.0|              20.0|2025-07-23|\n",
            "|        5|    LED Bulb Pack| Home Goods|  15.0|  8.0|               0.0|2025-07-23|\n",
            "|        6|    Running Shoes|   Footwear|  70.0| 45.0|               7.0|2025-07-24|\n",
            "|        7|       Desk Chair|  Furniture| 150.0|100.0|              30.0|2025-07-24|\n",
            "|        8|    Smartphone XR|Electronics| 800.0|600.0|              25.0|2025-07-24|\n",
            "|        9|Whole Wheat Bread|    Grocery|   2.5|  1.5|               3.0|2025-07-24|\n",
            "|       10|     Sports Watch|Accessories|  90.0| 60.0|              11.0|2025-07-24|\n",
            "|       11|         Backpack|Accessories|  50.0| 30.0|              13.0|2025-07-25|\n",
            "|       12|   Microwave Oven| Home Goods| 200.0|150.0|               6.0|2025-07-25|\n",
            "|       13|      Denim Jeans|    Apparel|  40.0| 20.0|               9.0|2025-07-25|\n",
            "|       14|      Smart TV 42|Electronics| 500.0|400.0|               4.0|2025-07-25|\n",
            "|       15|  Electric Kettle| Home Goods|  30.0| 20.0|               2.0|2025-07-25|\n",
            "|       16|   Wireless Mouse|Electronics|  25.0| 15.0|              10.0|2025-07-26|\n",
            "|       17|   Shampoo Bottle|    Grocery|   5.0|  3.0|              40.0|2025-07-26|\n",
            "|       18|   Leather Wallet|Accessories|  35.0| 18.0|               8.0|2025-07-26|\n",
            "|       19|      Office Desk|  Furniture| 300.0|200.0|               6.0|2025-07-26|\n",
            "|       20|       Headphones|Electronics|  80.0| 55.0|              13.0|2025-07-26|\n",
            "+---------+-----------------+-----------+------+-----+------------------+----------+\n",
            "\n"
          ]
        }
      ]
    },
    {
      "cell_type": "code",
      "source": [
        "dfSal.show()"
      ],
      "metadata": {
        "colab": {
          "base_uri": "https://localhost:8080/"
        },
        "id": "qyi5PyFF4xEw",
        "outputId": "9ce6c987-b470-4eb7-d7c5-70eb087b9a8f"
      },
      "execution_count": 7,
      "outputs": [
        {
          "output_type": "stream",
          "name": "stdout",
          "text": [
            "+------+---------+-------+----------+--------+----------+\n",
            "|saleID|productID|storeID|employeeID|quantity|  saleDate|\n",
            "+------+---------+-------+----------+--------+----------+\n",
            "|     1|        1|      1|         1|       2|2025-06-01|\n",
            "|     2|        2|      2|         2|     100|2025-06-01|\n",
            "|     3|        3|      3|         3|      30|2025-06-01|\n",
            "|     4|        4|      4|         4|       5|2025-06-01|\n",
            "|     5|        5|      5|         5|      20|2025-06-02|\n",
            "|     6|        6|      1|         6|       3|2025-06-02|\n",
            "|     7|        7|      2|         7|       4|2025-06-02|\n",
            "|     8|        8|      3|         8|       1|2025-06-02|\n",
            "|     9|        9|      4|         9|      50|2025-06-03|\n",
            "|    10|       10|      5|        10|       6|2025-06-03|\n",
            "|    11|       11|      1|        11|       7|2025-06-03|\n",
            "|    12|       12|      2|        12|       2|2025-06-03|\n",
            "|    13|       13|      3|        13|       8|2025-07-04|\n",
            "|    14|       14|      4|        14|       1|2025-07-04|\n",
            "|    15|       15|      5|        15|      10|2025-08-04|\n",
            "|    16|       16|      1|        16|      12|2025-08-04|\n",
            "|    17|       17|      2|        17|       9|2025-08-04|\n",
            "|    18|       18|      3|        18|       3|2025-08-05|\n",
            "|    19|       19|      4|        19|       2|2025-08-05|\n",
            "|    20|       20|      5|        20|       5|2025-08-05|\n",
            "+------+---------+-------+----------+--------+----------+\n",
            "\n"
          ]
        }
      ]
    },
    {
      "cell_type": "code",
      "source": [
        "dfSto.show()"
      ],
      "metadata": {
        "colab": {
          "base_uri": "https://localhost:8080/"
        },
        "id": "wlVdgeXb41Fe",
        "outputId": "6ee66dfc-1ecd-4650-b990-e1c7e712cefd"
      },
      "execution_count": 8,
      "outputs": [
        {
          "output_type": "stream",
          "name": "stdout",
          "text": [
            "+-------+--------------------+----------+--------------------+-------------------+\n",
            "|storeID|                name|    region|             address|          createdAt|\n",
            "+-------+--------------------+----------+--------------------+-------------------+\n",
            "|      1|     Urban Mart - NY|East Coast|101 Main St, New ...|2022-01-01 00:00:00|\n",
            "|      2|      SuperSave - LA|West Coast|202 Ocean Ave, Lo...|2022-01-01 00:00:00|\n",
            "|      3|     FreshStore - TX|     South|303 Sunset Blvd, ...|2022-01-01 00:00:00|\n",
            "|      4|       MegaMart - IL|   Midwest|404 Windy Rd, Chi...|2022-01-01 00:00:00|\n",
            "|      5|   BudgetBazaar - FL| Southeast|505 Palm Dr, Miam...|2022-01-01 00:00:00|\n",
            "|      6|    GreenMarket - WA|West Coast|606 Pine St, Seat...|2022-01-02 00:00:00|\n",
            "|      7|     ValueDepot - CO|  Mountain|707 Aspen Rd, Den...|2022-01-02 00:00:00|\n",
            "|      8|       QuickBuy - MA| Northeast|808 Beacon St, Bo...|2022-01-02 00:00:00|\n",
            "|      9|      DailyMart - GA| Southeast|909 Peachtree St,...|2022-01-02 00:00:00|\n",
            "|     10|      EconoMart - AZ| Southwest|1010 Desert Dr, P...|2022-01-02 00:00:00|\n",
            "|     11|     HappyStore - NJ|East Coast|1111 Garden St, N...|2022-01-03 00:00:00|\n",
            "|     12| Saver’s Corner - OH|   Midwest|1212 Lake St, Col...|2022-01-03 00:00:00|\n",
            "|     13|NeighborhoodMart ...|      West|1313 Strip Ave, L...|2022-01-03 00:00:00|\n",
            "|     14|     FamilyMart - NC|     South|1414 Oak Dr, Rale...|2022-01-03 00:00:00|\n",
            "|     15|       SmartBuy - MI|   Midwest|1515 Woodward Ave...|2022-01-03 00:00:00|\n",
            "|     16|      QuickMart - OR|      West|1616 River Rd, Po...|2022-01-04 00:00:00|\n",
            "|     17|    EconomyMart - NM| Southwest|1717 Sand St, Alb...|2022-01-04 00:00:00|\n",
            "|     18|     LocalGoods - PA| Northeast|1818 Liberty St, ...|2022-01-04 00:00:00|\n",
            "|     19|       FastMart - MO|   Midwest|1919 Arch St, St....|2022-01-04 00:00:00|\n",
            "|     20|      CityStore - TN|     South|2020 Music Ave, N...|2022-01-04 00:00:00|\n",
            "+-------+--------------------+----------+--------------------+-------------------+\n",
            "\n"
          ]
        }
      ]
    },
    {
      "cell_type": "markdown",
      "source": [
        "**Printing Schemas**"
      ],
      "metadata": {
        "id": "oH42CKwC46mg"
      }
    },
    {
      "cell_type": "code",
      "source": [
        "dfEmp.printSchema()"
      ],
      "metadata": {
        "colab": {
          "base_uri": "https://localhost:8080/"
        },
        "id": "PddJTcwe49Yq",
        "outputId": "9966f3bb-211f-4acf-9b2b-b6fe21503d3e"
      },
      "execution_count": 9,
      "outputs": [
        {
          "output_type": "stream",
          "name": "stdout",
          "text": [
            "root\n",
            " |-- employeeID: integer (nullable = true)\n",
            " |-- name: string (nullable = true)\n",
            " |-- storeID: integer (nullable = true)\n",
            " |-- role: string (nullable = true)\n",
            " |-- hireDate: date (nullable = true)\n",
            "\n"
          ]
        }
      ]
    },
    {
      "cell_type": "code",
      "source": [
        "dfPro.printSchema()"
      ],
      "metadata": {
        "colab": {
          "base_uri": "https://localhost:8080/"
        },
        "id": "ivyAqyF65AU0",
        "outputId": "64f3e9af-15fe-4d96-aba3-26c7a9bfb08a"
      },
      "execution_count": 10,
      "outputs": [
        {
          "output_type": "stream",
          "name": "stdout",
          "text": [
            "root\n",
            " |-- productID: integer (nullable = true)\n",
            " |-- name: string (nullable = true)\n",
            " |-- category: string (nullable = true)\n",
            " |-- price: double (nullable = true)\n",
            " |-- cost: double (nullable = true)\n",
            " |-- discountPercentage: double (nullable = true)\n",
            " |-- dateAdded: date (nullable = true)\n",
            "\n"
          ]
        }
      ]
    },
    {
      "cell_type": "code",
      "source": [
        "dfSal.printSchema()"
      ],
      "metadata": {
        "colab": {
          "base_uri": "https://localhost:8080/"
        },
        "id": "uTofmwfj5Ex2",
        "outputId": "4f84f45e-a275-4738-a45a-2a6a717b0e71"
      },
      "execution_count": 11,
      "outputs": [
        {
          "output_type": "stream",
          "name": "stdout",
          "text": [
            "root\n",
            " |-- saleID: integer (nullable = true)\n",
            " |-- productID: integer (nullable = true)\n",
            " |-- storeID: integer (nullable = true)\n",
            " |-- employeeID: integer (nullable = true)\n",
            " |-- quantity: integer (nullable = true)\n",
            " |-- saleDate: date (nullable = true)\n",
            "\n"
          ]
        }
      ]
    },
    {
      "cell_type": "code",
      "source": [
        "dfSto.printSchema()"
      ],
      "metadata": {
        "colab": {
          "base_uri": "https://localhost:8080/"
        },
        "id": "qb3agky75IKe",
        "outputId": "e23b1aea-19cd-4678-eca4-bf3e1b5641a5"
      },
      "execution_count": 12,
      "outputs": [
        {
          "output_type": "stream",
          "name": "stdout",
          "text": [
            "root\n",
            " |-- storeID: integer (nullable = true)\n",
            " |-- name: string (nullable = true)\n",
            " |-- region: string (nullable = true)\n",
            " |-- address: string (nullable = true)\n",
            " |-- createdAt: timestamp (nullable = true)\n",
            "\n"
          ]
        }
      ]
    },
    {
      "cell_type": "markdown",
      "source": [
        "**Cleaning Datas**"
      ],
      "metadata": {
        "id": "YfHfDkm-5LxF"
      }
    },
    {
      "cell_type": "code",
      "source": [
        "dfEmp = dfEmp.dropna()\n",
        "dfPro = dfPro.dropna()\n",
        "dfSal = dfSal.dropna()\n",
        "dfSto = dfSto.dropna()"
      ],
      "metadata": {
        "id": "qns_8qgF6T1B"
      },
      "execution_count": 16,
      "outputs": []
    },
    {
      "cell_type": "markdown",
      "source": [
        "**Joining product + sales data**"
      ],
      "metadata": {
        "id": "s6CYh3xf6aib"
      }
    },
    {
      "cell_type": "code",
      "source": [
        "dfProSales = dfPro.join(dfSal, on=\"productID\", how=\"inner\")\n",
        "\n",
        "dfProSales = dfProSales.withColumn(\n",
        "    \"daysToSell\",\n",
        "    F.abs(F.datediff(F.col(\"saleDate\"), F.col(\"dateAdded\")))\n",
        ")\n",
        "\n",
        "dfProSales = dfProSales.withColumn(\n",
        "    \"Margin\", F.col(\"price\") - F.col(\"cost\")\n",
        ").withColumn(\n",
        "    \"MarginPct\", ((F.col(\"price\") - F.col(\"cost\")) / F.col(\"price\")) * 100\n",
        ")\n",
        "\n",
        "categoryReport = dfProSales.groupBy(\"category\").agg(\n",
        "    F.round(F.mean(\"MarginPct\"), 2).alias(\"averageMarginPct\"),\n",
        "    F.round(F.mean(\"daysToSell\"), 2).alias(\"averageDaysTakesToSell\"),\n",
        "    F.round(F.mean(\"Margin\"), 2).alias(\"averageMarginINR\"),\n",
        "    F.round(F.mean(\"quantity\"), 2).alias(\"averageQTYperBuy\"),\n",
        "    F.sum(\"quantity\").alias(\"totalQuantitySold\")\n",
        ")\n",
        "\n",
        "categoryReport.show()"
      ],
      "metadata": {
        "colab": {
          "base_uri": "https://localhost:8080/"
        },
        "id": "22hGrD7N8eJy",
        "outputId": "ec1097af-7750-4ec2-b862-298107b304f4"
      },
      "execution_count": 24,
      "outputs": [
        {
          "output_type": "stream",
          "name": "stdout",
          "text": [
            "+-----------+----------------+----------------------+----------------+----------------+-----------------+\n",
            "|category   |averageMarginPct|averageDaysTakesToSell|averageMarginINR|averageQTYperBuy|totalQuantitySold|\n",
            "+-----------+----------------+----------------------+----------------+----------------+-----------------+\n",
            "|Apparel    |55.0            |36.5                  |17.5            |19.0            |38               |\n",
            "|Grocery    |40.95           |37.33                 |1.5             |53.0            |159              |\n",
            "|Electronics|29.1            |32.67                 |109.17          |4.33            |26               |\n",
            "|Footwear   |35.71           |52.0                  |25.0            |3.0             |3                |\n",
            "|Furniture  |33.33           |31.0                  |75.0            |3.0             |6                |\n",
            "|Accessories|40.63           |37.67                 |22.33           |5.33            |16               |\n",
            "|Home Goods |35.0            |37.67                 |22.33           |10.67           |32               |\n",
            "+-----------+----------------+----------------------+----------------+----------------+-----------------+\n",
            "\n"
          ]
        }
      ]
    },
    {
      "cell_type": "markdown",
      "source": [
        "**Saving final metrics**"
      ],
      "metadata": {
        "id": "LJofBXSKAtJ8"
      }
    },
    {
      "cell_type": "code",
      "source": [
        "categoryReport.write.mode(\"overwrite\").csv(r\"/content/categoryReport\")"
      ],
      "metadata": {
        "id": "rk-ioCrLAsyJ"
      },
      "execution_count": 29,
      "outputs": []
    },
    {
      "cell_type": "markdown",
      "source": [
        "**SQL**"
      ],
      "metadata": {
        "id": "pOaSjNxnA8YZ"
      }
    },
    {
      "cell_type": "code",
      "source": [
        "spark.sql(\"CREATE DATABASE product_sales\")\n",
        "spark.sql(\"USE product_sales\")"
      ],
      "metadata": {
        "colab": {
          "base_uri": "https://localhost:8080/"
        },
        "id": "XPqPAVSPA-bc",
        "outputId": "8a3c43cc-c058-4e10-cbf3-4997ae4998b9"
      },
      "execution_count": 30,
      "outputs": [
        {
          "output_type": "execute_result",
          "data": {
            "text/plain": [
              "DataFrame[]"
            ]
          },
          "metadata": {},
          "execution_count": 30
        }
      ]
    },
    {
      "cell_type": "code",
      "source": [
        "dfProSales.write.mode(\"overwrite\").saveAsTable(\"product_sales.pro_sales\")"
      ],
      "metadata": {
        "id": "qeGeMUqiBC_-"
      },
      "execution_count": 31,
      "outputs": []
    },
    {
      "cell_type": "code",
      "source": [
        "prodReport = spark.sql(\"\"\"\n",
        "          SELECT productID, name, SUM(quantity) AS SoldQty, SUM(Margin * quantity) AS RevenueGenerated FROM pro_sales\n",
        "          GROUP BY productID, name\n",
        "          ORDER BY SUM(quantity) DESC\n",
        "          LIMIT 3\n",
        "          \"\"\")\n",
        "prodReport.show()"
      ],
      "metadata": {
        "colab": {
          "base_uri": "https://localhost:8080/"
        },
        "id": "Er2V1d8wBJP-",
        "outputId": "01a4d25e-7046-41b9-943b-99eca1242bd1"
      },
      "execution_count": 32,
      "outputs": [
        {
          "output_type": "stream",
          "name": "stdout",
          "text": [
            "+---------+-----------------+-------+----------------+\n",
            "|productID|             name|SoldQty|RevenueGenerated|\n",
            "+---------+-----------------+-------+----------------+\n",
            "|        2|   Organic Apples|    100|           150.0|\n",
            "|        9|Whole Wheat Bread|     50|            50.0|\n",
            "|        3|   Cotton T-Shirt|     30|           450.0|\n",
            "+---------+-----------------+-------+----------------+\n",
            "\n"
          ]
        }
      ]
    },
    {
      "cell_type": "markdown",
      "source": [
        "\n",
        "**Deliverables**\n",
        "\n",
        "\n",
        "*   databricks notebook with ETL logic\n",
        "*   saved output files for dashboard use"
      ],
      "metadata": {
        "id": "cf_vx59tBUmT"
      }
    },
    {
      "cell_type": "code",
      "source": [
        "# 1. databricks notebook is saved in .ipynb format in week-4 of project in git repository"
      ],
      "metadata": {
        "id": "bu95Ho8uBkzP"
      },
      "execution_count": 33,
      "outputs": []
    },
    {
      "cell_type": "code",
      "source": [
        "# 2. saving output files for dashboard use\n",
        "\n",
        "categoryReport.coalesce(1) \\\n",
        "    .write.mode(\"overwrite\").option(\"header\", True) \\\n",
        "    .csv(\"/content/categoryReport\")\n",
        "\n",
        "prodReport.coalesce(1) \\\n",
        "    .write.mode(\"overwrite\").option(\"header\", True) \\\n",
        "    .csv(\"/content/prodReport\")"
      ],
      "metadata": {
        "id": "icltBHaEB1UI"
      },
      "execution_count": 34,
      "outputs": []
    },
    {
      "cell_type": "code",
      "source": [
        "import shutil, glob\n",
        "\n",
        "cat_file = glob.glob(\"/content/categoryReport/part-*.csv\")[0]\n",
        "shutil.move(cat_file, \"/content/categoryReport.csv\")\n",
        "\n",
        "prod_file = glob.glob(\"/content/prodReport/part-*.csv\")[0]\n",
        "shutil.move(prod_file, \"/content/prodReport.csv\")"
      ],
      "metadata": {
        "colab": {
          "base_uri": "https://localhost:8080/",
          "height": 35
        },
        "id": "W8xmV3veCfkk",
        "outputId": "51ead15b-3b86-43c2-e3d0-9db5c0b7fdc3"
      },
      "execution_count": 36,
      "outputs": [
        {
          "output_type": "execute_result",
          "data": {
            "text/plain": [
              "'/content/prodReport.csv'"
            ],
            "application/vnd.google.colaboratory.intrinsic+json": {
              "type": "string"
            }
          },
          "metadata": {},
          "execution_count": 36
        }
      ]
    },
    {
      "cell_type": "code",
      "source": [
        "from google.colab import files\n",
        "\n",
        "files.download(\"/content/categoryReport.csv\")\n",
        "files.download(\"/content/prodReport.csv\")"
      ],
      "metadata": {
        "colab": {
          "base_uri": "https://localhost:8080/",
          "height": 17
        },
        "id": "kW3w3s2hDEqd",
        "outputId": "de7127c4-b952-496c-9112-67b4a940fdac"
      },
      "execution_count": 37,
      "outputs": [
        {
          "output_type": "display_data",
          "data": {
            "text/plain": [
              "<IPython.core.display.Javascript object>"
            ],
            "application/javascript": [
              "\n",
              "    async function download(id, filename, size) {\n",
              "      if (!google.colab.kernel.accessAllowed) {\n",
              "        return;\n",
              "      }\n",
              "      const div = document.createElement('div');\n",
              "      const label = document.createElement('label');\n",
              "      label.textContent = `Downloading \"${filename}\": `;\n",
              "      div.appendChild(label);\n",
              "      const progress = document.createElement('progress');\n",
              "      progress.max = size;\n",
              "      div.appendChild(progress);\n",
              "      document.body.appendChild(div);\n",
              "\n",
              "      const buffers = [];\n",
              "      let downloaded = 0;\n",
              "\n",
              "      const channel = await google.colab.kernel.comms.open(id);\n",
              "      // Send a message to notify the kernel that we're ready.\n",
              "      channel.send({})\n",
              "\n",
              "      for await (const message of channel.messages) {\n",
              "        // Send a message to notify the kernel that we're ready.\n",
              "        channel.send({})\n",
              "        if (message.buffers) {\n",
              "          for (const buffer of message.buffers) {\n",
              "            buffers.push(buffer);\n",
              "            downloaded += buffer.byteLength;\n",
              "            progress.value = downloaded;\n",
              "          }\n",
              "        }\n",
              "      }\n",
              "      const blob = new Blob(buffers, {type: 'application/binary'});\n",
              "      const a = document.createElement('a');\n",
              "      a.href = window.URL.createObjectURL(blob);\n",
              "      a.download = filename;\n",
              "      div.appendChild(a);\n",
              "      a.click();\n",
              "      div.remove();\n",
              "    }\n",
              "  "
            ]
          },
          "metadata": {}
        },
        {
          "output_type": "display_data",
          "data": {
            "text/plain": [
              "<IPython.core.display.Javascript object>"
            ],
            "application/javascript": [
              "download(\"download_dda39e68-5bae-4e09-b5d9-877b664ab8b3\", \"categoryReport.csv\", 346)"
            ]
          },
          "metadata": {}
        },
        {
          "output_type": "display_data",
          "data": {
            "text/plain": [
              "<IPython.core.display.Javascript object>"
            ],
            "application/javascript": [
              "\n",
              "    async function download(id, filename, size) {\n",
              "      if (!google.colab.kernel.accessAllowed) {\n",
              "        return;\n",
              "      }\n",
              "      const div = document.createElement('div');\n",
              "      const label = document.createElement('label');\n",
              "      label.textContent = `Downloading \"${filename}\": `;\n",
              "      div.appendChild(label);\n",
              "      const progress = document.createElement('progress');\n",
              "      progress.max = size;\n",
              "      div.appendChild(progress);\n",
              "      document.body.appendChild(div);\n",
              "\n",
              "      const buffers = [];\n",
              "      let downloaded = 0;\n",
              "\n",
              "      const channel = await google.colab.kernel.comms.open(id);\n",
              "      // Send a message to notify the kernel that we're ready.\n",
              "      channel.send({})\n",
              "\n",
              "      for await (const message of channel.messages) {\n",
              "        // Send a message to notify the kernel that we're ready.\n",
              "        channel.send({})\n",
              "        if (message.buffers) {\n",
              "          for (const buffer of message.buffers) {\n",
              "            buffers.push(buffer);\n",
              "            downloaded += buffer.byteLength;\n",
              "            progress.value = downloaded;\n",
              "          }\n",
              "        }\n",
              "      }\n",
              "      const blob = new Blob(buffers, {type: 'application/binary'});\n",
              "      const a = document.createElement('a');\n",
              "      a.href = window.URL.createObjectURL(blob);\n",
              "      a.download = filename;\n",
              "      div.appendChild(a);\n",
              "      a.click();\n",
              "      div.remove();\n",
              "    }\n",
              "  "
            ]
          },
          "metadata": {}
        },
        {
          "output_type": "display_data",
          "data": {
            "text/plain": [
              "<IPython.core.display.Javascript object>"
            ],
            "application/javascript": [
              "download(\"download_33fab06a-6ac3-44ec-b80a-1be445bbacb8\", \"prodReport.csv\", 121)"
            ]
          },
          "metadata": {}
        }
      ]
    }
  ]
}