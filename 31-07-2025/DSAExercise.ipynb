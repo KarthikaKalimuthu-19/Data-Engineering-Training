{
  "nbformat": 4,
  "nbformat_minor": 0,
  "metadata": {
    "colab": {
      "provenance": []
    },
    "kernelspec": {
      "name": "python3",
      "display_name": "Python 3"
    },
    "language_info": {
      "name": "python"
    }
  },
  "cells": [
    {
      "cell_type": "markdown",
      "source": [
        "#**Python Data Structures – Intermediate Exercises Notebook**\n",
        "\n",
        "**Section 1: Nested Lists & Access**\n",
        "\n",
        "Tasks:\n",
        "1. Print Ravi’s second mark."
      ],
      "metadata": {
        "id": "KT7Lr8K6BW88"
      }
    },
    {
      "cell_type": "code",
      "execution_count": 1,
      "metadata": {
        "colab": {
          "base_uri": "https://localhost:8080/"
        },
        "id": "BXyhSOd4Al5f",
        "outputId": "59962aec-ef6b-4f2e-afc7-8932654b7d39"
      },
      "outputs": [
        {
          "output_type": "stream",
          "name": "stdout",
          "text": [
            "Ravi's second mark: 72\n"
          ]
        }
      ],
      "source": [
        "students = [\n",
        "    [\"Ravi\", [85, 72, 90]],\n",
        "    [\"Sneha\", [95, 88, 92]],\n",
        "    [\"Kabir\", [65, 70, 60]],\n",
        "    [\"Anita\", [75, 80, 78]]\n",
        "]\n",
        "\n",
        "print(\"Ravi's second mark:\", students[0][1][1])"
      ]
    },
    {
      "cell_type": "markdown",
      "source": [
        "2. Calculate average mark for each student."
      ],
      "metadata": {
        "id": "VcCeH63oB-ng"
      }
    },
    {
      "cell_type": "code",
      "source": [
        "for name, marks in students:\n",
        "    avg = sum(marks) / len(marks)\n",
        "    print(f\"{name}'s average: {avg:.2f}\")"
      ],
      "metadata": {
        "colab": {
          "base_uri": "https://localhost:8080/"
        },
        "id": "03rfHgi1CB3r",
        "outputId": "7400a14e-b14b-4bc6-8cd5-014d7d3989bc"
      },
      "execution_count": 2,
      "outputs": [
        {
          "output_type": "stream",
          "name": "stdout",
          "text": [
            "Ravi's average: 82.33\n",
            "Sneha's average: 91.67\n",
            "Kabir's average: 65.00\n",
            "Anita's average: 77.67\n"
          ]
        }
      ]
    },
    {
      "cell_type": "markdown",
      "source": [
        "3. Print the name of students who scored above 80 in all subjects."
      ],
      "metadata": {
        "id": "ahizfah0CIt8"
      }
    },
    {
      "cell_type": "code",
      "source": [
        "for name, marks in students:\n",
        "    if all(m > 80 for m in marks):\n",
        "        print(name)"
      ],
      "metadata": {
        "colab": {
          "base_uri": "https://localhost:8080/"
        },
        "id": "KmQD_WQuCNC7",
        "outputId": "56a57e92-93ad-4232-ed5b-0f295c93de9b"
      },
      "execution_count": 3,
      "outputs": [
        {
          "output_type": "stream",
          "name": "stdout",
          "text": [
            "Sneha\n"
          ]
        }
      ]
    },
    {
      "cell_type": "markdown",
      "source": [
        "4. Create a new list of [name, average] ."
      ],
      "metadata": {
        "id": "QNzXCqlpCZ30"
      }
    },
    {
      "cell_type": "code",
      "source": [
        "avg_list = [[name, sum(marks)/len(marks)] for name, marks in students]\n",
        "print(\"List of [name, average]:\", avg_list)"
      ],
      "metadata": {
        "colab": {
          "base_uri": "https://localhost:8080/"
        },
        "id": "LG3hdvaMCf15",
        "outputId": "f5fdd6e4-15e1-4730-bc35-921c7fff170f"
      },
      "execution_count": 4,
      "outputs": [
        {
          "output_type": "stream",
          "name": "stdout",
          "text": [
            "List of [name, average]: [['Ravi', 82.33333333333333], ['Sneha', 91.66666666666667], ['Kabir', 65.0], ['Anita', 77.66666666666667]]\n"
          ]
        }
      ]
    },
    {
      "cell_type": "markdown",
      "source": [
        "**Section 2: Dictionary of Lists**\n",
        "\n",
        "Tasks:\n",
        "1. Create a list of dictionaries for each product:"
      ],
      "metadata": {
        "id": "sFS1F02zIZ5d"
      }
    },
    {
      "cell_type": "code",
      "source": [
        "data = {\n",
        "\"products\": [\"Mobile\", \"Laptop\", \"Tablet\", \"Camera\"],\n",
        "\"prices\": [12000, 55000, 18000, 25000],\n",
        "\"ratings\": [4.5, 4.7, 4.0, 4.2]\n",
        "}\n",
        "\n",
        "product_list = [\n",
        "    {'name': n, 'price': p, 'rating': r}\n",
        "    for n, p, r in zip(data['products'], data['prices'], data['ratings'])\n",
        "]\n",
        "print(\"Product list:\", product_list)"
      ],
      "metadata": {
        "colab": {
          "base_uri": "https://localhost:8080/"
        },
        "id": "bIf8CU9_Ituj",
        "outputId": "8b3b40a8-6bfc-45a5-9774-05129f871b7c"
      },
      "execution_count": 5,
      "outputs": [
        {
          "output_type": "stream",
          "name": "stdout",
          "text": [
            "Product list: [{'name': 'Mobile', 'price': 12000, 'rating': 4.5}, {'name': 'Laptop', 'price': 55000, 'rating': 4.7}, {'name': 'Tablet', 'price': 18000, 'rating': 4.0}, {'name': 'Camera', 'price': 25000, 'rating': 4.2}]\n"
          ]
        }
      ]
    },
    {
      "cell_type": "markdown",
      "source": [
        "2. Filter and print products with price > 20,000 and rating >= 4.5"
      ],
      "metadata": {
        "id": "eBaXcgvsI6Z_"
      }
    },
    {
      "cell_type": "code",
      "source": [
        "filtered = [p for p in product_list if p['price'] > 20000 and p['rating'] >= 4.5]\n",
        "print(\"Filtered products:\", filtered)"
      ],
      "metadata": {
        "colab": {
          "base_uri": "https://localhost:8080/"
        },
        "id": "EqDqftMCI_jY",
        "outputId": "c2bac448-f5e5-4641-8e7d-bbf72a2634e9"
      },
      "execution_count": 6,
      "outputs": [
        {
          "output_type": "stream",
          "name": "stdout",
          "text": [
            "Filtered products: [{'name': 'Laptop', 'price': 55000, 'rating': 4.7}]\n"
          ]
        }
      ]
    },
    {
      "cell_type": "markdown",
      "source": [
        "3. Sort the product list by rating (descending)"
      ],
      "metadata": {
        "id": "HV57v4SFJD-w"
      }
    },
    {
      "cell_type": "code",
      "source": [
        "sorted_products = sorted(product_list, key=lambda x: x['rating'], reverse=True)\n",
        "print(\"Products sorted by rating:\", sorted_products)"
      ],
      "metadata": {
        "colab": {
          "base_uri": "https://localhost:8080/"
        },
        "id": "X9DplZI5JKWu",
        "outputId": "e9ca5757-85cc-4737-93d4-582c2dfe7448"
      },
      "execution_count": 7,
      "outputs": [
        {
          "output_type": "stream",
          "name": "stdout",
          "text": [
            "Products sorted by rating: [{'name': 'Laptop', 'price': 55000, 'rating': 4.7}, {'name': 'Mobile', 'price': 12000, 'rating': 4.5}, {'name': 'Camera', 'price': 25000, 'rating': 4.2}, {'name': 'Tablet', 'price': 18000, 'rating': 4.0}]\n"
          ]
        }
      ]
    },
    {
      "cell_type": "markdown",
      "source": [
        "**Section 3: Frequency Dictionary + Set Operations**\n",
        "\n",
        "Tasks:\n",
        "1. Count frequency of each word using a dictionary"
      ],
      "metadata": {
        "id": "F69_Vnl5JNjl"
      }
    },
    {
      "cell_type": "code",
      "source": [
        "text = \"ai is the future and ai will change everything in the ai world\"\n",
        "words = text.split()\n",
        "\n",
        "freq = {}\n",
        "for word in words:\n",
        "    freq[word] = freq.get(word, 0) + 1\n",
        "print(\"Word frequency:\", freq)"
      ],
      "metadata": {
        "colab": {
          "base_uri": "https://localhost:8080/"
        },
        "id": "q6TpP9P_JZKF",
        "outputId": "1dcb84ad-6ef4-4a0a-8cd2-dc7bd48df6e7"
      },
      "execution_count": 8,
      "outputs": [
        {
          "output_type": "stream",
          "name": "stdout",
          "text": [
            "Word frequency: {'ai': 3, 'is': 1, 'the': 2, 'future': 1, 'and': 1, 'will': 1, 'change': 1, 'everything': 1, 'in': 1, 'world': 1}\n"
          ]
        }
      ]
    },
    {
      "cell_type": "markdown",
      "source": [
        "2. Print only the words that appear more than once"
      ],
      "metadata": {
        "id": "DnzCoWpTJolx"
      }
    },
    {
      "cell_type": "code",
      "source": [
        "print(\"Repeated words:\", [word for word, count in freq.items() if count > 1])"
      ],
      "metadata": {
        "colab": {
          "base_uri": "https://localhost:8080/"
        },
        "id": "wfnQi4qpJtBI",
        "outputId": "b21ab314-0882-45b5-903c-e22086477bab"
      },
      "execution_count": 9,
      "outputs": [
        {
          "output_type": "stream",
          "name": "stdout",
          "text": [
            "Repeated words: ['ai', 'the']\n"
          ]
        }
      ]
    },
    {
      "cell_type": "markdown",
      "source": [
        "3. Convert words into a set and print sorted unique words"
      ],
      "metadata": {
        "id": "i_ezKfEyJ7YI"
      }
    },
    {
      "cell_type": "code",
      "source": [
        "unique_sorted = sorted(set(words))\n",
        "print(\"Sorted unique words:\", unique_sorted)"
      ],
      "metadata": {
        "colab": {
          "base_uri": "https://localhost:8080/"
        },
        "id": "URUYniyjKAj8",
        "outputId": "50108480-01d8-4a2c-ad3d-c62ebb7e4889"
      },
      "execution_count": 10,
      "outputs": [
        {
          "output_type": "stream",
          "name": "stdout",
          "text": [
            "Sorted unique words: ['ai', 'and', 'change', 'everything', 'future', 'in', 'is', 'the', 'will', 'world']\n"
          ]
        }
      ]
    },
    {
      "cell_type": "markdown",
      "source": [
        "4. Find common words between:"
      ],
      "metadata": {
        "id": "6hoJvlpHKLtD"
      }
    },
    {
      "cell_type": "code",
      "source": [
        "set1 = set(words)\n",
        "set2 = {\"ai\", \"ml\", \"data\", \"future\"}\n",
        "print(\"Common words:\", set1 & set2)"
      ],
      "metadata": {
        "colab": {
          "base_uri": "https://localhost:8080/"
        },
        "id": "LkfUcvgOKTbq",
        "outputId": "fa3d1fa8-0231-4871-a0a2-fe6f3f91dfb9"
      },
      "execution_count": 11,
      "outputs": [
        {
          "output_type": "stream",
          "name": "stdout",
          "text": [
            "Common words: {'future', 'ai'}\n"
          ]
        }
      ]
    },
    {
      "cell_type": "markdown",
      "source": [
        "Section 4: Dictionary Comprehension + Conditional Logic"
      ],
      "metadata": {
        "id": "dRqSahFNKbMr"
      }
    },
    {
      "cell_type": "code",
      "source": [
        "sales = {\n",
        "    'Amit': 70000,\n",
        "    'Sneha': 45000,\n",
        "    'Ravi': 30000,\n",
        "    'Anita': 90000,\n",
        "    'Kabir': 20000\n",
        "}\n",
        "\n",
        "bonus_sales = {k: v * 1.10 for k, v in sales.items()}\n",
        "print(\"Sales with bonus:\", bonus_sales)"
      ],
      "metadata": {
        "colab": {
          "base_uri": "https://localhost:8080/"
        },
        "id": "rwQsyTckKiIO",
        "outputId": "85127048-3e5e-4b60-e000-3875bfebb8f8"
      },
      "execution_count": 12,
      "outputs": [
        {
          "output_type": "stream",
          "name": "stdout",
          "text": [
            "Sales with bonus: {'Amit': 77000.0, 'Sneha': 49500.00000000001, 'Ravi': 33000.0, 'Anita': 99000.00000000001, 'Kabir': 22000.0}\n"
          ]
        }
      ]
    },
    {
      "cell_type": "markdown",
      "source": [
        "2. Filter and return only those with sales > 50,000"
      ],
      "metadata": {
        "id": "DvMuV4tZKrjR"
      }
    },
    {
      "cell_type": "code",
      "source": [
        "high_sales = {k: v for k, v in sales.items() if v > 50000}\n",
        "print(\"Sales > 50,000:\", high_sales)"
      ],
      "metadata": {
        "colab": {
          "base_uri": "https://localhost:8080/"
        },
        "id": "SWeMr1jFK4ur",
        "outputId": "d52a18ed-2b7d-4161-d343-8cda75f833da"
      },
      "execution_count": 13,
      "outputs": [
        {
          "output_type": "stream",
          "name": "stdout",
          "text": [
            "Sales > 50,000: {'Amit': 70000, 'Anita': 90000}\n"
          ]
        }
      ]
    },
    {
      "cell_type": "markdown",
      "source": [
        "3. Label each person as 'High' , 'Medium' , or 'Low' based on:\n",
        "75,000: High\n",
        "40,000: Medium\n",
        "Else: Low"
      ],
      "metadata": {
        "id": "cK8v6U8WK8zl"
      }
    },
    {
      "cell_type": "code",
      "source": [
        "labels = {\n",
        "    k: 'High' if v >= 75000 else 'Medium' if v >= 40000 else 'Low'\n",
        "    for k, v in sales.items()\n",
        "}\n",
        "print(\"Labels:\", labels)"
      ],
      "metadata": {
        "colab": {
          "base_uri": "https://localhost:8080/"
        },
        "id": "owjUrir9LGJS",
        "outputId": "3f52cd26-7318-49f6-ffe2-0984d02939f4"
      },
      "execution_count": 14,
      "outputs": [
        {
          "output_type": "stream",
          "name": "stdout",
          "text": [
            "Labels: {'Amit': 'Medium', 'Sneha': 'Medium', 'Ravi': 'Low', 'Anita': 'High', 'Kabir': 'Low'}\n"
          ]
        }
      ]
    },
    {
      "cell_type": "markdown",
      "source": [
        "**Section 5: Tuples, Sets, and Zipping**\n",
        "\n",
        "Tasks:\n",
        "1. Convert both tuples to a dictionary using zip()"
      ],
      "metadata": {
        "id": "xs2n_6SfMTbn"
      }
    },
    {
      "cell_type": "code",
      "source": [
        "names = (\"Ravi\", \"Sneha\", \"Kabir\")\n",
        "marks = (88, 92, 76)\n",
        "\n",
        "marks_dict = dict(zip(names, marks))\n",
        "print(\"Dictionary:\", marks_dict)"
      ],
      "metadata": {
        "colab": {
          "base_uri": "https://localhost:8080/"
        },
        "id": "EC4xg-MQMr8d",
        "outputId": "23b3f9d1-0ff6-4d36-97fe-09d9eda9d103"
      },
      "execution_count": 15,
      "outputs": [
        {
          "output_type": "stream",
          "name": "stdout",
          "text": [
            "Dictionary: {'Ravi': 88, 'Sneha': 92, 'Kabir': 76}\n"
          ]
        }
      ]
    },
    {
      "cell_type": "markdown",
      "source": [
        "2. Find min and max marks"
      ],
      "metadata": {
        "id": "tEZH85rZMu2e"
      }
    },
    {
      "cell_type": "code",
      "source": [
        "print(\"Min mark:\", min(marks))\n",
        "print(\"Max mark:\", max(marks))"
      ],
      "metadata": {
        "colab": {
          "base_uri": "https://localhost:8080/"
        },
        "id": "DFDWkNvsMyHF",
        "outputId": "fe73e8cb-1998-47a0-83e9-42569f0ac8b3"
      },
      "execution_count": 16,
      "outputs": [
        {
          "output_type": "stream",
          "name": "stdout",
          "text": [
            "Min mark: 76\n",
            "Max mark: 92\n"
          ]
        }
      ]
    },
    {
      "cell_type": "markdown",
      "source": [
        "3. Create a set from marks and add a new value"
      ],
      "metadata": {
        "id": "esNpf34VM3qf"
      }
    },
    {
      "cell_type": "code",
      "source": [
        "mark_set = set(marks)\n",
        "mark_set.add(85)\n",
        "print(\"Set with new value:\", mark_set)"
      ],
      "metadata": {
        "colab": {
          "base_uri": "https://localhost:8080/"
        },
        "id": "m3uVkLnTM6bI",
        "outputId": "85c17a5e-16f3-4b63-916a-cf522449815b"
      },
      "execution_count": 17,
      "outputs": [
        {
          "output_type": "stream",
          "name": "stdout",
          "text": [
            "Set with new value: {88, 92, 85, 76}\n"
          ]
        }
      ]
    },
    {
      "cell_type": "markdown",
      "source": [
        "4. Merge two sets and show only unique elements"
      ],
      "metadata": {
        "id": "a2JpA-vWNAWj"
      }
    },
    {
      "cell_type": "code",
      "source": [
        "set_a = {88, 76}\n",
        "set_b = {92, 85}\n",
        "merged = set_a | set_b\n",
        "print(\"Merged unique set:\", merged)"
      ],
      "metadata": {
        "colab": {
          "base_uri": "https://localhost:8080/"
        },
        "id": "F2bBEY_GND4W",
        "outputId": "60e88b53-731e-4d9d-b0b0-566194c98c0f"
      },
      "execution_count": 18,
      "outputs": [
        {
          "output_type": "stream",
          "name": "stdout",
          "text": [
            "Merged unique set: {88, 76, 85, 92}\n"
          ]
        }
      ]
    },
    {
      "cell_type": "markdown",
      "source": [
        "**Bonus Challenge**\n",
        "\n",
        "You’re given the following nested dictionary of employee data:"
      ],
      "metadata": {
        "id": "nnF5b1-TNIUl"
      }
    },
    {
      "cell_type": "markdown",
      "source": [
        "1. Add a new employee \"E104\""
      ],
      "metadata": {
        "id": "CVoX_1CIOJfi"
      }
    },
    {
      "cell_type": "code",
      "source": [
        "employees = {\n",
        "    \"E101\": {\"name\": \"Ravi\", \"dept\": \"Sales\", \"salary\": 50000},\n",
        "    \"E102\": {\"name\": \"Sneha\", \"dept\": \"Engineering\", \"salary\": 80000},\n",
        "    \"E103\": {\"name\": \"Kabir\", \"dept\": \"HR\", \"salary\": 45000}\n",
        "}\n",
        "\n",
        "employees[\"E104\"] = {\"name\": \"Anita\", \"dept\": \"Engineering\", \"salary\": 85000}\n",
        "print(\"After adding E104:\", employees)"
      ],
      "metadata": {
        "colab": {
          "base_uri": "https://localhost:8080/"
        },
        "id": "nVJd5FcSNPvC",
        "outputId": "04402736-0f86-4a17-e92b-f08411536957"
      },
      "execution_count": 19,
      "outputs": [
        {
          "output_type": "stream",
          "name": "stdout",
          "text": [
            "After adding E104: {'E101': {'name': 'Ravi', 'dept': 'Sales', 'salary': 50000}, 'E102': {'name': 'Sneha', 'dept': 'Engineering', 'salary': 80000}, 'E103': {'name': 'Kabir', 'dept': 'HR', 'salary': 45000}, 'E104': {'name': 'Anita', 'dept': 'Engineering', 'salary': 85000}}\n"
          ]
        }
      ]
    },
    {
      "cell_type": "markdown",
      "source": [
        "2. Increase salary by 10% for Engineering department only"
      ],
      "metadata": {
        "id": "CKTbnI8NNWtk"
      }
    },
    {
      "cell_type": "code",
      "source": [
        "for emp in employees.values():\n",
        "    if emp['dept'] == \"Engineering\":\n",
        "        emp['salary'] *= 1.10\n",
        "print(\"Updated salaries for Engineering:\", employees)"
      ],
      "metadata": {
        "colab": {
          "base_uri": "https://localhost:8080/"
        },
        "id": "z7nOOukMNafh",
        "outputId": "d91b0100-a508-4176-fada-4c5f8f00c93a"
      },
      "execution_count": 20,
      "outputs": [
        {
          "output_type": "stream",
          "name": "stdout",
          "text": [
            "Updated salaries for Engineering: {'E101': {'name': 'Ravi', 'dept': 'Sales', 'salary': 50000}, 'E102': {'name': 'Sneha', 'dept': 'Engineering', 'salary': 88000.0}, 'E103': {'name': 'Kabir', 'dept': 'HR', 'salary': 45000}, 'E104': {'name': 'Anita', 'dept': 'Engineering', 'salary': 93500.00000000001}}\n"
          ]
        }
      ]
    },
    {
      "cell_type": "markdown",
      "source": [
        "3. Find the department with the highest average salary"
      ],
      "metadata": {
        "id": "Xb6-bZT9OPwy"
      }
    },
    {
      "cell_type": "code",
      "source": [
        "from collections import defaultdict\n",
        "\n",
        "dept_salaries = defaultdict(list)\n",
        "for emp in employees.values():\n",
        "    dept_salaries[emp['dept']].append(emp['salary'])\n",
        "\n",
        "avg_salaries = {dept: sum(salaries)/len(salaries) for dept, salaries in dept_salaries.items()}\n",
        "highest_dept = max(avg_salaries, key=avg_salaries.get)\n",
        "print(\"Department with highest avg salary:\", highest_dept)"
      ],
      "metadata": {
        "colab": {
          "base_uri": "https://localhost:8080/"
        },
        "id": "REk2XL89OS-S",
        "outputId": "04c8d490-ba5b-4654-f830-5800aa6f6af1"
      },
      "execution_count": 21,
      "outputs": [
        {
          "output_type": "stream",
          "name": "stdout",
          "text": [
            "Department with highest avg salary: Engineering\n"
          ]
        }
      ]
    }
  ]
}