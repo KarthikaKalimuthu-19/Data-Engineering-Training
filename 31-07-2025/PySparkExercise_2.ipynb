{
  "nbformat": 4,
  "nbformat_minor": 0,
  "metadata": {
    "colab": {
      "provenance": []
    },
    "kernelspec": {
      "name": "python3",
      "display_name": "Python 3"
    },
    "language_info": {
      "name": "python"
    }
  },
  "cells": [
    {
      "cell_type": "markdown",
      "source": [
        " **Assignment: Movie Ratings & Revenue Analysis**\n",
        "\n",
        "Step 1: Create a CSV – movies.csv:"
      ],
      "metadata": {
        "id": "yZOSEyTbM_8C"
      }
    },
    {
      "cell_type": "code",
      "execution_count": null,
      "metadata": {
        "id": "m5XwSX0nM8_Q"
      },
      "outputs": [],
      "source": [
        "data = \"\"\"MovieID,Title,Genre,ReleaseDate,Rating,Revenue,Budget\n",
        "1,Inception,Sci-Fi,2010-07-16,8.8,825532764,160000000\n",
        "2,The Dark Knight,Action,2008-07-18,9.0,1004558444,185000000\n",
        "3,Titanic,Romance,1997-12-19,7.8,2187463944,200000000\n",
        "4,Interstellar,Sci-Fi,2014-11-07,8.6,677471339,165000000\n",
        "5,Joker,Drama,2019-10-04,8.4,1074251311,55000000\n",
        "6,The Notebook,Romance,2004-06-25,7.9,,29000000\n",
        "7,Avengers: Endgame,Action,2019-04-26,8.4,2797800564,356000000\n",
        "\"\"\"\n",
        "\n",
        "with open('movies.csv', 'w') as file:\n",
        "    file.write(data)"
      ]
    },
    {
      "cell_type": "markdown",
      "source": [
        "**PART 1: Pandas Operations**\n",
        "\n",
        "1. Load movies.csv into a Pandas DataFrame."
      ],
      "metadata": {
        "id": "ldaSX7NncYrS"
      }
    },
    {
      "cell_type": "code",
      "source": [
        "import pandas as pd\n",
        "\n",
        "df = pd.read_csv('movies.csv')\n",
        "print(df)"
      ],
      "metadata": {
        "colab": {
          "base_uri": "https://localhost:8080/"
        },
        "id": "f_OJL5CLcdFy",
        "outputId": "e5b24a6f-d8c8-4c2e-e9d3-4be2266f219f"
      },
      "execution_count": null,
      "outputs": [
        {
          "output_type": "stream",
          "name": "stdout",
          "text": [
            "   MovieID              Title    Genre ReleaseDate  Rating       Revenue  \\\n",
            "0        1          Inception   Sci-Fi  2010-07-16     8.8  8.255328e+08   \n",
            "1        2    The Dark Knight   Action  2008-07-18     9.0  1.004558e+09   \n",
            "2        3            Titanic  Romance  1997-12-19     7.8  2.187464e+09   \n",
            "3        4       Interstellar   Sci-Fi  2014-11-07     8.6  6.774713e+08   \n",
            "4        5              Joker    Drama  2019-10-04     8.4  1.074251e+09   \n",
            "5        6       The Notebook  Romance  2004-06-25     7.9           NaN   \n",
            "6        7  Avengers: Endgame   Action  2019-04-26     8.4  2.797801e+09   \n",
            "\n",
            "      Budget  \n",
            "0  160000000  \n",
            "1  185000000  \n",
            "2  200000000  \n",
            "3  165000000  \n",
            "4   55000000  \n",
            "5   29000000  \n",
            "6  356000000  \n"
          ]
        }
      ]
    },
    {
      "cell_type": "markdown",
      "source": [
        "2. Convert ReleaseDate to datetime."
      ],
      "metadata": {
        "id": "3oCT_4wOcm6U"
      }
    },
    {
      "cell_type": "code",
      "source": [
        "converting = df['ReleaseDate'] = pd.to_datetime(df['ReleaseDate'])\n",
        "print(converting)"
      ],
      "metadata": {
        "colab": {
          "base_uri": "https://localhost:8080/"
        },
        "id": "n9Cj7dVRdDWq",
        "outputId": "38707b1d-11d5-4e48-a440-d250d2be1dd9"
      },
      "execution_count": null,
      "outputs": [
        {
          "output_type": "stream",
          "name": "stdout",
          "text": [
            "0   2010-07-16\n",
            "1   2008-07-18\n",
            "2   1997-12-19\n",
            "3   2014-11-07\n",
            "4   2019-10-04\n",
            "5   2004-06-25\n",
            "6   2019-04-26\n",
            "Name: ReleaseDate, dtype: datetime64[ns]\n"
          ]
        }
      ]
    },
    {
      "cell_type": "markdown",
      "source": [
        "3. Calculate Profit = Revenue - Budget ."
      ],
      "metadata": {
        "id": "vCTpNRhedfbG"
      }
    },
    {
      "cell_type": "code",
      "source": [
        "cal = df['Profit'] = df['Revenue'] - df['Budget']\n",
        "print(cal)"
      ],
      "metadata": {
        "colab": {
          "base_uri": "https://localhost:8080/"
        },
        "id": "6bV7LUO4di_9",
        "outputId": "3eb11856-1c37-4f82-c7c3-cddb49d96a8e"
      },
      "execution_count": null,
      "outputs": [
        {
          "output_type": "stream",
          "name": "stdout",
          "text": [
            "0    6.655328e+08\n",
            "1    8.195584e+08\n",
            "2    1.987464e+09\n",
            "3    5.124713e+08\n",
            "4    1.019251e+09\n",
            "5             NaN\n",
            "6    2.441801e+09\n",
            "dtype: float64\n"
          ]
        }
      ]
    },
    {
      "cell_type": "markdown",
      "source": [
        "4. Add a column \"Era\" :\n",
        "Before 2000 → Classic\n",
        "2000-2010 → Mid\n",
        "After 2010 → Modern"
      ],
      "metadata": {
        "id": "7oyzmeFFruL-"
      }
    },
    {
      "cell_type": "code",
      "source": [
        "def era_classifier(date):\n",
        "    year = date.year\n",
        "    if year < 2000:\n",
        "        return \"Classic\"\n",
        "    elif 2000 <= year <= 2010:\n",
        "        return \"Mid\"\n",
        "    else:\n",
        "        return \"Modern\"\n",
        "df[\"Era\"] = df[\"ReleaseDate\"].apply(era_classifier)\n",
        "print(df)"
      ],
      "metadata": {
        "colab": {
          "base_uri": "https://localhost:8080/"
        },
        "id": "KaHvFk6HryHq",
        "outputId": "00c67aa4-aa78-4d1f-e54c-3eb435923a76"
      },
      "execution_count": null,
      "outputs": [
        {
          "output_type": "stream",
          "name": "stdout",
          "text": [
            "   MovieID              Title    Genre ReleaseDate  Rating       Revenue  \\\n",
            "0        1          Inception   Sci-Fi  2010-07-16     8.8  8.255328e+08   \n",
            "1        2    The Dark Knight   Action  2008-07-18     9.0  1.004558e+09   \n",
            "2        3            Titanic  Romance  1997-12-19     7.8  2.187464e+09   \n",
            "3        4       Interstellar   Sci-Fi  2014-11-07     8.6  6.774713e+08   \n",
            "4        5              Joker    Drama  2019-10-04     8.4  1.074251e+09   \n",
            "5        6       The Notebook  Romance  2004-06-25     7.9           NaN   \n",
            "6        7  Avengers: Endgame   Action  2019-04-26     8.4  2.797801e+09   \n",
            "\n",
            "      Budget        Profit      Era  \n",
            "0  160000000  6.655328e+08      Mid  \n",
            "1  185000000  8.195584e+08      Mid  \n",
            "2  200000000  1.987464e+09  Classic  \n",
            "3  165000000  5.124713e+08   Modern  \n",
            "4   55000000  1.019251e+09   Modern  \n",
            "5   29000000           NaN      Mid  \n",
            "6  356000000  2.441801e+09   Modern  \n"
          ]
        }
      ]
    },
    {
      "cell_type": "markdown",
      "source": [
        "5. Handle nulls in Revenue by filling with average revenue."
      ],
      "metadata": {
        "id": "ugRnVR-EsUvy"
      }
    },
    {
      "cell_type": "code",
      "source": [
        "df['Revenue'] = df['Revenue'].fillna(df['Revenue'].mean())\n",
        "print(df)"
      ],
      "metadata": {
        "colab": {
          "base_uri": "https://localhost:8080/"
        },
        "id": "5dY7U58vsYf1",
        "outputId": "68aead37-3a8d-49ac-96fa-a709cd558c8f"
      },
      "execution_count": null,
      "outputs": [
        {
          "output_type": "stream",
          "name": "stdout",
          "text": [
            "   MovieID              Title    Genre ReleaseDate  Rating       Revenue  \\\n",
            "0        1          Inception   Sci-Fi  2010-07-16     8.8  8.255328e+08   \n",
            "1        2    The Dark Knight   Action  2008-07-18     9.0  1.004558e+09   \n",
            "2        3            Titanic  Romance  1997-12-19     7.8  2.187464e+09   \n",
            "3        4       Interstellar   Sci-Fi  2014-11-07     8.6  6.774713e+08   \n",
            "4        5              Joker    Drama  2019-10-04     8.4  1.074251e+09   \n",
            "5        6       The Notebook  Romance  2004-06-25     7.9  1.427846e+09   \n",
            "6        7  Avengers: Endgame   Action  2019-04-26     8.4  2.797801e+09   \n",
            "\n",
            "      Budget        Profit      Era  \n",
            "0  160000000  6.655328e+08      Mid  \n",
            "1  185000000  8.195584e+08      Mid  \n",
            "2  200000000  1.987464e+09  Classic  \n",
            "3  165000000  5.124713e+08   Modern  \n",
            "4   55000000  1.019251e+09   Modern  \n",
            "5   29000000           NaN      Mid  \n",
            "6  356000000  2.441801e+09   Modern  \n"
          ]
        }
      ]
    },
    {
      "cell_type": "markdown",
      "source": [
        "6. Sort by Rating descending."
      ],
      "metadata": {
        "id": "o3LJ8p-ttIJY"
      }
    },
    {
      "cell_type": "code",
      "source": [
        "dec = df.sort_values(by='Rating', ascending=False)\n",
        "print(dec)"
      ],
      "metadata": {
        "colab": {
          "base_uri": "https://localhost:8080/"
        },
        "id": "9O36RgBYs-QJ",
        "outputId": "f4880df5-5bfc-444f-a083-fefe346abad8"
      },
      "execution_count": null,
      "outputs": [
        {
          "output_type": "stream",
          "name": "stdout",
          "text": [
            "   MovieID              Title    Genre ReleaseDate  Rating       Revenue  \\\n",
            "1        2    The Dark Knight   Action  2008-07-18     9.0  1.004558e+09   \n",
            "0        1          Inception   Sci-Fi  2010-07-16     8.8  8.255328e+08   \n",
            "3        4       Interstellar   Sci-Fi  2014-11-07     8.6  6.774713e+08   \n",
            "6        7  Avengers: Endgame   Action  2019-04-26     8.4  2.797801e+09   \n",
            "4        5              Joker    Drama  2019-10-04     8.4  1.074251e+09   \n",
            "5        6       The Notebook  Romance  2004-06-25     7.9  1.427846e+09   \n",
            "2        3            Titanic  Romance  1997-12-19     7.8  2.187464e+09   \n",
            "\n",
            "      Budget        Profit      Era  \n",
            "1  185000000  8.195584e+08      Mid  \n",
            "0  160000000  6.655328e+08      Mid  \n",
            "3  165000000  5.124713e+08   Modern  \n",
            "6  356000000  2.441801e+09   Modern  \n",
            "4   55000000  1.019251e+09   Modern  \n",
            "5   29000000           NaN      Mid  \n",
            "2  200000000  1.987464e+09  Classic  \n"
          ]
        }
      ]
    },
    {
      "cell_type": "markdown",
      "source": [
        "7. Group by Genre → average Rating & total Revenue."
      ],
      "metadata": {
        "id": "bGG_Y9kvtNa3"
      }
    },
    {
      "cell_type": "code",
      "source": [
        "grouped = df.groupby('Genre').agg({\n",
        "    'Rating': 'mean',\n",
        "    'Revenue': 'sum'\n",
        "})\n",
        "print(grouped)"
      ],
      "metadata": {
        "colab": {
          "base_uri": "https://localhost:8080/"
        },
        "id": "-Y1VRTRXtSo9",
        "outputId": "8a954010-f292-4483-9010-72daaec678a3"
      },
      "execution_count": null,
      "outputs": [
        {
          "output_type": "stream",
          "name": "stdout",
          "text": [
            "         Rating       Revenue\n",
            "Genre                        \n",
            "Action     8.70  3.802359e+09\n",
            "Drama      8.40  1.074251e+09\n",
            "Romance    7.85  3.615310e+09\n",
            "Sci-Fi     8.70  1.503004e+09\n"
          ]
        }
      ]
    },
    {
      "cell_type": "markdown",
      "source": [
        "8. Filter movies with Rating ≥ 8.5 and Profit > 500M."
      ],
      "metadata": {
        "id": "xVtkPP3htd_r"
      }
    },
    {
      "cell_type": "code",
      "source": [
        "val = df[(df['Rating'] >= 8.5) & (df['Profit'] > 500000000)]\n",
        "print(val)"
      ],
      "metadata": {
        "colab": {
          "base_uri": "https://localhost:8080/"
        },
        "id": "F9HaFEzBtieX",
        "outputId": "6fe0f16f-cc79-40d4-cf3e-554ab88f962f"
      },
      "execution_count": null,
      "outputs": [
        {
          "output_type": "stream",
          "name": "stdout",
          "text": [
            "   MovieID            Title   Genre ReleaseDate  Rating       Revenue  \\\n",
            "0        1        Inception  Sci-Fi  2010-07-16     8.8  8.255328e+08   \n",
            "1        2  The Dark Knight  Action  2008-07-18     9.0  1.004558e+09   \n",
            "3        4     Interstellar  Sci-Fi  2014-11-07     8.6  6.774713e+08   \n",
            "\n",
            "      Budget       Profit     Era  \n",
            "0  160000000  665532764.0     Mid  \n",
            "1  185000000  819558444.0     Mid  \n",
            "3  165000000  512471339.0  Modern  \n"
          ]
        }
      ]
    },
    {
      "cell_type": "markdown",
      "source": [
        "9. Plot bar chart of Movie Title vs Profit."
      ],
      "metadata": {
        "id": "-i-WP0Qrt-Xq"
      }
    },
    {
      "cell_type": "code",
      "source": [
        "from matplotlib import pyplot as plt\n",
        "\n",
        "plt.bar(df['Title'], df['Profit'])\n",
        "plt.xlabel('Movie Title')\n",
        "plt.ylabel('Profit')\n",
        "plt.title('Movie Title vs Profit')\n",
        "plt.xticks(rotation=45)\n",
        "plt.show()"
      ],
      "metadata": {
        "colab": {
          "base_uri": "https://localhost:8080/",
          "height": 566
        },
        "id": "t71zCLqUuBuy",
        "outputId": "06770d46-dab6-4eb8-d50a-6aab23f1c69d"
      },
      "execution_count": null,
      "outputs": [
        {
          "output_type": "display_data",
          "data": {
            "text/plain": [
              "<Figure size 640x480 with 1 Axes>"
            ],
            "image/png": "[encoded data removed]"
          },
          "metadata": {}
        }
      ]
    },
    {
      "cell_type": "markdown",
      "source": [
        "**PART 2: PySpark Operations**\n",
        "\n",
        "1. Read the same CSV using PySpark."
      ],
      "metadata": {
        "id": "o9n1SSFsuN9o"
      }
    },
    {
      "cell_type": "code",
      "source": [
        "from pyspark.sql import SparkSession\n",
        "\n",
        "spark = SparkSession.builder.appName(\"MoviesAnalysis\").getOrCreate()\n",
        "spark"
      ],
      "metadata": {
        "colab": {
          "base_uri": "https://localhost:8080/",
          "height": 221
        },
        "id": "dBaRFWQAuTz4",
        "outputId": "ed022946-01f2-47f1-efe2-bafae9b6399b"
      },
      "execution_count": null,
      "outputs": [
        {
          "output_type": "execute_result",
          "data": {
            "text/plain": [
              "<pyspark.sql.session.SparkSession at 0x7a35b580c710>"
            ],
            "text/html": [
              "\n",
              "            <div>\n",
              "                <p><b>SparkSession - in-memory</b></p>\n",
              "                \n",
              "        <div>\n",
              "            <p><b>SparkContext</b></p>\n",
              "\n",
              "            <p><a href=\"http://969f381ba063:4040\">Spark UI</a></p>\n",
              "\n",
              "            <dl>\n",
              "              <dt>Version</dt>\n",
              "                <dd><code>v3.5.1</code></dd>\n",
              "              <dt>Master</dt>\n",
              "                <dd><code>local[*]</code></dd>\n",
              "              <dt>AppName</dt>\n",
              "                <dd><code>MoviesAnalysis</code></dd>\n",
              "            </dl>\n",
              "        </div>\n",
              "        \n",
              "            </div>\n",
              "        "
            ]
          },
          "metadata": {},
          "execution_count": 19
        }
      ]
    },
    {
      "cell_type": "code",
      "source": [
        "df = spark.read.csv(\"movies.csv\", header=True, inferSchema=True)\n",
        "df.show()"
      ],
      "metadata": {
        "colab": {
          "base_uri": "https://localhost:8080/"
        },
        "id": "YhzQHBWfup22",
        "outputId": "18d10616-dbb3-425c-c92a-2e01671e1f5f"
      },
      "execution_count": null,
      "outputs": [
        {
          "output_type": "stream",
          "name": "stdout",
          "text": [
            "+-------+-----------------+-------+-----------+------+----------+---------+\n",
            "|MovieID|            Title|  Genre|ReleaseDate|Rating|   Revenue|   Budget|\n",
            "+-------+-----------------+-------+-----------+------+----------+---------+\n",
            "|      1|        Inception| Sci-Fi| 2010-07-16|   8.8| 825532764|160000000|\n",
            "|      2|  The Dark Knight| Action| 2008-07-18|   9.0|1004558444|185000000|\n",
            "|      3|          Titanic|Romance| 1997-12-19|   7.8|2187463944|200000000|\n",
            "|      4|     Interstellar| Sci-Fi| 2014-11-07|   8.6| 677471339|165000000|\n",
            "|      5|            Joker|  Drama| 2019-10-04|   8.4|1074251311| 55000000|\n",
            "|      6|     The Notebook|Romance| 2004-06-25|   7.9|      NULL| 29000000|\n",
            "|      7|Avengers: Endgame| Action| 2019-04-26|   8.4|2797800564|356000000|\n",
            "+-------+-----------------+-------+-----------+------+----------+---------+\n",
            "\n"
          ]
        }
      ]
    },
    {
      "cell_type": "markdown",
      "source": [
        "2. Create Profit column ( Revenue - Budget )."
      ],
      "metadata": {
        "id": "CyhJyQQHu00T"
      }
    },
    {
      "cell_type": "code",
      "source": [
        "from pyspark.sql.functions import col\n",
        "\n",
        "df = df.withColumn(\"Profit\", col(\"Revenue\") - col(\"Budget\"))\n",
        "df.show()"
      ],
      "metadata": {
        "colab": {
          "base_uri": "https://localhost:8080/"
        },
        "id": "it3wtJrtu4DQ",
        "outputId": "42d9da7f-62b7-4a23-e3f1-efb7e2e573ab"
      },
      "execution_count": null,
      "outputs": [
        {
          "output_type": "stream",
          "name": "stdout",
          "text": [
            "+-------+-----------------+-------+-----------+------+----------+---------+----------+\n",
            "|MovieID|            Title|  Genre|ReleaseDate|Rating|   Revenue|   Budget|    Profit|\n",
            "+-------+-----------------+-------+-----------+------+----------+---------+----------+\n",
            "|      1|        Inception| Sci-Fi| 2010-07-16|   8.8| 825532764|160000000| 665532764|\n",
            "|      2|  The Dark Knight| Action| 2008-07-18|   9.0|1004558444|185000000| 819558444|\n",
            "|      3|          Titanic|Romance| 1997-12-19|   7.8|2187463944|200000000|1987463944|\n",
            "|      4|     Interstellar| Sci-Fi| 2014-11-07|   8.6| 677471339|165000000| 512471339|\n",
            "|      5|            Joker|  Drama| 2019-10-04|   8.4|1074251311| 55000000|1019251311|\n",
            "|      6|     The Notebook|Romance| 2004-06-25|   7.9|      NULL| 29000000|      NULL|\n",
            "|      7|Avengers: Endgame| Action| 2019-04-26|   8.4|2797800564|356000000|2441800564|\n",
            "+-------+-----------------+-------+-----------+------+----------+---------+----------+\n",
            "\n"
          ]
        }
      ]
    },
    {
      "cell_type": "markdown",
      "source": [
        "3. Filter where Genre == 'Sci-Fi' and Profit > 500000000 ."
      ],
      "metadata": {
        "id": "nl1_ybk6xTVI"
      }
    },
    {
      "cell_type": "code",
      "source": [
        "filtered_df = df.filter((col(\"Genre\") == \"Sci-Fi\") & (col(\"Profit\") > 500000000))\n",
        "filtered_df.show()"
      ],
      "metadata": {
        "colab": {
          "base_uri": "https://localhost:8080/"
        },
        "id": "GbdgQ3qRxWje",
        "outputId": "86dbc5aa-43b0-4fba-8cc4-14421a176593"
      },
      "execution_count": null,
      "outputs": [
        {
          "output_type": "stream",
          "name": "stdout",
          "text": [
            "+-------+------------+------+-----------+------+---------+---------+---------+\n",
            "|MovieID|       Title| Genre|ReleaseDate|Rating|  Revenue|   Budget|   Profit|\n",
            "+-------+------------+------+-----------+------+---------+---------+---------+\n",
            "|      1|   Inception|Sci-Fi| 2010-07-16|   8.8|825532764|160000000|665532764|\n",
            "|      4|Interstellar|Sci-Fi| 2014-11-07|   8.6|677471339|165000000|512471339|\n",
            "+-------+------------+------+-----------+------+---------+---------+---------+\n",
            "\n"
          ]
        }
      ]
    },
    {
      "cell_type": "markdown",
      "source": [
        "4. Group by Genre → avg(Rating) , sum(Profit)"
      ],
      "metadata": {
        "id": "dhd1FrisxceA"
      }
    },
    {
      "cell_type": "code",
      "source": [
        "group = df.groupBy(\"Genre\").agg(\n",
        "    {\"Rating\": \"avg\", \"Profit\": \"sum\"}\n",
        ")\n",
        "group.show()"
      ],
      "metadata": {
        "colab": {
          "base_uri": "https://localhost:8080/"
        },
        "id": "k-WfND21xgW9",
        "outputId": "a292791d-2431-4815-93eb-2d653567c82e"
      },
      "execution_count": null,
      "outputs": [
        {
          "output_type": "stream",
          "name": "stdout",
          "text": [
            "+-------+-----------+-----------+\n",
            "|  Genre|avg(Rating)|sum(Profit)|\n",
            "+-------+-----------+-----------+\n",
            "|Romance|       7.85| 1987463944|\n",
            "|  Drama|        8.4| 1019251311|\n",
            "| Action|        8.7| 3261359008|\n",
            "| Sci-Fi|        8.7| 1178004103|\n",
            "+-------+-----------+-----------+\n",
            "\n"
          ]
        }
      ]
    },
    {
      "cell_type": "markdown",
      "source": [
        "5. Use when().otherwise() to classify Rating as:\n",
        "=9 → Blockbuster\n",
        "8–9 → Hit\n",
        "below 8 → Average"
      ],
      "metadata": {
        "id": "4rCDD3eDxl9X"
      }
    },
    {
      "cell_type": "code",
      "source": [
        "from pyspark.sql.functions import when\n",
        "\n",
        "rate = df.withColumn(\"RatingCategory\", when((col(\"Rating\") >= 8) & (col(\"Rating\") <= 9), \"Hit\").when(col(\"Rating\") < 8, \"Average\").otherwise(\"Blockbuster\"))\n",
        "rate.show()"
      ],
      "metadata": {
        "colab": {
          "base_uri": "https://localhost:8080/"
        },
        "id": "R2dLiVSdxrXS",
        "outputId": "2612d63b-2d64-41b2-a936-ea5143a61cbb"
      },
      "execution_count": null,
      "outputs": [
        {
          "output_type": "stream",
          "name": "stdout",
          "text": [
            "+-------+-----------------+-------+-----------+------+----------+---------+----------+--------------+\n",
            "|MovieID|            Title|  Genre|ReleaseDate|Rating|   Revenue|   Budget|    Profit|RatingCategory|\n",
            "+-------+-----------------+-------+-----------+------+----------+---------+----------+--------------+\n",
            "|      1|        Inception| Sci-Fi| 2010-07-16|   8.8| 825532764|160000000| 665532764|           Hit|\n",
            "|      2|  The Dark Knight| Action| 2008-07-18|   9.0|1004558444|185000000| 819558444|           Hit|\n",
            "|      3|          Titanic|Romance| 1997-12-19|   7.8|2187463944|200000000|1987463944|       Average|\n",
            "|      4|     Interstellar| Sci-Fi| 2014-11-07|   8.6| 677471339|165000000| 512471339|           Hit|\n",
            "|      5|            Joker|  Drama| 2019-10-04|   8.4|1074251311| 55000000|1019251311|           Hit|\n",
            "|      6|     The Notebook|Romance| 2004-06-25|   7.9|      NULL| 29000000|      NULL|       Average|\n",
            "|      7|Avengers: Endgame| Action| 2019-04-26|   8.4|2797800564|356000000|2441800564|           Hit|\n",
            "+-------+-----------------+-------+-----------+------+----------+---------+----------+--------------+\n",
            "\n"
          ]
        }
      ]
    },
    {
      "cell_type": "markdown",
      "source": [
        "6. Drop the Budget column."
      ],
      "metadata": {
        "id": "90k_Mc4Kx-rt"
      }
    },
    {
      "cell_type": "code",
      "source": [
        "df = df.drop(\"Budget\")\n",
        "df.show()"
      ],
      "metadata": {
        "colab": {
          "base_uri": "https://localhost:8080/"
        },
        "id": "e-1W5KVWyFoY",
        "outputId": "c625d910-75eb-41c3-e3d9-6ec23b83346e"
      },
      "execution_count": null,
      "outputs": [
        {
          "output_type": "stream",
          "name": "stdout",
          "text": [
            "+-------+-----------------+-------+-----------+------+----------+----------+\n",
            "|MovieID|            Title|  Genre|ReleaseDate|Rating|   Revenue|    Profit|\n",
            "+-------+-----------------+-------+-----------+------+----------+----------+\n",
            "|      1|        Inception| Sci-Fi| 2010-07-16|   8.8| 825532764| 665532764|\n",
            "|      2|  The Dark Knight| Action| 2008-07-18|   9.0|1004558444| 819558444|\n",
            "|      3|          Titanic|Romance| 1997-12-19|   7.8|2187463944|1987463944|\n",
            "|      4|     Interstellar| Sci-Fi| 2014-11-07|   8.6| 677471339| 512471339|\n",
            "|      5|            Joker|  Drama| 2019-10-04|   8.4|1074251311|1019251311|\n",
            "|      6|     The Notebook|Romance| 2004-06-25|   7.9|      NULL|      NULL|\n",
            "|      7|Avengers: Endgame| Action| 2019-04-26|   8.4|2797800564|2441800564|\n",
            "+-------+-----------------+-------+-----------+------+----------+----------+\n",
            "\n"
          ]
        }
      ]
    },
    {
      "cell_type": "markdown",
      "source": [
        "7. Fill null revenue with average (use na.fill() or na.replace() )."
      ],
      "metadata": {
        "id": "rsfsl0-dx-e9"
      }
    },
    {
      "cell_type": "code",
      "source": [
        "from pyspark.sql.functions import avg\n",
        "\n",
        "values = {\"Revenue\": df.select(avg(\"Revenue\")).collect()[0][0]}\n",
        "df = df.na.fill(values)\n",
        "df.show()"
      ],
      "metadata": {
        "id": "e8S4YSs3yaKG",
        "colab": {
          "base_uri": "https://localhost:8080/"
        },
        "outputId": "39dcf42a-a859-4410-f147-4f5e66ca7dd4"
      },
      "execution_count": 33,
      "outputs": [
        {
          "output_type": "stream",
          "name": "stdout",
          "text": [
            "+-------+-----------------+-------+-----------+------+----------+----------+\n",
            "|MovieID|            Title|  Genre|ReleaseDate|Rating|   Revenue|    Profit|\n",
            "+-------+-----------------+-------+-----------+------+----------+----------+\n",
            "|      1|        Inception| Sci-Fi| 2010-07-16|   8.8| 825532764| 665532764|\n",
            "|      2|  The Dark Knight| Action| 2008-07-18|   9.0|1004558444| 819558444|\n",
            "|      3|          Titanic|Romance| 1997-12-19|   7.8|2187463944|1987463944|\n",
            "|      4|     Interstellar| Sci-Fi| 2014-11-07|   8.6| 677471339| 512471339|\n",
            "|      5|            Joker|  Drama| 2019-10-04|   8.4|1074251311|1019251311|\n",
            "|      6|     The Notebook|Romance| 2004-06-25|   7.9|1427846394|      NULL|\n",
            "|      7|Avengers: Endgame| Action| 2019-04-26|   8.4|2797800564|2441800564|\n",
            "+-------+-----------------+-------+-----------+------+----------+----------+\n",
            "\n"
          ]
        }
      ]
    },
    {
      "cell_type": "markdown",
      "source": [
        "8. Convert ReleaseDate to date type, extract year and month ."
      ],
      "metadata": {
        "id": "JaIIGQ8xziSh"
      }
    },
    {
      "cell_type": "code",
      "source": [
        "from pyspark.sql.functions import to_date, year, month\n",
        "\n",
        "df = df.withColumn(\"ReleaseDate\", to_date(col(\"ReleaseDate\")))\n",
        "df = df.withColumn(\"Year\", year(\"ReleaseDate\")).withColumn(\"Month\", month(\"ReleaseDate\"))\n",
        "df.show()"
      ],
      "metadata": {
        "colab": {
          "base_uri": "https://localhost:8080/"
        },
        "id": "nulxVca3zkrO",
        "outputId": "a4e5bbd1-e1b4-416a-e841-1ffa3a5e22ea"
      },
      "execution_count": 37,
      "outputs": [
        {
          "output_type": "stream",
          "name": "stdout",
          "text": [
            "+-------+-----------------+-------+-----------+------+----------+----------+----+-----+\n",
            "|MovieID|            Title|  Genre|ReleaseDate|Rating|   Revenue|    Profit|Year|Month|\n",
            "+-------+-----------------+-------+-----------+------+----------+----------+----+-----+\n",
            "|      1|        Inception| Sci-Fi| 2010-07-16|   8.8| 825532764| 665532764|2010|    7|\n",
            "|      2|  The Dark Knight| Action| 2008-07-18|   9.0|1004558444| 819558444|2008|    7|\n",
            "|      3|          Titanic|Romance| 1997-12-19|   7.8|2187463944|1987463944|1997|   12|\n",
            "|      4|     Interstellar| Sci-Fi| 2014-11-07|   8.6| 677471339| 512471339|2014|   11|\n",
            "|      5|            Joker|  Drama| 2019-10-04|   8.4|1074251311|1019251311|2019|   10|\n",
            "|      6|     The Notebook|Romance| 2004-06-25|   7.9|1427846394|      NULL|2004|    6|\n",
            "|      7|Avengers: Endgame| Action| 2019-04-26|   8.4|2797800564|2441800564|2019|    4|\n",
            "+-------+-----------------+-------+-----------+------+----------+----------+----+-----+\n",
            "\n"
          ]
        }
      ]
    },
    {
      "cell_type": "markdown",
      "source": [
        "9. Use a window function to rank movies within each genre by profit."
      ],
      "metadata": {
        "id": "fFzn2HOi0ID_"
      }
    },
    {
      "cell_type": "code",
      "source": [
        "from pyspark.sql.functions import rank, desc\n",
        "from pyspark.sql.window import Window\n",
        "\n",
        "fun = df.withColumn(\"Rank\", rank().over(Window.partitionBy(\"Genre\").orderBy(desc(\"Profit\"))))\n",
        "fun.show()"
      ],
      "metadata": {
        "colab": {
          "base_uri": "https://localhost:8080/"
        },
        "id": "weMKtPM30Kzo",
        "outputId": "f281241d-b0a9-45c0-f3a2-7d62d2c2a5c4"
      },
      "execution_count": 38,
      "outputs": [
        {
          "output_type": "stream",
          "name": "stdout",
          "text": [
            "+-------+-----------------+-------+-----------+------+----------+----------+----+-----+----+\n",
            "|MovieID|            Title|  Genre|ReleaseDate|Rating|   Revenue|    Profit|Year|Month|Rank|\n",
            "+-------+-----------------+-------+-----------+------+----------+----------+----+-----+----+\n",
            "|      7|Avengers: Endgame| Action| 2019-04-26|   8.4|2797800564|2441800564|2019|    4|   1|\n",
            "|      2|  The Dark Knight| Action| 2008-07-18|   9.0|1004558444| 819558444|2008|    7|   2|\n",
            "|      5|            Joker|  Drama| 2019-10-04|   8.4|1074251311|1019251311|2019|   10|   1|\n",
            "|      3|          Titanic|Romance| 1997-12-19|   7.8|2187463944|1987463944|1997|   12|   1|\n",
            "|      6|     The Notebook|Romance| 2004-06-25|   7.9|1427846394|      NULL|2004|    6|   2|\n",
            "|      1|        Inception| Sci-Fi| 2010-07-16|   8.8| 825532764| 665532764|2010|    7|   1|\n",
            "|      4|     Interstellar| Sci-Fi| 2014-11-07|   8.6| 677471339| 512471339|2014|   11|   2|\n",
            "+-------+-----------------+-------+-----------+------+----------+----------+----+-----+----+\n",
            "\n"
          ]
        }
      ]
    },
    {
      "cell_type": "markdown",
      "source": [
        "**PART 3: JSON + Union Example**\n",
        "\n",
        "movies_bonus.json"
      ],
      "metadata": {
        "id": "s2jJjSWs0nc1"
      }
    },
    {
      "cell_type": "code",
      "source": [
        "import json\n",
        "\n",
        "datas =[\n",
        "{\"MovieID\": 8, \"Title\": \"Barbie\", \"Genre\": \"Drama\", \"Rating\": 7.5, \"Revenue\":\n",
        "1456000000, \"Budget\": 145000000},\n",
        "{\"MovieID\": 9, \"Title\": \"Oppenheimer\", \"Genre\": \"Drama\", \"Rating\": 8.6, \"Revenue\":\n",
        "950000000, \"Budget\": 100000000}\n",
        "]\n",
        "\n",
        "with open('movie_bonus.json', 'w') as f:\n",
        "    json.dump(datas, f, indent=4)\n",
        "\n",
        "print(\"orders.json created successfully.\")"
      ],
      "metadata": {
        "colab": {
          "base_uri": "https://localhost:8080/"
        },
        "id": "KIh2eSYj0wq0",
        "outputId": "827c81df-4779-4eb6-a3b2-a4f2873cc191"
      },
      "execution_count": 39,
      "outputs": [
        {
          "output_type": "stream",
          "name": "stdout",
          "text": [
            "orders.json created successfully.\n"
          ]
        }
      ]
    },
    {
      "cell_type": "markdown",
      "source": [
        "1. Read this JSON using PySpark."
      ],
      "metadata": {
        "id": "WewZrG7N1VKI"
      }
    },
    {
      "cell_type": "code",
      "source": [
        "df_json = spark.read.json(\"movie_bonus.json\")"
      ],
      "metadata": {
        "id": "m6OZFC-G1WEc"
      },
      "execution_count": 44,
      "outputs": []
    },
    {
      "cell_type": "markdown",
      "source": [
        "2. Union it with your original movies DataFrame."
      ],
      "metadata": {
        "id": "qkV8JvzW14WD"
      }
    },
    {
      "cell_type": "code",
      "source": [
        "df_csv = spark.read.csv(\"movies.csv\", header=True, inferSchema=True)\n",
        "df_csv = df_csv.withColumn(\"Profit\", col(\"Revenue\") - col(\"Budget\"))\n",
        "df_json = df_json.withColumn(\"Profit\", col(\"Revenue\") - col(\"Budget\"))\n",
        "union_df = df_csv.unionByName(df_json)"
      ],
      "metadata": {
        "id": "MfnFwf9717oi"
      },
      "execution_count": null,
      "outputs": []
    },
    {
      "cell_type": "markdown",
      "source": [
        "3. Show top 5 highest grossing movies."
      ],
      "metadata": {
        "id": "9RMHB13N2gT5"
      }
    },
    {
      "cell_type": "code",
      "source": [
        "top_grossing = union_df.orderBy(col(\"Revenue\").desc()).limit(5)\n",
        "top_grossing.show()"
      ],
      "metadata": {
        "id": "iYyDZdP430q9"
      },
      "execution_count": null,
      "outputs": []
    },
    {
      "cell_type": "markdown",
      "source": [
        "4. Save final merged DataFrame as CSV."
      ],
      "metadata": {
        "id": "98vMBb6k4NgN"
      }
    },
    {
      "cell_type": "code",
      "source": [
        "union_df.write.mode(\"overwrite\").option(\"header\", \"true\").csv(\"final_movies.csv\")"
      ],
      "metadata": {
        "id": "knox1keb4QM2"
      },
      "execution_count": null,
      "outputs": []
    },
    {
      "cell_type": "markdown",
      "source": [
        "**Bonus:**\n",
        "\n",
        "Create a column ReturnOnInvestment = Profit / Budget"
      ],
      "metadata": {
        "id": "o65YqgGv4T4L"
      }
    },
    {
      "cell_type": "code",
      "source": [
        "df = pd.read_csv(\"movies.csv\")\n",
        "df[\"Revenue\"].fillna(df[\"Revenue\"].mean(), inplace=True)\n",
        "df[\"Profit\"] = df[\"Revenue\"] - df[\"Budget\"]\n",
        "df[\"ROI\"] = df[\"Profit\"] / df[\"Budget\"]"
      ],
      "metadata": {
        "colab": {
          "base_uri": "https://localhost:8080/"
        },
        "id": "uZKHvY094dAt",
        "outputId": "cb183426-d35e-4e97-dd0c-69793c7e5edb"
      },
      "execution_count": 52,
      "outputs": [
        {
          "output_type": "stream",
          "name": "stderr",
          "text": [
            "/tmp/ipython-input-4042065414.py:2: FutureWarning: A value is trying to be set on a copy of a DataFrame or Series through chained assignment using an inplace method.\n",
            "The behavior will change in pandas 3.0. This inplace method will never work because the intermediate object on which we are setting values always behaves as a copy.\n",
            "\n",
            "For example, when doing 'df[col].method(value, inplace=True)', try using 'df.method({col: value}, inplace=True)' or df[col] = df[col].method(value) instead, to perform the operation inplace on the original object.\n",
            "\n",
            "\n",
            "  df[\"Revenue\"].fillna(df[\"Revenue\"].mean(), inplace=True)\n"
          ]
        }
      ]
    },
    {
      "cell_type": "markdown",
      "source": [
        "Show top ROI movies (minimum budget 􀀀50M)"
      ],
      "metadata": {
        "id": "sXE2ce_M4kuU"
      }
    },
    {
      "cell_type": "code",
      "source": [
        "roi_df = df[df[\"Budget\"] >= 50_000_000].sort_values(by=\"ROI\", ascending=False)"
      ],
      "metadata": {
        "id": "p5YytHnU4nng"
      },
      "execution_count": 53,
      "outputs": []
    },
    {
      "cell_type": "markdown",
      "source": [
        "Plot genre-wise ROI as a bar chart using Pandas"
      ],
      "metadata": {
        "id": "_gp3MuRq4rp4"
      }
    },
    {
      "cell_type": "code",
      "source": [
        "genre_roi = df.groupby(\"Genre\")[\"ROI\"].mean()\n",
        "genre_roi.plot(kind=\"bar\", title=\"Genre-wise ROI\", ylabel=\"ROI\", xlabel=\"Genre\")\n",
        "plt.tight_layout()\n",
        "plt.show()"
      ],
      "metadata": {
        "colab": {
          "base_uri": "https://localhost:8080/",
          "height": 487
        },
        "id": "Md-_BE1T4ui_",
        "outputId": "11268094-9de3-40f3-db25-5d8a66f081c3"
      },
      "execution_count": 54,
      "outputs": [
        {
          "output_type": "display_data",
          "data": {
            "text/plain": [
              "<Figure size 640x480 with 1 Axes>"
            ],
            "image/png": "[encoded data removed]"
          },
          "metadata": {}
        }
      ]
    }
  ]
}