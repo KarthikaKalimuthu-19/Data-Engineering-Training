{
  "nbformat": 4,
  "nbformat_minor": 0,
  "metadata": {
    "colab": {
      "provenance": []
    },
    "kernelspec": {
      "name": "python3",
      "display_name": "Python 3"
    },
    "language_info": {
      "name": "python"
    }
  },
  "cells": [
    {
      "cell_type": "markdown",
      "source": [
        "**Master DataFrame Assignment** – Retail Sales Superstore Dataset\n",
        "\n",
        "Step 1: Sample Dataset (create CSV)"
      ],
      "metadata": {
        "id": "keQQsqgiwIgH"
      }
    },
    {
      "cell_type": "code",
      "execution_count": 18,
      "metadata": {
        "id": "bICID3nZwEJE"
      },
      "outputs": [],
      "source": [
        "import pandas as pd\n",
        "\n",
        "data = \"\"\"OrderID,OrderDate,Customer,Segment,Region,Product,Category,SubCategory,Quantity,UnitPrice,Discount,Profit\n",
        "CA-1001,2023-01-15,Ravi,Consumer,South,Laptop,Technology,Computers,1,55000,0.10,5000\n",
        "CA-1002,2023-02-20,Priya,Corporate,North,Printer,Technology,Peripherals,2,12000,0.15,1800\n",
        "CA-1003,2023-01-25,Amit,Consumer,East,Notebook,Office Supplies,Paper,3,200,0.05,150\n",
        "CA-1004,2023-03-01,Anita,Home Office,West,Table,Furniture,Tables,1,18000,0.20,-1500\n",
        "CA-1005,2023-02-05,Divya,Consumer,South,Phone,Technology,Phones,2,20000,0.00,3000\n",
        "\"\"\"\n",
        "\n",
        "with open('superstore.csv', 'w') as file:\n",
        "    file.write(data)"
      ]
    },
    {
      "cell_type": "markdown",
      "source": [
        "**PART 1: Pandas DataFrame Operations**\n",
        "\n",
        "1. Load the CSV using pandas ."
      ],
      "metadata": {
        "id": "wr8BX-p_xqzJ"
      }
    },
    {
      "cell_type": "code",
      "source": [
        "df = pd.read_csv('superstore.csv')\n",
        "print(df)"
      ],
      "metadata": {
        "colab": {
          "base_uri": "https://localhost:8080/"
        },
        "id": "iHcW-j0sxufK",
        "outputId": "6e9cedfe-1de5-4e6f-a4b7-b0ced8093343"
      },
      "execution_count": 19,
      "outputs": [
        {
          "output_type": "stream",
          "name": "stdout",
          "text": [
            "   OrderID   OrderDate Customer      Segment Region   Product  \\\n",
            "0  CA-1001  2023-01-15     Ravi     Consumer  South    Laptop   \n",
            "1  CA-1002  2023-02-20    Priya    Corporate  North   Printer   \n",
            "2  CA-1003  2023-01-25     Amit     Consumer   East  Notebook   \n",
            "3  CA-1004  2023-03-01    Anita  Home Office   West     Table   \n",
            "4  CA-1005  2023-02-05    Divya     Consumer  South     Phone   \n",
            "\n",
            "          Category  SubCategory  Quantity  UnitPrice  Discount  Profit  \n",
            "0       Technology    Computers         1      55000      0.10    5000  \n",
            "1       Technology  Peripherals         2      12000      0.15    1800  \n",
            "2  Office Supplies        Paper         3        200      0.05     150  \n",
            "3        Furniture       Tables         1      18000      0.20   -1500  \n",
            "4       Technology       Phones         2      20000      0.00    3000  \n"
          ]
        }
      ]
    },
    {
      "cell_type": "markdown",
      "source": [
        "2. Print schema, head, shape, dtypes."
      ],
      "metadata": {
        "id": "Ya3or9LYx1TO"
      }
    },
    {
      "cell_type": "code",
      "source": [
        "print(df.head())"
      ],
      "metadata": {
        "colab": {
          "base_uri": "https://localhost:8080/"
        },
        "id": "I70jhoHzx4VL",
        "outputId": "d0bc3326-8399-4baf-8ada-66908b5cc281"
      },
      "execution_count": 20,
      "outputs": [
        {
          "output_type": "stream",
          "name": "stdout",
          "text": [
            "   OrderID   OrderDate Customer      Segment Region   Product  \\\n",
            "0  CA-1001  2023-01-15     Ravi     Consumer  South    Laptop   \n",
            "1  CA-1002  2023-02-20    Priya    Corporate  North   Printer   \n",
            "2  CA-1003  2023-01-25     Amit     Consumer   East  Notebook   \n",
            "3  CA-1004  2023-03-01    Anita  Home Office   West     Table   \n",
            "4  CA-1005  2023-02-05    Divya     Consumer  South     Phone   \n",
            "\n",
            "          Category  SubCategory  Quantity  UnitPrice  Discount  Profit  \n",
            "0       Technology    Computers         1      55000      0.10    5000  \n",
            "1       Technology  Peripherals         2      12000      0.15    1800  \n",
            "2  Office Supplies        Paper         3        200      0.05     150  \n",
            "3        Furniture       Tables         1      18000      0.20   -1500  \n",
            "4       Technology       Phones         2      20000      0.00    3000  \n"
          ]
        }
      ]
    },
    {
      "cell_type": "code",
      "source": [
        "print(df.shape)"
      ],
      "metadata": {
        "colab": {
          "base_uri": "https://localhost:8080/"
        },
        "id": "i1VZpm3uznlB",
        "outputId": "60259576-7e97-453d-d3a8-982e567a615e"
      },
      "execution_count": 21,
      "outputs": [
        {
          "output_type": "stream",
          "name": "stdout",
          "text": [
            "(5, 12)\n"
          ]
        }
      ]
    },
    {
      "cell_type": "code",
      "source": [
        "print(df.dtypes)"
      ],
      "metadata": {
        "colab": {
          "base_uri": "https://localhost:8080/"
        },
        "id": "o4oaEbyZzzQb",
        "outputId": "5219b617-fbbf-4b6a-c9cd-6042d24c9251"
      },
      "execution_count": 22,
      "outputs": [
        {
          "output_type": "stream",
          "name": "stdout",
          "text": [
            "OrderID         object\n",
            "OrderDate       object\n",
            "Customer        object\n",
            "Segment         object\n",
            "Region          object\n",
            "Product         object\n",
            "Category        object\n",
            "SubCategory     object\n",
            "Quantity         int64\n",
            "UnitPrice        int64\n",
            "Discount       float64\n",
            "Profit           int64\n",
            "dtype: object\n"
          ]
        }
      ]
    },
    {
      "cell_type": "markdown",
      "source": [
        "3. Select Customer , Product , Profit columns."
      ],
      "metadata": {
        "id": "Hw2t4YzQz_wc"
      }
    },
    {
      "cell_type": "code",
      "source": [
        "value = df[['Customer', 'Product', 'Profit']]\n",
        "print(value)"
      ],
      "metadata": {
        "colab": {
          "base_uri": "https://localhost:8080/"
        },
        "id": "rb35we9f0Cd2",
        "outputId": "764963f2-fb1f-43b1-8de7-5cc315b77e56"
      },
      "execution_count": 23,
      "outputs": [
        {
          "output_type": "stream",
          "name": "stdout",
          "text": [
            "  Customer   Product  Profit\n",
            "0     Ravi    Laptop    5000\n",
            "1    Priya   Printer    1800\n",
            "2     Amit  Notebook     150\n",
            "3    Anita     Table   -1500\n",
            "4    Divya     Phone    3000\n"
          ]
        }
      ]
    },
    {
      "cell_type": "markdown",
      "source": [
        "4. Filter orders where Profit > 2000 and Discount = 0"
      ],
      "metadata": {
        "id": "fGCWTIWS1ZUu"
      }
    },
    {
      "cell_type": "code",
      "source": [
        "values = df[(df['Profit'] > 2000) & (df['Discount'] == 0)]\n",
        "print(values)"
      ],
      "metadata": {
        "colab": {
          "base_uri": "https://localhost:8080/"
        },
        "id": "lq1RY8rN1c-9",
        "outputId": "ef19df0f-0a59-4f92-abe5-3b6499a958a0"
      },
      "execution_count": 29,
      "outputs": [
        {
          "output_type": "stream",
          "name": "stdout",
          "text": [
            "   OrderID   OrderDate Customer   Segment Region Product    Category  \\\n",
            "4  CA-1005  2023-02-05    Divya  Consumer  South   Phone  Technology   \n",
            "\n",
            "  SubCategory  Quantity  UnitPrice  Discount  Profit  \n",
            "4      Phones         2      20000       0.0    3000  \n"
          ]
        }
      ]
    },
    {
      "cell_type": "markdown",
      "source": [
        "5. Sort by Profit descending."
      ],
      "metadata": {
        "id": "OgONdMR_4Q1M"
      }
    },
    {
      "cell_type": "code",
      "source": [
        "sort = df.sort_values(by= 'Profit', ascending=False)\n",
        "print(sort)"
      ],
      "metadata": {
        "colab": {
          "base_uri": "https://localhost:8080/"
        },
        "id": "oWvZzdO84W6h",
        "outputId": "96268506-ced8-483a-f411-c08ca5050c14"
      },
      "execution_count": 30,
      "outputs": [
        {
          "output_type": "stream",
          "name": "stdout",
          "text": [
            "   OrderID   OrderDate Customer      Segment Region   Product  \\\n",
            "0  CA-1001  2023-01-15     Ravi     Consumer  South    Laptop   \n",
            "4  CA-1005  2023-02-05    Divya     Consumer  South     Phone   \n",
            "1  CA-1002  2023-02-20    Priya    Corporate  North   Printer   \n",
            "2  CA-1003  2023-01-25     Amit     Consumer   East  Notebook   \n",
            "3  CA-1004  2023-03-01    Anita  Home Office   West     Table   \n",
            "\n",
            "          Category  SubCategory  Quantity  UnitPrice  Discount  Profit  \n",
            "0       Technology    Computers         1      55000      0.10    5000  \n",
            "4       Technology       Phones         2      20000      0.00    3000  \n",
            "1       Technology  Peripherals         2      12000      0.15    1800  \n",
            "2  Office Supplies        Paper         3        200      0.05     150  \n",
            "3        Furniture       Tables         1      18000      0.20   -1500  \n"
          ]
        }
      ]
    },
    {
      "cell_type": "markdown",
      "source": [
        "6. GroupBy Category → Total Profit, Avg Discount."
      ],
      "metadata": {
        "id": "mQVOgR5H5CUs"
      }
    },
    {
      "cell_type": "code",
      "source": [
        "grouped = df.groupby('Category').agg({\n",
        "    'Profit': 'sum',\n",
        "    'Discount': 'mean'\n",
        "})\n",
        "print(grouped)"
      ],
      "metadata": {
        "colab": {
          "base_uri": "https://localhost:8080/"
        },
        "id": "aiOyxYgk5qnt",
        "outputId": "16b4b151-be43-44b2-d6c2-a3f62ac1c6ee"
      },
      "execution_count": 33,
      "outputs": [
        {
          "output_type": "stream",
          "name": "stdout",
          "text": [
            "                 Profit  Discount\n",
            "Category                         \n",
            "Furniture         -1500  0.200000\n",
            "Office Supplies     150  0.050000\n",
            "Technology         9800  0.083333\n"
          ]
        }
      ]
    },
    {
      "cell_type": "markdown",
      "source": [
        "7. Add a column TotalPrice = Quantity * UnitPrice ."
      ],
      "metadata": {
        "id": "Q2NhUfJd8sWu"
      }
    },
    {
      "cell_type": "code",
      "source": [
        "tot = df['Quantity']* df['UnitPrice']\n",
        "df['TotalPrice'] = tot\n",
        "print(df)"
      ],
      "metadata": {
        "colab": {
          "base_uri": "https://localhost:8080/"
        },
        "id": "vq-3pKCQ8zTx",
        "outputId": "9e3eafae-0efa-4851-ed91-d3645c72d3a2"
      },
      "execution_count": 34,
      "outputs": [
        {
          "output_type": "stream",
          "name": "stdout",
          "text": [
            "   OrderID   OrderDate Customer      Segment Region   Product  \\\n",
            "0  CA-1001  2023-01-15     Ravi     Consumer  South    Laptop   \n",
            "1  CA-1002  2023-02-20    Priya    Corporate  North   Printer   \n",
            "2  CA-1003  2023-01-25     Amit     Consumer   East  Notebook   \n",
            "3  CA-1004  2023-03-01    Anita  Home Office   West     Table   \n",
            "4  CA-1005  2023-02-05    Divya     Consumer  South     Phone   \n",
            "\n",
            "          Category  SubCategory  Quantity  UnitPrice  Discount  Profit  \\\n",
            "0       Technology    Computers         1      55000      0.10    5000   \n",
            "1       Technology  Peripherals         2      12000      0.15    1800   \n",
            "2  Office Supplies        Paper         3        200      0.05     150   \n",
            "3        Furniture       Tables         1      18000      0.20   -1500   \n",
            "4       Technology       Phones         2      20000      0.00    3000   \n",
            "\n",
            "   TotalPrice  \n",
            "0       55000  \n",
            "1       24000  \n",
            "2         600  \n",
            "3       18000  \n",
            "4       40000  \n"
          ]
        }
      ]
    },
    {
      "cell_type": "markdown",
      "source": [
        "8. Drop the SubCategory column."
      ],
      "metadata": {
        "id": "bZWpfzJv9EJX"
      }
    },
    {
      "cell_type": "code",
      "source": [
        "df.drop('SubCategory', axis = 1, inplace = True)\n",
        "print(df)"
      ],
      "metadata": {
        "colab": {
          "base_uri": "https://localhost:8080/"
        },
        "id": "IYuRcb4O9HE8",
        "outputId": "be9e7ad4-7bc3-4b88-dbea-446d30a9f5a1"
      },
      "execution_count": 35,
      "outputs": [
        {
          "output_type": "stream",
          "name": "stdout",
          "text": [
            "   OrderID   OrderDate Customer      Segment Region   Product  \\\n",
            "0  CA-1001  2023-01-15     Ravi     Consumer  South    Laptop   \n",
            "1  CA-1002  2023-02-20    Priya    Corporate  North   Printer   \n",
            "2  CA-1003  2023-01-25     Amit     Consumer   East  Notebook   \n",
            "3  CA-1004  2023-03-01    Anita  Home Office   West     Table   \n",
            "4  CA-1005  2023-02-05    Divya     Consumer  South     Phone   \n",
            "\n",
            "          Category  Quantity  UnitPrice  Discount  Profit  TotalPrice  \n",
            "0       Technology         1      55000      0.10    5000       55000  \n",
            "1       Technology         2      12000      0.15    1800       24000  \n",
            "2  Office Supplies         3        200      0.05     150         600  \n",
            "3        Furniture         1      18000      0.20   -1500       18000  \n",
            "4       Technology         2      20000      0.00    3000       40000  \n"
          ]
        }
      ]
    },
    {
      "cell_type": "markdown",
      "source": [
        "9. Fill nulls in Discount with 0.10."
      ],
      "metadata": {
        "id": "85fxUIGy9aWh"
      }
    },
    {
      "cell_type": "code",
      "source": [
        "df['Discount'] = df['Discount'].fillna(0.10)\n",
        "print(df)"
      ],
      "metadata": {
        "colab": {
          "base_uri": "https://localhost:8080/"
        },
        "id": "AOyLxwXf9de0",
        "outputId": "d72474f0-9d44-4877-baca-dec4747ae3a6"
      },
      "execution_count": 38,
      "outputs": [
        {
          "output_type": "stream",
          "name": "stdout",
          "text": [
            "   OrderID   OrderDate Customer      Segment Region   Product  \\\n",
            "0  CA-1001  2023-01-15     Ravi     Consumer  South    Laptop   \n",
            "1  CA-1002  2023-02-20    Priya    Corporate  North   Printer   \n",
            "2  CA-1003  2023-01-25     Amit     Consumer   East  Notebook   \n",
            "3  CA-1004  2023-03-01    Anita  Home Office   West     Table   \n",
            "4  CA-1005  2023-02-05    Divya     Consumer  South     Phone   \n",
            "\n",
            "          Category  Quantity  UnitPrice  Discount  Profit  TotalPrice  \n",
            "0       Technology         1      55000      0.10    5000       55000  \n",
            "1       Technology         2      12000      0.15    1800       24000  \n",
            "2  Office Supplies         3        200      0.05     150         600  \n",
            "3        Furniture         1      18000      0.20   -1500       18000  \n",
            "4       Technology         2      20000      0.00    3000       40000  \n"
          ]
        }
      ]
    },
    {
      "cell_type": "markdown",
      "source": [
        "10. Apply a function to categorize orders:"
      ],
      "metadata": {
        "id": "TMRkIjya9zWX"
      }
    },
    {
      "cell_type": "code",
      "source": [
        "def classify(row):\n",
        "    if row['Profit'] > 4000:\n",
        "        return 'High'\n",
        "    elif row['Profit'] > 0:\n",
        "        return 'Medium'\n",
        "    else:\n",
        "        return 'Low'\n",
        "\n",
        "df['OrderCategory'] = df.apply(classify, axis=1)\n",
        "print(df)"
      ],
      "metadata": {
        "colab": {
          "base_uri": "https://localhost:8080/"
        },
        "id": "RCb3NbvZ9380",
        "outputId": "e0e46f1e-8458-448a-c835-cd1aa483eeeb"
      },
      "execution_count": 39,
      "outputs": [
        {
          "output_type": "stream",
          "name": "stdout",
          "text": [
            "   OrderID   OrderDate Customer      Segment Region   Product  \\\n",
            "0  CA-1001  2023-01-15     Ravi     Consumer  South    Laptop   \n",
            "1  CA-1002  2023-02-20    Priya    Corporate  North   Printer   \n",
            "2  CA-1003  2023-01-25     Amit     Consumer   East  Notebook   \n",
            "3  CA-1004  2023-03-01    Anita  Home Office   West     Table   \n",
            "4  CA-1005  2023-02-05    Divya     Consumer  South     Phone   \n",
            "\n",
            "          Category  Quantity  UnitPrice  Discount  Profit  TotalPrice  \\\n",
            "0       Technology         1      55000      0.10    5000       55000   \n",
            "1       Technology         2      12000      0.15    1800       24000   \n",
            "2  Office Supplies         3        200      0.05     150         600   \n",
            "3        Furniture         1      18000      0.20   -1500       18000   \n",
            "4       Technology         2      20000      0.00    3000       40000   \n",
            "\n",
            "  OrderCategory  \n",
            "0          High  \n",
            "1        Medium  \n",
            "2        Medium  \n",
            "3           Low  \n",
            "4        Medium  \n"
          ]
        }
      ]
    },
    {
      "cell_type": "markdown",
      "source": [
        "**PART 2: PySpark DataFrame Operations**\n",
        "\n",
        "1. Load the same CSV using PySpark."
      ],
      "metadata": {
        "id": "XqWF9Zt_-Ky0"
      }
    },
    {
      "cell_type": "code",
      "source": [
        "from pyspark.sql import SparkSession\n",
        "spark = SparkSession.builder.appName(\"RetailSalesSuperstore\").getOrCreate()\n",
        "spark"
      ],
      "metadata": {
        "colab": {
          "base_uri": "https://localhost:8080/",
          "height": 221
        },
        "id": "52C_6Bg--Qzk",
        "outputId": "4d06b278-6caf-4634-cbcc-9780b204b2f8"
      },
      "execution_count": 48,
      "outputs": [
        {
          "output_type": "execute_result",
          "data": {
            "text/plain": [
              "<pyspark.sql.session.SparkSession at 0x7ce9e5391f90>"
            ],
            "text/html": [
              "\n",
              "            <div>\n",
              "                <p><b>SparkSession - in-memory</b></p>\n",
              "                \n",
              "        <div>\n",
              "            <p><b>SparkContext</b></p>\n",
              "\n",
              "            <p><a href=\"http://464fd863d89f:4040\">Spark UI</a></p>\n",
              "\n",
              "            <dl>\n",
              "              <dt>Version</dt>\n",
              "                <dd><code>v3.5.1</code></dd>\n",
              "              <dt>Master</dt>\n",
              "                <dd><code>local[*]</code></dd>\n",
              "              <dt>AppName</dt>\n",
              "                <dd><code>RetailSalesSuperstore</code></dd>\n",
              "            </dl>\n",
              "        </div>\n",
              "        \n",
              "            </div>\n",
              "        "
            ]
          },
          "metadata": {},
          "execution_count": 48
        }
      ]
    },
    {
      "cell_type": "code",
      "source": [
        "csv_data = \"\"\"OrderID,OrderDate,Customer,Segment,Region,Product,Category,SubCategory,Quantity,UnitPrice,Discount,Profit\n",
        "CA-1001,2023-01-15,Ravi,Consumer,South,Laptop,Technology,Computers,1,55000,0.10,5000\n",
        "CA-1002,2023-02-20,Priya,Corporate,North,Printer,Technology,Peripherals,2,12000,0.15,1800\n",
        "CA-1003,2023-01-25,Amit,Consumer,East,Notebook,Office Supplies,Paper,3,200,0.05,150\n",
        "CA-1004,2023-03-01,Anita,Home Office,West,Table,Furniture,Tables,1,18000,0.20,-1500\n",
        "CA-1005,2023-02-05,Divya,Consumer,South,Phone,Technology,Phones,2,20000,0.00,3000\n",
        "\"\"\"\n",
        "\n",
        "with open(\"superstore.csv\", \"w\") as f:\n",
        "    f.write(csv_data)\n",
        "\n",
        "df = spark.read.csv(\"superstore.csv\", header=True, inferSchema=True)\n",
        "df.show()"
      ],
      "metadata": {
        "colab": {
          "base_uri": "https://localhost:8080/"
        },
        "id": "edR2rSni_AMc",
        "outputId": "2fb9de52-368a-4ce5-80de-9ccb92ce0af4"
      },
      "execution_count": 43,
      "outputs": [
        {
          "output_type": "stream",
          "name": "stdout",
          "text": [
            "+-------+----------+--------+-----------+------+--------+---------------+-----------+--------+---------+--------+------+\n",
            "|OrderID| OrderDate|Customer|    Segment|Region| Product|       Category|SubCategory|Quantity|UnitPrice|Discount|Profit|\n",
            "+-------+----------+--------+-----------+------+--------+---------------+-----------+--------+---------+--------+------+\n",
            "|CA-1001|2023-01-15|    Ravi|   Consumer| South|  Laptop|     Technology|  Computers|       1|    55000|     0.1|  5000|\n",
            "|CA-1002|2023-02-20|   Priya|  Corporate| North| Printer|     Technology|Peripherals|       2|    12000|    0.15|  1800|\n",
            "|CA-1003|2023-01-25|    Amit|   Consumer|  East|Notebook|Office Supplies|      Paper|       3|      200|    0.05|   150|\n",
            "|CA-1004|2023-03-01|   Anita|Home Office|  West|   Table|      Furniture|     Tables|       1|    18000|     0.2| -1500|\n",
            "|CA-1005|2023-02-05|   Divya|   Consumer| South|   Phone|     Technology|     Phones|       2|    20000|     0.0|  3000|\n",
            "+-------+----------+--------+-----------+------+--------+---------------+-----------+--------+---------+--------+------+\n",
            "\n"
          ]
        }
      ]
    },
    {
      "cell_type": "markdown",
      "source": [
        "2. Show schema and first 5 rows."
      ],
      "metadata": {
        "id": "nUtPMfqo_1eA"
      }
    },
    {
      "cell_type": "code",
      "source": [
        "df.printSchema()\n",
        "df.show(5)"
      ],
      "metadata": {
        "colab": {
          "base_uri": "https://localhost:8080/"
        },
        "id": "XdJbgHjX_5ME",
        "outputId": "82974906-7018-472d-8d5c-ba847921d969"
      },
      "execution_count": 45,
      "outputs": [
        {
          "output_type": "stream",
          "name": "stdout",
          "text": [
            "root\n",
            " |-- OrderID: string (nullable = true)\n",
            " |-- OrderDate: date (nullable = true)\n",
            " |-- Customer: string (nullable = true)\n",
            " |-- Segment: string (nullable = true)\n",
            " |-- Region: string (nullable = true)\n",
            " |-- Product: string (nullable = true)\n",
            " |-- Category: string (nullable = true)\n",
            " |-- SubCategory: string (nullable = true)\n",
            " |-- Quantity: integer (nullable = true)\n",
            " |-- UnitPrice: integer (nullable = true)\n",
            " |-- Discount: double (nullable = true)\n",
            " |-- Profit: integer (nullable = true)\n",
            "\n",
            "+-------+----------+--------+-----------+------+--------+---------------+-----------+--------+---------+--------+------+\n",
            "|OrderID| OrderDate|Customer|    Segment|Region| Product|       Category|SubCategory|Quantity|UnitPrice|Discount|Profit|\n",
            "+-------+----------+--------+-----------+------+--------+---------------+-----------+--------+---------+--------+------+\n",
            "|CA-1001|2023-01-15|    Ravi|   Consumer| South|  Laptop|     Technology|  Computers|       1|    55000|     0.1|  5000|\n",
            "|CA-1002|2023-02-20|   Priya|  Corporate| North| Printer|     Technology|Peripherals|       2|    12000|    0.15|  1800|\n",
            "|CA-1003|2023-01-25|    Amit|   Consumer|  East|Notebook|Office Supplies|      Paper|       3|      200|    0.05|   150|\n",
            "|CA-1004|2023-03-01|   Anita|Home Office|  West|   Table|      Furniture|     Tables|       1|    18000|     0.2| -1500|\n",
            "|CA-1005|2023-02-05|   Divya|   Consumer| South|   Phone|     Technology|     Phones|       2|    20000|     0.0|  3000|\n",
            "+-------+----------+--------+-----------+------+--------+---------------+-----------+--------+---------+--------+------+\n",
            "\n"
          ]
        }
      ]
    },
    {
      "cell_type": "markdown",
      "source": [
        "3. Select columns, Rename Customer → Client ."
      ],
      "metadata": {
        "id": "YtsxqvnkAGWp"
      }
    },
    {
      "cell_type": "code",
      "source": [
        "from pyspark.sql.functions import col\n",
        "\n",
        "renamed = df.select(col(\"Customer\").alias(\"Client\"))\n",
        "renamed.show()"
      ],
      "metadata": {
        "colab": {
          "base_uri": "https://localhost:8080/"
        },
        "id": "LDGuOf6BAJbK",
        "outputId": "fe18ff11-f8f9-496e-d041-3e7205e93ecb"
      },
      "execution_count": 50,
      "outputs": [
        {
          "output_type": "stream",
          "name": "stdout",
          "text": [
            "+------+\n",
            "|Client|\n",
            "+------+\n",
            "|  Ravi|\n",
            "| Priya|\n",
            "|  Amit|\n",
            "| Anita|\n",
            "| Divya|\n",
            "+------+\n",
            "\n"
          ]
        }
      ]
    },
    {
      "cell_type": "markdown",
      "source": [
        "4. Filter Segment = 'Consumer' and Profit < 1000 ."
      ],
      "metadata": {
        "id": "BwCh7llHA6XB"
      }
    },
    {
      "cell_type": "code",
      "source": [
        "filtered = df.filter((col('Segment') == 'Consumer') & (col('Profit') <1000))\n",
        "filtered.show()"
      ],
      "metadata": {
        "colab": {
          "base_uri": "https://localhost:8080/"
        },
        "id": "wiqoa04fA9tJ",
        "outputId": "004d9d7a-e16d-4ae3-ff0e-45fe735c6473"
      },
      "execution_count": 53,
      "outputs": [
        {
          "output_type": "stream",
          "name": "stdout",
          "text": [
            "+-------+----------+--------+--------+------+--------+---------------+-----------+--------+---------+--------+------+\n",
            "|OrderID| OrderDate|Customer| Segment|Region| Product|       Category|SubCategory|Quantity|UnitPrice|Discount|Profit|\n",
            "+-------+----------+--------+--------+------+--------+---------------+-----------+--------+---------+--------+------+\n",
            "|CA-1003|2023-01-25|    Amit|Consumer|  East|Notebook|Office Supplies|      Paper|       3|      200|    0.05|   150|\n",
            "+-------+----------+--------+--------+------+--------+---------------+-----------+--------+---------+--------+------+\n",
            "\n"
          ]
        }
      ]
    },
    {
      "cell_type": "markdown",
      "source": [
        "5. GroupBy Region and show average profit."
      ],
      "metadata": {
        "id": "dqdoDdw0BlRP"
      }
    },
    {
      "cell_type": "code",
      "source": [
        "grouped_region = df.groupBy('Region').agg({'Profit': 'mean'})\n",
        "grouped_region.show()"
      ],
      "metadata": {
        "colab": {
          "base_uri": "https://localhost:8080/"
        },
        "id": "BuBmuvCcBpD-",
        "outputId": "36965cba-21f7-47be-9601-60ebca7fc0ca"
      },
      "execution_count": 55,
      "outputs": [
        {
          "output_type": "stream",
          "name": "stdout",
          "text": [
            "+------+-----------+\n",
            "|Region|avg(Profit)|\n",
            "+------+-----------+\n",
            "| South|     4000.0|\n",
            "|  East|      150.0|\n",
            "|  West|    -1500.0|\n",
            "| North|     1800.0|\n",
            "+------+-----------+\n",
            "\n"
          ]
        }
      ]
    },
    {
      "cell_type": "markdown",
      "source": [
        "6. Use withColumn to create TotalPrice = Quantity * UnitPrice ."
      ],
      "metadata": {
        "id": "zg1rimPrCZiS"
      }
    },
    {
      "cell_type": "code",
      "source": [
        "total = df.withColumn('TotalPrice', col('Quantity')*col('UnitPrice'))\n",
        "total.show()"
      ],
      "metadata": {
        "colab": {
          "base_uri": "https://localhost:8080/"
        },
        "id": "i3OpylOuChHj",
        "outputId": "9a7743eb-3d55-4070-9f2d-3f9c33fdbbe2"
      },
      "execution_count": 56,
      "outputs": [
        {
          "output_type": "stream",
          "name": "stdout",
          "text": [
            "+-------+----------+--------+-----------+------+--------+---------------+-----------+--------+---------+--------+------+----------+\n",
            "|OrderID| OrderDate|Customer|    Segment|Region| Product|       Category|SubCategory|Quantity|UnitPrice|Discount|Profit|TotalPrice|\n",
            "+-------+----------+--------+-----------+------+--------+---------------+-----------+--------+---------+--------+------+----------+\n",
            "|CA-1001|2023-01-15|    Ravi|   Consumer| South|  Laptop|     Technology|  Computers|       1|    55000|     0.1|  5000|     55000|\n",
            "|CA-1002|2023-02-20|   Priya|  Corporate| North| Printer|     Technology|Peripherals|       2|    12000|    0.15|  1800|     24000|\n",
            "|CA-1003|2023-01-25|    Amit|   Consumer|  East|Notebook|Office Supplies|      Paper|       3|      200|    0.05|   150|       600|\n",
            "|CA-1004|2023-03-01|   Anita|Home Office|  West|   Table|      Furniture|     Tables|       1|    18000|     0.2| -1500|     18000|\n",
            "|CA-1005|2023-02-05|   Divya|   Consumer| South|   Phone|     Technology|     Phones|       2|    20000|     0.0|  3000|     40000|\n",
            "+-------+----------+--------+-----------+------+--------+---------------+-----------+--------+---------+--------+------+----------+\n",
            "\n"
          ]
        }
      ]
    },
    {
      "cell_type": "markdown",
      "source": [
        "7. Use when().otherwise() to classify Profit as:\n",
        "'Profit' > 2000 → 'High'\n",
        "'Profit' <= 0 → 'Loss'\n",
        "else 'Medium'"
      ],
      "metadata": {
        "id": "_ImTDiWnDDXM"
      }
    },
    {
      "cell_type": "code",
      "source": [
        "from pyspark.sql.functions import when\n",
        "\n",
        "profits = df.withColumn('ProfitCategory', when((col('Profit') > 2000), 'High') .when((col('Profit') <= 0), 'Loss') .otherwise('Medium'))\n",
        "profits.show()"
      ],
      "metadata": {
        "colab": {
          "base_uri": "https://localhost:8080/"
        },
        "id": "X5Dan2mkDHyj",
        "outputId": "5ff9d9be-17f2-4845-a0d5-4608126b8836"
      },
      "execution_count": 57,
      "outputs": [
        {
          "output_type": "stream",
          "name": "stdout",
          "text": [
            "+-------+----------+--------+-----------+------+--------+---------------+-----------+--------+---------+--------+------+--------------+\n",
            "|OrderID| OrderDate|Customer|    Segment|Region| Product|       Category|SubCategory|Quantity|UnitPrice|Discount|Profit|ProfitCategory|\n",
            "+-------+----------+--------+-----------+------+--------+---------------+-----------+--------+---------+--------+------+--------------+\n",
            "|CA-1001|2023-01-15|    Ravi|   Consumer| South|  Laptop|     Technology|  Computers|       1|    55000|     0.1|  5000|          High|\n",
            "|CA-1002|2023-02-20|   Priya|  Corporate| North| Printer|     Technology|Peripherals|       2|    12000|    0.15|  1800|        Medium|\n",
            "|CA-1003|2023-01-25|    Amit|   Consumer|  East|Notebook|Office Supplies|      Paper|       3|      200|    0.05|   150|        Medium|\n",
            "|CA-1004|2023-03-01|   Anita|Home Office|  West|   Table|      Furniture|     Tables|       1|    18000|     0.2| -1500|          Loss|\n",
            "|CA-1005|2023-02-05|   Divya|   Consumer| South|   Phone|     Technology|     Phones|       2|    20000|     0.0|  3000|          High|\n",
            "+-------+----------+--------+-----------+------+--------+---------------+-----------+--------+---------+--------+------+--------------+\n",
            "\n"
          ]
        }
      ]
    },
    {
      "cell_type": "markdown",
      "source": [
        "8. Use drop() to remove SubCategory ."
      ],
      "metadata": {
        "id": "dgAhkw2oDgzb"
      }
    },
    {
      "cell_type": "code",
      "source": [
        "droping = df.drop('SubCategory')\n",
        "droping.show()"
      ],
      "metadata": {
        "colab": {
          "base_uri": "https://localhost:8080/"
        },
        "id": "wrqBNKCCDjzX",
        "outputId": "62a3143d-c617-42b5-f435-87527803bdca"
      },
      "execution_count": 58,
      "outputs": [
        {
          "output_type": "stream",
          "name": "stdout",
          "text": [
            "+-------+----------+--------+-----------+------+--------+---------------+--------+---------+--------+------+\n",
            "|OrderID| OrderDate|Customer|    Segment|Region| Product|       Category|Quantity|UnitPrice|Discount|Profit|\n",
            "+-------+----------+--------+-----------+------+--------+---------------+--------+---------+--------+------+\n",
            "|CA-1001|2023-01-15|    Ravi|   Consumer| South|  Laptop|     Technology|       1|    55000|     0.1|  5000|\n",
            "|CA-1002|2023-02-20|   Priya|  Corporate| North| Printer|     Technology|       2|    12000|    0.15|  1800|\n",
            "|CA-1003|2023-01-25|    Amit|   Consumer|  East|Notebook|Office Supplies|       3|      200|    0.05|   150|\n",
            "|CA-1004|2023-03-01|   Anita|Home Office|  West|   Table|      Furniture|       1|    18000|     0.2| -1500|\n",
            "|CA-1005|2023-02-05|   Divya|   Consumer| South|   Phone|     Technology|       2|    20000|     0.0|  3000|\n",
            "+-------+----------+--------+-----------+------+--------+---------------+--------+---------+--------+------+\n",
            "\n"
          ]
        }
      ]
    },
    {
      "cell_type": "markdown",
      "source": [
        "9. Handle nulls in Discount using fillna(0.10) ."
      ],
      "metadata": {
        "id": "guR1S16_Dr9b"
      }
    },
    {
      "cell_type": "code",
      "source": [
        "df = df.fillna({\"Discount\": 0.10})\n",
        "df.show()"
      ],
      "metadata": {
        "colab": {
          "base_uri": "https://localhost:8080/"
        },
        "id": "mVTAubMSDvBw",
        "outputId": "06218af8-0756-493e-af25-56dbb022b7c3"
      },
      "execution_count": 61,
      "outputs": [
        {
          "output_type": "stream",
          "name": "stdout",
          "text": [
            "+-------+----------+--------+-----------+------+--------+---------------+-----------+--------+---------+--------+------+\n",
            "|OrderID| OrderDate|Customer|    Segment|Region| Product|       Category|SubCategory|Quantity|UnitPrice|Discount|Profit|\n",
            "+-------+----------+--------+-----------+------+--------+---------------+-----------+--------+---------+--------+------+\n",
            "|CA-1001|2023-01-15|    Ravi|   Consumer| South|  Laptop|     Technology|  Computers|       1|    55000|     0.1|  5000|\n",
            "|CA-1002|2023-02-20|   Priya|  Corporate| North| Printer|     Technology|Peripherals|       2|    12000|    0.15|  1800|\n",
            "|CA-1003|2023-01-25|    Amit|   Consumer|  East|Notebook|Office Supplies|      Paper|       3|      200|    0.05|   150|\n",
            "|CA-1004|2023-03-01|   Anita|Home Office|  West|   Table|      Furniture|     Tables|       1|    18000|     0.2| -1500|\n",
            "|CA-1005|2023-02-05|   Divya|   Consumer| South|   Phone|     Technology|     Phones|       2|    20000|     0.0|  3000|\n",
            "+-------+----------+--------+-----------+------+--------+---------------+-----------+--------+---------+--------+------+\n",
            "\n"
          ]
        }
      ]
    },
    {
      "cell_type": "markdown",
      "source": [
        "10. Convert OrderDate to date type and extract year , month ."
      ],
      "metadata": {
        "id": "l_9BE0DrEE5s"
      }
    },
    {
      "cell_type": "code",
      "source": [
        "from pyspark.sql.functions import to_date, year, month\n",
        "\n",
        "df = df.withColumn(\"OrderDate\", to_date(col(\"OrderDate\"), \"yyyy-MM-dd\"))\n",
        "df = df.withColumn(\"OrderYear\", year(\"OrderDate\"))\n",
        "df = df.withColumn(\"OrderMonth\", month(\"OrderDate\"))\n",
        "df.select(\"OrderID\", \"OrderDate\", \"OrderYear\", \"OrderMonth\").show()"
      ],
      "metadata": {
        "colab": {
          "base_uri": "https://localhost:8080/"
        },
        "id": "KkwA9lyfEIr9",
        "outputId": "50df9d90-f1c9-4662-c8e1-cc8f1d56e787"
      },
      "execution_count": 64,
      "outputs": [
        {
          "output_type": "stream",
          "name": "stdout",
          "text": [
            "+-------+----------+---------+----------+\n",
            "|OrderID| OrderDate|OrderYear|OrderMonth|\n",
            "+-------+----------+---------+----------+\n",
            "|CA-1001|2023-01-15|     2023|         1|\n",
            "|CA-1002|2023-02-20|     2023|         2|\n",
            "|CA-1003|2023-01-25|     2023|         1|\n",
            "|CA-1004|2023-03-01|     2023|         3|\n",
            "|CA-1005|2023-02-05|     2023|         2|\n",
            "+-------+----------+---------+----------+\n",
            "\n"
          ]
        }
      ]
    },
    {
      "cell_type": "markdown",
      "source": [
        "**PART 3: Dask DataFrame Operations (Pandas Alternative)**"
      ],
      "metadata": {
        "id": "YDk1K9sgFC8R"
      }
    },
    {
      "cell_type": "markdown",
      "source": [
        "1. Install Dask:"
      ],
      "metadata": {
        "id": "iYrZwmY1FVoZ"
      }
    },
    {
      "cell_type": "code",
      "source": [
        "!pip install dask"
      ],
      "metadata": {
        "colab": {
          "base_uri": "https://localhost:8080/"
        },
        "id": "BsA6rXAJFJkO",
        "outputId": "ee6cb9d6-787f-4a86-f960-8065ac8eed8f"
      },
      "execution_count": 65,
      "outputs": [
        {
          "output_type": "stream",
          "name": "stdout",
          "text": [
            "Requirement already satisfied: dask in /usr/local/lib/python3.11/dist-packages (2025.5.0)\n",
            "Requirement already satisfied: click>=8.1 in /usr/local/lib/python3.11/dist-packages (from dask) (8.2.1)\n",
            "Requirement already satisfied: cloudpickle>=3.0.0 in /usr/local/lib/python3.11/dist-packages (from dask) (3.1.1)\n",
            "Requirement already satisfied: fsspec>=2021.09.0 in /usr/local/lib/python3.11/dist-packages (from dask) (2025.3.0)\n",
            "Requirement already satisfied: packaging>=20.0 in /usr/local/lib/python3.11/dist-packages (from dask) (25.0)\n",
            "Requirement already satisfied: partd>=1.4.0 in /usr/local/lib/python3.11/dist-packages (from dask) (1.4.2)\n",
            "Requirement already satisfied: pyyaml>=5.3.1 in /usr/local/lib/python3.11/dist-packages (from dask) (6.0.2)\n",
            "Requirement already satisfied: toolz>=0.10.0 in /usr/local/lib/python3.11/dist-packages (from dask) (0.12.1)\n",
            "Requirement already satisfied: importlib_metadata>=4.13.0 in /usr/local/lib/python3.11/dist-packages (from dask) (8.7.0)\n",
            "Requirement already satisfied: zipp>=3.20 in /usr/local/lib/python3.11/dist-packages (from importlib_metadata>=4.13.0->dask) (3.23.0)\n",
            "Requirement already satisfied: locket in /usr/local/lib/python3.11/dist-packages (from partd>=1.4.0->dask) (1.0.0)\n"
          ]
        }
      ]
    },
    {
      "cell_type": "markdown",
      "source": [
        "2. Load the same superstore.csv :"
      ],
      "metadata": {
        "id": "X2BbW80nFXs8"
      }
    },
    {
      "cell_type": "code",
      "source": [
        "import dask.dataframe as dd\n",
        "df = dd.read_csv('superstore.csv')"
      ],
      "metadata": {
        "id": "I_zik5nGFSxC"
      },
      "execution_count": 70,
      "outputs": []
    },
    {
      "cell_type": "markdown",
      "source": [
        "3. Do the following:\n",
        "Compute average discount by category.\n",
        "Filter orders with more than 1 quantity and high profit.\n",
        "Save filtered data to new CSV."
      ],
      "metadata": {
        "id": "_B_Ys7GiF0CU"
      }
    },
    {
      "cell_type": "code",
      "source": [
        "avg_discount = df.groupby('Category')['Discount'].mean().compute()\n",
        "print(avg_discount)\n",
        "\n",
        "filtered = df[(df['Quantity'] > 1) & (df['Profit'] > 2000)]\n",
        "\n",
        "filtered.to_csv('filtered_orders_*.csv', single_file=True)"
      ],
      "metadata": {
        "colab": {
          "base_uri": "https://localhost:8080/"
        },
        "id": "W8inYF1wF3LO",
        "outputId": "ae9aea0d-fda0-4ff0-86c1-f93089e6df47"
      },
      "execution_count": 72,
      "outputs": [
        {
          "output_type": "stream",
          "name": "stdout",
          "text": [
            "Category\n",
            "Furniture          0.200000\n",
            "Office Supplies    0.050000\n",
            "Technology         0.083333\n",
            "Name: Discount, dtype: float64\n"
          ]
        },
        {
          "output_type": "execute_result",
          "data": {
            "text/plain": [
              "['/content/filtered_orders_*.csv']"
            ]
          },
          "metadata": {},
          "execution_count": 72
        }
      ]
    },
    {
      "cell_type": "markdown",
      "source": [
        "**PART 4: JSON Handling (Complex Nested)**\n",
        "\n",
        "1. Create a nested JSON file:"
      ],
      "metadata": {
        "id": "IgV22SuUGOGV"
      }
    },
    {
      "cell_type": "code",
      "source": [
        "import json\n",
        "\n",
        "orders =[\n",
        "{\n",
        "\"OrderID\": \"CA-1001\",\n",
        "\"Customer\": {\"Name\": \"Ravi\", \"Segment\": \"Consumer\"},\n",
        "\"Details\": {\"Region\": \"South\", \"Profit\": 5000}\n",
        "},\n",
        "{\n",
        "\"OrderID\": \"CA-1002\",\n",
        "\"Customer\": {\"Name\": \"Priya\", \"Segment\": \"Corporate\"},\n",
        "\"Details\": {\"Region\": \"North\", \"Profit\": 1800}\n",
        "}\n",
        "]\n",
        "\n",
        "with open('orders.json', 'w') as f:\n",
        "    json.dump(orders, f, indent=4)\n",
        "\n",
        "print(\"orders.json created successfully.\")"
      ],
      "metadata": {
        "colab": {
          "base_uri": "https://localhost:8080/"
        },
        "id": "Flcr8CHbGSfw",
        "outputId": "2a727a4a-cad0-4790-a590-812aa53eb81c"
      },
      "execution_count": 84,
      "outputs": [
        {
          "output_type": "stream",
          "name": "stdout",
          "text": [
            "orders.json created successfully.\n"
          ]
        }
      ]
    },
    {
      "cell_type": "markdown",
      "source": [
        "2. Load it using PySpark:"
      ],
      "metadata": {
        "id": "5SRaCm_bHQQg"
      }
    },
    {
      "cell_type": "code",
      "source": [
        "spark = SparkSession.builder.appName(\"JSONHandling\").getOrCreate()\n",
        "\n",
        "df_json = spark.read.json('orders.json', multiLine=True)\n",
        "df_json.printSchema()"
      ],
      "metadata": {
        "colab": {
          "base_uri": "https://localhost:8080/"
        },
        "id": "tabaFdyzHTcb",
        "outputId": "6e6c6b27-3499-499e-e2ba-63edc8fb2dac"
      },
      "execution_count": 85,
      "outputs": [
        {
          "output_type": "stream",
          "name": "stdout",
          "text": [
            "root\n",
            " |-- Customer: struct (nullable = true)\n",
            " |    |-- Name: string (nullable = true)\n",
            " |    |-- Segment: string (nullable = true)\n",
            " |-- Details: struct (nullable = true)\n",
            " |    |-- Profit: long (nullable = true)\n",
            " |    |-- Region: string (nullable = true)\n",
            " |-- OrderID: string (nullable = true)\n",
            "\n"
          ]
        }
      ]
    },
    {
      "cell_type": "code",
      "source": [
        "df_json.select(\"OrderID\", \"Customer.Name\", \"Details.Profit\").show()"
      ],
      "metadata": {
        "colab": {
          "base_uri": "https://localhost:8080/"
        },
        "id": "YKKjd_gRK0NQ",
        "outputId": "ca0c1ed3-aaa5-4417-f463-08a23f9abea7"
      },
      "execution_count": 86,
      "outputs": [
        {
          "output_type": "stream",
          "name": "stdout",
          "text": [
            "+-------+-----+------+\n",
            "|OrderID| Name|Profit|\n",
            "+-------+-----+------+\n",
            "|CA-1001| Ravi|  5000|\n",
            "|CA-1002|Priya|  1800|\n",
            "+-------+-----+------+\n",
            "\n"
          ]
        }
      ]
    }
  ]
}