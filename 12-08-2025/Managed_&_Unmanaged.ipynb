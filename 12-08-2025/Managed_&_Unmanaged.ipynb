{
  "nbformat": 4,
  "nbformat_minor": 0,
  "metadata": {
    "colab": {
      "provenance": []
    },
    "kernelspec": {
      "name": "python3",
      "display_name": "Python 3"
    },
    "language_info": {
      "name": "python"
    }
  },
  "cells": [
    {
      "cell_type": "code",
      "source": [
        "!pip install delta-spark==3.2.0 -q\n",
        "import pyspark\n",
        "from delta import *\n",
        "from pyspark.sql.functions import *\n",
        "\n",
        "# Create a SparkSession with Delta Lake extensions\n",
        "# The '.config(...)' lines are crucial for enabling Delta Lake's features\n",
        "builder = pyspark.sql.SparkSession.builder.appName(\"DeltaTutorial\") \\\n",
        "    .config(\"spark.sql.extensions\", \"io.delta.sql.DeltaSparkSessionExtension\") \\\n",
        "    .config(\"spark.sql.catalog.spark_catalog\", \"org.apache.spark.sql.delta.catalog.DeltaCatalog\")\n",
        "\n",
        "# Get or create the SparkSession\n",
        "spark = configure_spark_with_delta_pip(builder).getOrCreate()\n",
        "\n",
        "print(\"Spark and Delta Lake are ready!\")"
      ],
      "metadata": {
        "colab": {
          "base_uri": "https://localhost:8080/"
        },
        "id": "FW02AxWGoS-w",
        "outputId": "e6aae8d8-9a66-489e-bd41-2cfcca5bb06c"
      },
      "execution_count": 1,
      "outputs": [
        {
          "output_type": "stream",
          "name": "stdout",
          "text": [
            "Spark and Delta Lake are ready!\n"
          ]
        }
      ]
    },
    {
      "cell_type": "code",
      "source": [
        "#Managed data - if DB got deleted whole data and metadata also got deleted.\n",
        "#Unmanaged data - if DB got deleted only metadata will gone data will still present.\n",
        "\n",
        "data = [(\"Amit\", 28), (\"Priya\", 32), (\"Rahul\", 25)]\n",
        "df = spark.createDataFrame(data, [\"Name\", \"Age\"])\n",
        "\n",
        "df.write.format(\"delta\").saveAsTable(\"managed_people\")\n",
        "\n",
        "spark.sql(\"SELECT * FROM managed_people\").show()\n",
        "\n",
        "location = spark.sql(\"DESCRIBE DETAIL managed_people\").collect()[0][\"location\"]\n",
        "print(\"Managed table location: \", location)"
      ],
      "metadata": {
        "colab": {
          "base_uri": "https://localhost:8080/"
        },
        "id": "_eYgr7F8qFSu",
        "outputId": "592e21dd-5abc-448f-ecb9-250ab2246f76"
      },
      "execution_count": 2,
      "outputs": [
        {
          "output_type": "stream",
          "name": "stdout",
          "text": [
            "+-----+---+\n",
            "| Name|Age|\n",
            "+-----+---+\n",
            "|Priya| 32|\n",
            "|Rahul| 25|\n",
            "| Amit| 28|\n",
            "+-----+---+\n",
            "\n",
            "Managed table location:  file:/content/spark-warehouse/managed_people\n"
          ]
        }
      ]
    },
    {
      "cell_type": "code",
      "source": [
        "!pip install pyspark==3.5.0\n",
        "\n",
        "\n",
        "from pyspark.sql import SparkSession\n",
        "\n",
        "spark = SparkSession.builder \\\n",
        "    .appName(\"CSVExample\") \\\n",
        "    .config(\"spark.sql.catalogImplementation\", \"in-memory\") \\\n",
        "    .getOrCreate()\n",
        "\n",
        "\n",
        "import pandas as pd\n",
        "import os\n",
        "\n",
        "data = {\n",
        "    \"Name\": [\"Amit\", \"Priya\", \"Rahul\"],\n",
        "    \"Age\": [28, 32, 25]\n",
        "}\n",
        "csv_path = \"/content/sample_people.csv\"\n",
        "pd.DataFrame(data).to_csv(csv_path, index=False)\n",
        "print(f\"CSV created at: {csv_path}\")\n",
        "\n",
        "\n",
        "df_spark = spark.read.csv(csv_path, header=True, inferSchema=True)\n",
        "df_spark.show()\n",
        "\n",
        "if os.path.exists(csv_path):\n",
        "    os.remove(csv_path)\n",
        "    print(\"CSV file deleted successfully.\")\n",
        "else:\n",
        "    print(\"CSV file not found.\")"
      ],
      "metadata": {
        "colab": {
          "base_uri": "https://localhost:8080/"
        },
        "id": "B0U6DpAltNtV",
        "outputId": "a8831dcc-77b6-488b-efbb-0d8828436e01"
      },
      "execution_count": 3,
      "outputs": [
        {
          "output_type": "stream",
          "name": "stdout",
          "text": [
            "Requirement already satisfied: pyspark==3.5.0 in /usr/local/lib/python3.11/dist-packages (3.5.0)\n",
            "Requirement already satisfied: py4j==0.10.9.7 in /usr/local/lib/python3.11/dist-packages (from pyspark==3.5.0) (0.10.9.7)\n",
            "CSV created at: /content/sample_people.csv\n",
            "+-----+---+\n",
            "| Name|Age|\n",
            "+-----+---+\n",
            "| Amit| 28|\n",
            "|Priya| 32|\n",
            "|Rahul| 25|\n",
            "+-----+---+\n",
            "\n",
            "CSV file deleted successfully.\n"
          ]
        }
      ]
    }
  ]
}