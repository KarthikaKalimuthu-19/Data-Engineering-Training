{
  "nbformat": 4,
  "nbformat_minor": 0,
  "metadata": {
    "colab": {
      "provenance": []
    },
    "kernelspec": {
      "name": "python3",
      "display_name": "Python 3"
    },
    "language_info": {
      "name": "python"
    }
  },
  "cells": [
    {
      "cell_type": "code",
      "execution_count": 3,
      "metadata": {
        "id": "26Kz5wfbbhXN"
      },
      "outputs": [],
      "source": [
        "from pyspark.sql import SparkSession\n",
        "\n",
        "spark = SparkSession.builder.appName('rdd').master(\"local[*]\").getOrCreate()\n",
        "\n",
        "sc = spark.sparkContext"
      ]
    },
    {
      "cell_type": "code",
      "source": [
        "num = sc.parallelize([1,2,3,4,5])"
      ],
      "metadata": {
        "id": "zZ07RyfAc8ED"
      },
      "execution_count": 8,
      "outputs": []
    },
    {
      "cell_type": "code",
      "source": [
        "num.collect()"
      ],
      "metadata": {
        "colab": {
          "base_uri": "https://localhost:8080/"
        },
        "id": "lHNOENB4dE9l",
        "outputId": "ae95ee06-f377-404a-ab7b-4186ec2327bf"
      },
      "execution_count": 9,
      "outputs": [
        {
          "output_type": "execute_result",
          "data": {
            "text/plain": [
              "[1, 2, 3, 4, 5]"
            ]
          },
          "metadata": {},
          "execution_count": 9
        }
      ]
    },
    {
      "cell_type": "code",
      "source": [
        "num.count()"
      ],
      "metadata": {
        "colab": {
          "base_uri": "https://localhost:8080/"
        },
        "id": "77ecIBZMdMfZ",
        "outputId": "ebd0fa55-b799-477b-c7e0-7c68e5ae9b6f"
      },
      "execution_count": 10,
      "outputs": [
        {
          "output_type": "execute_result",
          "data": {
            "text/plain": [
              "5"
            ]
          },
          "metadata": {},
          "execution_count": 10
        }
      ]
    },
    {
      "cell_type": "code",
      "source": [
        "num.take(2)"
      ],
      "metadata": {
        "colab": {
          "base_uri": "https://localhost:8080/"
        },
        "id": "fSu5I_HZdQJ-",
        "outputId": "eb1bdf00-664f-42b6-817e-28a9ecd08a49"
      },
      "execution_count": 11,
      "outputs": [
        {
          "output_type": "execute_result",
          "data": {
            "text/plain": [
              "[1, 2]"
            ]
          },
          "metadata": {},
          "execution_count": 11
        }
      ]
    },
    {
      "cell_type": "code",
      "source": [
        "squares = num.map(lambda x: x*x)   # --> Transformations\n",
        "squares.collect()"
      ],
      "metadata": {
        "colab": {
          "base_uri": "https://localhost:8080/"
        },
        "id": "P4_MebNziad4",
        "outputId": "b0bf9c5e-871d-41cc-e493-c65eb58240f0"
      },
      "execution_count": 13,
      "outputs": [
        {
          "output_type": "execute_result",
          "data": {
            "text/plain": [
              "[1, 4, 9, 16, 25]"
            ]
          },
          "metadata": {},
          "execution_count": 13
        }
      ]
    },
    {
      "cell_type": "code",
      "source": [
        "even = squares.filter(lambda x: x%2 == 0)\n",
        "even.collect()"
      ],
      "metadata": {
        "colab": {
          "base_uri": "https://localhost:8080/"
        },
        "id": "BfDOG0iHik-j",
        "outputId": "aa87b0de-238f-469f-b993-9796771afa4c"
      },
      "execution_count": 14,
      "outputs": [
        {
          "output_type": "execute_result",
          "data": {
            "text/plain": [
              "[4, 16]"
            ]
          },
          "metadata": {},
          "execution_count": 14
        }
      ]
    },
    {
      "cell_type": "code",
      "source": [
        "lines = sc.parallelize([\n",
        "    \"spark makes big data simple\",\n",
        "    \"rdds are resilient distributed datasets\",\n",
        "    \"spark runs fast\"\n",
        "])\n",
        "\n",
        "word_count = (lines\n",
        "              .flatMap(lambda line: line.split(\" \"))\n",
        "              .map(lambda word: (word.lower(), 1))\n",
        "              .reduceByKey(lambda a, b: a + b)\n",
        "              )\n",
        "\n",
        "word_count.take(10)"
      ],
      "metadata": {
        "colab": {
          "base_uri": "https://localhost:8080/"
        },
        "id": "KuQNJNg4lZkB",
        "outputId": "35ed3b5d-3bf6-49fc-902d-101b7c0d77ba"
      },
      "execution_count": 17,
      "outputs": [
        {
          "output_type": "execute_result",
          "data": {
            "text/plain": [
              "[('big', 1),\n",
              " ('are', 1),\n",
              " ('resilient', 1),\n",
              " ('distributed', 1),\n",
              " ('datasets', 1),\n",
              " ('runs', 1),\n",
              " ('fast', 1),\n",
              " ('spark', 2),\n",
              " ('makes', 1),\n",
              " ('data', 1)]"
            ]
          },
          "metadata": {},
          "execution_count": 17
        }
      ]
    }
  ]
}