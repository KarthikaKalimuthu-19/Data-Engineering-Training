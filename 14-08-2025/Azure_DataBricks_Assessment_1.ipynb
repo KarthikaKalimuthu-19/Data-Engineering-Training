{
  "nbformat": 4,
  "nbformat_minor": 0,
  "metadata": {
    "colab": {
      "provenance": []
    },
    "kernelspec": {
      "name": "python3",
      "display_name": "Python 3"
    },
    "language_info": {
      "name": "python"
    }
  },
  "cells": [
    {
      "cell_type": "markdown",
      "source": [
        "# **Dataset Creation**"
      ],
      "metadata": {
        "id": "A6ZwFQG8FmBe"
      }
    },
    {
      "cell_type": "code",
      "execution_count": 1,
      "metadata": {
        "id": "WwZNffMsmfZN",
        "colab": {
          "base_uri": "https://localhost:8080/"
        },
        "outputId": "15789c1a-1cb9-4a8a-886a-595c9bbe0539"
      },
      "outputs": [
        {
          "output_type": "stream",
          "name": "stdout",
          "text": [
            "Collecting pyspark==3.5.0\n",
            "  Downloading pyspark-3.5.0.tar.gz (316.9 MB)\n",
            "\u001b[2K     \u001b[90m━━━━━━━━━━━━━━━━━━━━━━━━━━━━━━━━━━━━━━━\u001b[0m \u001b[32m316.9/316.9 MB\u001b[0m \u001b[31m4.0 MB/s\u001b[0m eta \u001b[36m0:00:00\u001b[0m\n",
            "\u001b[?25h  Preparing metadata (setup.py) ... \u001b[?25l\u001b[?25hdone\n",
            "Collecting delta-spark==3.1.0\n",
            "  Downloading delta_spark-3.1.0-py3-none-any.whl.metadata (1.9 kB)\n",
            "Requirement already satisfied: py4j==0.10.9.7 in /usr/local/lib/python3.11/dist-packages (from pyspark==3.5.0) (0.10.9.7)\n",
            "Requirement already satisfied: importlib-metadata>=1.0.0 in /usr/local/lib/python3.11/dist-packages (from delta-spark==3.1.0) (8.7.0)\n",
            "Requirement already satisfied: zipp>=3.20 in /usr/local/lib/python3.11/dist-packages (from importlib-metadata>=1.0.0->delta-spark==3.1.0) (3.23.0)\n",
            "Downloading delta_spark-3.1.0-py3-none-any.whl (21 kB)\n",
            "Building wheels for collected packages: pyspark\n",
            "  Building wheel for pyspark (setup.py) ... \u001b[?25l\u001b[?25hdone\n",
            "  Created wheel for pyspark: filename=pyspark-3.5.0-py2.py3-none-any.whl size=317425346 sha256=113b1265c507b04f94a2c0a37ee2b6ce593284f6630f9c2499bbcd661d993dc0\n",
            "  Stored in directory: /root/.cache/pip/wheels/38/df/61/8c121f50c3cffd77f8178180dd232d90b3b99d1bd61fb6d6be\n",
            "Successfully built pyspark\n",
            "Installing collected packages: pyspark, delta-spark\n",
            "  Attempting uninstall: pyspark\n",
            "    Found existing installation: pyspark 3.5.1\n",
            "    Uninstalling pyspark-3.5.1:\n",
            "      Successfully uninstalled pyspark-3.5.1\n",
            "\u001b[31mERROR: pip's dependency resolver does not currently take into account all the packages that are installed. This behaviour is the source of the following dependency conflicts.\n",
            "dataproc-spark-connect 0.8.3 requires pyspark[connect]~=3.5.1, but you have pyspark 3.5.0 which is incompatible.\u001b[0m\u001b[31m\n",
            "\u001b[0mSuccessfully installed delta-spark-3.1.0 pyspark-3.5.0\n"
          ]
        }
      ],
      "source": [
        "!pip install pyspark==3.5.0 delta-spark==3.1.0\n",
        "\n",
        "from pyspark.sql import SparkSession\n",
        "from delta import configure_spark_with_delta_pip\n",
        "\n",
        "builder = (\n",
        "SparkSession.builder.appName(\"DeltaDemo\")\n",
        ".config(\"spark.sql.extensions\", \"io.delta.sql.DeltaSparkSessionExtension\")\n",
        ".config(\"spark.sql.catalog.spark_catalog\",\n",
        "\"org.apache.spark.sql.delta.catalog.DeltaCatalog\")\n",
        ")\n",
        "\n",
        "spark = configure_spark_with_delta_pip(builder).getOrCreate()\n",
        "\n",
        "data = [\n",
        "(1, \"John\", \"Electronics\", 2, 300),\n",
        "(2, \"Sara\", \"Clothing\", 1, 50),\n",
        "(3, \"Mike\", \"Electronics\", 4, 600),\n",
        "(4, \"Nina\", \"Clothing\", 3, 150),\n",
        "]\n",
        "\n",
        "columns = [\"order_id\", \"customer_name\", \"category\", \"quantity\", \"amount\"]\n",
        "\n",
        "df = spark.createDataFrame(data, columns)\n",
        "\n",
        "df.write.format(\"delta\").mode(\"overwrite\").save(\"/content/orders_delta\")"
      ]
    },
    {
      "cell_type": "code",
      "source": [
        "df.show()"
      ],
      "metadata": {
        "colab": {
          "base_uri": "https://localhost:8080/"
        },
        "id": "xnWO9sHiEBuQ",
        "outputId": "7b208707-3279-46fc-a3db-9045df5910fa"
      },
      "execution_count": 2,
      "outputs": [
        {
          "output_type": "stream",
          "name": "stdout",
          "text": [
            "+--------+-------------+-----------+--------+------+\n",
            "|order_id|customer_name|   category|quantity|amount|\n",
            "+--------+-------------+-----------+--------+------+\n",
            "|       1|         John|Electronics|       2|   300|\n",
            "|       2|         Sara|   Clothing|       1|    50|\n",
            "|       3|         Mike|Electronics|       4|   600|\n",
            "|       4|         Nina|   Clothing|       3|   150|\n",
            "+--------+-------------+-----------+--------+------+\n",
            "\n"
          ]
        }
      ]
    },
    {
      "cell_type": "markdown",
      "source": [
        "# **1. Managed vs Unmanaged Tables**\n",
        "**Task:**\n",
        "\n",
        "Create a managed table orders_managed from /tmp/orders_delta\n",
        "\n",
        "Create an unmanaged table orders_unmanaged pointing to the same location"
      ],
      "metadata": {
        "id": "Q7Dg1XEfFakh"
      }
    },
    {
      "cell_type": "code",
      "source": [
        "spark.sql(\"DROP TABLE IF EXISTS orders_managed\")\n",
        "spark.sql(\"DROP TABLE IF EXISTS orders_unmanaged\")\n",
        "\n",
        "spark.sql(\"CREATE TABLE orders_managed USING DELTA LOCATION '/content/orders_delta'\")\n",
        "spark.sql(\"CREATE TABLE orders_unmanaged USING DELTA LOCATION '/content/orders_delta'\")\n",
        "\n",
        "print(\"Tables created:\")\n",
        "spark.sql(\"SHOW TABLES\").show()"
      ],
      "metadata": {
        "colab": {
          "base_uri": "https://localhost:8080/"
        },
        "id": "H3izD43jEFzM",
        "outputId": "4ba4847d-e6f2-4b4c-f246-13f73b624e9e"
      },
      "execution_count": 3,
      "outputs": [
        {
          "output_type": "stream",
          "name": "stdout",
          "text": [
            "Tables created:\n",
            "+---------+----------------+-----------+\n",
            "|namespace|       tableName|isTemporary|\n",
            "+---------+----------------+-----------+\n",
            "|  default|  orders_managed|      false|\n",
            "|  default|orders_unmanaged|      false|\n",
            "+---------+----------------+-----------+\n",
            "\n"
          ]
        }
      ]
    },
    {
      "cell_type": "markdown",
      "source": [
        "# **2. CRUD Operations**\n",
        "**Task:**\n",
        "\n",
        "-Read from the table\n",
        "\n",
        "-Update all \"Clothing\" category orders to have amount = amount + 20\n",
        "\n",
        "-Delete all orders with quantity < 2\n",
        "\n",
        "-Merge in a new dataset (new orders & updated orders)"
      ],
      "metadata": {
        "id": "NTel-z6NFOaz"
      }
    },
    {
      "cell_type": "code",
      "source": [
        "orders_df = spark.read.format(\"delta\").load(\"/content/orders_delta\")\n",
        "orders_df.show()"
      ],
      "metadata": {
        "colab": {
          "base_uri": "https://localhost:8080/"
        },
        "id": "-pTKnT-cFHE1",
        "outputId": "5f62d49a-8397-45a0-9534-d1275ad7e0d6"
      },
      "execution_count": 5,
      "outputs": [
        {
          "output_type": "stream",
          "name": "stdout",
          "text": [
            "+--------+-------------+-----------+--------+------+\n",
            "|order_id|customer_name|   category|quantity|amount|\n",
            "+--------+-------------+-----------+--------+------+\n",
            "|       3|         Mike|Electronics|       4|   600|\n",
            "|       4|         Nina|   Clothing|       3|   150|\n",
            "|       1|         John|Electronics|       2|   300|\n",
            "|       2|         Sara|   Clothing|       1|    50|\n",
            "+--------+-------------+-----------+--------+------+\n",
            "\n"
          ]
        }
      ]
    },
    {
      "cell_type": "code",
      "source": [
        "from pyspark.sql import functions as F\n",
        "\n",
        "orders_df = orders_df.withColumn(\n",
        "    \"amount\",\n",
        "    F.when(F.col(\"category\") == \"Clothing\", F.col(\"amount\") + 20).otherwise(F.col(\"amount\"))\n",
        ")\n",
        "orders_df.show()"
      ],
      "metadata": {
        "colab": {
          "base_uri": "https://localhost:8080/"
        },
        "id": "6NnaN1ADF544",
        "outputId": "98dc7119-0ca4-4af8-c288-3329d6cc8027"
      },
      "execution_count": 6,
      "outputs": [
        {
          "output_type": "stream",
          "name": "stdout",
          "text": [
            "+--------+-------------+-----------+--------+------+\n",
            "|order_id|customer_name|   category|quantity|amount|\n",
            "+--------+-------------+-----------+--------+------+\n",
            "|       3|         Mike|Electronics|       4|   600|\n",
            "|       4|         Nina|   Clothing|       3|   170|\n",
            "|       1|         John|Electronics|       2|   300|\n",
            "|       2|         Sara|   Clothing|       1|    70|\n",
            "+--------+-------------+-----------+--------+------+\n",
            "\n"
          ]
        }
      ]
    },
    {
      "cell_type": "code",
      "source": [
        "orders_df = orders_df.filter(F.col(\"quantity\") >= 2)\n",
        "orders_df.show()"
      ],
      "metadata": {
        "colab": {
          "base_uri": "https://localhost:8080/"
        },
        "id": "L6TYZkL3GUK5",
        "outputId": "87331fdb-6ad6-40b3-c871-4712e0d4f942"
      },
      "execution_count": 7,
      "outputs": [
        {
          "output_type": "stream",
          "name": "stdout",
          "text": [
            "+--------+-------------+-----------+--------+------+\n",
            "|order_id|customer_name|   category|quantity|amount|\n",
            "+--------+-------------+-----------+--------+------+\n",
            "|       3|         Mike|Electronics|       4|   600|\n",
            "|       4|         Nina|   Clothing|       3|   170|\n",
            "|       1|         John|Electronics|       2|   300|\n",
            "+--------+-------------+-----------+--------+------+\n",
            "\n"
          ]
        }
      ]
    },
    {
      "cell_type": "code",
      "source": [
        "new_data = [\n",
        "    (3, \"Mike\", \"Electronics\", 5, 750),\n",
        "    (5, \"Alex\", \"Furniture\", 1, 200),\n",
        "]\n",
        "new_df = spark.createDataFrame(new_data, columns)\n",
        "\n",
        "from delta.tables import DeltaTable\n",
        "delta_table = DeltaTable.forPath(spark, \"/content/orders_delta\")\n",
        "\n",
        "delta_table.alias(\"target\").merge(\n",
        "    new_df.alias(\"source\"),\n",
        "    \"target.order_id = source.order_id\"\n",
        ").whenMatchedUpdateAll().whenNotMatchedInsertAll().execute()\n",
        "\n",
        "print(\"After CRUD operations:\")\n",
        "delta_table.toDF().show()"
      ],
      "metadata": {
        "colab": {
          "base_uri": "https://localhost:8080/"
        },
        "id": "fwa8K-BzGbbG",
        "outputId": "afe5659e-9967-4f55-f76a-9f9d05342648"
      },
      "execution_count": 8,
      "outputs": [
        {
          "output_type": "stream",
          "name": "stdout",
          "text": [
            "After CRUD operations:\n",
            "+--------+-------------+-----------+--------+------+\n",
            "|order_id|customer_name|   category|quantity|amount|\n",
            "+--------+-------------+-----------+--------+------+\n",
            "|       3|         Mike|Electronics|       5|   750|\n",
            "|       4|         Nina|   Clothing|       3|   150|\n",
            "|       5|         Alex|  Furniture|       1|   200|\n",
            "|       1|         John|Electronics|       2|   300|\n",
            "|       2|         Sara|   Clothing|       1|    50|\n",
            "+--------+-------------+-----------+--------+------+\n",
            "\n"
          ]
        }
      ]
    },
    {
      "cell_type": "markdown",
      "source": [
        "# **3. History & Time Travel**\n",
        "**Task:**\n",
        "\n",
        "-Use DESCRIBE HISTORY to check previous versions\n",
        "\n",
        "-Read data from version 0 and compare with the latest version"
      ],
      "metadata": {
        "id": "c1ixsa6sHGuf"
      }
    },
    {
      "cell_type": "code",
      "source": [
        "print(\"History:\")\n",
        "delta_table.history().show()\n",
        "\n",
        "print(\"Version 0:\")\n",
        "spark.read.format(\"delta\").option(\"versionAsOf\", 0).load(\"/content/orders_delta\").show()"
      ],
      "metadata": {
        "colab": {
          "base_uri": "https://localhost:8080/"
        },
        "id": "069FHaijGwvr",
        "outputId": "7bb1bc8d-1a92-4840-92f4-a3b467f5e8ea"
      },
      "execution_count": 9,
      "outputs": [
        {
          "output_type": "stream",
          "name": "stdout",
          "text": [
            "History:\n",
            "+-------+--------------------+------+--------+---------+--------------------+----+--------+---------+-----------+--------------+-------------+--------------------+------------+--------------------+\n",
            "|version|           timestamp|userId|userName|operation| operationParameters| job|notebook|clusterId|readVersion|isolationLevel|isBlindAppend|    operationMetrics|userMetadata|          engineInfo|\n",
            "+-------+--------------------+------+--------+---------+--------------------+----+--------+---------+-----------+--------------+-------------+--------------------+------------+--------------------+\n",
            "|      1|2025-08-14 05:43:...|  NULL|    NULL|    MERGE|{predicate -> [\"(...|NULL|    NULL|     NULL|          0|  Serializable|        false|{numTargetRowsCop...|        NULL|Apache-Spark/3.5....|\n",
            "|      0|2025-08-14 05:31:...|  NULL|    NULL|    WRITE|{mode -> Overwrit...|NULL|    NULL|     NULL|       NULL|  Serializable|        false|{numFiles -> 2, n...|        NULL|Apache-Spark/3.5....|\n",
            "+-------+--------------------+------+--------+---------+--------------------+----+--------+---------+-----------+--------------+-------------+--------------------+------------+--------------------+\n",
            "\n",
            "Version 0:\n",
            "+--------+-------------+-----------+--------+------+\n",
            "|order_id|customer_name|   category|quantity|amount|\n",
            "+--------+-------------+-----------+--------+------+\n",
            "|       3|         Mike|Electronics|       4|   600|\n",
            "|       4|         Nina|   Clothing|       3|   150|\n",
            "|       1|         John|Electronics|       2|   300|\n",
            "|       2|         Sara|   Clothing|       1|    50|\n",
            "+--------+-------------+-----------+--------+------+\n",
            "\n"
          ]
        }
      ]
    },
    {
      "cell_type": "markdown",
      "source": [
        "# **4. Incremental Load Pattern**\n",
        "**Task:**\n",
        "\n",
        "-Create a new mini-batch with only new orders (IDs 5 & 6)\n",
        "\n",
        "-Append to the Delta table\n",
        "\n",
        "-Show final result"
      ],
      "metadata": {
        "id": "VhlpvdQqHPB1"
      }
    },
    {
      "cell_type": "code",
      "source": [
        "batch_df = spark.createDataFrame([\n",
        "    (6, \"Emma\", \"Clothing\", 2, 100),\n",
        "    (7, \"Liam\", \"Electronics\", 1, 400)\n",
        "], columns)\n",
        "\n",
        "batch_df.write.format(\"delta\").mode(\"append\").save(\"/content/orders_delta\")\n",
        "\n",
        "print(\"After incremental load:\")\n",
        "spark.read.format(\"delta\").load(\"/content/orders_delta\").show()"
      ],
      "metadata": {
        "colab": {
          "base_uri": "https://localhost:8080/"
        },
        "id": "J6kfJyeSHYkF",
        "outputId": "a3acbbc1-0826-4f32-d112-b0e1469a935a"
      },
      "execution_count": 10,
      "outputs": [
        {
          "output_type": "stream",
          "name": "stdout",
          "text": [
            "After incremental load:\n",
            "+--------+-------------+-----------+--------+------+\n",
            "|order_id|customer_name|   category|quantity|amount|\n",
            "+--------+-------------+-----------+--------+------+\n",
            "|       3|         Mike|Electronics|       5|   750|\n",
            "|       4|         Nina|   Clothing|       3|   150|\n",
            "|       5|         Alex|  Furniture|       1|   200|\n",
            "|       7|         Liam|Electronics|       1|   400|\n",
            "|       1|         John|Electronics|       2|   300|\n",
            "|       2|         Sara|   Clothing|       1|    50|\n",
            "|       6|         Emma|   Clothing|       2|   100|\n",
            "+--------+-------------+-----------+--------+------+\n",
            "\n"
          ]
        }
      ]
    },
    {
      "cell_type": "markdown",
      "source": [
        "# **5. Simple Streaming Read**\n",
        "**Task:**\n",
        "\n",
        "-Read the /tmp/orders_delta in streaming mode\n",
        "\n",
        "-Output to console every 5 seconds"
      ],
      "metadata": {
        "id": "_TcoStnaHmr_"
      }
    },
    {
      "cell_type": "code",
      "source": [
        "streaming_df = (\n",
        "    spark.readStream.format(\"delta\")\n",
        "    .load(\"/content/orders_delta\")\n",
        ")\n",
        "\n",
        "query = (\n",
        "    streaming_df.writeStream\n",
        "    .format(\"console\")\n",
        "    .outputMode(\"append\")\n",
        "    .trigger(processingTime=\"5 seconds\")\n",
        "    .start()\n",
        ")\n",
        "\n",
        "import time\n",
        "time.sleep(15)\n",
        "query.stop()"
      ],
      "metadata": {
        "id": "3SYD-O8nH6fl"
      },
      "execution_count": 13,
      "outputs": []
    },
    {
      "cell_type": "markdown",
      "source": [
        "# **6. Visualization**\n",
        "**Task:**\n",
        "\n",
        "-Read Delta table into Pandas\n",
        "\n",
        "-Create a bar chart of category vs total amount"
      ],
      "metadata": {
        "id": "QSgh5eowIcBC"
      }
    },
    {
      "cell_type": "code",
      "source": [
        "import pandas as pd\n",
        "import matplotlib.pyplot as plt\n",
        "\n",
        "pdf = spark.read.format(\"delta\").load(\"/content/orders_delta\").toPandas()\n",
        "category_amount = pdf.groupby(\"category\")[\"amount\"].sum()\n",
        "\n",
        "category_amount.plot(kind=\"bar\", color=\"pink\")\n",
        "plt.xlabel(\"Category\")\n",
        "plt.ylabel(\"Total Amount\")\n",
        "plt.title(\"Category vs Total Amount\")\n",
        "plt.show()"
      ],
      "metadata": {
        "colab": {
          "base_uri": "https://localhost:8080/",
          "height": 533
        },
        "id": "rlsX6vbRIml4",
        "outputId": "678caa43-a7ba-45e6-e713-a6d3b83c1f43"
      },
      "execution_count": 15,
      "outputs": [
        {
          "output_type": "display_data",
          "data": {
            "text/plain": [
              "<Figure size 640x480 with 1 Axes>"
            ],
            "image/png": "[encoded data removed]"
          },
          "metadata": {}
        }
      ]
    }
  ]
}