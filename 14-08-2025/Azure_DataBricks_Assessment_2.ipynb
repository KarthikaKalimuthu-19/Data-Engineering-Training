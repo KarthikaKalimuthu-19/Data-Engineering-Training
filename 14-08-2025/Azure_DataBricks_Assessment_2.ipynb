{
  "nbformat": 4,
  "nbformat_minor": 0,
  "metadata": {
    "colab": {
      "provenance": []
    },
    "kernelspec": {
      "name": "python3",
      "display_name": "Python 3"
    },
    "language_info": {
      "name": "python"
    }
  },
  "cells": [
    {
      "cell_type": "markdown",
      "source": [
        "# **Setup**"
      ],
      "metadata": {
        "id": "JDoF5mdHNHOz"
      }
    },
    {
      "cell_type": "code",
      "execution_count": 2,
      "metadata": {
        "colab": {
          "base_uri": "https://localhost:8080/"
        },
        "id": "DASaHhSLMOVT",
        "outputId": "c76ba5b0-ce1f-4216-bce9-6c68a202b841"
      },
      "outputs": [
        {
          "output_type": "stream",
          "name": "stdout",
          "text": [
            "Collecting pyspark==3.5.0\n",
            "  Downloading pyspark-3.5.0.tar.gz (316.9 MB)\n",
            "\u001b[2K     \u001b[90m━━━━━━━━━━━━━━━━━━━━━━━━━━━━━━━━━━━━━━━\u001b[0m \u001b[32m316.9/316.9 MB\u001b[0m \u001b[31m4.7 MB/s\u001b[0m eta \u001b[36m0:00:00\u001b[0m\n",
            "\u001b[?25h  Preparing metadata (setup.py) ... \u001b[?25l\u001b[?25hdone\n",
            "Collecting delta-spark==3.1.0\n",
            "  Downloading delta_spark-3.1.0-py3-none-any.whl.metadata (1.9 kB)\n",
            "Requirement already satisfied: py4j==0.10.9.7 in /usr/local/lib/python3.11/dist-packages (from pyspark==3.5.0) (0.10.9.7)\n",
            "Requirement already satisfied: importlib-metadata>=1.0.0 in /usr/local/lib/python3.11/dist-packages (from delta-spark==3.1.0) (8.7.0)\n",
            "Requirement already satisfied: zipp>=3.20 in /usr/local/lib/python3.11/dist-packages (from importlib-metadata>=1.0.0->delta-spark==3.1.0) (3.23.0)\n",
            "Downloading delta_spark-3.1.0-py3-none-any.whl (21 kB)\n",
            "Building wheels for collected packages: pyspark\n",
            "  Building wheel for pyspark (setup.py) ... \u001b[?25l\u001b[?25hdone\n",
            "  Created wheel for pyspark: filename=pyspark-3.5.0-py2.py3-none-any.whl size=317425346 sha256=3d00332ff642877c940869a7a13b681060d98962d55feba3a000e51ac6c112c5\n",
            "  Stored in directory: /root/.cache/pip/wheels/38/df/61/8c121f50c3cffd77f8178180dd232d90b3b99d1bd61fb6d6be\n",
            "Successfully built pyspark\n",
            "Installing collected packages: pyspark, delta-spark\n",
            "  Attempting uninstall: pyspark\n",
            "    Found existing installation: pyspark 3.5.1\n",
            "    Uninstalling pyspark-3.5.1:\n",
            "      Successfully uninstalled pyspark-3.5.1\n",
            "\u001b[31mERROR: pip's dependency resolver does not currently take into account all the packages that are installed. This behaviour is the source of the following dependency conflicts.\n",
            "dataproc-spark-connect 0.8.3 requires pyspark[connect]~=3.5.1, but you have pyspark 3.5.0 which is incompatible.\u001b[0m\u001b[31m\n",
            "\u001b[0mSuccessfully installed delta-spark-3.1.0 pyspark-3.5.0\n"
          ]
        }
      ],
      "source": [
        "!pip install pyspark==3.5.0 delta-spark==3.1.0"
      ]
    },
    {
      "cell_type": "markdown",
      "source": [
        "# **New Dataset: Ride-Hailing Trips + Drivers**"
      ],
      "metadata": {
        "id": "_i70ZBMiOrTn"
      }
    },
    {
      "cell_type": "code",
      "source": [
        "from pyspark.sql import SparkSession\n",
        "from delta import configure_spark_with_delta_pip\n",
        "from pyspark.sql import functions as F, types as T\n",
        "\n",
        "builder = (\n",
        "    SparkSession.builder.appName(\"DeltaRideHailing\")\n",
        "    .config(\"spark.sql.extensions\", \"io.delta.sql.DeltaSparkSessionExtension\")\n",
        "    .config(\"spark.sql.catalog.spark_catalog\", \"org.apache.spark.sql.delta.catalog.DeltaCatalog\")\n",
        ")\n",
        "spark = configure_spark_with_delta_pip(builder).getOrCreate()\n",
        "\n",
        "trip_schema = T.StructType([\n",
        "    T.StructField(\"trip_id\",      T.IntegerType()),\n",
        "    T.StructField(\"rider_id\",     T.StringType()),\n",
        "    T.StructField(\"driver_id\",    T.StringType()),\n",
        "    T.StructField(\"city\",         T.StringType()),\n",
        "    T.StructField(\"distance_km\",  T.DoubleType()),\n",
        "    T.StructField(\"fare\",         T.DoubleType()),\n",
        "    T.StructField(\"tip\",          T.DoubleType()),\n",
        "    T.StructField(\"ts\",           T.StringType())\n",
        "])\n",
        "\n",
        "driver_schema = T.StructType([\n",
        "    T.StructField(\"driver_id\",  T.StringType()),\n",
        "    T.StructField(\"driver_name\",T.StringType()),\n",
        "    T.StructField(\"rating\",     T.DoubleType()),\n",
        "    T.StructField(\"vehicle\",    T.StringType())\n",
        "])\n",
        "\n",
        "trips_rows = [\n",
        "    (1001,\"R001\",\"D010\",\"Bengaluru\", 12.4, 320.0,  20.0, \"2025-08-08 08:05:00\"),\n",
        "    (1002,\"R002\",\"D011\",\"Hyderabad\",  6.2, 150.0,  10.0, \"2025-08-08 08:15:00\"),\n",
        "    (1003,\"R003\",\"D012\",\"Pune\",       3.5,  90.0,   0.0, \"2025-08-08 08:20:00\"),\n",
        "    (1004,\"R001\",\"D010\",\"Bengaluru\", 18.9, 480.0,  25.0, \"2025-08-08 08:45:00\"),\n",
        "    (1005,\"R004\",\"D013\",\"Chennai\",   10.0, 260.0,  15.0, \"2025-08-08 09:05:00\"),\n",
        "    (1006,\"R005\",\"D012\",\"Pune\",       2.2,  70.0,   0.0, \"2025-08-08 09:10:00\"),\n",
        "]\n",
        "\n",
        "drivers_rows = [\n",
        "    (\"D010\",\"Anil\",   4.8,\"WagonR\"),\n",
        "    (\"D011\",\"Sana\",   4.6,\"i20\"),\n",
        "    (\"D012\",\"Rakesh\", 4.4,\"Swift\"),\n",
        "    (\"D013\",\"Meera\",  4.9,\"Ciaz\")\n",
        "]\n",
        "\n",
        "trips_df   = spark.createDataFrame(trips_rows, schema=trip_schema) \\\n",
        "                  .withColumn(\"ts\", F.to_timestamp(\"ts\"))\n",
        "drivers_df = spark.createDataFrame(drivers_rows, schema=driver_schema)\n",
        "\n",
        "BASE = \"/content/delta/ride_hailing\"\n",
        "TRIPS_PATH   = f\"{BASE}/trips\"\n",
        "DRIVERS_PATH = f\"{BASE}/drivers\"\n",
        "\n",
        "trips_df.write.format(\"delta\").mode(\"overwrite\").save(TRIPS_PATH)\n",
        "drivers_df.write.format(\"delta\").mode(\"overwrite\").save(DRIVERS_PATH)\n",
        "\n",
        "print(\"Seeded:\")\n",
        "print(\"  Trips  ->\", TRIPS_PATH)\n",
        "print(\"  Drivers->\", DRIVERS_PATH)\n"
      ],
      "metadata": {
        "colab": {
          "base_uri": "https://localhost:8080/"
        },
        "id": "PAzDvhYyTP1t",
        "outputId": "a09478f0-d3da-4637-fd99-7c9d8bc0f51f"
      },
      "execution_count": 3,
      "outputs": [
        {
          "output_type": "stream",
          "name": "stdout",
          "text": [
            "Seeded:\n",
            "  Trips  -> /content/delta/ride_hailing/trips\n",
            "  Drivers-> /content/delta/ride_hailing/drivers\n"
          ]
        }
      ]
    },
    {
      "cell_type": "markdown",
      "source": [
        "# **Exercises**\n",
        "# **1) Managed vs Unmanaged Tables**\n",
        "\n",
        "-Create a managed Delta table trips_managed by AS SELECT from the Delta path.\n",
        "\n",
        "-Create an external (unmanaged) table drivers_ext that points to DRIVERS_PATH .\n",
        "\n",
        "-Verify locations with DESCRIBE DETAIL and explain the difference in your own\n",
        "words."
      ],
      "metadata": {
        "id": "Foka9GmCTkVx"
      }
    },
    {
      "cell_type": "code",
      "source": [
        "spark.sql(\"DROP TABLE IF EXISTS trips_managed\")\n",
        "spark.sql(\"DROP TABLE IF EXISTS drivers_ext\")\n",
        "\n",
        "spark.sql(f\"CREATE TABLE trips_managed USING DELTA LOCATION '{TRIPS_PATH}'\")\n",
        "spark.sql(f\"CREATE TABLE drivers_ext USING DELTA LOCATION '{DRIVERS_PATH}'\")\n",
        "\n",
        "spark.sql(\"DESCRIBE DETAIL trips_managed\").show(truncate=False)\n",
        "spark.sql(\"DESCRIBE DETAIL drivers_ext\").show(truncate=False)"
      ],
      "metadata": {
        "colab": {
          "base_uri": "https://localhost:8080/"
        },
        "id": "aT0TBoBcTxRy",
        "outputId": "7faf5c6d-c596-40fc-c512-1da8e871db45"
      },
      "execution_count": 4,
      "outputs": [
        {
          "output_type": "stream",
          "name": "stdout",
          "text": [
            "+------+------------------------------------+-----------------------------------+-----------+--------------------------------------+-----------------------+-----------------------+----------------+--------+-----------+----------+----------------+----------------+------------------------+\n",
            "|format|id                                  |name                               |description|location                              |createdAt              |lastModified           |partitionColumns|numFiles|sizeInBytes|properties|minReaderVersion|minWriterVersion|tableFeatures           |\n",
            "+------+------------------------------------+-----------------------------------+-----------+--------------------------------------+-----------------------+-----------------------+----------------+--------+-----------+----------+----------------+----------------+------------------------+\n",
            "|delta |0614890b-2d7b-44a5-bf42-8a9f3877d162|spark_catalog.default.trips_managed|NULL       |file:/content/delta/ride_hailing/trips|2025-08-14 11:39:22.994|2025-08-14 11:39:33.828|[]              |2       |4536       |{}        |1               |2               |[appendOnly, invariants]|\n",
            "+------+------------------------------------+-----------------------------------+-----------+--------------------------------------+-----------------------+-----------------------+----------------+--------+-----------+----------+----------------+----------------+------------------------+\n",
            "\n",
            "+------+------------------------------------+---------------------------------+-----------+----------------------------------------+-----------------------+-----------------------+----------------+--------+-----------+----------+----------------+----------------+------------------------+\n",
            "|format|id                                  |name                             |description|location                                |createdAt              |lastModified           |partitionColumns|numFiles|sizeInBytes|properties|minReaderVersion|minWriterVersion|tableFeatures           |\n",
            "+------+------------------------------------+---------------------------------+-----------+----------------------------------------+-----------------------+-----------------------+----------------+--------+-----------+----------+----------------+----------------+------------------------+\n",
            "|delta |6bc5b45f-5962-4c7c-80c6-e3f54fb50dda|spark_catalog.default.drivers_ext|NULL       |file:/content/delta/ride_hailing/drivers|2025-08-14 11:39:47.094|2025-08-14 11:39:48.239|[]              |2       |2481       |{}        |1               |2               |[appendOnly, invariants]|\n",
            "+------+------------------------------------+---------------------------------+-----------+----------------------------------------+-----------------------+-----------------------+----------------+--------+-----------+----------+----------------+----------------+------------------------+\n",
            "\n"
          ]
        }
      ]
    },
    {
      "cell_type": "markdown",
      "source": [
        "# **2) Read & Explore**\n",
        "\n",
        "-Read both tables, print schemas, and show 10 rows.\n",
        "\n",
        "-Compute a derived column total_amount = fare + tip and show top 5 trips by total_amount ."
      ],
      "metadata": {
        "id": "ZP6Y9mBvUaDt"
      }
    },
    {
      "cell_type": "code",
      "source": [
        "trips = spark.read.format(\"delta\").load(TRIPS_PATH)\n",
        "trips.show(10)\n",
        "drivers = spark.read.format(\"delta\").load(DRIVERS_PATH)\n",
        "drivers.show(10)\n",
        "trips.printSchema()\n",
        "drivers.printSchema()\n",
        "\n",
        "trips.withColumn(\"total_amount\", F.col(\"fare\") + F.col(\"tip\")).orderBy(F.desc(\"total_amount\")).show(5)"
      ],
      "metadata": {
        "colab": {
          "base_uri": "https://localhost:8080/"
        },
        "id": "rV3EHP3zUjtY",
        "outputId": "3fa5254d-072c-4ebe-d45c-b1312a1058e8"
      },
      "execution_count": 6,
      "outputs": [
        {
          "output_type": "stream",
          "name": "stdout",
          "text": [
            "+-------+--------+---------+---------+-----------+-----+----+-------------------+\n",
            "|trip_id|rider_id|driver_id|     city|distance_km| fare| tip|                 ts|\n",
            "+-------+--------+---------+---------+-----------+-----+----+-------------------+\n",
            "|   1004|    R001|     D010|Bengaluru|       18.9|480.0|25.0|2025-08-08 08:45:00|\n",
            "|   1005|    R004|     D013|  Chennai|       10.0|260.0|15.0|2025-08-08 09:05:00|\n",
            "|   1006|    R005|     D012|     Pune|        2.2| 70.0| 0.0|2025-08-08 09:10:00|\n",
            "|   1001|    R001|     D010|Bengaluru|       12.4|320.0|20.0|2025-08-08 08:05:00|\n",
            "|   1002|    R002|     D011|Hyderabad|        6.2|150.0|10.0|2025-08-08 08:15:00|\n",
            "|   1003|    R003|     D012|     Pune|        3.5| 90.0| 0.0|2025-08-08 08:20:00|\n",
            "+-------+--------+---------+---------+-----------+-----+----+-------------------+\n",
            "\n",
            "+---------+-----------+------+-------+\n",
            "|driver_id|driver_name|rating|vehicle|\n",
            "+---------+-----------+------+-------+\n",
            "|     D012|     Rakesh|   4.4|  Swift|\n",
            "|     D013|      Meera|   4.9|   Ciaz|\n",
            "|     D010|       Anil|   4.8| WagonR|\n",
            "|     D011|       Sana|   4.6|    i20|\n",
            "+---------+-----------+------+-------+\n",
            "\n",
            "root\n",
            " |-- trip_id: integer (nullable = true)\n",
            " |-- rider_id: string (nullable = true)\n",
            " |-- driver_id: string (nullable = true)\n",
            " |-- city: string (nullable = true)\n",
            " |-- distance_km: double (nullable = true)\n",
            " |-- fare: double (nullable = true)\n",
            " |-- tip: double (nullable = true)\n",
            " |-- ts: timestamp (nullable = true)\n",
            "\n",
            "root\n",
            " |-- driver_id: string (nullable = true)\n",
            " |-- driver_name: string (nullable = true)\n",
            " |-- rating: double (nullable = true)\n",
            " |-- vehicle: string (nullable = true)\n",
            "\n",
            "+-------+--------+---------+---------+-----------+-----+----+-------------------+------------+\n",
            "|trip_id|rider_id|driver_id|     city|distance_km| fare| tip|                 ts|total_amount|\n",
            "+-------+--------+---------+---------+-----------+-----+----+-------------------+------------+\n",
            "|   1004|    R001|     D010|Bengaluru|       18.9|480.0|25.0|2025-08-08 08:45:00|       505.0|\n",
            "|   1001|    R001|     D010|Bengaluru|       12.4|320.0|20.0|2025-08-08 08:05:00|       340.0|\n",
            "|   1005|    R004|     D013|  Chennai|       10.0|260.0|15.0|2025-08-08 09:05:00|       275.0|\n",
            "|   1002|    R002|     D011|Hyderabad|        6.2|150.0|10.0|2025-08-08 08:15:00|       160.0|\n",
            "|   1003|    R003|     D012|     Pune|        3.5| 90.0| 0.0|2025-08-08 08:20:00|        90.0|\n",
            "+-------+--------+---------+---------+-----------+-----+----+-------------------+------------+\n",
            "only showing top 5 rows\n",
            "\n"
          ]
        }
      ]
    },
    {
      "cell_type": "markdown",
      "source": [
        "# **3) Update (Business Rule)**\n",
        "\n",
        "-Increase tip by 5 for trips in Bengaluru where distance_km > 15 .\n",
        "\n",
        "-Show before/after for affected rows only."
      ],
      "metadata": {
        "id": "ju7RNCi0UsdJ"
      }
    },
    {
      "cell_type": "code",
      "source": [
        "from delta import DeltaTable\n",
        "\n",
        "delta_trips = DeltaTable.forPath(spark, TRIPS_PATH)\n",
        "delta_trips.update(\n",
        "    condition=\"city = 'Bengaluru' AND distance_km > 15\",\n",
        "    set={\"tip\": F.col(\"tip\") + 5}\n",
        ")\n",
        "delta_trips.toDF().filter(\"city='Bengaluru' AND distance_km > 15\").show()"
      ],
      "metadata": {
        "colab": {
          "base_uri": "https://localhost:8080/"
        },
        "id": "GbN8aKYYU5Bm",
        "outputId": "bd232062-523c-4c08-c757-ae88662c6be0"
      },
      "execution_count": 8,
      "outputs": [
        {
          "output_type": "stream",
          "name": "stdout",
          "text": [
            "+-------+--------+---------+---------+-----------+-----+----+-------------------+\n",
            "|trip_id|rider_id|driver_id|     city|distance_km| fare| tip|                 ts|\n",
            "+-------+--------+---------+---------+-----------+-----+----+-------------------+\n",
            "|   1004|    R001|     D010|Bengaluru|       18.9|480.0|30.0|2025-08-08 08:45:00|\n",
            "+-------+--------+---------+---------+-----------+-----+----+-------------------+\n",
            "\n"
          ]
        }
      ]
    },
    {
      "cell_type": "markdown",
      "source": [
        "# **4) Delete (Data Quality)**\n",
        "-Delete trips where fare <= 0 or distance_km <= 0 (simulate bad ingest).\n",
        "\n",
        "-Show remaining row count."
      ],
      "metadata": {
        "id": "SynS_ZF9VBC6"
      }
    },
    {
      "cell_type": "code",
      "source": [
        "delta_trips.delete(\"fare <= 0 OR distance_km <= 0\")\n",
        "print(\"Row count after delete:\", delta_trips.toDF().count())"
      ],
      "metadata": {
        "colab": {
          "base_uri": "https://localhost:8080/"
        },
        "id": "oLht7l6jVTcj",
        "outputId": "c8676cfa-0d89-40b4-adc9-61f63dad69de"
      },
      "execution_count": 9,
      "outputs": [
        {
          "output_type": "stream",
          "name": "stdout",
          "text": [
            "Row count after delete: 6\n"
          ]
        }
      ]
    },
    {
      "cell_type": "markdown",
      "source": [
        "# **5) Merge (Upsert New Batch)**\n",
        "Create a new inline batch with:\n",
        "\n",
        "-one existing trip_id (e.g., 1004) but a corrected fare or tip, and\n",
        "\n",
        "-one new trip (e.g., 1007). Perform a MERGE (match on trip_id ) to update the\n",
        "existing and insert the new.\n",
        "\n",
        "-Show rows for trip_id IN (1004,1007) to confirm."
      ],
      "metadata": {
        "id": "9wvdOPAfVZBD"
      }
    },
    {
      "cell_type": "code",
      "source": [
        "new_batch = [\n",
        "    (1004,\"R001\",\"D010\",\"Bengaluru\", 18.9, 500.0,  30.0, \"2025-08-08 08:45:00\"),\n",
        "    (1007,\"R006\",\"D011\",\"Hyderabad\",  7.0, 180.0,  12.0, \"2025-08-08 10:00:00\"),\n",
        "]\n",
        "new_df = spark.createDataFrame(new_batch, schema=trip_schema).withColumn(\"ts\", F.to_timestamp(\"ts\"))\n",
        "\n",
        "delta_trips.alias(\"t\").merge(\n",
        "    new_df.alias(\"s\"),\n",
        "    \"t.trip_id = s.trip_id\"\n",
        ").whenMatchedUpdateAll().whenNotMatchedInsertAll().execute()\n",
        "\n",
        "delta_trips.toDF().filter(\"trip_id IN (1004,1007)\").show()"
      ],
      "metadata": {
        "colab": {
          "base_uri": "https://localhost:8080/"
        },
        "id": "sUtTI1mZVoCs",
        "outputId": "1aa8b6b5-3fd5-48e6-ea0e-87557ca33a2b"
      },
      "execution_count": 10,
      "outputs": [
        {
          "output_type": "stream",
          "name": "stdout",
          "text": [
            "+-------+--------+---------+---------+-----------+-----+----+-------------------+\n",
            "|trip_id|rider_id|driver_id|     city|distance_km| fare| tip|                 ts|\n",
            "+-------+--------+---------+---------+-----------+-----+----+-------------------+\n",
            "|   1004|    R001|     D010|Bengaluru|       18.9|500.0|30.0|2025-08-08 08:45:00|\n",
            "|   1007|    R006|     D011|Hyderabad|        7.0|180.0|12.0|2025-08-08 10:00:00|\n",
            "+-------+--------+---------+---------+-----------+-----+----+-------------------+\n",
            "\n"
          ]
        }
      ]
    },
    {
      "cell_type": "markdown",
      "source": [
        "# **6) Gold View (Join & KPIs)**\n",
        "-Join trips with drivers on driver_id .\n",
        "\n",
        "-Create a gold view with columns: trip_id, city, driver_name, rating,\n",
        "distance_km, total_amount, ts .\n",
        "\n",
        "From this gold view:\n",
        "\n",
        "-Compute city-wise total revenue and average driver rating.\n",
        "\n",
        "-Compute driver-wise total trips and top 3 drivers by revenue."
      ],
      "metadata": {
        "id": "Jumk0TIdVvrz"
      }
    },
    {
      "cell_type": "code",
      "source": [
        "gold = delta_trips.toDF().join(drivers, \"driver_id\").withColumn(\"total_amount\", F.col(\"fare\") + F.col(\"tip\")).select(\"trip_id\",\"city\",\"driver_name\",\"rating\",\"distance_km\",\"total_amount\",\"ts\")\n",
        "\n",
        "gold.createOrReplaceTempView(\"gold_view\")\n",
        "\n",
        "spark.sql(\"SELECT city, SUM(total_amount) AS total_revenue, AVG(rating) AS avg_rating FROM gold_view GROUP BY city\").show()\n",
        "spark.sql(\"SELECT driver_name, COUNT(*) AS total_trips, SUM(total_amount) AS revenue FROM gold_view GROUP BY driver_name ORDER BY revenue DESC LIMIT 3\").show()\n"
      ],
      "metadata": {
        "colab": {
          "base_uri": "https://localhost:8080/"
        },
        "id": "Os6KP3h2V90N",
        "outputId": "edb737d1-de61-486b-fc50-d44ba7725f08"
      },
      "execution_count": 11,
      "outputs": [
        {
          "output_type": "stream",
          "name": "stdout",
          "text": [
            "+---------+-------------+----------+\n",
            "|     city|total_revenue|avg_rating|\n",
            "+---------+-------------+----------+\n",
            "|  Chennai|        275.0|       4.9|\n",
            "|     Pune|        160.0|       4.4|\n",
            "|Bengaluru|        870.0|       4.8|\n",
            "|Hyderabad|        352.0|       4.6|\n",
            "+---------+-------------+----------+\n",
            "\n",
            "+-----------+-----------+-------+\n",
            "|driver_name|total_trips|revenue|\n",
            "+-----------+-----------+-------+\n",
            "|       Anil|          2|  870.0|\n",
            "|       Sana|          2|  352.0|\n",
            "|      Meera|          1|  275.0|\n",
            "+-----------+-----------+-------+\n",
            "\n"
          ]
        }
      ]
    },
    {
      "cell_type": "markdown",
      "source": [
        "# **7) Time Travel & History**\n",
        "-Show DESCRIBE HISTORY for the trips table (the one you updated/merged).\n",
        "\n",
        "-Read the table as of version 0, and compare counts and a few rows with the\n",
        "latest version."
      ],
      "metadata": {
        "id": "e0X6hJt1WFu2"
      }
    },
    {
      "cell_type": "code",
      "source": [
        "delta_trips.history().show()\n",
        "spark.read.format(\"delta\").option(\"versionAsOf\", 0).load(TRIPS_PATH).show()"
      ],
      "metadata": {
        "colab": {
          "base_uri": "https://localhost:8080/"
        },
        "id": "avjtJ7UgWMlw",
        "outputId": "63618e55-f890-4c15-f7d4-622f98749a62"
      },
      "execution_count": 12,
      "outputs": [
        {
          "output_type": "stream",
          "name": "stdout",
          "text": [
            "+-------+--------------------+------+--------+---------+--------------------+----+--------+---------+-----------+--------------+-------------+--------------------+------------+--------------------+\n",
            "|version|           timestamp|userId|userName|operation| operationParameters| job|notebook|clusterId|readVersion|isolationLevel|isBlindAppend|    operationMetrics|userMetadata|          engineInfo|\n",
            "+-------+--------------------+------+--------+---------+--------------------+----+--------+---------+-----------+--------------+-------------+--------------------+------------+--------------------+\n",
            "|      2|2025-08-14 11:42:...|  NULL|    NULL|    MERGE|{predicate -> [\"(...|NULL|    NULL|     NULL|          1|  Serializable|        false|{numTargetRowsCop...|        NULL|Apache-Spark/3.5....|\n",
            "|      1|2025-08-14 11:42:...|  NULL|    NULL|   UPDATE|{predicate -> [\"(...|NULL|    NULL|     NULL|          0|  Serializable|        false|{numRemovedFiles ...|        NULL|Apache-Spark/3.5....|\n",
            "|      0|2025-08-14 11:39:...|  NULL|    NULL|    WRITE|{mode -> Overwrit...|NULL|    NULL|     NULL|       NULL|  Serializable|        false|{numFiles -> 2, n...|        NULL|Apache-Spark/3.5....|\n",
            "+-------+--------------------+------+--------+---------+--------------------+----+--------+---------+-----------+--------------+-------------+--------------------+------------+--------------------+\n",
            "\n",
            "+-------+--------+---------+---------+-----------+-----+----+-------------------+\n",
            "|trip_id|rider_id|driver_id|     city|distance_km| fare| tip|                 ts|\n",
            "+-------+--------+---------+---------+-----------+-----+----+-------------------+\n",
            "|   1004|    R001|     D010|Bengaluru|       18.9|480.0|25.0|2025-08-08 08:45:00|\n",
            "|   1005|    R004|     D013|  Chennai|       10.0|260.0|15.0|2025-08-08 09:05:00|\n",
            "|   1006|    R005|     D012|     Pune|        2.2| 70.0| 0.0|2025-08-08 09:10:00|\n",
            "|   1001|    R001|     D010|Bengaluru|       12.4|320.0|20.0|2025-08-08 08:05:00|\n",
            "|   1002|    R002|     D011|Hyderabad|        6.2|150.0|10.0|2025-08-08 08:15:00|\n",
            "|   1003|    R003|     D012|     Pune|        3.5| 90.0| 0.0|2025-08-08 08:20:00|\n",
            "+-------+--------+---------+---------+-----------+-----+----+-------------------+\n",
            "\n"
          ]
        }
      ]
    },
    {
      "cell_type": "markdown",
      "source": [
        "# **8) Partitioned Rewrite (Performance)**\n",
        "-Rewrite the trips table partitioned by city into a new Delta path.\n",
        "\n",
        "-Compare file layout (optional: list files) and run a simple filter\n",
        "city='Bengaluru' to observe read behavior/time."
      ],
      "metadata": {
        "id": "wSHQFpZ7WUd5"
      }
    },
    {
      "cell_type": "code",
      "source": [
        "PART_PATH = f\"{BASE}/trips_partitioned\"\n",
        "delta_trips.toDF().write.format(\"delta\").mode(\"overwrite\").partitionBy(\"city\").save(PART_PATH)\n",
        "spark.read.format(\"delta\").load(PART_PATH).filter(\"city='Bengaluru'\").show()"
      ],
      "metadata": {
        "colab": {
          "base_uri": "https://localhost:8080/"
        },
        "id": "ECYNq5udWbxI",
        "outputId": "7b5ba736-7823-4013-b862-d15dd8bc4693"
      },
      "execution_count": 13,
      "outputs": [
        {
          "output_type": "stream",
          "name": "stdout",
          "text": [
            "+-------+--------+---------+---------+-----------+-----+----+-------------------+\n",
            "|trip_id|rider_id|driver_id|     city|distance_km| fare| tip|                 ts|\n",
            "+-------+--------+---------+---------+-----------+-----+----+-------------------+\n",
            "|   1001|    R001|     D010|Bengaluru|       12.4|320.0|20.0|2025-08-08 08:05:00|\n",
            "|   1004|    R001|     D010|Bengaluru|       18.9|500.0|30.0|2025-08-08 08:45:00|\n",
            "+-------+--------+---------+---------+-----------+-----+----+-------------------+\n",
            "\n"
          ]
        }
      ]
    },
    {
      "cell_type": "markdown",
      "source": [
        "# **9) Incremental Load Simulation**\n",
        "-Create a small incremental batch (e.g., trip_ids 1008–1009) with a new city\n",
        "(e.g., Mumbai).\n",
        "\n",
        "-Append to the trips table.\n",
        "\n",
        "-Re-run the city-wise revenue aggregation and note the change."
      ],
      "metadata": {
        "id": "XG44we7XWt54"
      }
    },
    {
      "cell_type": "code",
      "source": [
        "inc_batch = [\n",
        "    (1008,\"R007\",\"D013\",\"Mumbai\", 5.0, 200.0, 10.0, \"2025-08-08 11:00:00\"),\n",
        "    (1009,\"R008\",\"D010\",\"Mumbai\", 8.0, 300.0, 20.0, \"2025-08-08 11:15:00\"),\n",
        "]\n",
        "spark.createDataFrame(inc_batch, schema=trip_schema).withColumn(\"ts\", F.to_timestamp(\"ts\")).write.format(\"delta\").mode(\"append\").save(TRIPS_PATH)\n",
        "\n",
        "spark.read.format(\"delta\").load(TRIPS_PATH).withColumn(\"total_amount\", F.col(\"fare\")+F.col(\"tip\")).groupBy(\"city\").agg(F.sum(\"total_amount\").alias(\"total_revenue\")).show()"
      ],
      "metadata": {
        "colab": {
          "base_uri": "https://localhost:8080/"
        },
        "id": "9nfh75ZBW4Sh",
        "outputId": "bdeb0cb5-5f04-43ff-a142-31c237d0cfeb"
      },
      "execution_count": 14,
      "outputs": [
        {
          "output_type": "stream",
          "name": "stdout",
          "text": [
            "+---------+-------------+\n",
            "|     city|total_revenue|\n",
            "+---------+-------------+\n",
            "|  Chennai|        275.0|\n",
            "|     Pune|        160.0|\n",
            "|Bengaluru|        870.0|\n",
            "|Hyderabad|        352.0|\n",
            "|   Mumbai|        530.0|\n",
            "+---------+-------------+\n",
            "\n"
          ]
        }
      ]
    },
    {
      "cell_type": "markdown",
      "source": [
        "# **10) Simple Streaming (File Stream → Console)**\n",
        "-Start a structured stream that reads Delta from TRIPS_PATH in readStream mode and writes to console (append).\n",
        "\n",
        "-While the stream runs, append another tiny batch (e.g., one more Mumbai trip) and observe the new row displayed."
      ],
      "metadata": {
        "id": "Y-Szg-6bXD9R"
      }
    },
    {
      "cell_type": "code",
      "source": [
        "from pyspark.sql import SparkSession\n",
        "import time\n",
        "\n",
        "streaming_df = (\n",
        "    spark.readStream.format(\"delta\").load(TRIPS_PATH)\n",
        ")\n",
        "query = (\n",
        "    streaming_df.writeStream.format(\"console\")\n",
        "    .outputMode(\"append\")\n",
        "    .trigger(processingTime=\"3 seconds\")\n",
        "    .start()\n",
        ")\n",
        "time.sleep(5)\n",
        "\n",
        "spark.createDataFrame([\n",
        "    (1010,\"R009\",\"D011\",\"Mumbai\", 9.0, 350.0, 15.0, \"2025-08-08 11:30:00\")\n",
        "], schema=trip_schema).withColumn(\"ts\", F.to_timestamp(\"ts\")).write.format(\"delta\").mode(\"append\").save(TRIPS_PATH)\n",
        "\n",
        "time.sleep(10)\n",
        "query.stop()"
      ],
      "metadata": {
        "id": "5NCjfnVVXNCv"
      },
      "execution_count": 16,
      "outputs": []
    },
    {
      "cell_type": "markdown",
      "source": [
        "# **11) Visualization**\n",
        "-Convert the gold view results (city revenue) to Pandas and plot a bar chart of city vs total revenue.\n",
        "\n",
        "-Plot a line chart of hourly revenue: group by hour(ts) and sum total_amount ."
      ],
      "metadata": {
        "id": "hm1if9KFXaeu"
      }
    },
    {
      "cell_type": "code",
      "source": [
        "from matplotlib import pyplot as plt\n",
        "import pandas as pd\n",
        "\n",
        "city_rev = gold.groupBy(\"city\").agg(F.sum(\"total_amount\").alias(\"total_revenue\")).toPandas()\n",
        "plt.bar(city_rev[\"city\"], city_rev[\"total_revenue\"], color=\"pink\")\n",
        "plt.xlabel(\"City\"); plt.ylabel(\"Total Revenue\"); plt.title(\"City vs Total Revenue\"); plt.show()\n",
        "\n",
        "hourly_rev = gold.withColumn(\"hour\", F.hour(\"ts\")).groupBy(\"hour\").agg(F.sum(\"total_amount\").alias(\"total_revenue\")).toPandas()\n",
        "plt.plot(hourly_rev[\"hour\"], hourly_rev[\"total_revenue\"], marker='o')\n",
        "plt.xlabel(\"Hour\"); plt.ylabel(\"Revenue\"); plt.title(\"Hourly Revenue\"); plt.show()"
      ],
      "metadata": {
        "colab": {
          "base_uri": "https://localhost:8080/",
          "height": 927
        },
        "id": "rV20_ULnXkr_",
        "outputId": "5adc41df-945e-4ddc-f1cc-868e0dac89ff"
      },
      "execution_count": 17,
      "outputs": [
        {
          "output_type": "display_data",
          "data": {
            "text/plain": [
              "<Figure size 640x480 with 1 Axes>"
            ],
            "image/png": "[encoded data removed]"
          },
          "metadata": {}
        },
        {
          "output_type": "display_data",
          "data": {
            "text/plain": [
              "<Figure size 640x480 with 1 Axes>"
            ],
            "image/png": "[encoded data removed]"
          },
          "metadata": {}
        }
      ]
    },
    {
      "cell_type": "markdown",
      "source": [
        "# **12) Managed vs Unmanaged Cleanup**\n",
        "\n",
        "-DROP TABLE the managed and unmanaged tables; verify:\n",
        "\n",
        "-Data for managed is removed with the table (when stored in the\n",
        "warehouse).\n",
        "\n",
        "-Data for unmanaged stays at DRIVERS_PATH after drop."
      ],
      "metadata": {
        "id": "0kaQMsGEXuiw"
      }
    },
    {
      "cell_type": "code",
      "source": [
        "spark.sql(\"DROP TABLE trips_managed\")\n",
        "spark.sql(\"DROP TABLE drivers_ext\")\n",
        "print(\"Files still exist for unmanaged:\", DRIVERS_PATH)"
      ],
      "metadata": {
        "colab": {
          "base_uri": "https://localhost:8080/"
        },
        "id": "QlmW-S6HX50X",
        "outputId": "3e642c5c-c62e-43b6-b821-b2eb42074f4b"
      },
      "execution_count": 18,
      "outputs": [
        {
          "output_type": "stream",
          "name": "stdout",
          "text": [
            "Files still exist for unmanaged: /content/delta/ride_hailing/drivers\n"
          ]
        }
      ]
    },
    {
      "cell_type": "markdown",
      "source": [
        "# **13) Constraint/Quality Check (Optional)**\n",
        "-Add a check to reject rows where tip < 0 (enforce during write or simulate\n",
        "with a filter before save).\n",
        "\n",
        "-Demonstrate an attempt to write bad data and show how you prevented it."
      ],
      "metadata": {
        "id": "EBdTbSd3X-JC"
      }
    },
    {
      "cell_type": "code",
      "source": [
        "bad_data = [(1011,\"R010\",\"D012\",\"Pune\",5.0,100.0,-5.0,\"2025-08-08 12:00:00\")]\n",
        "bad_df = spark.createDataFrame(bad_data, schema=trip_schema).withColumn(\"ts\", F.to_timestamp(\"ts\"))\n",
        "clean_df = bad_df.filter(\"tip >= 0\")\n",
        "clean_df.write.format(\"delta\").mode(\"append\").save(TRIPS_PATH)"
      ],
      "metadata": {
        "id": "UHeNXRaNYGKB"
      },
      "execution_count": 19,
      "outputs": []
    },
    {
      "cell_type": "markdown",
      "source": [
        "# **14) Convert Parquet → Delta (Optional)**\n",
        "-Save a small subset of trips as Parquet in a new folder and CONVERT TO DELTA.\n",
        "\n",
        "-Show it can now accept MERGE and time travel."
      ],
      "metadata": {
        "id": "pKlOFsbYYJqH"
      }
    },
    {
      "cell_type": "code",
      "source": [
        "PARQUET_PATH = f\"{BASE}/parquet_sample\"\n",
        "spark.read.format(\"delta\").load(TRIPS_PATH).limit(3).write.mode(\"overwrite\").parquet(PARQUET_PATH)\n",
        "spark.sql(f\"CONVERT TO DELTA parquet.`{PARQUET_PATH}`\")\n",
        "spark.read.format(\"delta\").load(PARQUET_PATH).show()"
      ],
      "metadata": {
        "colab": {
          "base_uri": "https://localhost:8080/"
        },
        "id": "-5q_QjpfYSav",
        "outputId": "bf35d836-de39-49b5-9abb-8c5a5d39a178"
      },
      "execution_count": 20,
      "outputs": [
        {
          "output_type": "stream",
          "name": "stdout",
          "text": [
            "+-------+--------+---------+---------+-----------+-----+----+-------------------+\n",
            "|trip_id|rider_id|driver_id|     city|distance_km| fare| tip|                 ts|\n",
            "+-------+--------+---------+---------+-----------+-----+----+-------------------+\n",
            "|   1004|    R001|     D010|Bengaluru|       18.9|500.0|30.0|2025-08-08 08:45:00|\n",
            "|   1005|    R004|     D013|  Chennai|       10.0|260.0|15.0|2025-08-08 09:05:00|\n",
            "|   1006|    R005|     D012|     Pune|        2.2| 70.0| 0.0|2025-08-08 09:10:00|\n",
            "+-------+--------+---------+---------+-----------+-----+----+-------------------+\n",
            "\n"
          ]
        }
      ]
    },
    {
      "cell_type": "markdown",
      "source": [
        "# **15) Bonus KPI Dashboard (Notebook Display)**\n",
        "Build a quick section showing:\n",
        "\n",
        "-Total revenue\n",
        "\n",
        "-Trips per city (bar)\n",
        "\n",
        "-Top drivers by revenue (bar)\n",
        "\n",
        "-Revenue by hour (line)"
      ],
      "metadata": {
        "id": "zSBZ1Jl2Zlwy"
      }
    },
    {
      "cell_type": "code",
      "source": [
        "gold = DeltaTable.forPath(spark, TRIPS_PATH).toDF().join(drivers_df, \"driver_id\").withColumn(\"total_amount\", F.col(\"fare\") + F.col(\"tip\")).select(\"trip_id\",\"city\",\"driver_name\",\"rating\",\"distance_km\",\"total_amount\",\"ts\")\n",
        "\n",
        "#Total Revenue\n",
        "total_revenue = gold.agg(F.sum(\"total_amount\")).collect()[0][0]\n",
        "print(f\"Total Revenue: {total_revenue}\")\n",
        "\n",
        "#Trips per City\n",
        "trips_per_city = gold.groupBy(\"city\").count().toPandas()\n",
        "plt.figure(figsize=(5,4))\n",
        "plt.bar(trips_per_city[\"city\"], trips_per_city[\"count\"], color=\"pink\")\n",
        "plt.title(\"Trips per City\")\n",
        "plt.xlabel(\"City\")\n",
        "plt.ylabel(\"Number of Trips\")\n",
        "plt.show()\n",
        "\n",
        "#Top Drivers by Revenue\n",
        "top_drivers = gold.groupBy(\"driver_name\").agg(F.sum(\"total_amount\").alias(\"revenue\")).orderBy(F.desc(\"revenue\")).limit(5).toPandas()\n",
        "plt.figure(figsize=(5,4))\n",
        "plt.bar(top_drivers[\"driver_name\"], top_drivers[\"revenue\"], color=\"gray\")\n",
        "plt.title(\"Top Drivers by Revenue\")\n",
        "plt.xlabel(\"Driver\")\n",
        "plt.ylabel(\"Revenue\")\n",
        "plt.show()\n",
        "\n",
        "#Revenue by Hour\n",
        "revenue_by_hour = gold.withColumn(\"hour\", F.hour(\"ts\")).groupBy(\"hour\").agg(F.sum(\"total_amount\").alias(\"total_revenue\")).orderBy(\"hour\").toPandas()\n",
        "plt.figure(figsize=(5,4))\n",
        "plt.plot(revenue_by_hour[\"hour\"], revenue_by_hour[\"total_revenue\"], marker=\"o\", color=\"blue\")\n",
        "plt.title(\"Revenue by Hour\")\n",
        "plt.xlabel(\"Hour of Day\")\n",
        "plt.ylabel(\"Revenue\")\n",
        "plt.show()"
      ],
      "metadata": {
        "colab": {
          "base_uri": "https://localhost:8080/",
          "height": 1000
        },
        "id": "JNL_4Qd_Yp52",
        "outputId": "84302be4-51ed-47e6-fa48-5154e0669635"
      },
      "execution_count": 21,
      "outputs": [
        {
          "output_type": "stream",
          "name": "stdout",
          "text": [
            "Total Revenue: 2552.0\n"
          ]
        },
        {
          "output_type": "display_data",
          "data": {
            "text/plain": [
              "<Figure size 500x400 with 1 Axes>"
            ],
            "image/png": "[encoded data removed]"
          },
          "metadata": {}
        },
        {
          "output_type": "display_data",
          "data": {
            "text/plain": [
              "<Figure size 500x400 with 1 Axes>"
            ],
            "image/png": "[encoded data removed]"
          },
          "metadata": {}
        },
        {
          "output_type": "display_data",
          "data": {
            "text/plain": [
              "<Figure size 500x400 with 1 Axes>"
            ],
            "image/png": "[encoded data removed]"
          },
          "metadata": {}
        }
      ]
    }
  ]
}