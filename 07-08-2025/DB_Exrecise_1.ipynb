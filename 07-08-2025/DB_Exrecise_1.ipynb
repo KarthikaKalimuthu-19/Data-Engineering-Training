{
  "nbformat": 4,
  "nbformat_minor": 0,
  "metadata": {
    "colab": {
      "provenance": []
    },
    "kernelspec": {
      "name": "python3",
      "display_name": "Python 3"
    },
    "language_info": {
      "name": "python"
    }
  },
  "cells": [
    {
      "cell_type": "markdown",
      "source": [
        "# **Preloaded Dataset (Use This in CSV & JSON)**\n",
        "\n",
        "Use this dataset across all formats:\n"
      ],
      "metadata": {
        "id": "co4CLvbzE5iS"
      }
    },
    {
      "cell_type": "code",
      "source": [
        "data = [\n",
        "    (101, \"Laptop\", \"Electronics\", 55000, 10),\n",
        "    (102, \"Smartphone\", \"Electronics\", 30000, 25),\n",
        "    (103, \"Chair\", \"Furniture\", 2500, 50),\n",
        "    (104, \"Book\", \"Stationery\", 400, 200),\n",
        "    (105, \"Headphones\", \"Electronics\", 1500, 100),\n",
        "    (106, \"Table\", \"Furniture\", 3200, 40),\n",
        "    (107, \"Pen\", \"Stationery\", 20, 500),\n",
        "    (108, \"Monitor\", \"Electronics\", 12000, 15),\n",
        "    (109, \"Notebook\", \"Stationery\", 60, 300),\n",
        "    (110, \"Sofa\", \"Furniture\", 45000, 5)\n",
        "]\n",
        "\n",
        "columns = [\"product_id\", \"product_name\", \"category\", \"price\", \"quantity\"]\n",
        "df = spark.createDataFrame(data, columns)\n",
        "df.write.csv(\"products.csv\", header=True, mode=\"overwrite\")\n",
        "df.write.json(\"products.json\", mode=\"overwrite\")"
      ],
      "metadata": {
        "id": "ZTlZKdFpDF_a"
      },
      "execution_count": 2,
      "outputs": []
    },
    {
      "cell_type": "markdown",
      "source": [
        "**Tasks & Questions**\n",
        "\n",
        "1. Read the above data from CSV into a DataFrame and print the schema."
      ],
      "metadata": {
        "id": "1BWlXZmNFDSc"
      }
    },
    {
      "cell_type": "code",
      "source": [
        "df_csv = spark.read.csv(\"products.csv\", header=True, inferSchema=True)\n",
        "df_csv.printSchema()"
      ],
      "metadata": {
        "colab": {
          "base_uri": "https://localhost:8080/"
        },
        "id": "J88ONqoYDWkD",
        "outputId": "7d14ba16-bcfa-48fd-80b8-b8a11c057579"
      },
      "execution_count": 3,
      "outputs": [
        {
          "output_type": "stream",
          "name": "stdout",
          "text": [
            "root\n",
            " |-- product_id: integer (nullable = true)\n",
            " |-- product_name: string (nullable = true)\n",
            " |-- category: string (nullable = true)\n",
            " |-- price: integer (nullable = true)\n",
            " |-- quantity: integer (nullable = true)\n",
            "\n"
          ]
        }
      ]
    },
    {
      "cell_type": "markdown",
      "source": [
        "2. Read the same data from JSON and compare with the CSV schema. Any differences?"
      ],
      "metadata": {
        "id": "TTv_hh73FKo0"
      }
    },
    {
      "cell_type": "code",
      "source": [
        "df_json = spark.read.json(\"products.json\")\n",
        "df_json.printSchema()"
      ],
      "metadata": {
        "colab": {
          "base_uri": "https://localhost:8080/"
        },
        "id": "S4ihV80yDe59",
        "outputId": "da3cca9f-9239-44dd-a626-3e6af1b96322"
      },
      "execution_count": 4,
      "outputs": [
        {
          "output_type": "stream",
          "name": "stdout",
          "text": [
            "root\n",
            " |-- category: string (nullable = true)\n",
            " |-- price: long (nullable = true)\n",
            " |-- product_id: long (nullable = true)\n",
            " |-- product_name: string (nullable = true)\n",
            " |-- quantity: long (nullable = true)\n",
            "\n"
          ]
        }
      ]
    },
    {
      "cell_type": "markdown",
      "source": [
        "3. Convert the CSV data into Parquet format and save to disk."
      ],
      "metadata": {
        "id": "usSYri7PFOpE"
      }
    },
    {
      "cell_type": "code",
      "source": [
        "df_csv.write.parquet(\"products.parquet\", mode=\"overwrite\")"
      ],
      "metadata": {
        "id": "nD4Gw4F2DkGy"
      },
      "execution_count": 5,
      "outputs": []
    },
    {
      "cell_type": "markdown",
      "source": [
        "4. Measure the size of CSV vs JSON vs Parquet on disk. Which one is smallest?"
      ],
      "metadata": {
        "id": "JZOKwqXtFT7q"
      }
    },
    {
      "cell_type": "code",
      "source": [
        "import os\n",
        "\n",
        "csv_size = sum(os.path.getsize(os.path.join(\"products.csv\", f)) for f in os.listdir(\"products.csv\"))\n",
        "json_size = sum(os.path.getsize(os.path.join(\"products.json\", f)) for f in os.listdir(\"products.json\"))\n",
        "parquet_size = sum(os.path.getsize(os.path.join(\"products.parquet\", f)) for f in os.listdir(\"products.parquet\"))\n",
        "\n",
        "print(f\"CSV: {csv_size} bytes\\nJSON: {json_size} bytes\\nParquet: {parquet_size} bytes\")"
      ],
      "metadata": {
        "colab": {
          "base_uri": "https://localhost:8080/"
        },
        "id": "rjUUtqWxDqFx",
        "outputId": "2961f003-1e35-42c3-c927-0f0f1b96eacb"
      },
      "execution_count": 6,
      "outputs": [
        {
          "output_type": "stream",
          "name": "stdout",
          "text": [
            "CSV: 433 bytes\n",
            "JSON: 977 bytes\n",
            "Parquet: 3298 bytes\n"
          ]
        }
      ]
    },
    {
      "cell_type": "markdown",
      "source": [
        "5. Add a column total_revenue = price * quantity for each record."
      ],
      "metadata": {
        "id": "nwHASB2jFZLV"
      }
    },
    {
      "cell_type": "code",
      "source": [
        "from pyspark.sql.functions import col, round, _sum, avg, count, when\n",
        "\n",
        "df = df.withColumn(\"total_revenue\", col(\"price\") * col(\"quantity\"))\n",
        "df.show()"
      ],
      "metadata": {
        "colab": {
          "base_uri": "https://localhost:8080/"
        },
        "id": "aUurnCb6D3eq",
        "outputId": "8c71619f-7940-42e4-9920-e88707165091"
      },
      "execution_count": 7,
      "outputs": [
        {
          "output_type": "stream",
          "name": "stdout",
          "text": [
            "+----------+------------+-----------+-----+--------+-------------+\n",
            "|product_id|product_name|   category|price|quantity|total_revenue|\n",
            "+----------+------------+-----------+-----+--------+-------------+\n",
            "|       101|      Laptop|Electronics|55000|      10|       550000|\n",
            "|       102|  Smartphone|Electronics|30000|      25|       750000|\n",
            "|       103|       Chair|  Furniture| 2500|      50|       125000|\n",
            "|       104|        Book| Stationery|  400|     200|        80000|\n",
            "|       105|  Headphones|Electronics| 1500|     100|       150000|\n",
            "|       106|       Table|  Furniture| 3200|      40|       128000|\n",
            "|       107|         Pen| Stationery|   20|     500|        10000|\n",
            "|       108|     Monitor|Electronics|12000|      15|       180000|\n",
            "|       109|    Notebook| Stationery|   60|     300|        18000|\n",
            "|       110|        Sofa|  Furniture|45000|       5|       225000|\n",
            "+----------+------------+-----------+-----+--------+-------------+\n",
            "\n"
          ]
        }
      ]
    },
    {
      "cell_type": "markdown",
      "source": [
        "6. Find the top 3 products with the highest total revenue."
      ],
      "metadata": {
        "id": "C9FDvvHGFhFG"
      }
    },
    {
      "cell_type": "code",
      "source": [
        "df.orderBy(col(\"total_revenue\").desc()).show(3)"
      ],
      "metadata": {
        "colab": {
          "base_uri": "https://localhost:8080/"
        },
        "id": "Pmz9W36_D7Z1",
        "outputId": "7dcc381e-8695-45e7-a834-9841c2c1606a"
      },
      "execution_count": 8,
      "outputs": [
        {
          "output_type": "stream",
          "name": "stdout",
          "text": [
            "+----------+------------+-----------+-----+--------+-------------+\n",
            "|product_id|product_name|   category|price|quantity|total_revenue|\n",
            "+----------+------------+-----------+-----+--------+-------------+\n",
            "|       102|  Smartphone|Electronics|30000|      25|       750000|\n",
            "|       101|      Laptop|Electronics|55000|      10|       550000|\n",
            "|       110|        Sofa|  Furniture|45000|       5|       225000|\n",
            "+----------+------------+-----------+-----+--------+-------------+\n",
            "only showing top 3 rows\n",
            "\n"
          ]
        }
      ]
    },
    {
      "cell_type": "markdown",
      "source": [
        "7. Filter and display only Furniture products with price > 3000."
      ],
      "metadata": {
        "id": "8FIlQ1mkFnzw"
      }
    },
    {
      "cell_type": "code",
      "source": [
        "df.filter((col(\"category\") == \"Furniture\") & (col(\"price\") > 3000)).show()"
      ],
      "metadata": {
        "colab": {
          "base_uri": "https://localhost:8080/"
        },
        "id": "Ve2VkRYgEBUQ",
        "outputId": "669a02ea-4295-4bff-973a-b03e730942f4"
      },
      "execution_count": 9,
      "outputs": [
        {
          "output_type": "stream",
          "name": "stdout",
          "text": [
            "+----------+------------+---------+-----+--------+-------------+\n",
            "|product_id|product_name| category|price|quantity|total_revenue|\n",
            "+----------+------------+---------+-----+--------+-------------+\n",
            "|       106|       Table|Furniture| 3200|      40|       128000|\n",
            "|       110|        Sofa|Furniture|45000|       5|       225000|\n",
            "+----------+------------+---------+-----+--------+-------------+\n",
            "\n"
          ]
        }
      ]
    },
    {
      "cell_type": "markdown",
      "source": [
        "8. Create a new column price_band with values:\n",
        "'High' if price > 10000\n",
        "'Medium' if 3000 < price <= 10000\n",
        "'Low' if price ≤ 3000"
      ],
      "metadata": {
        "id": "SoFPHSVkFrq1"
      }
    },
    {
      "cell_type": "code",
      "source": [
        "df = df.withColumn(\"price_band\", when(col(\"price\") > 10000, \"High\")\n",
        "                                 .when((col(\"price\") > 3000) & (col(\"price\") <= 10000), \"Medium\")\n",
        "                                 .otherwise(\"Low\"))\n",
        "df.select(\"product_name\", \"price\", \"price_band\").show()"
      ],
      "metadata": {
        "colab": {
          "base_uri": "https://localhost:8080/"
        },
        "id": "DexNGJRDEGln",
        "outputId": "147e7ab4-2bf3-4744-f057-916ddbd7ef16"
      },
      "execution_count": 10,
      "outputs": [
        {
          "output_type": "stream",
          "name": "stdout",
          "text": [
            "+------------+-----+----------+\n",
            "|product_name|price|price_band|\n",
            "+------------+-----+----------+\n",
            "|      Laptop|55000|      High|\n",
            "|  Smartphone|30000|      High|\n",
            "|       Chair| 2500|       Low|\n",
            "|        Book|  400|       Low|\n",
            "|  Headphones| 1500|       Low|\n",
            "|       Table| 3200|    Medium|\n",
            "|         Pen|   20|       Low|\n",
            "|     Monitor|12000|      High|\n",
            "|    Notebook|   60|       Low|\n",
            "|        Sofa|45000|      High|\n",
            "+------------+-----+----------+\n",
            "\n"
          ]
        }
      ]
    },
    {
      "cell_type": "markdown",
      "source": [
        "9. Group by category and calculate total quantity sold."
      ],
      "metadata": {
        "id": "o0N-QzGzFwuH"
      }
    },
    {
      "cell_type": "code",
      "source": [
        "df.groupBy(\"category\").agg(_sum(\"quantity\").alias(\"total_quantity\")).show()"
      ],
      "metadata": {
        "colab": {
          "base_uri": "https://localhost:8080/"
        },
        "id": "9T3JIZ0xEMR4",
        "outputId": "7b6b79f9-96af-4d0f-c871-b66b8ef758c9"
      },
      "execution_count": 11,
      "outputs": [
        {
          "output_type": "stream",
          "name": "stdout",
          "text": [
            "+-----------+--------------+\n",
            "|   category|total_quantity|\n",
            "+-----------+--------------+\n",
            "| Stationery|          1000|\n",
            "|Electronics|           150|\n",
            "|  Furniture|            95|\n",
            "+-----------+--------------+\n",
            "\n"
          ]
        }
      ]
    },
    {
      "cell_type": "markdown",
      "source": [
        "10. Calculate average price of products for each category."
      ],
      "metadata": {
        "id": "kNX3oy5gF04q"
      }
    },
    {
      "cell_type": "code",
      "source": [
        "df.groupBy(\"category\").agg(round(avg(\"price\"), 2).alias(\"avg_price\")).show()"
      ],
      "metadata": {
        "colab": {
          "base_uri": "https://localhost:8080/"
        },
        "id": "4OK6x6D1ERg_",
        "outputId": "a1c21ea2-31dd-44eb-f874-ce6c4bbed92d"
      },
      "execution_count": 12,
      "outputs": [
        {
          "output_type": "stream",
          "name": "stdout",
          "text": [
            "+-----------+---------+\n",
            "|   category|avg_price|\n",
            "+-----------+---------+\n",
            "| Stationery|    160.0|\n",
            "|Electronics|  24625.0|\n",
            "|  Furniture|  16900.0|\n",
            "+-----------+---------+\n",
            "\n"
          ]
        }
      ]
    },
    {
      "cell_type": "markdown",
      "source": [
        "11. Count how many products fall in each price_band ."
      ],
      "metadata": {
        "id": "HLK0l397F8Qs"
      }
    },
    {
      "cell_type": "code",
      "source": [
        "df.groupBy(\"price_band\").agg(count(\"*\").alias(\"count\")).show()"
      ],
      "metadata": {
        "colab": {
          "base_uri": "https://localhost:8080/"
        },
        "id": "90XF0PPOEVbH",
        "outputId": "10c29609-ff7c-477e-8aa6-4ea5705235db"
      },
      "execution_count": 13,
      "outputs": [
        {
          "output_type": "stream",
          "name": "stdout",
          "text": [
            "+----------+-----+\n",
            "|price_band|count|\n",
            "+----------+-----+\n",
            "|      High|    4|\n",
            "|       Low|    5|\n",
            "|    Medium|    1|\n",
            "+----------+-----+\n",
            "\n"
          ]
        }
      ]
    },
    {
      "cell_type": "markdown",
      "source": [
        "12. Write the filtered Electronics products (price > 5000) into a Parquet file."
      ],
      "metadata": {
        "id": "2jvLJpGZGAIJ"
      }
    },
    {
      "cell_type": "code",
      "source": [
        "df.filter((col(\"category\") == \"Electronics\") & (col(\"price\") > 5000)) \\\n",
        "  .write.parquet(\"electronics_filtered.parquet\", mode=\"overwrite\")"
      ],
      "metadata": {
        "id": "rTwenlbrEavS"
      },
      "execution_count": 14,
      "outputs": []
    },
    {
      "cell_type": "markdown",
      "source": [
        "13. Write the Stationery products into a JSON file."
      ],
      "metadata": {
        "id": "lvtsJyolGDQQ"
      }
    },
    {
      "cell_type": "code",
      "source": [
        "df.filter(col(\"category\") == \"Stationery\") \\\n",
        "  .write.json(\"stationery_products.json\", mode=\"overwrite\")"
      ],
      "metadata": {
        "id": "T0WjrOQmEe79"
      },
      "execution_count": 15,
      "outputs": []
    },
    {
      "cell_type": "markdown",
      "source": [
        "14. Load Parquet back and run a query to find which category has highest total revenue."
      ],
      "metadata": {
        "id": "LNbVOXpaGHCv"
      }
    },
    {
      "cell_type": "code",
      "source": [
        "df_parquet = spark.read.parquet(\"products.parquet\")\n",
        "df_parquet = df_parquet.withColumn(\"total_revenue\", col(\"price\") * col(\"quantity\"))\n",
        "df_parquet.groupBy(\"category\").agg(_sum(\"total_revenue\").alias(\"category_revenue\")) \\\n",
        "    .orderBy(col(\"category_revenue\").desc()).show(1)"
      ],
      "metadata": {
        "colab": {
          "base_uri": "https://localhost:8080/"
        },
        "id": "kfoCRy48EjtI",
        "outputId": "708356d4-44ce-452a-971c-fbe4d87e620a"
      },
      "execution_count": 16,
      "outputs": [
        {
          "output_type": "stream",
          "name": "stdout",
          "text": [
            "+-----------+----------------+\n",
            "|   category|category_revenue|\n",
            "+-----------+----------------+\n",
            "|Electronics|         1630000|\n",
            "+-----------+----------------+\n",
            "only showing top 1 row\n",
            "\n"
          ]
        }
      ]
    },
    {
      "cell_type": "markdown",
      "source": [
        "15. BONUS: Create a temporary view from the DataFrame and run Spark SQL to find all\n",
        "products with quantity > 100 and price < 1000."
      ],
      "metadata": {
        "id": "k8U7NF0oGND4"
      }
    },
    {
      "cell_type": "code",
      "source": [
        "df.createOrReplaceTempView(\"products_view\")\n",
        "spark.sql(\"SELECT * FROM products_view WHERE quantity > 100 AND price < 1000\").show()"
      ],
      "metadata": {
        "colab": {
          "base_uri": "https://localhost:8080/"
        },
        "id": "74GwGE6NEoDs",
        "outputId": "3562950e-6b2a-484a-fda8-89873d611827"
      },
      "execution_count": 17,
      "outputs": [
        {
          "output_type": "stream",
          "name": "stdout",
          "text": [
            "+----------+------------+----------+-----+--------+-------------+----------+\n",
            "|product_id|product_name|  category|price|quantity|total_revenue|price_band|\n",
            "+----------+------------+----------+-----+--------+-------------+----------+\n",
            "|       104|        Book|Stationery|  400|     200|        80000|       Low|\n",
            "|       107|         Pen|Stationery|   20|     500|        10000|       Low|\n",
            "|       109|    Notebook|Stationery|   60|     300|        18000|       Low|\n",
            "+----------+------------+----------+-----+--------+-------------+----------+\n",
            "\n"
          ]
        }
      ]
    }
  ]
}