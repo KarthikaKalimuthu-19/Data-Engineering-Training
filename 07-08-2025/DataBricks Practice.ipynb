{
 "cells": [
  {
   "cell_type": "code",
   "execution_count": 0,
   "metadata": {
    "application/vnd.databricks.v1+cell": {
     "cellMetadata": {
      "byteLimit": 2048000,
      "rowLimit": 10000
     },
     "inputWidgets": {},
     "nuid": "ca6737aa-2425-422c-97b2-ed6cdee862df",
     "showTitle": false,
     "tableResultSettingsMap": {},
     "title": ""
    }
   },
   "outputs": [
    {
     "output_type": "stream",
     "name": "stdout",
     "output_type": "stream",
     "text": [
      "+-----+------+----------+---------+---------+\n|EmpID|  Name|Department|UnitsSold|UnitPrice|\n+-----+------+----------+---------+---------+\n| E101|  Amit|     Sales|       10|     1200|\n| E102| Sneha| Marketing|        8|     1500|\n| E103|  Ravi|     Sales|       12|     1300|\n| E104|Anjali|        HR|        7|     1100|\n| E105|   Raj|     Sales|        5|     1000|\n+-----+------+----------+---------+---------+\n\n"
     ]
    }
   ],
   "source": [
    "data = [\n",
    "    (\"E101\", \"Amit\", \"Sales\", 10, 1200),\n",
    "    (\"E102\", \"Sneha\", \"Marketing\", 8, 1500),\n",
    "    (\"E103\", \"Ravi\", \"Sales\", 12, 1300),\n",
    "    (\"E104\", \"Anjali\", \"HR\", 7, 1100),\n",
    "    (\"E105\", \"Raj\", \"Sales\", 5, 1000)\n",
    "]\n",
    "\n",
    "columns =[\"EmpID\", \"Name\", \"Department\", \"UnitsSold\", \"UnitPrice\"]\n",
    "\n",
    "df = spark.createDataFrame(data, columns)\n",
    "df.show()"
   ]
  },
  {
   "cell_type": "code",
   "execution_count": 0,
   "metadata": {
    "application/vnd.databricks.v1+cell": {
     "cellMetadata": {
      "byteLimit": 2048000,
      "rowLimit": 10000
     },
     "inputWidgets": {},
     "nuid": "3974ef13-db81-4d6e-b2cf-6e58a23f9d1a",
     "showTitle": false,
     "tableResultSettingsMap": {},
     "title": ""
    }
   },
   "outputs": [],
   "source": [
    "#CSV\n",
    "df.write.mode(\"overwrite\").option(\"header\", True).csv(\"/tmp/employees_csv\")\n",
    "\n",
    "#JSON\n",
    "df.write.mode(\"overwrite\").json(\"/tmp/employees_json\")\n",
    "\n",
    "#Parquet\n",
    "df.write.mode(\"overwrite\").parquet(\"/tmp/employees_parquet\")"
   ]
  },
  {
   "cell_type": "code",
   "execution_count": 0,
   "metadata": {
    "application/vnd.databricks.v1+cell": {
     "cellMetadata": {
      "byteLimit": 2048000,
      "rowLimit": 10000
     },
     "inputWidgets": {},
     "nuid": "703484c6-5da8-4467-b993-59d19a0112b2",
     "showTitle": false,
     "tableResultSettingsMap": {},
     "title": ""
    }
   },
   "outputs": [
    {
     "output_type": "stream",
     "name": "stdout",
     "output_type": "stream",
     "text": [
      "+-----+------+----------+---------+---------+\n|EmpID|  Name|Department|UnitsSold|UnitPrice|\n+-----+------+----------+---------+---------+\n| E104|Anjali|        HR|        7|     1100|\n| E105|   Raj|     Sales|        5|     1000|\n| E102| Sneha| Marketing|        8|     1500|\n| E101|  Amit|     Sales|       10|     1200|\n| E103|  Ravi|     Sales|       12|     1300|\n+-----+------+----------+---------+---------+\n\n+----------+-----+------+---------+---------+\n|Department|EmpID|  Name|UnitPrice|UnitsSold|\n+----------+-----+------+---------+---------+\n|        HR| E104|Anjali|     1100|        7|\n|     Sales| E105|   Raj|     1000|        5|\n| Marketing| E102| Sneha|     1500|        8|\n|     Sales| E101|  Amit|     1200|       10|\n|     Sales| E103|  Ravi|     1300|       12|\n+----------+-----+------+---------+---------+\n\n+-----+------+----------+---------+---------+\n|EmpID|  Name|Department|UnitsSold|UnitPrice|\n+-----+------+----------+---------+---------+\n| E104|Anjali|        HR|        7|     1100|\n| E105|   Raj|     Sales|        5|     1000|\n| E102| Sneha| Marketing|        8|     1500|\n| E101|  Amit|     Sales|       10|     1200|\n| E103|  Ravi|     Sales|       12|     1300|\n+-----+------+----------+---------+---------+\n\n"
     ]
    }
   ],
   "source": [
    "#Read CSV\n",
    "csv_df = spark.read.option(\"header\", True).csv(\"/tmp/employees_csv\")\n",
    "csv_df.show()\n",
    "\n",
    "#Read JSON\n",
    "json_df = spark.read.json(\"/tmp/employees_json\")\n",
    "json_df.show()\n",
    "\n",
    "#Read Parquet\n",
    "parquet_df = spark.read.parquet(\"/tmp/employees_parquet\")\n",
    "parquet_df.show()\n"
   ]
  }
 ],
 "metadata": {
  "application/vnd.databricks.v1+notebook": {
   "computePreferences": null,
   "dashboards": [],
   "environmentMetadata": {
    "base_environment": "",
    "environment_version": "2"
   },
   "inputWidgetPreferences": null,
   "language": "python",
   "notebookMetadata": {
    "pythonIndentUnit": 4
   },
   "notebookName": "DataBricks Practice",
   "widgets": {}
  },
  "language_info": {
   "name": "python"
  }
 },
 "nbformat": 4,
 "nbformat_minor": 0
}