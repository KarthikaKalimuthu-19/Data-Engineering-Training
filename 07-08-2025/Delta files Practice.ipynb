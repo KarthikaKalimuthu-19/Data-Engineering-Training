{
 "cells": [
  {
   "cell_type": "code",
   "execution_count": 0,
   "metadata": {
    "application/vnd.databricks.v1+cell": {
     "cellMetadata": {
      "byteLimit": 2048000,
      "rowLimit": 10000
     },
     "inputWidgets": {},
     "nuid": "497e4743-06f7-4243-acb7-06f95d89a348",
     "showTitle": false,
     "tableResultSettingsMap": {},
     "title": ""
    }
   },
   "outputs": [
    {
     "output_type": "stream",
     "name": "stdout",
     "output_type": "stream",
     "text": [
      "Wrote 142 bytes.\n"
     ]
    },
    {
     "output_type": "execute_result",
     "data": {
      "text/plain": [
       "True"
      ]
     },
     "execution_count": 3,
     "metadata": {},
     "output_type": "execute_result"
    }
   ],
   "source": [
    "csv_data = \"\"\"id,name,category,price\n",
    "1,Amit,Electronics,50000,\n",
    "2,Priya,Furniture,3000,\n",
    "3,Rahul,Stationery,200,\n",
    "4,Neha,Books,800\n",
    "5,Karthik,Electronics,45000\n",
    "\"\"\"\n",
    "# Save to DBFS\n",
    "dbutils.fs.put(\"dbfs:/tmp/products.csv\", csv_data, overwrite=True)\n",
    "\n"
   ]
  },
  {
   "cell_type": "code",
   "execution_count": 0,
   "metadata": {
    "application/vnd.databricks.v1+cell": {
     "cellMetadata": {
      "byteLimit": 2048000,
      "rowLimit": 10000
     },
     "inputWidgets": {},
     "nuid": "f1de14ec-2b24-493d-bf3a-26628b6cc92b",
     "showTitle": false,
     "tableResultSettingsMap": {},
     "title": ""
    }
   },
   "outputs": [
    {
     "output_type": "stream",
     "name": "stdout",
     "output_type": "stream",
     "text": [
      "+---+-------+-----------+-----+\n| id|   name|   category|price|\n+---+-------+-----------+-----+\n|  1|   Amit|Electronics|50000|\n|  2|  Priya|  Furniture| 3000|\n|  3|  Rahul| Stationery|  200|\n|  4|   Neha|      Books|  800|\n|  5|Karthik|Electronics|45000|\n+---+-------+-----------+-----+\n\n"
     ]
    }
   ],
   "source": [
    "df = spark.read.option(\"header\", True).option(\"inferSchema\", True).csv(\"dbfs:/tmp/products.csv\")\n",
    "df.show()"
   ]
  },
  {
   "cell_type": "code",
   "execution_count": 0,
   "metadata": {
    "application/vnd.databricks.v1+cell": {
     "cellMetadata": {
      "byteLimit": 2048000,
      "rowLimit": 10000
     },
     "inputWidgets": {},
     "nuid": "a0ca129c-6a9e-479a-a0fa-d8c19b1271d0",
     "showTitle": false,
     "tableResultSettingsMap": {},
     "title": ""
    }
   },
   "outputs": [],
   "source": [
    "df.write.mode(\"overwrite\").format(\"delta\").save(\"/tmp/delta/products\")"
   ]
  },
  {
   "cell_type": "code",
   "execution_count": 0,
   "metadata": {
    "application/vnd.databricks.v1+cell": {
     "cellMetadata": {
      "byteLimit": 2048000,
      "rowLimit": 10000
     },
     "inputWidgets": {},
     "nuid": "ffb6bb3c-5d3f-44fc-9038-edfbd8cb384e",
     "showTitle": false,
     "tableResultSettingsMap": {},
     "title": ""
    }
   },
   "outputs": [
    {
     "output_type": "stream",
     "name": "stdout",
     "output_type": "stream",
     "text": [
      "+---+-------+-----------+-----+\n| id|   name|   category|price|\n+---+-------+-----------+-----+\n|  1|   Amit|Electronics|50000|\n|  2|  Priya|  Furniture| 3000|\n|  3|  Rahul| Stationery|  200|\n|  4|   Neha|      Books|  800|\n|  5|Karthik|Electronics|45000|\n+---+-------+-----------+-----+\n\n"
     ]
    }
   ],
   "source": [
    "df_delta = spark.read.format(\"delta\").load(\"/tmp/delta/products\")\n",
    "df_delta.show()"
   ]
  },
  {
   "cell_type": "code",
   "execution_count": 0,
   "metadata": {
    "application/vnd.databricks.v1+cell": {
     "cellMetadata": {
      "byteLimit": 2048000,
      "rowLimit": 10000
     },
     "inputWidgets": {},
     "nuid": "91b313c8-a60f-4ba8-a5c2-ef43dc4524f1",
     "showTitle": false,
     "tableResultSettingsMap": {},
     "title": ""
    }
   },
   "outputs": [
    {
     "output_type": "stream",
     "name": "stdout",
     "output_type": "stream",
     "text": [
      "+---+-------+-----------+-----+\n| id|   name|   category|price|\n+---+-------+-----------+-----+\n|  1|   Amit|Electronics|50000|\n|  3|  Rahul| Stationery|  200|\n|  4|   Neha|      Books|  800|\n|  5|Karthik|Electronics|45000|\n|  2|  Priya|  Furniture| 3500|\n+---+-------+-----------+-----+\n\n"
     ]
    }
   ],
   "source": [
    "from delta.tables import DeltaTable\n",
    "\n",
    "delta_table = DeltaTable.forPath(spark, \"/tmp/delta/products\")\n",
    "\n",
    "delta_table.update(\n",
    "    condition=\"id=2\",\n",
    "    set={\"price\": \"3500\"}\n",
    ")\n",
    "\n",
    "delta_table.toDF().show()"
   ]
  },
  {
   "cell_type": "code",
   "execution_count": 0,
   "metadata": {
    "application/vnd.databricks.v1+cell": {
     "cellMetadata": {
      "byteLimit": 2048000,
      "rowLimit": 10000
     },
     "inputWidgets": {},
     "nuid": "4df584e8-1267-4c18-8458-7dfa456be92d",
     "showTitle": false,
     "tableResultSettingsMap": {},
     "title": ""
    }
   },
   "outputs": [
    {
     "output_type": "stream",
     "name": "stdout",
     "output_type": "stream",
     "text": [
      "+---+-------+-----------+-----+\n| id|   name|   category|price|\n+---+-------+-----------+-----+\n|  1|   Amit|Electronics|50000|\n|  3|  Rahul| Stationery|  200|\n|  4|   Neha|      Books|  800|\n|  5|Karthik|Electronics|45000|\n|  2|  Priya|  Furniture| 4000|\n|  6|  Sneha|    Kitchen| 1200|\n+---+-------+-----------+-----+\n\n"
     ]
    }
   ],
   "source": [
    "new_data = [\n",
    "    (2, \"Priya\", \"Furniture\", 4000),     # Update\n",
    "    (6, \"Sneha\", \"Kitchen\", 1200)        # Insert\n",
    "]\n",
    "\n",
    "updated_df = spark.createDataFrame(new_data, [\"id\", \"name\", \"category\", \"price\"])\n",
    "\n",
    "delta_table.alias(\"target\").merge(\n",
    "    updated_df.alias(\"source\"),\n",
    "    \"target.id = source.id\"\n",
    ").whenMatchedUpdateAll().whenNotMatchedInsertAll().execute()\n",
    "delta_table.toDF().show()"
   ]
  },
  {
   "cell_type": "code",
   "execution_count": 0,
   "metadata": {
    "application/vnd.databricks.v1+cell": {
     "cellMetadata": {
      "byteLimit": 2048000,
      "rowLimit": 10000
     },
     "inputWidgets": {},
     "nuid": "82c8f1c9-b084-48ea-9bba-998919d36d06",
     "showTitle": false,
     "tableResultSettingsMap": {},
     "title": ""
    }
   },
   "outputs": [
    {
     "output_type": "stream",
     "name": "stdout",
     "output_type": "stream",
     "text": [
      "+---+-------+-----------+-----+\n| id|   name|   category|price|\n+---+-------+-----------+-----+\n|  1|   Amit|Electronics|50000|\n|  3|  Rahul| Stationery|  200|\n|  4|   Neha|      Books|  800|\n|  5|Karthik|Electronics|45000|\n|  2|  Priya|  Furniture| 4000|\n|  6|  Sneha|    Kitchen| 1200|\n+---+-------+-----------+-----+\n\n+---+-------+-----------+-----+\n| id|   name|   category|price|\n+---+-------+-----------+-----+\n|  1|   Amit|Electronics|50000|\n|  2|  Priya|  Furniture| 3000|\n|  3|  Rahul| Stationery|  200|\n|  4|   Neha|      Books|  800|\n|  5|Karthik|Electronics|45000|\n+---+-------+-----------+-----+\n\n"
     ]
    }
   ],
   "source": [
    "delta_table.toDF().show()\n",
    "\n",
    "previous_df = spark.read.format(\"delta\").option(\"versionAsOf\", 0).load(\"/tmp/delta/products\")\n",
    "previous_df.show()"
   ]
  },
  {
   "cell_type": "code",
   "execution_count": 0,
   "metadata": {
    "application/vnd.databricks.v1+cell": {
     "cellMetadata": {
      "byteLimit": 2048000,
      "rowLimit": 10000
     },
     "inputWidgets": {},
     "nuid": "3097230f-7ef6-46c1-801a-9d683cf9d76f",
     "showTitle": false,
     "tableResultSettingsMap": {},
     "title": ""
    }
   },
   "outputs": [],
   "source": [
    "df.write.format(\"delta\").mode(\"overwrite\").partitionBy(\"category\").save(\"/tmp/delta/products_partitioned\")"
   ]
  },
  {
   "cell_type": "code",
   "execution_count": 0,
   "metadata": {
    "application/vnd.databricks.v1+cell": {
     "cellMetadata": {
      "byteLimit": 2048000,
      "rowLimit": 10000
     },
     "inputWidgets": {},
     "nuid": "fbd90f26-0f89-48aa-a668-8bb4421fb131",
     "showTitle": false,
     "tableResultSettingsMap": {},
     "title": ""
    }
   },
   "outputs": [
    {
     "output_type": "stream",
     "name": "stdout",
     "output_type": "stream",
     "text": [
      "+---+-------+-----------+-----+\n| id|   name|   category|price|\n+---+-------+-----------+-----+\n|  5|Karthik|Electronics|45000|\n|  1|   Amit|Electronics|50000|\n|  2|  Priya|  Furniture| 3000|\n|  3|  Rahul| Stationery|  200|\n|  4|   Neha|      Books|  800|\n+---+-------+-----------+-----+\n\n"
     ]
    }
   ],
   "source": [
    "spark.read.format(\"delta\").load(\"/tmp/delta/products_partitioned\").show()"
   ]
  }
 ],
 "metadata": {
  "application/vnd.databricks.v1+notebook": {
   "computePreferences": null,
   "dashboards": [],
   "environmentMetadata": {
    "base_environment": "",
    "environment_version": "2"
   },
   "inputWidgetPreferences": null,
   "language": "python",
   "notebookMetadata": {
    "pythonIndentUnit": 4
   },
   "notebookName": "Delta files Practice",
   "widgets": {}
  },
  "language_info": {
   "name": "python"
  }
 },
 "nbformat": 4,
 "nbformat_minor": 0
}